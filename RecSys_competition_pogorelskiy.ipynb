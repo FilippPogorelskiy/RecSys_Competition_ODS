{
 "cells": [
  {
   "cell_type": "code",
   "execution_count": 3,
   "id": "cb2e2279",
   "metadata": {},
   "outputs": [],
   "source": [
    "import datetime\n",
    "import numpy as np\n",
    "import pandas as pd\n",
    "\n",
    "from itertools import islice, cycle\n",
    "from more_itertools import pairwise\n",
    "import scipy.sparse as sp\n",
    "\n",
    "%matplotlib inline\n",
    "import matplotlib as mpl\n",
    "import matplotlib.pyplot as plt\n",
    "mpl.rc('axes', labelsize=10)\n",
    "mpl.rc('xtick', labelsize=8)\n",
    "mpl.rc('ytick', labelsize=8)\n",
    "\n",
    "import seaborn as sns\n",
    "sns.set(style='whitegrid')\n",
    "sns.set(rc={'figure.figsize':(14, 8)})"
   ]
  },
  {
   "cell_type": "code",
   "execution_count": 4,
   "id": "817a5fc2-c3f3-4c0c-b2a4-cb5f32ba594c",
   "metadata": {},
   "outputs": [
    {
     "name": "stdout",
     "output_type": "stream",
     "text": [
      "Collecting implicit\n",
      "  Downloading implicit-0.4.8.tar.gz (1.1 MB)\n",
      "\u001b[K     |████████████████████████████████| 1.1 MB 1.2 MB/s eta 0:00:01\n",
      "\u001b[?25h  Installing build dependencies ... \u001b[?25ldone\n",
      "\u001b[?25h  Getting requirements to build wheel ... \u001b[?25ldone\n",
      "\u001b[?25h  Installing backend dependencies ... \u001b[?25ldone\n",
      "\u001b[?25h    Preparing wheel metadata ... \u001b[?25ldone\n",
      "\u001b[?25hRequirement already satisfied: scipy>=0.16 in /home/filipp_pogorelskiy/miniconda3/lib/python3.9/site-packages (from implicit) (1.7.1)\n",
      "Requirement already satisfied: tqdm>=4.27 in /home/filipp_pogorelskiy/miniconda3/lib/python3.9/site-packages (from implicit) (4.61.2)\n",
      "Requirement already satisfied: numpy in /home/filipp_pogorelskiy/miniconda3/lib/python3.9/site-packages (from implicit) (1.21.2)\n",
      "Building wheels for collected packages: implicit\n",
      "  Building wheel for implicit (PEP 517) ... \u001b[?25ldone\n",
      "\u001b[?25h  Created wheel for implicit: filename=implicit-0.4.8-cp39-cp39-linux_x86_64.whl size=1039202 sha256=527eaabc7de490bf86eab964cf0fa01330d31e3519cf7892f81e39f5ef63d061\n",
      "  Stored in directory: /home/filipp_pogorelskiy/.cache/pip/wheels/2d/0a/a4/6aea635157daf166f50276da2f2ceb04d17f5e37cb3f171ac7\n",
      "Successfully built implicit\n",
      "Installing collected packages: implicit\n",
      "Successfully installed implicit-0.4.8\n"
     ]
    }
   ],
   "source": [
    "!pip install implicit"
   ]
  },
  {
   "cell_type": "markdown",
   "id": "fb25dbbc",
   "metadata": {},
   "source": [
    "<a id=\"content\"></a>\n",
    "* [Подробное описание данных](#description)\n",
    "* [EDA](#eda)\n",
    "    * [Таблица \"Users\"](#eda_users)\n",
    "    * [Таблица \"Items\"](#eda_items)\n",
    "    * [Таблица \"Interactions\"](#eda_interactions)\n",
    "* [Baseline модель](#baseline)\n",
    "    * [Рекомендация популярного](#rec_pop)\n",
    "    * [Рекомендация по возрастным группам](#rec_pop_age)\n",
    "    * [Рекомендация по возрасту и полу](#rec_pop_age_sex)\n",
    "* [Item-based models](#item_models)\n",
    "    * [CosineRecommender](#cosine_rec)\n",
    "    * [TFIDFRecommender](#tfidf_rec)\n",
    "    * [Подбор гиперпараметра K](#giper_K)\n",
    "* [CosineRecommender, BM25Recommender и TFIDFRecommender с учетом холодного старта](#cold_start)\n",
    "* [LightFM](#lightfm)"
   ]
  },
  {
   "cell_type": "markdown",
   "id": "49cec029",
   "metadata": {},
   "source": [
    "<a id=\"description\"></a>\n",
    "# Подробное описание данных"
   ]
  },
  {
   "cell_type": "markdown",
   "id": "65a63530",
   "metadata": {},
   "source": [
    "### **_users.csv_**\n",
    "\n",
    "В данном файле содержится информация о пользователях:\n",
    "* **_user_id_** - ID пользователя\n",
    "* **_age_** - возрастная группа пользователя, строка вида \"M_N\":\n",
    "    * 18_24 - от 18 до 24 лет включительно\n",
    "    * 25_34 - от 25 до 34 лет включительно\n",
    "    * 35_44 - от 35 до 44 лет включительно\n",
    "    * 45_54 - от 45 до 54 лет включительно\n",
    "    * 55_64 - от 55 до 64 лет включительно\n",
    "    * 65_inf - от 65 и старше\n",
    "* **_income_** - доход пользователя, строка вида \"M_N\":\n",
    "    * income_0_20\n",
    "    * income_20_40\n",
    "    * income_40_60\n",
    "    * income_60_90\n",
    "    * income_90_150\n",
    "    * income_150_inf\n",
    "* **_sex_** - пол пользователя:\n",
    "    * М - мужчина\n",
    "    * Ж - женщина\n",
    "\n",
    "* **_kids_flg_** - флаг \"наличие ребенка\""
   ]
  },
  {
   "cell_type": "markdown",
   "id": "4e6541b1",
   "metadata": {},
   "source": [
    "### **_items.csv_**\n",
    "\n",
    "В данном файле содержится информация об объектах (фильмы/сериалы):\n",
    "\n",
    "* **_item_id_** - ID контента\n",
    "* **_content_type_** - Тип контента (фильм, сериал)\n",
    "* **_title_** - Название на русском\n",
    "* **_title_orig_** - Название оригинальное\n",
    "* **_genres_** - Жанры из источника (онлайн-кинотеатры)\n",
    "* **_countries_** - страны\n",
    "* **_for_kids_** - флаг \"контент для детей\"\n",
    "* **_age_rating_** - возрастной рейтинг\n",
    "* **_studios_** - студии\n",
    "* **_directors_** - директора\n",
    "* **_actors_** - актеры\n",
    "* **_keywords_** - ключевые слова\n",
    "* **_description_** - описание"
   ]
  },
  {
   "cell_type": "markdown",
   "id": "80413863",
   "metadata": {},
   "source": [
    "### **_interactions.csv_**\n",
    "\n",
    "В данном файле содержится информация о взаимодействиях пользователей с контентом:\n",
    "\n",
    "* **_user_id_** - ID пользователя\n",
    "* **_item_id_** - ID контента\n",
    "* **_last_watch_dt_** - Дата последнего просмотра\n",
    "* **_total_dur_** - Общая продолжительность всех просмотров контента"
   ]
  },
  {
   "cell_type": "markdown",
   "id": "fee00294",
   "metadata": {},
   "source": [
    "## Данные"
   ]
  },
  {
   "cell_type": "code",
   "execution_count": 2,
   "id": "65d7b1a7",
   "metadata": {},
   "outputs": [],
   "source": [
    "users_df = pd.read_csv('users.csv')\n",
    "items_df = pd.read_csv('items.csv')\n",
    "interactions_df = pd.read_csv('interactions.csv')"
   ]
  },
  {
   "cell_type": "markdown",
   "id": "55c82757",
   "metadata": {},
   "source": [
    "<a id=\"eda\"></a>\n",
    "# EDA"
   ]
  },
  {
   "cell_type": "markdown",
   "id": "67190456",
   "metadata": {},
   "source": [
    "[Возврат к содержанию](#content)"
   ]
  },
  {
   "cell_type": "markdown",
   "id": "375b99af",
   "metadata": {},
   "source": [
    "<a id=\"eda_users\"></a>\n",
    "### Users"
   ]
  },
  {
   "cell_type": "code",
   "execution_count": 3,
   "id": "40e33061",
   "metadata": {},
   "outputs": [
    {
     "data": {
      "text/html": [
       "<div>\n",
       "<style scoped>\n",
       "    .dataframe tbody tr th:only-of-type {\n",
       "        vertical-align: middle;\n",
       "    }\n",
       "\n",
       "    .dataframe tbody tr th {\n",
       "        vertical-align: top;\n",
       "    }\n",
       "\n",
       "    .dataframe thead th {\n",
       "        text-align: right;\n",
       "    }\n",
       "</style>\n",
       "<table border=\"1\" class=\"dataframe\">\n",
       "  <thead>\n",
       "    <tr style=\"text-align: right;\">\n",
       "      <th></th>\n",
       "      <th>user_id</th>\n",
       "      <th>age</th>\n",
       "      <th>income</th>\n",
       "      <th>sex</th>\n",
       "      <th>kids_flg</th>\n",
       "    </tr>\n",
       "  </thead>\n",
       "  <tbody>\n",
       "    <tr>\n",
       "      <th>279355</th>\n",
       "      <td>1043174</td>\n",
       "      <td>age_18_24</td>\n",
       "      <td>income_20_40</td>\n",
       "      <td>М</td>\n",
       "      <td>0</td>\n",
       "    </tr>\n",
       "    <tr>\n",
       "      <th>398127</th>\n",
       "      <td>398752</td>\n",
       "      <td>age_25_34</td>\n",
       "      <td>income_20_40</td>\n",
       "      <td>М</td>\n",
       "      <td>1</td>\n",
       "    </tr>\n",
       "    <tr>\n",
       "      <th>275017</th>\n",
       "      <td>556402</td>\n",
       "      <td>age_18_24</td>\n",
       "      <td>income_20_40</td>\n",
       "      <td>Ж</td>\n",
       "      <td>0</td>\n",
       "    </tr>\n",
       "    <tr>\n",
       "      <th>255543</th>\n",
       "      <td>714581</td>\n",
       "      <td>age_25_34</td>\n",
       "      <td>income_40_60</td>\n",
       "      <td>Ж</td>\n",
       "      <td>1</td>\n",
       "    </tr>\n",
       "    <tr>\n",
       "      <th>133174</th>\n",
       "      <td>487376</td>\n",
       "      <td>age_55_64</td>\n",
       "      <td>income_20_40</td>\n",
       "      <td>М</td>\n",
       "      <td>0</td>\n",
       "    </tr>\n",
       "  </tbody>\n",
       "</table>\n",
       "</div>"
      ],
      "text/plain": [
       "        user_id        age        income sex  kids_flg\n",
       "279355  1043174  age_18_24  income_20_40   М         0\n",
       "398127   398752  age_25_34  income_20_40   М         1\n",
       "275017   556402  age_18_24  income_20_40   Ж         0\n",
       "255543   714581  age_25_34  income_40_60   Ж         1\n",
       "133174   487376  age_55_64  income_20_40   М         0"
      ]
     },
     "execution_count": 3,
     "metadata": {},
     "output_type": "execute_result"
    }
   ],
   "source": [
    "users_df.sample(5)"
   ]
  },
  {
   "cell_type": "code",
   "execution_count": 4,
   "id": "644ef91f",
   "metadata": {},
   "outputs": [
    {
     "name": "stdout",
     "output_type": "stream",
     "text": [
      "<class 'pandas.core.frame.DataFrame'>\n",
      "RangeIndex: 840197 entries, 0 to 840196\n",
      "Data columns (total 5 columns):\n",
      " #   Column    Non-Null Count   Dtype \n",
      "---  ------    --------------   ----- \n",
      " 0   user_id   840197 non-null  int64 \n",
      " 1   age       826102 non-null  object\n",
      " 2   income    825421 non-null  object\n",
      " 3   sex       826366 non-null  object\n",
      " 4   kids_flg  840197 non-null  int64 \n",
      "dtypes: int64(2), object(3)\n",
      "memory usage: 32.1+ MB\n"
     ]
    }
   ],
   "source": [
    "users_df.info()"
   ]
  },
  {
   "cell_type": "markdown",
   "id": "8e19c838",
   "metadata": {},
   "source": [
    "**Возраст пользователей**"
   ]
  },
  {
   "cell_type": "code",
   "execution_count": 5,
   "id": "6d9937e4",
   "metadata": {},
   "outputs": [],
   "source": [
    "users_df['age'] = users_df['age'].fillna('age_unknown')"
   ]
  },
  {
   "cell_type": "code",
   "execution_count": 6,
   "id": "6c70ea55",
   "metadata": {},
   "outputs": [],
   "source": [
    "users_df['age'] = users_df['age'].astype('category')"
   ]
  },
  {
   "cell_type": "code",
   "execution_count": 7,
   "id": "22f0ba63",
   "metadata": {},
   "outputs": [
    {
     "data": {
      "image/png": "[encoded data removed]",
      "text/plain": [
       "<Figure size 1008x576 with 1 Axes>"
      ]
     },
     "metadata": {},
     "output_type": "display_data"
    }
   ],
   "source": [
    "users_df['age'].value_counts().sort_index().plot(kind='bar', \n",
    "                                                 ylabel = \"Количество пользователей\",\n",
    "                                                 xlabel = \"Возраст\")\n",
    "plt.show()"
   ]
  },
  {
   "cell_type": "markdown",
   "id": "5fbbf37a",
   "metadata": {},
   "source": [
    "**Доход пользователей**"
   ]
  },
  {
   "cell_type": "code",
   "execution_count": 8,
   "id": "8110ea6c",
   "metadata": {},
   "outputs": [],
   "source": [
    "users_df['income'] = users_df['income'].fillna('income_unknown')"
   ]
  },
  {
   "cell_type": "code",
   "execution_count": 9,
   "id": "1d0a4f67",
   "metadata": {},
   "outputs": [],
   "source": [
    "users_df['income'] = users_df['income'].astype('category')"
   ]
  },
  {
   "cell_type": "code",
   "execution_count": 10,
   "id": "7b322f67",
   "metadata": {},
   "outputs": [
    {
     "data": {
      "image/png": "[encoded data removed]",
      "text/plain": [
       "<Figure size 1008x576 with 1 Axes>"
      ]
     },
     "metadata": {},
     "output_type": "display_data"
    }
   ],
   "source": [
    "users_df['income'].value_counts().sort_index().plot(kind='bar', \n",
    "                                                 ylabel = \"Количество пользователей\",\n",
    "                                                 xlabel = \"Доход\")\n",
    "plt.show()"
   ]
  },
  {
   "cell_type": "markdown",
   "id": "fcc1e9e3",
   "metadata": {},
   "source": [
    "**Пол пользователей**"
   ]
  },
  {
   "cell_type": "code",
   "execution_count": 11,
   "id": "3eac52df",
   "metadata": {},
   "outputs": [],
   "source": [
    "users_df['sex'] = users_df['sex'].fillna('sex_unknown')"
   ]
  },
  {
   "cell_type": "code",
   "execution_count": 12,
   "id": "ef36f701",
   "metadata": {},
   "outputs": [
    {
     "data": {
      "text/plain": [
       "Ж              425270\n",
       "М              401096\n",
       "sex_unknown     13831\n",
       "Name: sex, dtype: int64"
      ]
     },
     "execution_count": 12,
     "metadata": {},
     "output_type": "execute_result"
    }
   ],
   "source": [
    "users_df['sex'].value_counts()"
   ]
  },
  {
   "cell_type": "code",
   "execution_count": 13,
   "id": "dc92c01c",
   "metadata": {},
   "outputs": [],
   "source": [
    "users_df['sex'] = users_df['sex'].map({'Ж':'F',\n",
    "                                       'М':'M',\n",
    "                                       'sex_unknown':'sex_unknown'})"
   ]
  },
  {
   "cell_type": "code",
   "execution_count": 14,
   "id": "1efed748",
   "metadata": {},
   "outputs": [],
   "source": [
    "users_df['sex'] = users_df['sex'].astype('category')"
   ]
  },
  {
   "cell_type": "code",
   "execution_count": 15,
   "id": "4b2cde52",
   "metadata": {},
   "outputs": [
    {
     "data": {
      "image/png": "[encoded data removed]",
      "text/plain": [
       "<Figure size 1008x576 with 1 Axes>"
      ]
     },
     "metadata": {},
     "output_type": "display_data"
    }
   ],
   "source": [
    "users_df['sex'].value_counts().sort_index().plot(kind='bar', \n",
    "                                                 ylabel = \"Количество пользователей\",\n",
    "                                                 xlabel = \"Пол\")\n",
    "plt.show()"
   ]
  },
  {
   "cell_type": "markdown",
   "id": "c6bd4e4a",
   "metadata": {},
   "source": [
    "**Наличие ребенка**"
   ]
  },
  {
   "cell_type": "code",
   "execution_count": 16,
   "id": "f05aca21",
   "metadata": {},
   "outputs": [
    {
     "data": {
      "text/plain": [
       "0    587209\n",
       "1    252988\n",
       "Name: kids_flg, dtype: int64"
      ]
     },
     "execution_count": 16,
     "metadata": {},
     "output_type": "execute_result"
    }
   ],
   "source": [
    "users_df['kids_flg'].value_counts()"
   ]
  },
  {
   "cell_type": "code",
   "execution_count": 17,
   "id": "5046ea88",
   "metadata": {},
   "outputs": [],
   "source": [
    "users_df['kids_flg'] = users_df['kids_flg'].astype('bool')"
   ]
  },
  {
   "cell_type": "markdown",
   "id": "6f6887fd",
   "metadata": {},
   "source": [
    "**Итог**"
   ]
  },
  {
   "cell_type": "code",
   "execution_count": 18,
   "id": "4ca3bdd2",
   "metadata": {},
   "outputs": [
    {
     "name": "stdout",
     "output_type": "stream",
     "text": [
      "<class 'pandas.core.frame.DataFrame'>\n",
      "RangeIndex: 840197 entries, 0 to 840196\n",
      "Data columns (total 5 columns):\n",
      " #   Column    Non-Null Count   Dtype   \n",
      "---  ------    --------------   -----   \n",
      " 0   user_id   840197 non-null  int64   \n",
      " 1   age       840197 non-null  category\n",
      " 2   income    840197 non-null  category\n",
      " 3   sex       840197 non-null  category\n",
      " 4   kids_flg  840197 non-null  bool    \n",
      "dtypes: bool(1), category(3), int64(1)\n",
      "memory usage: 9.6 MB\n"
     ]
    }
   ],
   "source": [
    "users_df.info()"
   ]
  },
  {
   "cell_type": "markdown",
   "id": "0ff4264c",
   "metadata": {},
   "source": [
    "[Возврат к содержанию](#content)"
   ]
  },
  {
   "cell_type": "markdown",
   "id": "3dd8f840",
   "metadata": {},
   "source": [
    "<a id=\"eda_items\"></a>\n",
    "### Items"
   ]
  },
  {
   "cell_type": "code",
   "execution_count": 19,
   "id": "3ae2fe22",
   "metadata": {},
   "outputs": [
    {
     "data": {
      "text/html": [
       "<div>\n",
       "<style scoped>\n",
       "    .dataframe tbody tr th:only-of-type {\n",
       "        vertical-align: middle;\n",
       "    }\n",
       "\n",
       "    .dataframe tbody tr th {\n",
       "        vertical-align: top;\n",
       "    }\n",
       "\n",
       "    .dataframe thead th {\n",
       "        text-align: right;\n",
       "    }\n",
       "</style>\n",
       "<table border=\"1\" class=\"dataframe\">\n",
       "  <thead>\n",
       "    <tr style=\"text-align: right;\">\n",
       "      <th></th>\n",
       "      <th>item_id</th>\n",
       "      <th>content_type</th>\n",
       "      <th>title</th>\n",
       "      <th>title_orig</th>\n",
       "      <th>release_year</th>\n",
       "      <th>genres</th>\n",
       "      <th>countries</th>\n",
       "      <th>for_kids</th>\n",
       "      <th>age_rating</th>\n",
       "      <th>studios</th>\n",
       "      <th>directors</th>\n",
       "      <th>actors</th>\n",
       "      <th>description</th>\n",
       "      <th>keywords</th>\n",
       "    </tr>\n",
       "  </thead>\n",
       "  <tbody>\n",
       "    <tr>\n",
       "      <th>0</th>\n",
       "      <td>10711</td>\n",
       "      <td>film</td>\n",
       "      <td>Поговори с ней</td>\n",
       "      <td>Hable con ella</td>\n",
       "      <td>2002.0</td>\n",
       "      <td>драмы, зарубежные, детективы, мелодрамы</td>\n",
       "      <td>Испания</td>\n",
       "      <td>NaN</td>\n",
       "      <td>16.0</td>\n",
       "      <td>NaN</td>\n",
       "      <td>Педро Альмодовар</td>\n",
       "      <td>Адольфо Фернандес, Ана Фернандес, Дарио Гранди...</td>\n",
       "      <td>Мелодрама легендарного Педро Альмодовара «Пого...</td>\n",
       "      <td>Поговори, ней, 2002, Испания, друзья, любовь, ...</td>\n",
       "    </tr>\n",
       "    <tr>\n",
       "      <th>1</th>\n",
       "      <td>2508</td>\n",
       "      <td>film</td>\n",
       "      <td>Голые перцы</td>\n",
       "      <td>Search Party</td>\n",
       "      <td>2014.0</td>\n",
       "      <td>зарубежные, приключения, комедии</td>\n",
       "      <td>США</td>\n",
       "      <td>NaN</td>\n",
       "      <td>16.0</td>\n",
       "      <td>NaN</td>\n",
       "      <td>Скот Армстронг</td>\n",
       "      <td>Адам Палли, Брайан Хаски, Дж.Б. Смув, Джейсон ...</td>\n",
       "      <td>Уморительная современная комедия на популярную...</td>\n",
       "      <td>Голые, перцы, 2014, США, друзья, свадьбы, прео...</td>\n",
       "    </tr>\n",
       "    <tr>\n",
       "      <th>2</th>\n",
       "      <td>10716</td>\n",
       "      <td>film</td>\n",
       "      <td>Тактическая сила</td>\n",
       "      <td>Tactical Force</td>\n",
       "      <td>2011.0</td>\n",
       "      <td>криминал, зарубежные, триллеры, боевики, комедии</td>\n",
       "      <td>Канада</td>\n",
       "      <td>NaN</td>\n",
       "      <td>16.0</td>\n",
       "      <td>NaN</td>\n",
       "      <td>Адам П. Калтраро</td>\n",
       "      <td>Адриан Холмс, Даррен Шалави, Джерри Вассерман,...</td>\n",
       "      <td>Профессиональный рестлер Стив Остин («Все или ...</td>\n",
       "      <td>Тактическая, сила, 2011, Канада, бандиты, ганг...</td>\n",
       "    </tr>\n",
       "    <tr>\n",
       "      <th>3</th>\n",
       "      <td>7868</td>\n",
       "      <td>film</td>\n",
       "      <td>45 лет</td>\n",
       "      <td>45 Years</td>\n",
       "      <td>2015.0</td>\n",
       "      <td>драмы, зарубежные, мелодрамы</td>\n",
       "      <td>Великобритания</td>\n",
       "      <td>NaN</td>\n",
       "      <td>16.0</td>\n",
       "      <td>NaN</td>\n",
       "      <td>Эндрю Хэй</td>\n",
       "      <td>Александра Риддлстон-Барретт, Джеральдин Джейм...</td>\n",
       "      <td>Шарлотта Рэмплинг, Том Кортни, Джеральдин Джей...</td>\n",
       "      <td>45, лет, 2015, Великобритания, брак, жизнь, лю...</td>\n",
       "    </tr>\n",
       "    <tr>\n",
       "      <th>4</th>\n",
       "      <td>16268</td>\n",
       "      <td>film</td>\n",
       "      <td>Все решает мгновение</td>\n",
       "      <td>NaN</td>\n",
       "      <td>1978.0</td>\n",
       "      <td>драмы, спорт, советские, мелодрамы</td>\n",
       "      <td>СССР</td>\n",
       "      <td>NaN</td>\n",
       "      <td>12.0</td>\n",
       "      <td>Ленфильм</td>\n",
       "      <td>Виктор Садовский</td>\n",
       "      <td>Александр Абдулов, Александр Демьяненко, Алекс...</td>\n",
       "      <td>Расчетливая чаровница из советского кинохита «...</td>\n",
       "      <td>Все, решает, мгновение, 1978, СССР, сильные, ж...</td>\n",
       "    </tr>\n",
       "  </tbody>\n",
       "</table>\n",
       "</div>"
      ],
      "text/plain": [
       "   item_id content_type                 title      title_orig  release_year  \\\n",
       "0    10711         film        Поговори с ней  Hable con ella        2002.0   \n",
       "1     2508         film           Голые перцы    Search Party        2014.0   \n",
       "2    10716         film      Тактическая сила  Tactical Force        2011.0   \n",
       "3     7868         film                45 лет        45 Years        2015.0   \n",
       "4    16268         film  Все решает мгновение             NaN        1978.0   \n",
       "\n",
       "                                             genres       countries  for_kids  \\\n",
       "0           драмы, зарубежные, детективы, мелодрамы         Испания       NaN   \n",
       "1                  зарубежные, приключения, комедии             США       NaN   \n",
       "2  криминал, зарубежные, триллеры, боевики, комедии          Канада       NaN   \n",
       "3                      драмы, зарубежные, мелодрамы  Великобритания       NaN   \n",
       "4                драмы, спорт, советские, мелодрамы            СССР       NaN   \n",
       "\n",
       "   age_rating   studios         directors  \\\n",
       "0        16.0       NaN  Педро Альмодовар   \n",
       "1        16.0       NaN    Скот Армстронг   \n",
       "2        16.0       NaN  Адам П. Калтраро   \n",
       "3        16.0       NaN         Эндрю Хэй   \n",
       "4        12.0  Ленфильм  Виктор Садовский   \n",
       "\n",
       "                                              actors  \\\n",
       "0  Адольфо Фернандес, Ана Фернандес, Дарио Гранди...   \n",
       "1  Адам Палли, Брайан Хаски, Дж.Б. Смув, Джейсон ...   \n",
       "2  Адриан Холмс, Даррен Шалави, Джерри Вассерман,...   \n",
       "3  Александра Риддлстон-Барретт, Джеральдин Джейм...   \n",
       "4  Александр Абдулов, Александр Демьяненко, Алекс...   \n",
       "\n",
       "                                         description  \\\n",
       "0  Мелодрама легендарного Педро Альмодовара «Пого...   \n",
       "1  Уморительная современная комедия на популярную...   \n",
       "2  Профессиональный рестлер Стив Остин («Все или ...   \n",
       "3  Шарлотта Рэмплинг, Том Кортни, Джеральдин Джей...   \n",
       "4  Расчетливая чаровница из советского кинохита «...   \n",
       "\n",
       "                                            keywords  \n",
       "0  Поговори, ней, 2002, Испания, друзья, любовь, ...  \n",
       "1  Голые, перцы, 2014, США, друзья, свадьбы, прео...  \n",
       "2  Тактическая, сила, 2011, Канада, бандиты, ганг...  \n",
       "3  45, лет, 2015, Великобритания, брак, жизнь, лю...  \n",
       "4  Все, решает, мгновение, 1978, СССР, сильные, ж...  "
      ]
     },
     "execution_count": 19,
     "metadata": {},
     "output_type": "execute_result"
    }
   ],
   "source": [
    "items_df.head()"
   ]
  },
  {
   "cell_type": "code",
   "execution_count": 20,
   "id": "51838f10",
   "metadata": {},
   "outputs": [
    {
     "name": "stdout",
     "output_type": "stream",
     "text": [
      "<class 'pandas.core.frame.DataFrame'>\n",
      "RangeIndex: 15963 entries, 0 to 15962\n",
      "Data columns (total 14 columns):\n",
      " #   Column        Non-Null Count  Dtype  \n",
      "---  ------        --------------  -----  \n",
      " 0   item_id       15963 non-null  int64  \n",
      " 1   content_type  15963 non-null  object \n",
      " 2   title         15963 non-null  object \n",
      " 3   title_orig    11218 non-null  object \n",
      " 4   release_year  15865 non-null  float64\n",
      " 5   genres        15963 non-null  object \n",
      " 6   countries     15926 non-null  object \n",
      " 7   for_kids      566 non-null    float64\n",
      " 8   age_rating    15961 non-null  float64\n",
      " 9   studios       1065 non-null   object \n",
      " 10  directors     14454 non-null  object \n",
      " 11  actors        13344 non-null  object \n",
      " 12  description   15961 non-null  object \n",
      " 13  keywords      15540 non-null  object \n",
      "dtypes: float64(3), int64(1), object(10)\n",
      "memory usage: 1.7+ MB\n"
     ]
    }
   ],
   "source": [
    "items_df.info()"
   ]
  },
  {
   "cell_type": "code",
   "execution_count": 21,
   "id": "ebd32ca6",
   "metadata": {},
   "outputs": [
    {
     "data": {
      "text/plain": [
       "item_id         15963\n",
       "content_type        2\n",
       "title           15293\n",
       "title_orig      10575\n",
       "release_year      105\n",
       "genres           2771\n",
       "countries         687\n",
       "for_kids            2\n",
       "age_rating          6\n",
       "studios            38\n",
       "directors        7973\n",
       "actors          12996\n",
       "description     15619\n",
       "keywords        15492\n",
       "dtype: int64"
      ]
     },
     "execution_count": 21,
     "metadata": {},
     "output_type": "execute_result"
    }
   ],
   "source": [
    "items_df.nunique()"
   ]
  },
  {
   "cell_type": "markdown",
   "id": "e0d54760",
   "metadata": {},
   "source": [
    "**title_orig**"
   ]
  },
  {
   "cell_type": "code",
   "execution_count": 22,
   "id": "169b318c",
   "metadata": {},
   "outputs": [
    {
     "data": {
      "text/plain": [
       "4745"
      ]
     },
     "execution_count": 22,
     "metadata": {},
     "output_type": "execute_result"
    }
   ],
   "source": [
    "len(items_df[items_df['title_orig'].isna()])"
   ]
  },
  {
   "cell_type": "code",
   "execution_count": 23,
   "id": "6257621e",
   "metadata": {},
   "outputs": [
    {
     "data": {
      "text/plain": [
       "Россия            2899\n",
       "СССР               918\n",
       "Украина            240\n",
       "США                101\n",
       "Великобритания      87\n",
       "Name: countries, dtype: int64"
      ]
     },
     "execution_count": 23,
     "metadata": {},
     "output_type": "execute_result"
    }
   ],
   "source": [
    "items_df[items_df['title_orig'].isna()]['countries'].value_counts().head()"
   ]
  },
  {
   "cell_type": "code",
   "execution_count": 24,
   "id": "c6834eb0",
   "metadata": {},
   "outputs": [],
   "source": [
    "items_df['title_orig'] = items_df['title_orig'].fillna('None')"
   ]
  },
  {
   "cell_type": "markdown",
   "id": "5a526bf4",
   "metadata": {},
   "source": [
    "**release_year**"
   ]
  },
  {
   "cell_type": "code",
   "execution_count": 25,
   "id": "e5e6d411",
   "metadata": {},
   "outputs": [
    {
     "data": {
      "text/plain": [
       "98"
      ]
     },
     "execution_count": 25,
     "metadata": {},
     "output_type": "execute_result"
    }
   ],
   "source": [
    "len(items_df[items_df['release_year'].isna()])"
   ]
  },
  {
   "cell_type": "code",
   "execution_count": 26,
   "id": "f915f808",
   "metadata": {},
   "outputs": [
    {
     "data": {
      "text/plain": [
       "countries         genres                                               \n",
       "Россия            фитнес                                                   59\n",
       "                  футбол                                                   22\n",
       "Великобритания    фитнес                                                    1\n",
       "Республика Корея  зарубежные, детские песни, развитие, для детей            1\n",
       "                  зарубежные, для детей, западные мультфильмы, развитие     1\n",
       "dtype: int64"
      ]
     },
     "execution_count": 26,
     "metadata": {},
     "output_type": "execute_result"
    }
   ],
   "source": [
    "items_df[items_df['release_year'].isna()][['countries', 'genres']].value_counts().head()"
   ]
  },
  {
   "cell_type": "markdown",
   "id": "80fac6fc",
   "metadata": {},
   "source": [
    "Заменим пустые значения на 2020"
   ]
  },
  {
   "cell_type": "code",
   "execution_count": 27,
   "id": "35cdff8b",
   "metadata": {},
   "outputs": [],
   "source": [
    "items_df.loc[items_df['release_year'].isna(), 'release_year'] = 2020"
   ]
  },
  {
   "cell_type": "code",
   "execution_count": 28,
   "id": "e152eba4",
   "metadata": {},
   "outputs": [
    {
     "data": {
      "image/png": "[encoded data removed]",
      "text/plain": [
       "<Figure size 1120x640 with 1 Axes>"
      ]
     },
     "metadata": {},
     "output_type": "display_data"
    }
   ],
   "source": [
    "plt.figure(figsize=(14, 8), dpi=80)\n",
    "items_df['release_year'].hist(bins=50)\n",
    "plt.show()"
   ]
  },
  {
   "cell_type": "markdown",
   "id": "f147691c",
   "metadata": {},
   "source": [
    "Преобразуем год выпуска фильма в интервалы с шагом в 10 лет."
   ]
  },
  {
   "cell_type": "code",
   "execution_count": 29,
   "id": "4d6cbc02",
   "metadata": {},
   "outputs": [],
   "source": [
    "items_df.loc[items_df['release_year'] < 1940, 'release_year_interval'] = 'inf_1940'\n",
    "items_df.loc[items_df['release_year'] >= 2020, 'release_year_interval'] = '2020_inf'"
   ]
  },
  {
   "cell_type": "code",
   "execution_count": 30,
   "id": "b750f94b",
   "metadata": {},
   "outputs": [],
   "source": [
    "for year in range(1940, 2020, 10):\n",
    "    items_df.loc[(items_df['release_year'] >= year) & (items_df['release_year'] < year + 10), 'release_year_interval'] = '{}-{}'.format(year, year + 10)"
   ]
  },
  {
   "cell_type": "code",
   "execution_count": 31,
   "id": "201793b2",
   "metadata": {},
   "outputs": [
    {
     "data": {
      "text/plain": [
       "2010-2020    8788\n",
       "2020_inf     2276\n",
       "2000-2010    2168\n",
       "1980-1990     745\n",
       "1990-2000     636\n",
       "1970-1980     553\n",
       "1960-1970     342\n",
       "1950-1960     199\n",
       "inf_1940      139\n",
       "1940-1950     117\n",
       "Name: release_year_interval, dtype: int64"
      ]
     },
     "execution_count": 31,
     "metadata": {},
     "output_type": "execute_result"
    }
   ],
   "source": [
    "items_df['release_year_interval'].value_counts()"
   ]
  },
  {
   "cell_type": "code",
   "execution_count": 32,
   "id": "aed34a25",
   "metadata": {},
   "outputs": [],
   "source": [
    "items_df = items_df.drop(columns=['release_year'])\n",
    "items_df['release_year_interval'] = items_df['release_year_interval'].astype('category')"
   ]
  },
  {
   "cell_type": "markdown",
   "id": "221ccbf0",
   "metadata": {},
   "source": [
    "**genres**"
   ]
  },
  {
   "cell_type": "code",
   "execution_count": 33,
   "id": "7b2fba0b",
   "metadata": {},
   "outputs": [
    {
     "data": {
      "text/plain": [
       "документальное                                                                  816\n",
       "драмы                                                                           719\n",
       "комедии                                                                         564\n",
       "для взрослых                                                                    482\n",
       "русские, мелодрамы                                                              416\n",
       "                                                                               ... \n",
       "детские, полнометражные, приключения                                              1\n",
       "для детей, аниме, полнометражные, приключения, зарубежные, семейное, фэнтези      1\n",
       "для детей, сериалы, про животных, приключения, комедии                            1\n",
       "фантастика, фэнтези                                                               1\n",
       "приключения, мюзиклы, мелодрамы, семейное, комедии                                1\n",
       "Name: genres, Length: 2771, dtype: int64"
      ]
     },
     "execution_count": 33,
     "metadata": {},
     "output_type": "execute_result"
    }
   ],
   "source": [
    "items_df['genres'].value_counts()"
   ]
  },
  {
   "cell_type": "code",
   "execution_count": 34,
   "id": "05c9ab00",
   "metadata": {},
   "outputs": [],
   "source": [
    "items_df['genres'] = items_df['genres'].str.lower()\n",
    "items_df['genres'] = items_df['genres'].apply(lambda x: ', '.join(sorted(list(set(x.split(', '))))))"
   ]
  },
  {
   "cell_type": "code",
   "execution_count": 35,
   "id": "35a6d7d7",
   "metadata": {},
   "outputs": [
    {
     "data": {
      "text/plain": [
       "документальное                                        816\n",
       "драмы                                                 719\n",
       "комедии                                               564\n",
       "для взрослых                                          482\n",
       "мелодрамы, русские                                    416\n",
       "                                                     ... \n",
       "мелодрамы, спорт, фэнтези                               1\n",
       "детективы, криминал, триллеры, фэнтези                  1\n",
       "драмы, комедии, семейное, спорт                         1\n",
       "мюзиклы, семейное, советские                            1\n",
       "боевики, драмы, зарубежные, мелодрамы, приключения      1\n",
       "Name: genres, Length: 2623, dtype: int64"
      ]
     },
     "execution_count": 35,
     "metadata": {},
     "output_type": "execute_result"
    }
   ],
   "source": [
    "items_df['genres'].value_counts()"
   ]
  },
  {
   "cell_type": "code",
   "execution_count": 36,
   "id": "23c2cd53",
   "metadata": {},
   "outputs": [],
   "source": [
    "items_df['genres'] = items_df['genres'].astype('category')"
   ]
  },
  {
   "cell_type": "markdown",
   "id": "cb4b2ada",
   "metadata": {},
   "source": [
    "**countries**"
   ]
  },
  {
   "cell_type": "code",
   "execution_count": 37,
   "id": "6cc5de21",
   "metadata": {},
   "outputs": [
    {
     "data": {
      "text/plain": [
       "Россия                          4237\n",
       "США                             4090\n",
       "СССР                            1401\n",
       "Франция                         1158\n",
       "Великобритания                   718\n",
       "                                ... \n",
       "Франция, Польша, Бельгия           1\n",
       "США, Швеция, ЮАР                   1\n",
       "США, Аргентина, Мексика            1\n",
       "США, Германия, Китай, Канада       1\n",
       "США, Канада, Венгрия               1\n",
       "Name: countries, Length: 687, dtype: int64"
      ]
     },
     "execution_count": 37,
     "metadata": {},
     "output_type": "execute_result"
    }
   ],
   "source": [
    "items_df['countries'].value_counts()"
   ]
  },
  {
   "cell_type": "code",
   "execution_count": 38,
   "id": "f2208067",
   "metadata": {},
   "outputs": [
    {
     "data": {
      "text/html": [
       "<div>\n",
       "<style scoped>\n",
       "    .dataframe tbody tr th:only-of-type {\n",
       "        vertical-align: middle;\n",
       "    }\n",
       "\n",
       "    .dataframe tbody tr th {\n",
       "        vertical-align: top;\n",
       "    }\n",
       "\n",
       "    .dataframe thead th {\n",
       "        text-align: right;\n",
       "    }\n",
       "</style>\n",
       "<table border=\"1\" class=\"dataframe\">\n",
       "  <thead>\n",
       "    <tr style=\"text-align: right;\">\n",
       "      <th></th>\n",
       "      <th>item_id</th>\n",
       "      <th>content_type</th>\n",
       "      <th>title</th>\n",
       "      <th>title_orig</th>\n",
       "      <th>genres</th>\n",
       "      <th>countries</th>\n",
       "      <th>for_kids</th>\n",
       "      <th>age_rating</th>\n",
       "      <th>studios</th>\n",
       "      <th>directors</th>\n",
       "      <th>actors</th>\n",
       "      <th>description</th>\n",
       "      <th>keywords</th>\n",
       "      <th>release_year_interval</th>\n",
       "    </tr>\n",
       "  </thead>\n",
       "  <tbody>\n",
       "    <tr>\n",
       "      <th>2071</th>\n",
       "      <td>8906</td>\n",
       "      <td>film</td>\n",
       "      <td>Лига чемпионов ФИБА. АЕК(Греция) против Тюрк Т...</td>\n",
       "      <td>BCL. AEK (GRE) - Turk Telecom (TUR)</td>\n",
       "      <td>спорт</td>\n",
       "      <td>NaN</td>\n",
       "      <td>NaN</td>\n",
       "      <td>12.0</td>\n",
       "      <td>DAZN</td>\n",
       "      <td>NaN</td>\n",
       "      <td>NaN</td>\n",
       "      <td>«Тюрк Телеком» уверенно выиграл группу G, одер...</td>\n",
       "      <td>Лига, чемпионов, ФИБА, АЕКГреция, против, Тюрк...</td>\n",
       "      <td>2020_inf</td>\n",
       "    </tr>\n",
       "    <tr>\n",
       "      <th>4152</th>\n",
       "      <td>8740</td>\n",
       "      <td>film</td>\n",
       "      <td>Лига чемпионов ФИБА. Тюрк Телеком(Турция) прот...</td>\n",
       "      <td>BCL. Turk Telekom (TUR) vs Hapoel  Bank Yahav ...</td>\n",
       "      <td>спорт</td>\n",
       "      <td>NaN</td>\n",
       "      <td>NaN</td>\n",
       "      <td>12.0</td>\n",
       "      <td>DAZN</td>\n",
       "      <td>NaN</td>\n",
       "      <td>NaN</td>\n",
       "      <td>Баскетбольная лига чемпионов берет свое начало...</td>\n",
       "      <td>Лига, чемпионов, ФИБА, Тюрк, ТелекомТурция, пр...</td>\n",
       "      <td>2020_inf</td>\n",
       "    </tr>\n",
       "    <tr>\n",
       "      <th>7186</th>\n",
       "      <td>12295</td>\n",
       "      <td>series</td>\n",
       "      <td>Разговоры животных</td>\n",
       "      <td>Animal Conversations</td>\n",
       "      <td>документальное</td>\n",
       "      <td>NaN</td>\n",
       "      <td>NaN</td>\n",
       "      <td>18.0</td>\n",
       "      <td>NaN</td>\n",
       "      <td>NaN</td>\n",
       "      <td>NaN</td>\n",
       "      <td>Документальный проект, помогающий лучше понять...</td>\n",
       "      <td>Разговоры, животных, 2021</td>\n",
       "      <td>2020_inf</td>\n",
       "    </tr>\n",
       "    <tr>\n",
       "      <th>9505</th>\n",
       "      <td>13864</td>\n",
       "      <td>film</td>\n",
       "      <td>Бруно против Тайсона</td>\n",
       "      <td>Bruno vs. Tyson</td>\n",
       "      <td>спорт</td>\n",
       "      <td>NaN</td>\n",
       "      <td>NaN</td>\n",
       "      <td>18.0</td>\n",
       "      <td>NaN</td>\n",
       "      <td>NaN</td>\n",
       "      <td>NaN</td>\n",
       "      <td>Документальный проект о двух великих боксерах ...</td>\n",
       "      <td>Бруно, против, Тайсона, 2021</td>\n",
       "      <td>2020_inf</td>\n",
       "    </tr>\n",
       "    <tr>\n",
       "      <th>12664</th>\n",
       "      <td>8963</td>\n",
       "      <td>film</td>\n",
       "      <td>Брайан Стивенсон: Борьба за равноправие</td>\n",
       "      <td>True Justice: Bryan Stevenson's Fight for Equa...</td>\n",
       "      <td>документальное</td>\n",
       "      <td>NaN</td>\n",
       "      <td>NaN</td>\n",
       "      <td>16.0</td>\n",
       "      <td>NaN</td>\n",
       "      <td>Джордж Кунхардт, Питер У. Кунхардт, Тедди Кунх...</td>\n",
       "      <td>Брайан Стивенсон</td>\n",
       "      <td>Если бы Брайан Стивенсон был супергероем, то о...</td>\n",
       "      <td>Брайан, Стивенсон, Борьба, за, равноправие, 2019</td>\n",
       "      <td>2010-2020</td>\n",
       "    </tr>\n",
       "    <tr>\n",
       "      <th>14690</th>\n",
       "      <td>1296</td>\n",
       "      <td>film</td>\n",
       "      <td>Головкин vs Роллс: Перед боем</td>\n",
       "      <td>Fight Feature: Golovkin vs Rolls</td>\n",
       "      <td>документальное, спорт</td>\n",
       "      <td>NaN</td>\n",
       "      <td>NaN</td>\n",
       "      <td>18.0</td>\n",
       "      <td>DAZN</td>\n",
       "      <td>NaN</td>\n",
       "      <td>NaN</td>\n",
       "      <td>Эксклюзивный контент DAZN только для подписчик...</td>\n",
       "      <td>Головкин, vs, Роллс, Перед, боем, 2019</td>\n",
       "      <td>2010-2020</td>\n",
       "    </tr>\n",
       "  </tbody>\n",
       "</table>\n",
       "</div>"
      ],
      "text/plain": [
       "       item_id content_type  \\\n",
       "2071      8906         film   \n",
       "4152      8740         film   \n",
       "7186     12295       series   \n",
       "9505     13864         film   \n",
       "12664     8963         film   \n",
       "14690     1296         film   \n",
       "\n",
       "                                                   title  \\\n",
       "2071   Лига чемпионов ФИБА. АЕК(Греция) против Тюрк Т...   \n",
       "4152   Лига чемпионов ФИБА. Тюрк Телеком(Турция) прот...   \n",
       "7186                                  Разговоры животных   \n",
       "9505                                Бруно против Тайсона   \n",
       "12664            Брайан Стивенсон: Борьба за равноправие   \n",
       "14690                      Головкин vs Роллс: Перед боем   \n",
       "\n",
       "                                              title_orig  \\\n",
       "2071                 BCL. AEK (GRE) - Turk Telecom (TUR)   \n",
       "4152   BCL. Turk Telekom (TUR) vs Hapoel  Bank Yahav ...   \n",
       "7186                                Animal Conversations   \n",
       "9505                                     Bruno vs. Tyson   \n",
       "12664  True Justice: Bryan Stevenson's Fight for Equa...   \n",
       "14690                   Fight Feature: Golovkin vs Rolls   \n",
       "\n",
       "                      genres countries  for_kids  age_rating studios  \\\n",
       "2071                   спорт       NaN       NaN        12.0    DAZN   \n",
       "4152                   спорт       NaN       NaN        12.0    DAZN   \n",
       "7186          документальное       NaN       NaN        18.0     NaN   \n",
       "9505                   спорт       NaN       NaN        18.0     NaN   \n",
       "12664         документальное       NaN       NaN        16.0     NaN   \n",
       "14690  документальное, спорт       NaN       NaN        18.0    DAZN   \n",
       "\n",
       "                                               directors            actors  \\\n",
       "2071                                                 NaN               NaN   \n",
       "4152                                                 NaN               NaN   \n",
       "7186                                                 NaN               NaN   \n",
       "9505                                                 NaN               NaN   \n",
       "12664  Джордж Кунхардт, Питер У. Кунхардт, Тедди Кунх...  Брайан Стивенсон   \n",
       "14690                                                NaN               NaN   \n",
       "\n",
       "                                             description  \\\n",
       "2071   «Тюрк Телеком» уверенно выиграл группу G, одер...   \n",
       "4152   Баскетбольная лига чемпионов берет свое начало...   \n",
       "7186   Документальный проект, помогающий лучше понять...   \n",
       "9505   Документальный проект о двух великих боксерах ...   \n",
       "12664  Если бы Брайан Стивенсон был супергероем, то о...   \n",
       "14690  Эксклюзивный контент DAZN только для подписчик...   \n",
       "\n",
       "                                                keywords release_year_interval  \n",
       "2071   Лига, чемпионов, ФИБА, АЕКГреция, против, Тюрк...              2020_inf  \n",
       "4152   Лига, чемпионов, ФИБА, Тюрк, ТелекомТурция, пр...              2020_inf  \n",
       "7186                           Разговоры, животных, 2021              2020_inf  \n",
       "9505                        Бруно, против, Тайсона, 2021              2020_inf  \n",
       "12664   Брайан, Стивенсон, Борьба, за, равноправие, 2019             2010-2020  \n",
       "14690             Головкин, vs, Роллс, Перед, боем, 2019             2010-2020  "
      ]
     },
     "execution_count": 38,
     "metadata": {},
     "output_type": "execute_result"
    }
   ],
   "source": [
    "items_df[(items_df['countries'].isna()) & (items_df['title_orig'] != 'None')]#.sample(5)"
   ]
  },
  {
   "cell_type": "code",
   "execution_count": 39,
   "id": "4ef9a994",
   "metadata": {},
   "outputs": [],
   "source": [
    "items_df.loc[(items_df['countries'].isna()) & (items_df['title_orig'] != 'None'), 'countries'] = 'США'\n",
    "items_df.loc[(items_df['countries'].isna()) & (items_df['title_orig'] == 'None'), 'countries'] = 'Россия'"
   ]
  },
  {
   "cell_type": "code",
   "execution_count": 40,
   "id": "267df02c",
   "metadata": {},
   "outputs": [],
   "source": [
    "items_df['countries'] = items_df['countries'].str.lower()\n",
    "items_df['countries'] = items_df['countries'].apply(lambda x: ', '.join(sorted(list(set(x.split(', '))))))"
   ]
  },
  {
   "cell_type": "code",
   "execution_count": 41,
   "id": "6a4b0550",
   "metadata": {},
   "outputs": [
    {
     "data": {
      "text/plain": [
       "россия                                                                  4268\n",
       "сша                                                                     4096\n",
       "ссср                                                                    1401\n",
       "франция                                                                 1158\n",
       "великобритания                                                           718\n",
       "                                                                        ... \n",
       "германия, замбия, сша, юар                                                 1\n",
       "великобритания, испания, нидерланды                                        1\n",
       "бельгия, великобритания, германия, дания, исландия, норвегия, швеция       1\n",
       "австрия, великобритания                                                    1\n",
       "бельгия, италия, люксембург, франция                                       1\n",
       "Name: countries, Length: 557, dtype: int64"
      ]
     },
     "execution_count": 41,
     "metadata": {},
     "output_type": "execute_result"
    }
   ],
   "source": [
    "items_df['countries'].value_counts()"
   ]
  },
  {
   "cell_type": "code",
   "execution_count": 42,
   "id": "457a6ac6",
   "metadata": {},
   "outputs": [],
   "source": [
    "items_df['countries'] = items_df['countries'].astype('category')"
   ]
  },
  {
   "cell_type": "markdown",
   "id": "773a7450",
   "metadata": {},
   "source": [
    "**for_kids**"
   ]
  },
  {
   "cell_type": "code",
   "execution_count": 43,
   "id": "ba499718",
   "metadata": {},
   "outputs": [
    {
     "data": {
      "text/plain": [
       "0.0    452\n",
       "1.0    114\n",
       "Name: for_kids, dtype: int64"
      ]
     },
     "execution_count": 43,
     "metadata": {},
     "output_type": "execute_result"
    }
   ],
   "source": [
    "items_df['for_kids'].value_counts()"
   ]
  },
  {
   "cell_type": "code",
   "execution_count": 44,
   "id": "ddda317e",
   "metadata": {},
   "outputs": [],
   "source": [
    "items_df.loc[items_df['for_kids'].isna(), 'for_kids'] = 0"
   ]
  },
  {
   "cell_type": "code",
   "execution_count": 45,
   "id": "547bbc3d",
   "metadata": {},
   "outputs": [],
   "source": [
    "items_df['for_kids'] = items_df['for_kids'].astype('bool')"
   ]
  },
  {
   "cell_type": "markdown",
   "id": "5e3886ad",
   "metadata": {},
   "source": [
    "**age_rating**"
   ]
  },
  {
   "cell_type": "code",
   "execution_count": 46,
   "id": "13755b98",
   "metadata": {},
   "outputs": [
    {
     "data": {
      "text/plain": [
       "16.0    5729\n",
       "12.0    4147\n",
       "18.0    2547\n",
       "6.0     1538\n",
       "0.0     1518\n",
       "21.0     482\n",
       "Name: age_rating, dtype: int64"
      ]
     },
     "execution_count": 46,
     "metadata": {},
     "output_type": "execute_result"
    }
   ],
   "source": [
    "items_df['age_rating'].value_counts()"
   ]
  },
  {
   "cell_type": "code",
   "execution_count": 47,
   "id": "c35a1a53",
   "metadata": {},
   "outputs": [
    {
     "data": {
      "text/html": [
       "<div>\n",
       "<style scoped>\n",
       "    .dataframe tbody tr th:only-of-type {\n",
       "        vertical-align: middle;\n",
       "    }\n",
       "\n",
       "    .dataframe tbody tr th {\n",
       "        vertical-align: top;\n",
       "    }\n",
       "\n",
       "    .dataframe thead th {\n",
       "        text-align: right;\n",
       "    }\n",
       "</style>\n",
       "<table border=\"1\" class=\"dataframe\">\n",
       "  <thead>\n",
       "    <tr style=\"text-align: right;\">\n",
       "      <th></th>\n",
       "      <th>item_id</th>\n",
       "      <th>content_type</th>\n",
       "      <th>title</th>\n",
       "      <th>title_orig</th>\n",
       "      <th>genres</th>\n",
       "      <th>countries</th>\n",
       "      <th>for_kids</th>\n",
       "      <th>age_rating</th>\n",
       "      <th>studios</th>\n",
       "      <th>directors</th>\n",
       "      <th>actors</th>\n",
       "      <th>description</th>\n",
       "      <th>keywords</th>\n",
       "      <th>release_year_interval</th>\n",
       "    </tr>\n",
       "  </thead>\n",
       "  <tbody>\n",
       "    <tr>\n",
       "      <th>8297</th>\n",
       "      <td>6316</td>\n",
       "      <td>series</td>\n",
       "      <td>Машины-помощники</td>\n",
       "      <td>None</td>\n",
       "      <td>для детей, развитие, русские, русские мультфил...</td>\n",
       "      <td>россия</td>\n",
       "      <td>False</td>\n",
       "      <td>NaN</td>\n",
       "      <td>NaN</td>\n",
       "      <td>NaN</td>\n",
       "      <td>NaN</td>\n",
       "      <td>Маленькие мальчики всего мира любят играть в м...</td>\n",
       "      <td>Машины-помощники, 2017, Россия, работа, преодо...</td>\n",
       "      <td>2010-2020</td>\n",
       "    </tr>\n",
       "    <tr>\n",
       "      <th>12352</th>\n",
       "      <td>14409</td>\n",
       "      <td>series</td>\n",
       "      <td>БиБаБу</td>\n",
       "      <td>None</td>\n",
       "      <td>для детей, развитие, русские, русские мультфил...</td>\n",
       "      <td>россия</td>\n",
       "      <td>False</td>\n",
       "      <td>NaN</td>\n",
       "      <td>NaN</td>\n",
       "      <td>NaN</td>\n",
       "      <td>NaN</td>\n",
       "      <td>В сказочное подводное царство приглашают мален...</td>\n",
       "      <td>друзья, магия и волшебство, рыбы, моря и океан...</td>\n",
       "      <td>2010-2020</td>\n",
       "    </tr>\n",
       "  </tbody>\n",
       "</table>\n",
       "</div>"
      ],
      "text/plain": [
       "       item_id content_type             title title_orig  \\\n",
       "8297      6316       series  Машины-помощники       None   \n",
       "12352    14409       series            БиБаБу       None   \n",
       "\n",
       "                                                  genres countries  for_kids  \\\n",
       "8297   для детей, развитие, русские, русские мультфил...    россия     False   \n",
       "12352  для детей, развитие, русские, русские мультфил...    россия     False   \n",
       "\n",
       "       age_rating studios directors actors  \\\n",
       "8297          NaN     NaN       NaN    NaN   \n",
       "12352         NaN     NaN       NaN    NaN   \n",
       "\n",
       "                                             description  \\\n",
       "8297   Маленькие мальчики всего мира любят играть в м...   \n",
       "12352  В сказочное подводное царство приглашают мален...   \n",
       "\n",
       "                                                keywords release_year_interval  \n",
       "8297   Машины-помощники, 2017, Россия, работа, преодо...             2010-2020  \n",
       "12352  друзья, магия и волшебство, рыбы, моря и океан...             2010-2020  "
      ]
     },
     "execution_count": 47,
     "metadata": {},
     "output_type": "execute_result"
    }
   ],
   "source": [
    "items_df[items_df['age_rating'].isna()]"
   ]
  },
  {
   "cell_type": "code",
   "execution_count": 48,
   "id": "5ba292da",
   "metadata": {},
   "outputs": [],
   "source": [
    "items_df.loc[items_df['age_rating'].isna(), 'age_rating'] = 0"
   ]
  },
  {
   "cell_type": "code",
   "execution_count": 49,
   "id": "d4518485",
   "metadata": {},
   "outputs": [],
   "source": [
    "items_df['age_rating'] = items_df['age_rating'].astype('category')"
   ]
  },
  {
   "cell_type": "markdown",
   "id": "fc9a6fea",
   "metadata": {},
   "source": [
    "**studios**"
   ]
  },
  {
   "cell_type": "code",
   "execution_count": 50,
   "id": "0b5ba29b",
   "metadata": {},
   "outputs": [
    {
     "data": {
      "text/plain": [
       "HBO                         353\n",
       "Ленфильм                    212\n",
       "Sony Pictures               162\n",
       "Ленфильм, рентв              46\n",
       "Paramount                    46\n",
       "Sky                          30\n",
       "DAZN                         30\n",
       "CBS                          27\n",
       "Starz                        21\n",
       "BBC                          19\n",
       "Universal                    18\n",
       "Showtime                     16\n",
       "Warner Bros. Television      14\n",
       "Cinemax                      10\n",
       "Warner Bros                   9\n",
       "Fox                           7\n",
       "Sony Pictures Television      7\n",
       "Endemol                       4\n",
       "Fremantle                     4\n",
       "Amediateka                    3\n",
       "HBO Max                       2\n",
       "Мосфильм                      2\n",
       "CBS All Access                2\n",
       "Sky, Fremantle                2\n",
       "Channel 4                     2\n",
       "Sony Pictures, рентв          2\n",
       "Disney                        2\n",
       "HBO, BBC                      2\n",
       "Sony Plus, рентв              2\n",
       "Sony Plus                     1\n",
       "ABC                           1\n",
       "рентв                         1\n",
       "Universal, рентв              1\n",
       "New Regency Productions       1\n",
       "Legendary                     1\n",
       "Рок фильм                     1\n",
       "MGM                           1\n",
       "FX                            1\n",
       "Name: studios, dtype: int64"
      ]
     },
     "execution_count": 50,
     "metadata": {},
     "output_type": "execute_result"
    }
   ],
   "source": [
    "items_df['studios'].value_counts()"
   ]
  },
  {
   "cell_type": "code",
   "execution_count": 51,
   "id": "02f7b991",
   "metadata": {},
   "outputs": [],
   "source": [
    "items_df['studios'] = items_df['studios'].fillna('Unknown')"
   ]
  },
  {
   "cell_type": "code",
   "execution_count": 52,
   "id": "69d75eb4",
   "metadata": {},
   "outputs": [],
   "source": [
    "items_df['studios'] = items_df['studios'].astype('category')"
   ]
  },
  {
   "cell_type": "markdown",
   "id": "fc7a02cd",
   "metadata": {},
   "source": [
    "**directors**"
   ]
  },
  {
   "cell_type": "code",
   "execution_count": 53,
   "id": "f3abbeec",
   "metadata": {},
   "outputs": [
    {
     "data": {
      "text/plain": [
       "Оливье Шиабоду                511\n",
       "Денис Франческо                49\n",
       "Глова Роман Юрьевич            36\n",
       "Сергей Зарев                   29\n",
       "Альфред Хичкок                 28\n",
       "                             ... \n",
       "Жюли Грумбах, Элиз МакЛеод      1\n",
       "Иван Павлов                     1\n",
       "Джоэл Цвик                      1\n",
       "Мариана Кальтабиано             1\n",
       "Яне Магнуссон                   1\n",
       "Name: directors, Length: 7973, dtype: int64"
      ]
     },
     "execution_count": 53,
     "metadata": {},
     "output_type": "execute_result"
    }
   ],
   "source": [
    "items_df['directors'].value_counts()"
   ]
  },
  {
   "cell_type": "code",
   "execution_count": 54,
   "id": "abdbd369",
   "metadata": {},
   "outputs": [],
   "source": [
    "items_df['directors'] = items_df['directors'].fillna('Unknown')"
   ]
  },
  {
   "cell_type": "code",
   "execution_count": 55,
   "id": "bbb4041b",
   "metadata": {},
   "outputs": [],
   "source": [
    "items_df['directors'] = items_df['directors'].str.lower()\n",
    "items_df['directors'] = items_df['directors'].apply(lambda x: ', '.join(sorted(list(set(x.split(', '))))))"
   ]
  },
  {
   "cell_type": "code",
   "execution_count": 56,
   "id": "fb226466",
   "metadata": {},
   "outputs": [],
   "source": [
    "items_df['directors'] = items_df['directors'].astype('category')"
   ]
  },
  {
   "cell_type": "markdown",
   "id": "278aae74",
   "metadata": {},
   "source": [
    "**actors**"
   ]
  },
  {
   "cell_type": "code",
   "execution_count": 57,
   "id": "d4ff6984",
   "metadata": {},
   "outputs": [
    {
     "data": {
      "text/plain": [
       "Александр Клюквин                                                                                                                                                         25\n",
       "Тайлер Никсон, Маркус Лондон, Томми Ганн                                                                                                                                  16\n",
       "Жан-Пьер Морель, Оливье Шиабоду                                                                                                                                            8\n",
       "Кэти Морган                                                                                                                                                                6\n",
       "Молли Мэнсон                                                                                                                                                               6\n",
       "Алина Кукушкина                                                                                                                                                            5\n",
       "Татьяна Казючиц, Дмитрий Орлов, Александр Гиренок, Галина Стаханова, Анатолий Котенёв, Алексей Королёв, Олег Ткачёв, Марина Яковлева, Владимир Воронков, Оксана Лесная     5\n",
       "Коля Румянцев                                                                                                                                                              4\n",
       "Евгений Гришковец                                                                                                                                                          4\n",
       "Юлия Высоцкая                                                                                                                                                              4\n",
       "Name: actors, dtype: int64"
      ]
     },
     "execution_count": 57,
     "metadata": {},
     "output_type": "execute_result"
    }
   ],
   "source": [
    "items_df['actors'].value_counts().head(10)"
   ]
  },
  {
   "cell_type": "code",
   "execution_count": 58,
   "id": "8e34cc99",
   "metadata": {},
   "outputs": [],
   "source": [
    "items_df['actors'] = items_df['actors'].fillna('Unknown')"
   ]
  },
  {
   "cell_type": "code",
   "execution_count": 59,
   "id": "90a8fa32",
   "metadata": {},
   "outputs": [],
   "source": [
    "items_df['actors'] = items_df['actors'].str.lower()\n",
    "items_df['actors'] = items_df['actors'].apply(lambda x: ', '.join(sorted(list(set(x.split(', '))))))"
   ]
  },
  {
   "cell_type": "code",
   "execution_count": 60,
   "id": "c61f75e7",
   "metadata": {},
   "outputs": [],
   "source": [
    "items_df['actors'] = items_df['actors'].astype('category')"
   ]
  },
  {
   "cell_type": "markdown",
   "id": "0b7b94a3",
   "metadata": {},
   "source": [
    "**description**"
   ]
  },
  {
   "cell_type": "code",
   "execution_count": 61,
   "id": "4c9ebf9c",
   "metadata": {},
   "outputs": [],
   "source": [
    "items_df['description'] = items_df['description'].fillna('Unknown')"
   ]
  },
  {
   "cell_type": "code",
   "execution_count": 63,
   "id": "4280b3b4",
   "metadata": {},
   "outputs": [
    {
     "data": {
      "text/plain": [
       "0    Поговори, ней, 2002, Испания, друзья, любовь, ...\n",
       "1    Голые, перцы, 2014, США, друзья, свадьбы, прео...\n",
       "2    Тактическая, сила, 2011, Канада, бандиты, ганг...\n",
       "3    45, лет, 2015, Великобритания, брак, жизнь, лю...\n",
       "4    Все, решает, мгновение, 1978, СССР, сильные, ж...\n",
       "Name: keywords, dtype: object"
      ]
     },
     "execution_count": 63,
     "metadata": {},
     "output_type": "execute_result"
    }
   ],
   "source": [
    "items_df['keywords'].head(5)"
   ]
  },
  {
   "cell_type": "code",
   "execution_count": 64,
   "id": "90b15758",
   "metadata": {},
   "outputs": [],
   "source": [
    "items_df['keywords'] = items_df['keywords'].fillna('Unknown')"
   ]
  },
  {
   "cell_type": "code",
   "execution_count": 65,
   "id": "70625576",
   "metadata": {},
   "outputs": [],
   "source": [
    "items_df['keywords'] = items_df['keywords'].str.lower()\n",
    "items_df['keywords'] = items_df['keywords'].apply(lambda x: ', '.join(sorted(list(set(x.split(', '))))))"
   ]
  },
  {
   "cell_type": "code",
   "execution_count": 66,
   "id": "f9706cde",
   "metadata": {},
   "outputs": [],
   "source": [
    "items_df['keywords'] = items_df['keywords'].astype('category')"
   ]
  },
  {
   "cell_type": "markdown",
   "id": "f366dfe0",
   "metadata": {},
   "source": [
    "**Итог**"
   ]
  },
  {
   "cell_type": "code",
   "execution_count": 67,
   "id": "94e5104f",
   "metadata": {},
   "outputs": [
    {
     "name": "stdout",
     "output_type": "stream",
     "text": [
      "<class 'pandas.core.frame.DataFrame'>\n",
      "RangeIndex: 15963 entries, 0 to 15962\n",
      "Data columns (total 14 columns):\n",
      " #   Column                 Non-Null Count  Dtype   \n",
      "---  ------                 --------------  -----   \n",
      " 0   item_id                15963 non-null  int64   \n",
      " 1   content_type           15963 non-null  object  \n",
      " 2   title                  15963 non-null  object  \n",
      " 3   title_orig             15963 non-null  object  \n",
      " 4   genres                 15963 non-null  category\n",
      " 5   countries              15963 non-null  category\n",
      " 6   for_kids               15963 non-null  bool    \n",
      " 7   age_rating             15963 non-null  category\n",
      " 8   studios                15963 non-null  category\n",
      " 9   directors              15963 non-null  category\n",
      " 10  actors                 15963 non-null  category\n",
      " 11  description            15963 non-null  object  \n",
      " 12  keywords               15963 non-null  category\n",
      " 13  release_year_interval  15963 non-null  category\n",
      "dtypes: bool(1), category(8), int64(1), object(4)\n",
      "memory usage: 2.5+ MB\n"
     ]
    }
   ],
   "source": [
    "items_df.info()"
   ]
  },
  {
   "cell_type": "markdown",
   "id": "3181067b",
   "metadata": {},
   "source": [
    "[Возврат к содержанию](#content)"
   ]
  },
  {
   "cell_type": "markdown",
   "id": "1b8905ce",
   "metadata": {},
   "source": [
    "<a id=\"eda_interactions\"></a>\n",
    "### Interactions"
   ]
  },
  {
   "cell_type": "code",
   "execution_count": 68,
   "id": "a9360558",
   "metadata": {},
   "outputs": [
    {
     "data": {
      "text/html": [
       "<div>\n",
       "<style scoped>\n",
       "    .dataframe tbody tr th:only-of-type {\n",
       "        vertical-align: middle;\n",
       "    }\n",
       "\n",
       "    .dataframe tbody tr th {\n",
       "        vertical-align: top;\n",
       "    }\n",
       "\n",
       "    .dataframe thead th {\n",
       "        text-align: right;\n",
       "    }\n",
       "</style>\n",
       "<table border=\"1\" class=\"dataframe\">\n",
       "  <thead>\n",
       "    <tr style=\"text-align: right;\">\n",
       "      <th></th>\n",
       "      <th>user_id</th>\n",
       "      <th>item_id</th>\n",
       "      <th>last_watch_dt</th>\n",
       "      <th>total_dur</th>\n",
       "      <th>watched_pct</th>\n",
       "    </tr>\n",
       "  </thead>\n",
       "  <tbody>\n",
       "    <tr>\n",
       "      <th>1951104</th>\n",
       "      <td>414616</td>\n",
       "      <td>15297</td>\n",
       "      <td>2021-08-22</td>\n",
       "      <td>22178</td>\n",
       "      <td>75.0</td>\n",
       "    </tr>\n",
       "    <tr>\n",
       "      <th>4788468</th>\n",
       "      <td>41116</td>\n",
       "      <td>5987</td>\n",
       "      <td>2021-06-24</td>\n",
       "      <td>49855</td>\n",
       "      <td>100.0</td>\n",
       "    </tr>\n",
       "    <tr>\n",
       "      <th>753517</th>\n",
       "      <td>487150</td>\n",
       "      <td>7793</td>\n",
       "      <td>2021-08-02</td>\n",
       "      <td>858</td>\n",
       "      <td>14.0</td>\n",
       "    </tr>\n",
       "    <tr>\n",
       "      <th>714762</th>\n",
       "      <td>420571</td>\n",
       "      <td>13463</td>\n",
       "      <td>2021-06-16</td>\n",
       "      <td>23358</td>\n",
       "      <td>100.0</td>\n",
       "    </tr>\n",
       "    <tr>\n",
       "      <th>1900798</th>\n",
       "      <td>606557</td>\n",
       "      <td>12360</td>\n",
       "      <td>2021-08-19</td>\n",
       "      <td>10</td>\n",
       "      <td>0.0</td>\n",
       "    </tr>\n",
       "  </tbody>\n",
       "</table>\n",
       "</div>"
      ],
      "text/plain": [
       "         user_id  item_id last_watch_dt  total_dur  watched_pct\n",
       "1951104   414616    15297    2021-08-22      22178         75.0\n",
       "4788468    41116     5987    2021-06-24      49855        100.0\n",
       "753517    487150     7793    2021-08-02        858         14.0\n",
       "714762    420571    13463    2021-06-16      23358        100.0\n",
       "1900798   606557    12360    2021-08-19         10          0.0"
      ]
     },
     "execution_count": 68,
     "metadata": {},
     "output_type": "execute_result"
    }
   ],
   "source": [
    "interactions_df.sample(5)"
   ]
  },
  {
   "cell_type": "code",
   "execution_count": 69,
   "id": "7f829fb5",
   "metadata": {},
   "outputs": [
    {
     "data": {
      "text/html": [
       "<div>\n",
       "<style scoped>\n",
       "    .dataframe tbody tr th:only-of-type {\n",
       "        vertical-align: middle;\n",
       "    }\n",
       "\n",
       "    .dataframe tbody tr th {\n",
       "        vertical-align: top;\n",
       "    }\n",
       "\n",
       "    .dataframe thead th {\n",
       "        text-align: right;\n",
       "    }\n",
       "</style>\n",
       "<table border=\"1\" class=\"dataframe\">\n",
       "  <thead>\n",
       "    <tr style=\"text-align: right;\">\n",
       "      <th></th>\n",
       "      <th>user_id</th>\n",
       "      <th>item_id</th>\n",
       "      <th>last_watch_dt</th>\n",
       "      <th>total_dur</th>\n",
       "      <th>watched_pct</th>\n",
       "    </tr>\n",
       "  </thead>\n",
       "  <tbody>\n",
       "    <tr>\n",
       "      <th>18473</th>\n",
       "      <td>296886</td>\n",
       "      <td>617</td>\n",
       "      <td>2021-06-29</td>\n",
       "      <td>1043</td>\n",
       "      <td>NaN</td>\n",
       "    </tr>\n",
       "    <tr>\n",
       "      <th>37129</th>\n",
       "      <td>1001166</td>\n",
       "      <td>2228</td>\n",
       "      <td>2021-04-20</td>\n",
       "      <td>215</td>\n",
       "      <td>NaN</td>\n",
       "    </tr>\n",
       "    <tr>\n",
       "      <th>42969</th>\n",
       "      <td>54778</td>\n",
       "      <td>9882</td>\n",
       "      <td>2021-08-04</td>\n",
       "      <td>314</td>\n",
       "      <td>NaN</td>\n",
       "    </tr>\n",
       "    <tr>\n",
       "      <th>51067</th>\n",
       "      <td>1059297</td>\n",
       "      <td>617</td>\n",
       "      <td>2021-07-13</td>\n",
       "      <td>8501</td>\n",
       "      <td>NaN</td>\n",
       "    </tr>\n",
       "    <tr>\n",
       "      <th>56856</th>\n",
       "      <td>571265</td>\n",
       "      <td>617</td>\n",
       "      <td>2021-07-07</td>\n",
       "      <td>2825</td>\n",
       "      <td>NaN</td>\n",
       "    </tr>\n",
       "    <tr>\n",
       "      <th>...</th>\n",
       "      <td>...</td>\n",
       "      <td>...</td>\n",
       "      <td>...</td>\n",
       "      <td>...</td>\n",
       "      <td>...</td>\n",
       "    </tr>\n",
       "    <tr>\n",
       "      <th>5453471</th>\n",
       "      <td>1003564</td>\n",
       "      <td>1130</td>\n",
       "      <td>2021-04-19</td>\n",
       "      <td>2</td>\n",
       "      <td>NaN</td>\n",
       "    </tr>\n",
       "    <tr>\n",
       "      <th>5460370</th>\n",
       "      <td>709070</td>\n",
       "      <td>617</td>\n",
       "      <td>2021-06-23</td>\n",
       "      <td>29</td>\n",
       "      <td>NaN</td>\n",
       "    </tr>\n",
       "    <tr>\n",
       "      <th>5461941</th>\n",
       "      <td>13284</td>\n",
       "      <td>13950</td>\n",
       "      <td>2021-04-18</td>\n",
       "      <td>136</td>\n",
       "      <td>NaN</td>\n",
       "    </tr>\n",
       "    <tr>\n",
       "      <th>5474507</th>\n",
       "      <td>1049024</td>\n",
       "      <td>174</td>\n",
       "      <td>2021-07-08</td>\n",
       "      <td>7560</td>\n",
       "      <td>NaN</td>\n",
       "    </tr>\n",
       "    <tr>\n",
       "      <th>5475366</th>\n",
       "      <td>403904</td>\n",
       "      <td>617</td>\n",
       "      <td>2021-06-23</td>\n",
       "      <td>149</td>\n",
       "      <td>NaN</td>\n",
       "    </tr>\n",
       "  </tbody>\n",
       "</table>\n",
       "<p>828 rows × 5 columns</p>\n",
       "</div>"
      ],
      "text/plain": [
       "         user_id  item_id last_watch_dt  total_dur  watched_pct\n",
       "18473     296886      617    2021-06-29       1043          NaN\n",
       "37129    1001166     2228    2021-04-20        215          NaN\n",
       "42969      54778     9882    2021-08-04        314          NaN\n",
       "51067    1059297      617    2021-07-13       8501          NaN\n",
       "56856     571265      617    2021-07-07       2825          NaN\n",
       "...          ...      ...           ...        ...          ...\n",
       "5453471  1003564     1130    2021-04-19          2          NaN\n",
       "5460370   709070      617    2021-06-23         29          NaN\n",
       "5461941    13284    13950    2021-04-18        136          NaN\n",
       "5474507  1049024      174    2021-07-08       7560          NaN\n",
       "5475366   403904      617    2021-06-23        149          NaN\n",
       "\n",
       "[828 rows x 5 columns]"
      ]
     },
     "execution_count": 69,
     "metadata": {},
     "output_type": "execute_result"
    }
   ],
   "source": [
    "interactions_df[interactions_df.watched_pct.isna()]"
   ]
  },
  {
   "cell_type": "code",
   "execution_count": 70,
   "id": "161d8b18",
   "metadata": {},
   "outputs": [
    {
     "name": "stdout",
     "output_type": "stream",
     "text": [
      "<class 'pandas.core.frame.DataFrame'>\n",
      "RangeIndex: 5476251 entries, 0 to 5476250\n",
      "Data columns (total 5 columns):\n",
      " #   Column         Dtype  \n",
      "---  ------         -----  \n",
      " 0   user_id        int64  \n",
      " 1   item_id        int64  \n",
      " 2   last_watch_dt  object \n",
      " 3   total_dur      int64  \n",
      " 4   watched_pct    float64\n",
      "dtypes: float64(1), int64(3), object(1)\n",
      "memory usage: 208.9+ MB\n"
     ]
    }
   ],
   "source": [
    "interactions_df.info()"
   ]
  },
  {
   "cell_type": "code",
   "execution_count": 71,
   "id": "70399b73",
   "metadata": {},
   "outputs": [
    {
     "data": {
      "text/plain": [
       "user_id          962179\n",
       "item_id           15706\n",
       "last_watch_dt       163\n",
       "total_dur        129788\n",
       "watched_pct         101\n",
       "dtype: int64"
      ]
     },
     "execution_count": 71,
     "metadata": {},
     "output_type": "execute_result"
    }
   ],
   "source": [
    "interactions_df.nunique()"
   ]
  },
  {
   "cell_type": "code",
   "execution_count": 72,
   "id": "369e3c0f",
   "metadata": {},
   "outputs": [
    {
     "data": {
      "text/plain": [
       "(5476251, 5)"
      ]
     },
     "execution_count": 72,
     "metadata": {},
     "output_type": "execute_result"
    }
   ],
   "source": [
    "interactions_df.shape"
   ]
  },
  {
   "cell_type": "markdown",
   "id": "4107e46c",
   "metadata": {},
   "source": [
    "**last_watch_dt**"
   ]
  },
  {
   "cell_type": "markdown",
   "id": "4ca6acf9",
   "metadata": {},
   "source": [
    "Период"
   ]
  },
  {
   "cell_type": "code",
   "execution_count": 73,
   "id": "2b09cb5b",
   "metadata": {},
   "outputs": [],
   "source": [
    "interactions_df['last_watch_dt'] = pd.to_datetime(interactions_df['last_watch_dt'])"
   ]
  },
  {
   "cell_type": "code",
   "execution_count": 74,
   "id": "c4282f75",
   "metadata": {},
   "outputs": [
    {
     "name": "stdout",
     "output_type": "stream",
     "text": [
      "Начальная дата: 2021-03-13 00:00:00\n",
      "Конечная дата: 2021-08-22 00:00:00\n"
     ]
    }
   ],
   "source": [
    "print('Начальная дата:', interactions_df['last_watch_dt'].min())\n",
    "print('Конечная дата:', interactions_df['last_watch_dt'].max())"
   ]
  },
  {
   "cell_type": "code",
   "execution_count": 75,
   "id": "a7200f40",
   "metadata": {},
   "outputs": [
    {
     "data": {
      "image/png": "[encoded data removed]",
      "text/plain": [
       "<Figure size 1152x720 with 1 Axes>"
      ]
     },
     "metadata": {},
     "output_type": "display_data"
    }
   ],
   "source": [
    "plt.figure(figsize=(16, 10))\n",
    "interactions_df['last_watch_dt'].hist(bins=60)\n",
    "plt.show()"
   ]
  },
  {
   "cell_type": "code",
   "execution_count": 76,
   "id": "42bbdbf4",
   "metadata": {},
   "outputs": [
    {
     "name": "stdout",
     "output_type": "stream",
     "text": [
      "<class 'pandas.core.frame.DataFrame'>\n",
      "RangeIndex: 5476251 entries, 0 to 5476250\n",
      "Data columns (total 5 columns):\n",
      " #   Column         Dtype         \n",
      "---  ------         -----         \n",
      " 0   user_id        int64         \n",
      " 1   item_id        int64         \n",
      " 2   last_watch_dt  datetime64[ns]\n",
      " 3   total_dur      int64         \n",
      " 4   watched_pct    float64       \n",
      "dtypes: datetime64[ns](1), float64(1), int64(3)\n",
      "memory usage: 208.9 MB\n"
     ]
    }
   ],
   "source": [
    "interactions_df.info()"
   ]
  },
  {
   "cell_type": "markdown",
   "id": "90d9dd56",
   "metadata": {},
   "source": [
    "### Сохранение данных"
   ]
  },
  {
   "cell_type": "code",
   "execution_count": 78,
   "id": "61a38e0b",
   "metadata": {},
   "outputs": [],
   "source": [
    "users_df.to_csv('users_processed.csv', index=False)\n",
    "items_df.to_csv('items_processed.csv', index=False)\n",
    "interactions_df.to_csv('interactions_processed.csv', index=False)"
   ]
  },
  {
   "cell_type": "markdown",
   "id": "59e0b3fc",
   "metadata": {},
   "source": [
    "[Возврат к содержанию](#content)"
   ]
  },
  {
   "cell_type": "markdown",
   "id": "c2b0525e",
   "metadata": {},
   "source": [
    "<a id=\"baseline\"></a>\n",
    "# Baseline"
   ]
  },
  {
   "cell_type": "markdown",
   "id": "1824001a",
   "metadata": {},
   "source": [
    "<a id=\"rec_pop\"></a>\n",
    "### Рекомендация популярного"
   ]
  },
  {
   "cell_type": "markdown",
   "id": "088ad4f1",
   "metadata": {},
   "source": [
    "Бейзлайн моделью будет рекомендация популярного за определенный период.\n",
    "\n",
    "Далее будем расширять модель, учитывая фичи как пользователей (пол, возраст), так и контента (тип, жанр, год выпуска и т.д.).\n"
   ]
  },
  {
   "cell_type": "code",
   "execution_count": 24,
   "id": "00b745a4",
   "metadata": {},
   "outputs": [],
   "source": [
    "users_df = pd.read_csv('users_processed.csv')\n",
    "items_df = pd.read_csv('items_processed.csv')\n",
    "interactions_df = pd.read_csv('interactions_processed.csv', parse_dates=['last_watch_dt'])"
   ]
  },
  {
   "cell_type": "markdown",
   "id": "b91c0f89",
   "metadata": {},
   "source": [
    "#### Разобъем на train и test "
   ]
  },
  {
   "cell_type": "code",
   "execution_count": 25,
   "id": "1825be77",
   "metadata": {},
   "outputs": [
    {
     "data": {
      "text/plain": [
       "array(['2021-08-16T00:00:00.000000000', '2021-08-17T00:00:00.000000000',\n",
       "       '2021-08-18T00:00:00.000000000', '2021-08-19T00:00:00.000000000',\n",
       "       '2021-08-20T00:00:00.000000000', '2021-08-21T00:00:00.000000000',\n",
       "       '2021-08-22T00:00:00.000000000'], dtype='datetime64[ns]')"
      ]
     },
     "execution_count": 25,
     "metadata": {},
     "output_type": "execute_result"
    }
   ],
   "source": [
    "test_dates = interactions_df['last_watch_dt'].sort_values().unique()[-7:]\n",
    "test_dates"
   ]
  },
  {
   "cell_type": "code",
   "execution_count": 26,
   "id": "16c8b019",
   "metadata": {},
   "outputs": [
    {
     "data": {
      "text/plain": [
       "[(numpy.datetime64('2021-08-16T00:00:00.000000000'),\n",
       "  numpy.datetime64('2021-08-17T00:00:00.000000000')),\n",
       " (numpy.datetime64('2021-08-17T00:00:00.000000000'),\n",
       "  numpy.datetime64('2021-08-18T00:00:00.000000000')),\n",
       " (numpy.datetime64('2021-08-18T00:00:00.000000000'),\n",
       "  numpy.datetime64('2021-08-19T00:00:00.000000000')),\n",
       " (numpy.datetime64('2021-08-19T00:00:00.000000000'),\n",
       "  numpy.datetime64('2021-08-20T00:00:00.000000000')),\n",
       " (numpy.datetime64('2021-08-20T00:00:00.000000000'),\n",
       "  numpy.datetime64('2021-08-21T00:00:00.000000000')),\n",
       " (numpy.datetime64('2021-08-21T00:00:00.000000000'),\n",
       "  numpy.datetime64('2021-08-22T00:00:00.000000000'))]"
      ]
     },
     "execution_count": 26,
     "metadata": {},
     "output_type": "execute_result"
    }
   ],
   "source": [
    "test_dates = list(pairwise(test_dates))\n",
    "test_dates"
   ]
  },
  {
   "cell_type": "code",
   "execution_count": 27,
   "id": "75bf8ba4",
   "metadata": {},
   "outputs": [
    {
     "data": {
      "text/plain": [
       "[(numpy.datetime64('2021-08-16T00:00:00.000000000'),\n",
       "  numpy.datetime64('2021-08-17T00:00:00.000000000')),\n",
       " (numpy.datetime64('2021-08-17T00:00:00.000000000'),\n",
       "  numpy.datetime64('2021-08-18T00:00:00.000000000'))]"
      ]
     },
     "execution_count": 27,
     "metadata": {},
     "output_type": "execute_result"
    }
   ],
   "source": [
    "test_dates[0:2]"
   ]
  },
  {
   "cell_type": "code",
   "execution_count": 28,
   "id": "1c882023",
   "metadata": {},
   "outputs": [
    {
     "data": {
      "text/plain": [
       "((numpy.datetime64('2021-08-16T00:00:00.000000000'),\n",
       "  numpy.datetime64('2021-08-17T00:00:00.000000000')),\n",
       " (5051815, 5),\n",
       " (54546, 5))"
      ]
     },
     "execution_count": 28,
     "metadata": {},
     "output_type": "execute_result"
    }
   ],
   "source": [
    "split_dates = test_dates[0]\n",
    "train = interactions_df[interactions_df['last_watch_dt'] < split_dates[0]]\n",
    "test = interactions_df[(interactions_df['last_watch_dt'] >= split_dates[0]) & (interactions_df['last_watch_dt'] < split_dates[1])]\n",
    "split_dates, train.shape, test.shape"
   ]
  },
  {
   "cell_type": "code",
   "execution_count": 29,
   "id": "f31f654c",
   "metadata": {},
   "outputs": [],
   "source": [
    "from itertools import islice, cycle\n",
    "class PopularRecommender():\n",
    "    def __init__(self, max_K=100, days=30, item_column='item_id', dt_column='last_watch_dt'):\n",
    "        self.max_K = max_K\n",
    "        self.days = days\n",
    "        self.item_column = item_column\n",
    "        self.dt_column = dt_column\n",
    "        self.recommendations = []\n",
    "        \n",
    "    def fit(self, df, ):\n",
    "        min_date = df[self.dt_column].max().normalize() - pd.DateOffset(days=self.days)\n",
    "        self.recommendations = df.loc[df[self.dt_column] > min_date, self.item_column].value_counts().head(self.max_K).index.values\n",
    "    \n",
    "    def recommend(self, users=None, N=10):\n",
    "        recs = self.recommendations[:N]\n",
    "        if users is None:\n",
    "            return recs\n",
    "        else:\n",
    "            return list(islice(cycle([recs]), len(users)))"
   ]
  },
  {
   "cell_type": "code",
   "execution_count": 30,
   "id": "594153f4",
   "metadata": {},
   "outputs": [],
   "source": [
    "#Разделение на train и test\n",
    "def train_test_split_dates(data, date_column: str, last_days_num: int = 7, pair_num: int = 0):\n",
    "    test_dates = data[date_column].sort_values().unique()[-last_days_num:]\n",
    "    test_dates = list(pairwise(test_dates))\n",
    "    \n",
    "    split_dates = test_dates[pair_num]\n",
    "    train = data[data[date_column] < split_dates[0]]\n",
    "    test = data[(data[date_column] >= split_dates[0]) & \n",
    "                             (data[date_column] < split_dates[1])]\n",
    "    #print(split_dates)\n",
    "    return train, test"
   ]
  },
  {
   "cell_type": "code",
   "execution_count": 31,
   "id": "d928ca53",
   "metadata": {},
   "outputs": [],
   "source": [
    "#функция для вывода метрик\n",
    "def count_metrics(dates, test_data, pair_num: int = 0):\n",
    "    precision_list = []\n",
    "    recall_list = []\n",
    "    precision_value_list = []\n",
    "    recall_value_list = []\n",
    "    print(f'Метрики по test за период : {str(dates[pair_num][0])[:10]} - {str(dates[pair_num][1])[:10]}')\n",
    "    users_count = test_data.index.get_level_values('user_id').nunique()\n",
    "    for k in range(1, top_N + 1):\n",
    "        hit_k = f'hit@{k}'\n",
    "        test_data[hit_k] = test_data['rank'] <= k\n",
    "        precision_list.append(f'Precision@{k}')\n",
    "        recall_list.append(f'Recall@{k}')\n",
    "        precision_value_list.append((test_data[hit_k] / k).sum() / users_count)\n",
    "        recall_value_list.append((test_data[hit_k] / test_data['users_item_count']).sum() / users_count)\n",
    "\n",
    "    mapN = (test_data[\"cumulative_rank\"] / test_data[\"users_item_count\"]).sum() / users_count\n",
    "    print(f\"MAP@{top_N} = {mapN}\")\n",
    "\n",
    "    mrr = test_data.groupby(level='user_id')['reciprocal_rank'].max().mean()\n",
    "    print(f\"MRR = {mrr}\")\n",
    "\n",
    "    return pd.DataFrame({'Precision' : precision_list,\n",
    "                               'Precision value' : precision_value_list,\n",
    "                               'Recall' : recall_list,\n",
    "                               'Recall value' : recall_value_list}),mapN, mrr"
   ]
  },
  {
   "cell_type": "code",
   "execution_count": 32,
   "id": "b3ad0630",
   "metadata": {},
   "outputs": [],
   "source": [
    "#Функция для получения таблицы с рангами\n",
    "def create_rank_table(recomendations_table: pd.DataFrame,\n",
    "                      test: pd.DataFrame,\n",
    "                      user_id_column: str = 'user_id', \n",
    "                      item_id_column: str = 'item_id') -> pd.DataFrame : \n",
    "    recomendations_table = recomendations_table.explode(item_id_column)\n",
    "    recomendations_table['rank'] = recomendations_table.groupby(user_id_column).cumcount() + 1\n",
    "    test_recs = test.set_index([user_id_column, item_id_column]).join(recomendations_table.set_index([user_id_column, item_id_column]))\n",
    "    test_recs = test_recs.sort_values(by=[user_id_column, 'rank'])\n",
    "    test_recs['users_item_count'] = test_recs.groupby(level=user_id_column, sort=False)['rank'].transform(np.size)\n",
    "    test_recs['reciprocal_rank'] = 1 / test_recs['rank']\n",
    "    test_recs['reciprocal_rank'] = test_recs['reciprocal_rank'].fillna(0)\n",
    "    test_recs['cumulative_rank'] = test_recs.groupby(level=user_id_column).cumcount() + 1\n",
    "    test_recs['cumulative_rank'] = test_recs['cumulative_rank'] / test_recs['rank']\n",
    "    return test_recs"
   ]
  },
  {
   "cell_type": "code",
   "execution_count": 33,
   "id": "b5e194ba",
   "metadata": {},
   "outputs": [],
   "source": [
    "train, test = train_test_split_dates(interactions_df, 'last_watch_dt')"
   ]
  },
  {
   "cell_type": "code",
   "execution_count": 34,
   "id": "e22bb1be",
   "metadata": {},
   "outputs": [
    {
     "data": {
      "text/plain": [
       "((5051815, 5), (54546, 5))"
      ]
     },
     "execution_count": 34,
     "metadata": {},
     "output_type": "execute_result"
    }
   ],
   "source": [
    "train.shape, test.shape"
   ]
  },
  {
   "cell_type": "code",
   "execution_count": 35,
   "id": "e617d09c",
   "metadata": {},
   "outputs": [],
   "source": [
    "baseline_model = PopularRecommender(days=7, dt_column='last_watch_dt')\n",
    "baseline_model.fit(train)"
   ]
  },
  {
   "cell_type": "code",
   "execution_count": 36,
   "id": "5351189c",
   "metadata": {},
   "outputs": [
    {
     "data": {
      "text/plain": [
       "array([10440,  9728, 15297, 13865,   341, 12360,  7793, 12192,  4151,\n",
       "        3734], dtype=int64)"
      ]
     },
     "execution_count": 36,
     "metadata": {},
     "output_type": "execute_result"
    }
   ],
   "source": [
    "top10_recs = baseline_model.recommend()\n",
    "top10_recs"
   ]
  },
  {
   "cell_type": "code",
   "execution_count": 37,
   "id": "5b3d86fa",
   "metadata": {},
   "outputs": [],
   "source": [
    "film_titles = pd.Series(items_df['title'].values, index=items_df['item_id']).to_dict()"
   ]
  },
  {
   "cell_type": "code",
   "execution_count": 38,
   "id": "d362a4f9",
   "metadata": {},
   "outputs": [
    {
     "data": {
      "text/plain": [
       "['Хрустальный',\n",
       " 'Гнев человеческий',\n",
       " 'Клиника счастья',\n",
       " 'Девятаев',\n",
       " 'Лето - это море',\n",
       " 'Круэлла',\n",
       " 'Радиовспышка',\n",
       " 'Фемида видит',\n",
       " 'Секреты семейной жизни',\n",
       " 'Прабабушка легкого поведения']"
      ]
     },
     "execution_count": 38,
     "metadata": {},
     "output_type": "execute_result"
    }
   ],
   "source": [
    "list(map(film_titles.get, top10_recs))"
   ]
  },
  {
   "cell_type": "code",
   "execution_count": 39,
   "id": "395f13b4",
   "metadata": {},
   "outputs": [
    {
     "data": {
      "text/html": [
       "<div>\n",
       "<style scoped>\n",
       "    .dataframe tbody tr th:only-of-type {\n",
       "        vertical-align: middle;\n",
       "    }\n",
       "\n",
       "    .dataframe tbody tr th {\n",
       "        vertical-align: top;\n",
       "    }\n",
       "\n",
       "    .dataframe thead th {\n",
       "        text-align: right;\n",
       "    }\n",
       "</style>\n",
       "<table border=\"1\" class=\"dataframe\">\n",
       "  <thead>\n",
       "    <tr style=\"text-align: right;\">\n",
       "      <th></th>\n",
       "      <th>user_id</th>\n",
       "      <th>item_id</th>\n",
       "    </tr>\n",
       "  </thead>\n",
       "  <tbody>\n",
       "    <tr>\n",
       "      <th>0</th>\n",
       "      <td>200197</td>\n",
       "      <td>[10440, 9728, 15297, 13865, 341, 12360, 7793, ...</td>\n",
       "    </tr>\n",
       "    <tr>\n",
       "      <th>1</th>\n",
       "      <td>890735</td>\n",
       "      <td>[10440, 9728, 15297, 13865, 341, 12360, 7793, ...</td>\n",
       "    </tr>\n",
       "    <tr>\n",
       "      <th>2</th>\n",
       "      <td>701909</td>\n",
       "      <td>[10440, 9728, 15297, 13865, 341, 12360, 7793, ...</td>\n",
       "    </tr>\n",
       "    <tr>\n",
       "      <th>3</th>\n",
       "      <td>211242</td>\n",
       "      <td>[10440, 9728, 15297, 13865, 341, 12360, 7793, ...</td>\n",
       "    </tr>\n",
       "    <tr>\n",
       "      <th>4</th>\n",
       "      <td>908470</td>\n",
       "      <td>[10440, 9728, 15297, 13865, 341, 12360, 7793, ...</td>\n",
       "    </tr>\n",
       "  </tbody>\n",
       "</table>\n",
       "</div>"
      ],
      "text/plain": [
       "   user_id                                            item_id\n",
       "0   200197  [10440, 9728, 15297, 13865, 341, 12360, 7793, ...\n",
       "1   890735  [10440, 9728, 15297, 13865, 341, 12360, 7793, ...\n",
       "2   701909  [10440, 9728, 15297, 13865, 341, 12360, 7793, ...\n",
       "3   211242  [10440, 9728, 15297, 13865, 341, 12360, 7793, ...\n",
       "4   908470  [10440, 9728, 15297, 13865, 341, 12360, 7793, ..."
      ]
     },
     "execution_count": 39,
     "metadata": {},
     "output_type": "execute_result"
    }
   ],
   "source": [
    "recomendations = pd.DataFrame({'user_id': test['user_id'].unique()})\n",
    "top_N = 10\n",
    "recomendations['item_id'] = baseline_model.recommend(recomendations['user_id'], N=top_N)\n",
    "recomendations.head()"
   ]
  },
  {
   "cell_type": "code",
   "execution_count": 40,
   "id": "7fa778b9",
   "metadata": {},
   "outputs": [],
   "source": [
    "test_recs = create_rank_table(recomendations, test, 'user_id','item_id')"
   ]
  },
  {
   "cell_type": "code",
   "execution_count": 41,
   "id": "c4127e88",
   "metadata": {},
   "outputs": [
    {
     "data": {
      "text/html": [
       "<div>\n",
       "<style scoped>\n",
       "    .dataframe tbody tr th:only-of-type {\n",
       "        vertical-align: middle;\n",
       "    }\n",
       "\n",
       "    .dataframe tbody tr th {\n",
       "        vertical-align: top;\n",
       "    }\n",
       "\n",
       "    .dataframe thead th {\n",
       "        text-align: right;\n",
       "    }\n",
       "</style>\n",
       "<table border=\"1\" class=\"dataframe\">\n",
       "  <thead>\n",
       "    <tr style=\"text-align: right;\">\n",
       "      <th></th>\n",
       "      <th></th>\n",
       "      <th>last_watch_dt</th>\n",
       "      <th>total_dur</th>\n",
       "      <th>watched_pct</th>\n",
       "      <th>rank</th>\n",
       "      <th>users_item_count</th>\n",
       "      <th>reciprocal_rank</th>\n",
       "      <th>cumulative_rank</th>\n",
       "    </tr>\n",
       "    <tr>\n",
       "      <th>user_id</th>\n",
       "      <th>item_id</th>\n",
       "      <th></th>\n",
       "      <th></th>\n",
       "      <th></th>\n",
       "      <th></th>\n",
       "      <th></th>\n",
       "      <th></th>\n",
       "      <th></th>\n",
       "    </tr>\n",
       "  </thead>\n",
       "  <tbody>\n",
       "    <tr>\n",
       "      <th>1097444</th>\n",
       "      <th>10489</th>\n",
       "      <td>2021-08-16</td>\n",
       "      <td>382</td>\n",
       "      <td>8.0</td>\n",
       "      <td>NaN</td>\n",
       "      <td>1.0</td>\n",
       "      <td>0.0</td>\n",
       "      <td>NaN</td>\n",
       "    </tr>\n",
       "    <tr>\n",
       "      <th rowspan=\"4\" valign=\"top\">1097470</th>\n",
       "      <th>3734</th>\n",
       "      <td>2021-08-16</td>\n",
       "      <td>4924</td>\n",
       "      <td>90.0</td>\n",
       "      <td>10.0</td>\n",
       "      <td>4.0</td>\n",
       "      <td>0.1</td>\n",
       "      <td>0.1</td>\n",
       "    </tr>\n",
       "    <tr>\n",
       "      <th>6892</th>\n",
       "      <td>2021-08-16</td>\n",
       "      <td>5610</td>\n",
       "      <td>100.0</td>\n",
       "      <td>NaN</td>\n",
       "      <td>4.0</td>\n",
       "      <td>0.0</td>\n",
       "      <td>NaN</td>\n",
       "    </tr>\n",
       "    <tr>\n",
       "      <th>1916</th>\n",
       "      <td>2021-08-16</td>\n",
       "      <td>175</td>\n",
       "      <td>3.0</td>\n",
       "      <td>NaN</td>\n",
       "      <td>4.0</td>\n",
       "      <td>0.0</td>\n",
       "      <td>NaN</td>\n",
       "    </tr>\n",
       "    <tr>\n",
       "      <th>11973</th>\n",
       "      <td>2021-08-16</td>\n",
       "      <td>8050</td>\n",
       "      <td>100.0</td>\n",
       "      <td>NaN</td>\n",
       "      <td>4.0</td>\n",
       "      <td>0.0</td>\n",
       "      <td>NaN</td>\n",
       "    </tr>\n",
       "  </tbody>\n",
       "</table>\n",
       "</div>"
      ],
      "text/plain": [
       "                last_watch_dt  total_dur  watched_pct  rank  users_item_count  \\\n",
       "user_id item_id                                                                 \n",
       "1097444 10489      2021-08-16        382          8.0   NaN               1.0   \n",
       "1097470 3734       2021-08-16       4924         90.0  10.0               4.0   \n",
       "        6892       2021-08-16       5610        100.0   NaN               4.0   \n",
       "        1916       2021-08-16        175          3.0   NaN               4.0   \n",
       "        11973      2021-08-16       8050        100.0   NaN               4.0   \n",
       "\n",
       "                 reciprocal_rank  cumulative_rank  \n",
       "user_id item_id                                    \n",
       "1097444 10489                0.0              NaN  \n",
       "1097470 3734                 0.1              0.1  \n",
       "        6892                 0.0              NaN  \n",
       "        1916                 0.0              NaN  \n",
       "        11973                0.0              NaN  "
      ]
     },
     "execution_count": 41,
     "metadata": {},
     "output_type": "execute_result"
    }
   ],
   "source": [
    "test_recs.tail(5)"
   ]
  },
  {
   "cell_type": "markdown",
   "id": "0d88ca33",
   "metadata": {},
   "source": [
    "<a id=\"baseline_metrics\"></a>\n",
    "**Вычисление метрик**"
   ]
  },
  {
   "cell_type": "code",
   "execution_count": 42,
   "id": "14c69666",
   "metadata": {},
   "outputs": [
    {
     "name": "stdout",
     "output_type": "stream",
     "text": [
      "Метрики по test за период : 2021-08-16 - 2021-08-17\n",
      "MAP@10 = 0.09470313653539555\n",
      "MRR = 0.1135042451520248\n"
     ]
    },
    {
     "data": {
      "text/plain": [
       "(      Precision  Precision value     Recall  Recall value\n",
       " 0   Precision@1         0.051319   Recall@1      0.043155\n",
       " 1   Precision@2         0.049230   Recall@2      0.078913\n",
       " 2   Precision@3         0.048271   Recall@3      0.116469\n",
       " 3   Precision@4         0.043674   Recall@4      0.138005\n",
       " 4   Precision@5         0.038245   Recall@5      0.149897\n",
       " 5   Precision@6         0.038472   Recall@6      0.178300\n",
       " 6   Precision@7         0.035709   Recall@7      0.191992\n",
       " 7   Precision@8         0.033896   Recall@8      0.207832\n",
       " 8   Precision@9         0.032408   Recall@9      0.223190\n",
       " 9  Precision@10         0.031308  Recall@10      0.238152,\n",
       " 0.09470313653539555,\n",
       " 0.1135042451520248)"
      ]
     },
     "execution_count": 42,
     "metadata": {},
     "output_type": "execute_result"
    }
   ],
   "source": [
    "count_metrics(test_dates, test_recs)"
   ]
  },
  {
   "cell_type": "code",
   "execution_count": 50,
   "id": "a720c5ae",
   "metadata": {},
   "outputs": [
    {
     "name": "stdout",
     "output_type": "stream",
     "text": [
      "Метрики по test за период : 2021-08-16 - 2021-08-17\n",
      "MAP@10 = 0.09470313653539555\n",
      "MRR = 0.1135042451520248\n",
      "Метрики по test за период : 2021-08-17 - 2021-08-18\n",
      "MAP@10 = 0.08964241288292825\n",
      "MRR = 0.10854023935670569\n",
      "Метрики по test за период : 2021-08-18 - 2021-08-19\n",
      "MAP@10 = 0.08771484721123946\n",
      "MRR = 0.10678757639857331\n",
      "Метрики по test за период : 2021-08-19 - 2021-08-20\n",
      "MAP@10 = 0.08705037726679514\n",
      "MRR = 0.1061243619635785\n",
      "Метрики по test за период : 2021-08-20 - 2021-08-21\n",
      "MAP@10 = 0.08402966976617872\n",
      "MRR = 0.10187882950420055\n",
      "Метрики по test за период : 2021-08-21 - 2021-08-22\n",
      "MAP@10 = 0.08569115721679142\n",
      "MRR = 0.10560989439773816\n"
     ]
    }
   ],
   "source": [
    "last_days_num = 7\n",
    "top_N = 10\n",
    "map_list = list()\n",
    "mrr_list = list()\n",
    "for i in range(0, last_days_num-1):\n",
    "    train, test = train_test_split_dates(interactions_df, \n",
    "                                         'last_watch_dt', \n",
    "                                         last_days_num = last_days_num,\n",
    "                                         pair_num = i)\n",
    "    baseline_model = PopularRecommender(days = last_days_num, dt_column='last_watch_dt')\n",
    "    baseline_model.fit(train)\n",
    "    top10_recs = baseline_model.recommend()\n",
    "    recomendations = pd.DataFrame({'user_id': test['user_id'].unique()})\n",
    "    recomendations['item_id'] = baseline_model.recommend(recomendations['user_id'], N=top_N)\n",
    "    test_recs = create_rank_table(recomendations, test, 'user_id','item_id')\n",
    "    _, map_10, mrr = count_metrics(test_dates, test_recs, i)\n",
    "    map_list.append(map_10)\n",
    "    mrr_list.append(mrr)"
   ]
  },
  {
   "cell_type": "code",
   "execution_count": 55,
   "id": "bccd877f",
   "metadata": {},
   "outputs": [
    {
     "name": "stdout",
     "output_type": "stream",
     "text": [
      "Средняя MAP@10 за 7 дней = 0.08813860014655477\n",
      "Средняя MRR за 7 дней = 0.1070741911288035\n"
     ]
    }
   ],
   "source": [
    "print(f\"Средняя MAP@{top_N} за {last_days_num} дней = {np.mean(map_list)}\")\n",
    "print(f\"Средняя MRR за {last_days_num} дней = {np.mean(mrr_list)}\")"
   ]
  },
  {
   "cell_type": "markdown",
   "id": "a8061b11",
   "metadata": {},
   "source": [
    "<a id=\"rec_pop_age\"></a>\n",
    "### Рекомендации по возрастным группам"
   ]
  },
  {
   "cell_type": "code",
   "execution_count": 43,
   "id": "76b45c75",
   "metadata": {},
   "outputs": [],
   "source": [
    "merge_table = interactions_df.merge(users_df,left_on = 'user_id',right_on = 'user_id', how='left')"
   ]
  },
  {
   "cell_type": "code",
   "execution_count": 44,
   "id": "b91420b8",
   "metadata": {},
   "outputs": [],
   "source": [
    "merge_table = merge_table.fillna({'age':'age_unknown',\n",
    "                                  'income':'income_unknown',\n",
    "                                  'sex':'sex_unknown',\n",
    "                                  'kids_flg': False})"
   ]
  },
  {
   "cell_type": "markdown",
   "id": "95c7a5e2",
   "metadata": {},
   "source": [
    "Разобъем тренировочные данные по возрасту"
   ]
  },
  {
   "cell_type": "code",
   "execution_count": 28,
   "id": "cbc58f7c",
   "metadata": {},
   "outputs": [],
   "source": [
    "train_merge, test_merge = train_test_split_dates(merge_table, 'last_watch_dt')"
   ]
  },
  {
   "cell_type": "code",
   "execution_count": 29,
   "id": "336479ea",
   "metadata": {},
   "outputs": [
    {
     "data": {
      "text/plain": [
       "((5051815, 9), (54546, 9))"
      ]
     },
     "execution_count": 29,
     "metadata": {},
     "output_type": "execute_result"
    }
   ],
   "source": [
    "train_merge.shape, test_merge.shape"
   ]
  },
  {
   "cell_type": "code",
   "execution_count": 30,
   "id": "be18e431",
   "metadata": {},
   "outputs": [],
   "source": [
    "predicted_rec_dict = {}\n",
    "for age_value in (list(train_merge.age.unique())):\n",
    "    baseline_model_age = PopularRecommender(days=7, dt_column='last_watch_dt')\n",
    "    baseline_model_age.fit(train_merge[train_merge.age == age_value])\n",
    "    top10_recs_age = baseline_model_age.recommend().astype(int)\n",
    "    predicted_rec_dict[age_value] = top10_recs_age"
   ]
  },
  {
   "cell_type": "code",
   "execution_count": 31,
   "id": "133ac6d1",
   "metadata": {},
   "outputs": [
    {
     "data": {
      "text/plain": [
       "{'age_35_44': array([ 9728, 10440, 15297, 13865,  7793,   341, 12192,  3734,  4151,\n",
       "          512]),\n",
       " 'age_25_34': array([ 9728, 10440, 15297,  7793,  4151,   341, 13865,  3734, 12360,\n",
       "        12192]),\n",
       " 'age_65_inf': array([10440,  9728, 15297,   341, 13865, 12192,   512,  7793, 11863,\n",
       "        12360]),\n",
       " 'age_unknown': array([10440, 15297, 12360,  9728,  4151,   341,  2657, 13865, 12192,\n",
       "         3734]),\n",
       " 'age_18_24': array([ 9728, 10440, 15297,  7793,  4151,  3734, 13865,  2657,   341,\n",
       "        12360]),\n",
       " 'age_45_54': array([ 9728, 10440, 15297, 13865, 12192,   341,   512,  7793, 11863,\n",
       "         3734]),\n",
       " 'age_55_64': array([ 9728, 10440, 15297,  7793, 13865, 12192,   512,   341,  4151,\n",
       "        11863])}"
      ]
     },
     "execution_count": 31,
     "metadata": {},
     "output_type": "execute_result"
    }
   ],
   "source": [
    "predicted_rec_dict"
   ]
  },
  {
   "cell_type": "code",
   "execution_count": 32,
   "id": "315ac953",
   "metadata": {},
   "outputs": [],
   "source": [
    "recomendations_age = pd.DataFrame({'age' : predicted_rec_dict.keys(), 'item_id': predicted_rec_dict.values()})\n",
    "                       #columns=['age', 'item_id'])\n",
    "#for_subm_rec = recomendations_age.copy()"
   ]
  },
  {
   "cell_type": "code",
   "execution_count": 33,
   "id": "365381b9",
   "metadata": {},
   "outputs": [],
   "source": [
    "test_age_unique = test_merge[['user_id','age']].copy().drop_duplicates()\n",
    "test_age_unique = test_age_unique.merge(recomendations_age,left_on = 'age',right_on = 'age')\n",
    "recomendations_age = test_age_unique.drop('age', 1)"
   ]
  },
  {
   "cell_type": "code",
   "execution_count": 34,
   "id": "5e4ecc61",
   "metadata": {},
   "outputs": [],
   "source": [
    "test_recs_age = create_rank_table(recomendations_age, test_merge, 'user_id', 'item_id')"
   ]
  },
  {
   "cell_type": "code",
   "execution_count": 35,
   "id": "68b31fd9",
   "metadata": {},
   "outputs": [
    {
     "data": {
      "text/html": [
       "<div>\n",
       "<style scoped>\n",
       "    .dataframe tbody tr th:only-of-type {\n",
       "        vertical-align: middle;\n",
       "    }\n",
       "\n",
       "    .dataframe tbody tr th {\n",
       "        vertical-align: top;\n",
       "    }\n",
       "\n",
       "    .dataframe thead th {\n",
       "        text-align: right;\n",
       "    }\n",
       "</style>\n",
       "<table border=\"1\" class=\"dataframe\">\n",
       "  <thead>\n",
       "    <tr style=\"text-align: right;\">\n",
       "      <th></th>\n",
       "      <th></th>\n",
       "      <th>last_watch_dt</th>\n",
       "      <th>total_dur</th>\n",
       "      <th>watched_pct</th>\n",
       "      <th>age</th>\n",
       "      <th>income</th>\n",
       "      <th>sex</th>\n",
       "      <th>kids_flg</th>\n",
       "      <th>rank</th>\n",
       "      <th>users_item_count</th>\n",
       "      <th>reciprocal_rank</th>\n",
       "      <th>cumulative_rank</th>\n",
       "    </tr>\n",
       "    <tr>\n",
       "      <th>user_id</th>\n",
       "      <th>item_id</th>\n",
       "      <th></th>\n",
       "      <th></th>\n",
       "      <th></th>\n",
       "      <th></th>\n",
       "      <th></th>\n",
       "      <th></th>\n",
       "      <th></th>\n",
       "      <th></th>\n",
       "      <th></th>\n",
       "      <th></th>\n",
       "      <th></th>\n",
       "    </tr>\n",
       "  </thead>\n",
       "  <tbody>\n",
       "    <tr>\n",
       "      <th>1097444</th>\n",
       "      <th>10489</th>\n",
       "      <td>2021-08-16</td>\n",
       "      <td>382</td>\n",
       "      <td>8.0</td>\n",
       "      <td>age_18_24</td>\n",
       "      <td>income_20_40</td>\n",
       "      <td>M</td>\n",
       "      <td>True</td>\n",
       "      <td>NaN</td>\n",
       "      <td>1.0</td>\n",
       "      <td>0.000</td>\n",
       "      <td>NaN</td>\n",
       "    </tr>\n",
       "    <tr>\n",
       "      <th rowspan=\"4\" valign=\"top\">1097470</th>\n",
       "      <th>3734</th>\n",
       "      <td>2021-08-16</td>\n",
       "      <td>4924</td>\n",
       "      <td>90.0</td>\n",
       "      <td>age_25_34</td>\n",
       "      <td>income_20_40</td>\n",
       "      <td>M</td>\n",
       "      <td>False</td>\n",
       "      <td>8.0</td>\n",
       "      <td>4.0</td>\n",
       "      <td>0.125</td>\n",
       "      <td>0.125</td>\n",
       "    </tr>\n",
       "    <tr>\n",
       "      <th>6892</th>\n",
       "      <td>2021-08-16</td>\n",
       "      <td>5610</td>\n",
       "      <td>100.0</td>\n",
       "      <td>age_25_34</td>\n",
       "      <td>income_20_40</td>\n",
       "      <td>M</td>\n",
       "      <td>False</td>\n",
       "      <td>NaN</td>\n",
       "      <td>4.0</td>\n",
       "      <td>0.000</td>\n",
       "      <td>NaN</td>\n",
       "    </tr>\n",
       "    <tr>\n",
       "      <th>1916</th>\n",
       "      <td>2021-08-16</td>\n",
       "      <td>175</td>\n",
       "      <td>3.0</td>\n",
       "      <td>age_25_34</td>\n",
       "      <td>income_20_40</td>\n",
       "      <td>M</td>\n",
       "      <td>False</td>\n",
       "      <td>NaN</td>\n",
       "      <td>4.0</td>\n",
       "      <td>0.000</td>\n",
       "      <td>NaN</td>\n",
       "    </tr>\n",
       "    <tr>\n",
       "      <th>11973</th>\n",
       "      <td>2021-08-16</td>\n",
       "      <td>8050</td>\n",
       "      <td>100.0</td>\n",
       "      <td>age_25_34</td>\n",
       "      <td>income_20_40</td>\n",
       "      <td>M</td>\n",
       "      <td>False</td>\n",
       "      <td>NaN</td>\n",
       "      <td>4.0</td>\n",
       "      <td>0.000</td>\n",
       "      <td>NaN</td>\n",
       "    </tr>\n",
       "  </tbody>\n",
       "</table>\n",
       "</div>"
      ],
      "text/plain": [
       "                last_watch_dt  total_dur  watched_pct        age  \\\n",
       "user_id item_id                                                    \n",
       "1097444 10489      2021-08-16        382          8.0  age_18_24   \n",
       "1097470 3734       2021-08-16       4924         90.0  age_25_34   \n",
       "        6892       2021-08-16       5610        100.0  age_25_34   \n",
       "        1916       2021-08-16        175          3.0  age_25_34   \n",
       "        11973      2021-08-16       8050        100.0  age_25_34   \n",
       "\n",
       "                       income sex  kids_flg  rank  users_item_count  \\\n",
       "user_id item_id                                                       \n",
       "1097444 10489    income_20_40   M      True   NaN               1.0   \n",
       "1097470 3734     income_20_40   M     False   8.0               4.0   \n",
       "        6892     income_20_40   M     False   NaN               4.0   \n",
       "        1916     income_20_40   M     False   NaN               4.0   \n",
       "        11973    income_20_40   M     False   NaN               4.0   \n",
       "\n",
       "                 reciprocal_rank  cumulative_rank  \n",
       "user_id item_id                                    \n",
       "1097444 10489              0.000              NaN  \n",
       "1097470 3734               0.125            0.125  \n",
       "        6892               0.000              NaN  \n",
       "        1916               0.000              NaN  \n",
       "        11973              0.000              NaN  "
      ]
     },
     "execution_count": 35,
     "metadata": {},
     "output_type": "execute_result"
    }
   ],
   "source": [
    "test_recs_age.tail()"
   ]
  },
  {
   "cell_type": "code",
   "execution_count": 36,
   "id": "de980314",
   "metadata": {},
   "outputs": [
    {
     "name": "stdout",
     "output_type": "stream",
     "text": [
      "Метрики по test за период : 2021-08-16 - 2021-08-17\n",
      "MAP@10 = 0.09890330160263164\n",
      "MRR = 0.11922496593539864\n"
     ]
    },
    {
     "data": {
      "text/plain": [
       "(      Precision  Precision value     Recall  Recall value\n",
       " 0   Precision@1         0.058124   Recall@1      0.046822\n",
       " 1   Precision@2         0.052765   Recall@2      0.085465\n",
       " 2   Precision@3         0.050754   Recall@3      0.123126\n",
       " 3   Precision@4         0.044973   Recall@4      0.143100\n",
       " 4   Precision@5         0.041055   Recall@5      0.161864\n",
       " 5   Precision@6         0.037323   Recall@6      0.175438\n",
       " 6   Precision@7         0.035321   Recall@7      0.193021\n",
       " 7   Precision@8         0.033794   Recall@8      0.209623\n",
       " 8   Precision@9         0.032405   Recall@9      0.224731\n",
       " 9  Precision@10         0.031232  Recall@10      0.239161,\n",
       " 0.09890330160263164,\n",
       " 0.11922496593539864)"
      ]
     },
     "execution_count": 36,
     "metadata": {},
     "output_type": "execute_result"
    }
   ],
   "source": [
    "count_metrics(test_dates, test_recs_age)"
   ]
  },
  {
   "cell_type": "code",
   "execution_count": 60,
   "id": "b944be44",
   "metadata": {},
   "outputs": [
    {
     "name": "stdout",
     "output_type": "stream",
     "text": [
      "Метрики по test за период : 2021-08-16 - 2021-08-17\n",
      "MAP@10 = 0.09890330160263164\n",
      "MRR = 0.11922496593539864\n",
      "Метрики по test за период : 2021-08-17 - 2021-08-18\n",
      "MAP@10 = 0.09295707509904282\n",
      "MRR = 0.11323061831405815\n",
      "Метрики по test за период : 2021-08-18 - 2021-08-19\n",
      "MAP@10 = 0.09163857127699225\n",
      "MRR = 0.11257758427161797\n",
      "Метрики по test за период : 2021-08-19 - 2021-08-20\n",
      "MAP@10 = 0.09314998952556236\n",
      "MRR = 0.11430461906862527\n",
      "Метрики по test за период : 2021-08-20 - 2021-08-21\n",
      "MAP@10 = 0.09044494539020614\n",
      "MRR = 0.11070564228606478\n",
      "Метрики по test за период : 2021-08-21 - 2021-08-22\n",
      "MAP@10 = 0.0962547589882354\n",
      "MRR = 0.11936191744801639\n"
     ]
    }
   ],
   "source": [
    "last_days_num = 7\n",
    "top_N = 10\n",
    "map_list = list()\n",
    "mrr_list = list()\n",
    "predicted_rec_dict = {}\n",
    "for i in range(0, last_days_num-1):\n",
    "    \n",
    "    \n",
    "    train_merge, test_merge = train_test_split_dates(merge_table, \n",
    "                                         'last_watch_dt', \n",
    "                                         last_days_num = last_days_num,\n",
    "                                         pair_num = i)\n",
    "    for age_value in (list(train_merge.age.unique())):\n",
    "        baseline_model_age = PopularRecommender(days=7, dt_column='last_watch_dt')\n",
    "        baseline_model_age.fit(train_merge[train_merge.age == age_value])\n",
    "        top10_recs_age = baseline_model_age.recommend().astype(int)\n",
    "        predicted_rec_dict[age_value] = top10_recs_age\n",
    "    recomendations_age = pd.DataFrame({'age' : predicted_rec_dict.keys(), 'item_id': predicted_rec_dict.values()})\n",
    "    test_age_unique = test_merge[['user_id','age']].copy().drop_duplicates()\n",
    "    test_age_unique = test_age_unique.merge(recomendations_age,left_on = 'age',right_on = 'age')\n",
    "    recomendations_age = test_age_unique.drop('age', 1)\n",
    "    test_recs_age = create_rank_table(recomendations_age, test_merge, 'user_id', 'item_id')\n",
    "    _, map_10, mrr = count_metrics(test_dates, test_recs_age, i)\n",
    "    map_list.append(map_10)\n",
    "    mrr_list.append(mrr)"
   ]
  },
  {
   "cell_type": "code",
   "execution_count": 61,
   "id": "65a95f74",
   "metadata": {},
   "outputs": [
    {
     "name": "stdout",
     "output_type": "stream",
     "text": [
      "Средняя MAP@10 за 7 дней = 0.09389144031377844\n",
      "Средняя MRR за 7 дней = 0.1149008912206302\n"
     ]
    }
   ],
   "source": [
    "print(f\"Средняя MAP@{top_N} за {last_days_num} дней = {np.mean(map_list)}\")\n",
    "print(f\"Средняя MRR за {last_days_num} дней = {np.mean(mrr_list)}\")"
   ]
  },
  {
   "cell_type": "markdown",
   "id": "ed562807",
   "metadata": {},
   "source": [
    "По сравнению с бейзлайном метрику удалось немного улучшить"
   ]
  },
  {
   "cell_type": "markdown",
   "id": "b67d98b3",
   "metadata": {},
   "source": [
    "<a id=\"rec_pop_age_sex\"></a>\n",
    "### Рекомендации по возрасту и полу"
   ]
  },
  {
   "cell_type": "code",
   "execution_count": 45,
   "id": "2e6990f9",
   "metadata": {},
   "outputs": [],
   "source": [
    "merge_table['all_features'] = merge_table['age']+ merge_table['sex']"
   ]
  },
  {
   "cell_type": "code",
   "execution_count": 24,
   "id": "723eea86",
   "metadata": {},
   "outputs": [],
   "source": [
    "train_all_features, test_all_features = train_test_split_dates(merge_table, 'last_watch_dt')"
   ]
  },
  {
   "cell_type": "code",
   "execution_count": 25,
   "id": "a8008f71",
   "metadata": {},
   "outputs": [
    {
     "data": {
      "text/plain": [
       "((5051815, 10), (54546, 10))"
      ]
     },
     "execution_count": 25,
     "metadata": {},
     "output_type": "execute_result"
    }
   ],
   "source": [
    "train_all_features.shape, test_all_features.shape"
   ]
  },
  {
   "cell_type": "code",
   "execution_count": 26,
   "id": "f7a1281f",
   "metadata": {},
   "outputs": [],
   "source": [
    "predicted_rec_dict_all_feat = {}\n",
    "for value in (list(train_all_features.all_features.unique())):\n",
    "    baseline_model_all_features = PopularRecommender(days=7, dt_column='last_watch_dt')\n",
    "    baseline_model_all_features.fit(train_all_features[train_all_features.all_features == value])\n",
    "    top10_recs_all_features = baseline_model_all_features.recommend().astype(int)\n",
    "    predicted_rec_dict_all_feat[value] = top10_recs_all_features"
   ]
  },
  {
   "cell_type": "code",
   "execution_count": 27,
   "id": "e46928bf",
   "metadata": {},
   "outputs": [],
   "source": [
    "recomendations_age_sex = pd.DataFrame({'age_sex' : predicted_rec_dict_all_feat.keys(), \n",
    "                                       'item_id': predicted_rec_dict_all_feat.values()})\n",
    "#for_subm_rec = recomendations_age_sex.copy()"
   ]
  },
  {
   "cell_type": "code",
   "execution_count": 88,
   "id": "0f7df214",
   "metadata": {},
   "outputs": [
    {
     "data": {
      "text/html": [
       "<div>\n",
       "<style scoped>\n",
       "    .dataframe tbody tr th:only-of-type {\n",
       "        vertical-align: middle;\n",
       "    }\n",
       "\n",
       "    .dataframe tbody tr th {\n",
       "        vertical-align: top;\n",
       "    }\n",
       "\n",
       "    .dataframe thead th {\n",
       "        text-align: right;\n",
       "    }\n",
       "</style>\n",
       "<table border=\"1\" class=\"dataframe\">\n",
       "  <thead>\n",
       "    <tr style=\"text-align: right;\">\n",
       "      <th></th>\n",
       "      <th>age_sex</th>\n",
       "      <th>item_id</th>\n",
       "    </tr>\n",
       "  </thead>\n",
       "  <tbody>\n",
       "    <tr>\n",
       "      <th>0</th>\n",
       "      <td>age_35_44M</td>\n",
       "      <td>[9728, 10440, 13865, 15297, 7793, 512, 341, 12...</td>\n",
       "    </tr>\n",
       "    <tr>\n",
       "      <th>1</th>\n",
       "      <td>age_25_34M</td>\n",
       "      <td>[9728, 10440, 15297, 7793, 13865, 3734, 341, 4...</td>\n",
       "    </tr>\n",
       "    <tr>\n",
       "      <th>2</th>\n",
       "      <td>age_65_infF</td>\n",
       "      <td>[10440, 15297, 9728, 341, 12192, 13865, 7793, ...</td>\n",
       "    </tr>\n",
       "    <tr>\n",
       "      <th>3</th>\n",
       "      <td>age_25_34F</td>\n",
       "      <td>[15297, 10440, 9728, 4151, 341, 12360, 3734, 1...</td>\n",
       "    </tr>\n",
       "    <tr>\n",
       "      <th>4</th>\n",
       "      <td>age_unknownsex_unknown</td>\n",
       "      <td>[10440, 15297, 12360, 9728, 4151, 341, 2657, 1...</td>\n",
       "    </tr>\n",
       "    <tr>\n",
       "      <th>5</th>\n",
       "      <td>age_18_24M</td>\n",
       "      <td>[9728, 10440, 7793, 13865, 15297, 3734, 4151, ...</td>\n",
       "    </tr>\n",
       "    <tr>\n",
       "      <th>6</th>\n",
       "      <td>age_18_24F</td>\n",
       "      <td>[9728, 15297, 10440, 4151, 3734, 7793, 2657, 3...</td>\n",
       "    </tr>\n",
       "    <tr>\n",
       "      <th>7</th>\n",
       "      <td>age_45_54M</td>\n",
       "      <td>[9728, 10440, 15297, 13865, 512, 7793, 12192, ...</td>\n",
       "    </tr>\n",
       "    <tr>\n",
       "      <th>8</th>\n",
       "      <td>age_35_44F</td>\n",
       "      <td>[15297, 10440, 9728, 341, 12192, 13865, 4151, ...</td>\n",
       "    </tr>\n",
       "    <tr>\n",
       "      <th>9</th>\n",
       "      <td>age_45_54F</td>\n",
       "      <td>[15297, 10440, 9728, 12192, 341, 13865, 3734, ...</td>\n",
       "    </tr>\n",
       "    <tr>\n",
       "      <th>10</th>\n",
       "      <td>age_55_64F</td>\n",
       "      <td>[10440, 15297, 9728, 341, 7793, 12192, 13865, ...</td>\n",
       "    </tr>\n",
       "    <tr>\n",
       "      <th>11</th>\n",
       "      <td>age_unknownM</td>\n",
       "      <td>[9728, 10440, 7793, 13865, 3734, 15297, 12360,...</td>\n",
       "    </tr>\n",
       "    <tr>\n",
       "      <th>12</th>\n",
       "      <td>age_55_64M</td>\n",
       "      <td>[9728, 10440, 15297, 7793, 13865, 512, 12192, ...</td>\n",
       "    </tr>\n",
       "    <tr>\n",
       "      <th>13</th>\n",
       "      <td>age_65_infM</td>\n",
       "      <td>[9728, 15297, 10440, 13865, 512, 341, 12192, 7...</td>\n",
       "    </tr>\n",
       "    <tr>\n",
       "      <th>14</th>\n",
       "      <td>age_45_54sex_unknown</td>\n",
       "      <td>[9728, 15297, 13865, 10440, 3784, 512, 4151, 1...</td>\n",
       "    </tr>\n",
       "    <tr>\n",
       "      <th>15</th>\n",
       "      <td>age_55_64sex_unknown</td>\n",
       "      <td>[9728, 10440, 7793, 13865, 512, 11863, 3734, 1...</td>\n",
       "    </tr>\n",
       "    <tr>\n",
       "      <th>16</th>\n",
       "      <td>age_35_44sex_unknown</td>\n",
       "      <td>[9728, 15297, 7829, 9214, 11863, 3734, 747, 41...</td>\n",
       "    </tr>\n",
       "    <tr>\n",
       "      <th>17</th>\n",
       "      <td>age_unknownF</td>\n",
       "      <td>[9728, 15297, 10440, 13865, 7793, 4151, 11863,...</td>\n",
       "    </tr>\n",
       "    <tr>\n",
       "      <th>18</th>\n",
       "      <td>age_25_34sex_unknown</td>\n",
       "      <td>[9728, 15297, 13865, 341, 10440, 12360, 3734, ...</td>\n",
       "    </tr>\n",
       "    <tr>\n",
       "      <th>19</th>\n",
       "      <td>age_65_infsex_unknown</td>\n",
       "      <td>[9728, 13865, 12360, 7793, 341, 10440, 3734, 2...</td>\n",
       "    </tr>\n",
       "    <tr>\n",
       "      <th>20</th>\n",
       "      <td>age_18_24sex_unknown</td>\n",
       "      <td>[9728, 512, 341, 15297, 12360, 12192, 7102, 10...</td>\n",
       "    </tr>\n",
       "  </tbody>\n",
       "</table>\n",
       "</div>"
      ],
      "text/plain": [
       "                   age_sex                                            item_id\n",
       "0               age_35_44M  [9728, 10440, 13865, 15297, 7793, 512, 341, 12...\n",
       "1               age_25_34M  [9728, 10440, 15297, 7793, 13865, 3734, 341, 4...\n",
       "2              age_65_infF  [10440, 15297, 9728, 341, 12192, 13865, 7793, ...\n",
       "3               age_25_34F  [15297, 10440, 9728, 4151, 341, 12360, 3734, 1...\n",
       "4   age_unknownsex_unknown  [10440, 15297, 12360, 9728, 4151, 341, 2657, 1...\n",
       "5               age_18_24M  [9728, 10440, 7793, 13865, 15297, 3734, 4151, ...\n",
       "6               age_18_24F  [9728, 15297, 10440, 4151, 3734, 7793, 2657, 3...\n",
       "7               age_45_54M  [9728, 10440, 15297, 13865, 512, 7793, 12192, ...\n",
       "8               age_35_44F  [15297, 10440, 9728, 341, 12192, 13865, 4151, ...\n",
       "9               age_45_54F  [15297, 10440, 9728, 12192, 341, 13865, 3734, ...\n",
       "10              age_55_64F  [10440, 15297, 9728, 341, 7793, 12192, 13865, ...\n",
       "11            age_unknownM  [9728, 10440, 7793, 13865, 3734, 15297, 12360,...\n",
       "12              age_55_64M  [9728, 10440, 15297, 7793, 13865, 512, 12192, ...\n",
       "13             age_65_infM  [9728, 15297, 10440, 13865, 512, 341, 12192, 7...\n",
       "14    age_45_54sex_unknown  [9728, 15297, 13865, 10440, 3784, 512, 4151, 1...\n",
       "15    age_55_64sex_unknown  [9728, 10440, 7793, 13865, 512, 11863, 3734, 1...\n",
       "16    age_35_44sex_unknown  [9728, 15297, 7829, 9214, 11863, 3734, 747, 41...\n",
       "17            age_unknownF  [9728, 15297, 10440, 13865, 7793, 4151, 11863,...\n",
       "18    age_25_34sex_unknown  [9728, 15297, 13865, 341, 10440, 12360, 3734, ...\n",
       "19   age_65_infsex_unknown  [9728, 13865, 12360, 7793, 341, 10440, 3734, 2...\n",
       "20    age_18_24sex_unknown  [9728, 512, 341, 15297, 12360, 12192, 7102, 10..."
      ]
     },
     "execution_count": 88,
     "metadata": {},
     "output_type": "execute_result"
    }
   ],
   "source": [
    "recomendations_age_sex"
   ]
  },
  {
   "cell_type": "code",
   "execution_count": 44,
   "id": "d9de49c3",
   "metadata": {},
   "outputs": [],
   "source": [
    "test_age_sex_unique = test_all_features[['user_id','all_features']].copy().drop_duplicates()\n",
    "test_age_sex_unique = test_age_sex_unique.merge(recomendations_age_sex,left_on = 'all_features',right_on = 'age_sex')\n",
    "recomendations_age_sex = test_age_sex_unique.drop('all_features', 1)"
   ]
  },
  {
   "cell_type": "code",
   "execution_count": 45,
   "id": "1e565f82",
   "metadata": {},
   "outputs": [],
   "source": [
    "test_recs_age_sex = create_rank_table(recomendations_age_sex, test_all_features, 'user_id', 'item_id')"
   ]
  },
  {
   "cell_type": "code",
   "execution_count": 46,
   "id": "ce2211e5",
   "metadata": {},
   "outputs": [
    {
     "data": {
      "text/html": [
       "<div>\n",
       "<style scoped>\n",
       "    .dataframe tbody tr th:only-of-type {\n",
       "        vertical-align: middle;\n",
       "    }\n",
       "\n",
       "    .dataframe tbody tr th {\n",
       "        vertical-align: top;\n",
       "    }\n",
       "\n",
       "    .dataframe thead th {\n",
       "        text-align: right;\n",
       "    }\n",
       "</style>\n",
       "<table border=\"1\" class=\"dataframe\">\n",
       "  <thead>\n",
       "    <tr style=\"text-align: right;\">\n",
       "      <th></th>\n",
       "      <th></th>\n",
       "      <th>last_watch_dt</th>\n",
       "      <th>total_dur</th>\n",
       "      <th>watched_pct</th>\n",
       "      <th>age</th>\n",
       "      <th>income</th>\n",
       "      <th>sex</th>\n",
       "      <th>kids_flg</th>\n",
       "      <th>all_features</th>\n",
       "      <th>age_sex</th>\n",
       "      <th>rank</th>\n",
       "      <th>users_item_count</th>\n",
       "      <th>reciprocal_rank</th>\n",
       "      <th>cumulative_rank</th>\n",
       "    </tr>\n",
       "    <tr>\n",
       "      <th>user_id</th>\n",
       "      <th>item_id</th>\n",
       "      <th></th>\n",
       "      <th></th>\n",
       "      <th></th>\n",
       "      <th></th>\n",
       "      <th></th>\n",
       "      <th></th>\n",
       "      <th></th>\n",
       "      <th></th>\n",
       "      <th></th>\n",
       "      <th></th>\n",
       "      <th></th>\n",
       "      <th></th>\n",
       "      <th></th>\n",
       "    </tr>\n",
       "  </thead>\n",
       "  <tbody>\n",
       "    <tr>\n",
       "      <th>1097444</th>\n",
       "      <th>10489</th>\n",
       "      <td>2021-08-16</td>\n",
       "      <td>382</td>\n",
       "      <td>8.0</td>\n",
       "      <td>age_18_24</td>\n",
       "      <td>income_20_40</td>\n",
       "      <td>M</td>\n",
       "      <td>True</td>\n",
       "      <td>age_18_24M</td>\n",
       "      <td>NaN</td>\n",
       "      <td>NaN</td>\n",
       "      <td>1.0</td>\n",
       "      <td>0.000000</td>\n",
       "      <td>NaN</td>\n",
       "    </tr>\n",
       "    <tr>\n",
       "      <th rowspan=\"4\" valign=\"top\">1097470</th>\n",
       "      <th>3734</th>\n",
       "      <td>2021-08-16</td>\n",
       "      <td>4924</td>\n",
       "      <td>90.0</td>\n",
       "      <td>age_25_34</td>\n",
       "      <td>income_20_40</td>\n",
       "      <td>M</td>\n",
       "      <td>False</td>\n",
       "      <td>age_25_34M</td>\n",
       "      <td>age_25_34M</td>\n",
       "      <td>6.0</td>\n",
       "      <td>4.0</td>\n",
       "      <td>0.166667</td>\n",
       "      <td>0.166667</td>\n",
       "    </tr>\n",
       "    <tr>\n",
       "      <th>6892</th>\n",
       "      <td>2021-08-16</td>\n",
       "      <td>5610</td>\n",
       "      <td>100.0</td>\n",
       "      <td>age_25_34</td>\n",
       "      <td>income_20_40</td>\n",
       "      <td>M</td>\n",
       "      <td>False</td>\n",
       "      <td>age_25_34M</td>\n",
       "      <td>NaN</td>\n",
       "      <td>NaN</td>\n",
       "      <td>4.0</td>\n",
       "      <td>0.000000</td>\n",
       "      <td>NaN</td>\n",
       "    </tr>\n",
       "    <tr>\n",
       "      <th>1916</th>\n",
       "      <td>2021-08-16</td>\n",
       "      <td>175</td>\n",
       "      <td>3.0</td>\n",
       "      <td>age_25_34</td>\n",
       "      <td>income_20_40</td>\n",
       "      <td>M</td>\n",
       "      <td>False</td>\n",
       "      <td>age_25_34M</td>\n",
       "      <td>NaN</td>\n",
       "      <td>NaN</td>\n",
       "      <td>4.0</td>\n",
       "      <td>0.000000</td>\n",
       "      <td>NaN</td>\n",
       "    </tr>\n",
       "    <tr>\n",
       "      <th>11973</th>\n",
       "      <td>2021-08-16</td>\n",
       "      <td>8050</td>\n",
       "      <td>100.0</td>\n",
       "      <td>age_25_34</td>\n",
       "      <td>income_20_40</td>\n",
       "      <td>M</td>\n",
       "      <td>False</td>\n",
       "      <td>age_25_34M</td>\n",
       "      <td>NaN</td>\n",
       "      <td>NaN</td>\n",
       "      <td>4.0</td>\n",
       "      <td>0.000000</td>\n",
       "      <td>NaN</td>\n",
       "    </tr>\n",
       "  </tbody>\n",
       "</table>\n",
       "</div>"
      ],
      "text/plain": [
       "                last_watch_dt  total_dur  watched_pct        age  \\\n",
       "user_id item_id                                                    \n",
       "1097444 10489      2021-08-16        382          8.0  age_18_24   \n",
       "1097470 3734       2021-08-16       4924         90.0  age_25_34   \n",
       "        6892       2021-08-16       5610        100.0  age_25_34   \n",
       "        1916       2021-08-16        175          3.0  age_25_34   \n",
       "        11973      2021-08-16       8050        100.0  age_25_34   \n",
       "\n",
       "                       income sex  kids_flg all_features     age_sex  rank  \\\n",
       "user_id item_id                                                              \n",
       "1097444 10489    income_20_40   M      True   age_18_24M         NaN   NaN   \n",
       "1097470 3734     income_20_40   M     False   age_25_34M  age_25_34M   6.0   \n",
       "        6892     income_20_40   M     False   age_25_34M         NaN   NaN   \n",
       "        1916     income_20_40   M     False   age_25_34M         NaN   NaN   \n",
       "        11973    income_20_40   M     False   age_25_34M         NaN   NaN   \n",
       "\n",
       "                 users_item_count  reciprocal_rank  cumulative_rank  \n",
       "user_id item_id                                                      \n",
       "1097444 10489                 1.0         0.000000              NaN  \n",
       "1097470 3734                  4.0         0.166667         0.166667  \n",
       "        6892                  4.0         0.000000              NaN  \n",
       "        1916                  4.0         0.000000              NaN  \n",
       "        11973                 4.0         0.000000              NaN  "
      ]
     },
     "execution_count": 46,
     "metadata": {},
     "output_type": "execute_result"
    }
   ],
   "source": [
    "test_recs_age_sex.tail()"
   ]
  },
  {
   "cell_type": "code",
   "execution_count": 47,
   "id": "c5d06937",
   "metadata": {},
   "outputs": [
    {
     "name": "stdout",
     "output_type": "stream",
     "text": [
      "Метрики по test за период : 2021-08-16 - 2021-08-17\n",
      "MAP@10 = 0.10228158616153982\n",
      "MRR = 0.1222457742041831\n"
     ]
    },
    {
     "data": {
      "text/plain": [
       "(      Precision  Precision value     Recall  Recall value\n",
       " 0   Precision@1         0.061512   Recall@1      0.051006\n",
       " 1   Precision@2         0.054517   Recall@2      0.089542\n",
       " 2   Precision@3         0.051260   Recall@3      0.124446\n",
       " 3   Precision@4         0.045134   Recall@4      0.143707\n",
       " 4   Precision@5         0.041359   Recall@5      0.163130\n",
       " 5   Precision@6         0.038857   Recall@6      0.181702\n",
       " 6   Precision@7         0.036181   Recall@7      0.197172\n",
       " 7   Precision@8         0.034035   Recall@8      0.210955\n",
       " 8   Precision@9         0.032762   Recall@9      0.226714\n",
       " 9  Precision@10         0.031437  Recall@10      0.240503,\n",
       " 0.10228158616153982,\n",
       " 0.1222457742041831)"
      ]
     },
     "execution_count": 47,
     "metadata": {},
     "output_type": "execute_result"
    }
   ],
   "source": [
    "count_metrics(test_dates, test_recs_age_sex)"
   ]
  },
  {
   "cell_type": "code",
   "execution_count": 70,
   "id": "c934908c",
   "metadata": {},
   "outputs": [
    {
     "name": "stdout",
     "output_type": "stream",
     "text": [
      "Метрики по test за период : 2021-08-16 - 2021-08-17\n",
      "MAP@10 = 0.10228158616153982\n",
      "MRR = 0.1222457742041831\n",
      "Метрики по test за период : 2021-08-17 - 2021-08-18\n",
      "MAP@10 = 0.0962995914290215\n",
      "MRR = 0.11628847178910497\n",
      "Метрики по test за период : 2021-08-18 - 2021-08-19\n",
      "MAP@10 = 0.094457701839334\n",
      "MRR = 0.11531964426304454\n",
      "Метрики по test за период : 2021-08-19 - 2021-08-20\n",
      "MAP@10 = 0.09635205302315691\n",
      "MRR = 0.11712390422276976\n",
      "Метрики по test за период : 2021-08-20 - 2021-08-21\n",
      "MAP@10 = 0.09294573654813387\n",
      "MRR = 0.11285291530032898\n",
      "Метрики по test за период : 2021-08-21 - 2021-08-22\n",
      "MAP@10 = 0.09656208330098959\n",
      "MRR = 0.11961493808793495\n"
     ]
    }
   ],
   "source": [
    "last_days_num = 7\n",
    "top_N = 10\n",
    "map_list = list()\n",
    "mrr_list = list()\n",
    "predicted_rec_dict = {}\n",
    "for i in range(0, last_days_num-1):\n",
    "    train_all_features, test_all_features = train_test_split_dates(merge_table, \n",
    "                                                                     'last_watch_dt', \n",
    "                                                                     last_days_num = last_days_num,\n",
    "                                                                     pair_num = i)\n",
    "    for value in (list(train_all_features.all_features.unique())):\n",
    "        baseline_model_all_features = PopularRecommender(days=7, dt_column='last_watch_dt')\n",
    "        baseline_model_all_features.fit(train_all_features[train_all_features.all_features == value])\n",
    "        top10_recs_all_features = baseline_model_all_features.recommend().astype(int)\n",
    "        predicted_rec_dict_all_feat[value] = top10_recs_all_features\n",
    "    recomendations_age_sex = pd.DataFrame({'age_sex' : predicted_rec_dict_all_feat.keys(), \n",
    "                                       'item_id': predicted_rec_dict_all_feat.values()})\n",
    "    test_age_sex_unique = test_all_features[['user_id','all_features']].copy().drop_duplicates()\n",
    "    test_age_sex_unique = test_age_sex_unique.merge(recomendations_age_sex,left_on = 'all_features',right_on = 'age_sex')\n",
    "    recomendations_age_sex = test_age_sex_unique.drop('all_features', 1)\n",
    "    test_recs_age_sex = create_rank_table(recomendations_age_sex, test_all_features, 'user_id', 'item_id')\n",
    "    _, map_10, mrr = count_metrics(test_dates, test_recs_age_sex, i)\n",
    "    map_list.append(map_10)\n",
    "    mrr_list.append(mrr)"
   ]
  },
  {
   "cell_type": "code",
   "execution_count": 71,
   "id": "f604bc3b",
   "metadata": {},
   "outputs": [
    {
     "name": "stdout",
     "output_type": "stream",
     "text": [
      "Средняя MAP@10 за 7 дней = 0.09648312538369595\n",
      "Средняя MRR за 7 дней = 0.11724094131122771\n"
     ]
    }
   ],
   "source": [
    "print(f\"Средняя MAP@{top_N} за {last_days_num} дней = {np.mean(map_list)}\")\n",
    "print(f\"Средняя MRR за {last_days_num} дней = {np.mean(mrr_list)}\")"
   ]
  },
  {
   "cell_type": "markdown",
   "id": "f0b70964",
   "metadata": {},
   "source": [
    "### Объеденим все фичи"
   ]
  },
  {
   "cell_type": "code",
   "execution_count": 236,
   "id": "faffa77f",
   "metadata": {},
   "outputs": [],
   "source": [
    "merge_table['all_features2'] = merge_table['age']+ merge_table['sex'] + merge_table['watched_pct'].astype('str')"
   ]
  },
  {
   "cell_type": "code",
   "execution_count": 237,
   "id": "f13b7d4b",
   "metadata": {},
   "outputs": [
    {
     "data": {
      "text/plain": [
       "42"
      ]
     },
     "execution_count": 237,
     "metadata": {},
     "output_type": "execute_result"
    }
   ],
   "source": [
    "len(merge_table['all_features2'].unique())"
   ]
  },
  {
   "cell_type": "code",
   "execution_count": 287,
   "id": "86de9dd1",
   "metadata": {},
   "outputs": [
    {
     "data": {
      "text/plain": [
       "[((numpy.datetime64('2021-08-16T00:00:00.000000000'),\n",
       "   numpy.datetime64('2021-08-17T00:00:00.000000000')),\n",
       "  (numpy.datetime64('2021-08-17T00:00:00.000000000'),\n",
       "   numpy.datetime64('2021-08-18T00:00:00.000000000'))),\n",
       " ((numpy.datetime64('2021-08-17T00:00:00.000000000'),\n",
       "   numpy.datetime64('2021-08-18T00:00:00.000000000')),\n",
       "  (numpy.datetime64('2021-08-18T00:00:00.000000000'),\n",
       "   numpy.datetime64('2021-08-19T00:00:00.000000000'))),\n",
       " ((numpy.datetime64('2021-08-18T00:00:00.000000000'),\n",
       "   numpy.datetime64('2021-08-19T00:00:00.000000000')),\n",
       "  (numpy.datetime64('2021-08-19T00:00:00.000000000'),\n",
       "   numpy.datetime64('2021-08-20T00:00:00.000000000'))),\n",
       " ((numpy.datetime64('2021-08-19T00:00:00.000000000'),\n",
       "   numpy.datetime64('2021-08-20T00:00:00.000000000')),\n",
       "  (numpy.datetime64('2021-08-20T00:00:00.000000000'),\n",
       "   numpy.datetime64('2021-08-21T00:00:00.000000000'))),\n",
       " ((numpy.datetime64('2021-08-20T00:00:00.000000000'),\n",
       "   numpy.datetime64('2021-08-21T00:00:00.000000000')),\n",
       "  (numpy.datetime64('2021-08-21T00:00:00.000000000'),\n",
       "   numpy.datetime64('2021-08-22T00:00:00.000000000')))]"
      ]
     },
     "execution_count": 287,
     "metadata": {},
     "output_type": "execute_result"
    }
   ],
   "source": [
    "test_dates"
   ]
  },
  {
   "cell_type": "code",
   "execution_count": 297,
   "id": "89fcd953",
   "metadata": {},
   "outputs": [
    {
     "name": "stdout",
     "output_type": "stream",
     "text": [
      "Метрики по test за период : 2021-08-16 - 2021-08-17\n",
      "MAP@10 = 0.15563785511758732\n",
      "MRR = 0.18141560871335335\n",
      "Метрики по test за период : 2021-08-17 - 2021-08-18\n",
      "MAP@10 = 0.14377689214349312\n",
      "MRR = 0.16876391350770661\n",
      "Метрики по test за период : 2021-08-18 - 2021-08-19\n",
      "MAP@10 = 0.14380885761210713\n",
      "MRR = 0.16892719514201418\n",
      "Метрики по test за период : 2021-08-19 - 2021-08-20\n",
      "MAP@10 = 0.14191883759540702\n",
      "MRR = 0.16754162785779197\n",
      "Метрики по test за период : 2021-08-20 - 2021-08-21\n",
      "MAP@10 = 0.13425477765629887\n",
      "MRR = 0.15605225021784064\n",
      "Метрики по test за период : 2021-08-21 - 2021-08-22\n",
      "MAP@10 = 0.13476488016251498\n",
      "MRR = 0.15910032731113696\n"
     ]
    }
   ],
   "source": [
    "last_days_num = 7\n",
    "top_N = 10\n",
    "map_list = list()\n",
    "mrr_list = list()\n",
    "predicted_rec_dict = {}\n",
    "for i in range(0, last_days_num-1):\n",
    "    train_all_features, test_all_features = train_test_split_dates(merge_table, \n",
    "                                                                     'last_watch_dt', \n",
    "                                                                     last_days_num = last_days_num,\n",
    "                                                                     pair_num = i)\n",
    "    for value in (list(train_all_features.all_features2.unique())):\n",
    "        baseline_model_all_features = PopularRecommender(days=7, dt_column='last_watch_dt')\n",
    "        baseline_model_all_features.fit(train_all_features[train_all_features.all_features2 == value])\n",
    "        top10_recs_all_features = baseline_model_all_features.recommend().astype(int)\n",
    "        predicted_rec_dict_all_feat[value] = top10_recs_all_features\n",
    "    recomendations_features = pd.DataFrame({'features' : predicted_rec_dict_all_feat.keys(), \n",
    "                                       'item_id': predicted_rec_dict_all_feat.values()})\n",
    "    test_features_unique = test_all_features[['user_id','all_features2']].copy().drop_duplicates()\n",
    "    test_features_unique = test_features_unique.merge(recomendations_features,left_on = 'all_features2',right_on = 'features')\n",
    "    recomendations_features = test_features_unique.drop('all_features2', 1)\n",
    "    test_rec_features = create_rank_table(recomendations_features, test_all_features, 'user_id', 'item_id')\n",
    "    _, map_10, mrr = count_metrics(test_dates, test_rec_features, i)\n",
    "    map_list.append(map_10)\n",
    "    mrr_list.append(mrr)"
   ]
  },
  {
   "cell_type": "code",
   "execution_count": 298,
   "id": "c5a6285d",
   "metadata": {},
   "outputs": [
    {
     "name": "stdout",
     "output_type": "stream",
     "text": [
      "Средняя MAP@10 за 7 дней = 0.1423603500479014\n",
      "Средняя MRR за 7 дней = 0.16696682045830727\n"
     ]
    }
   ],
   "source": [
    "print(f\"Средняя MAP@{top_N} за {last_days_num} дней = {np.mean(map_list)}\")\n",
    "print(f\"Средняя MRR за {last_days_num} дней = {np.mean(mrr_list)}\")"
   ]
  },
  {
   "cell_type": "code",
   "execution_count": null,
   "id": "41d88dcc",
   "metadata": {},
   "outputs": [],
   "source": [
    "#########"
   ]
  },
  {
   "cell_type": "code",
   "execution_count": 238,
   "id": "4e346696",
   "metadata": {},
   "outputs": [],
   "source": [
    "merge_table['all_features2'] = merge_table['age']+ merge_table['sex'] + merge_table['kids_flg'].astype('str')"
   ]
  },
  {
   "cell_type": "code",
   "execution_count": 240,
   "id": "bc3a3066",
   "metadata": {},
   "outputs": [
    {
     "name": "stdout",
     "output_type": "stream",
     "text": [
      "Метрики по test за период : 2021-08-16 - 2021-08-17\n",
      "MAP@10 = 0.10190509516426718\n",
      "MRR = 0.12182376255893362\n",
      "Метрики по test за период : 2021-08-17 - 2021-08-18\n",
      "MAP@10 = 0.09597307106007444\n",
      "MRR = 0.11608519160521547\n",
      "Метрики по test за период : 2021-08-18 - 2021-08-19\n",
      "MAP@10 = 0.09435684960991744\n",
      "MRR = 0.1152387118018441\n",
      "Метрики по test за период : 2021-08-19 - 2021-08-20\n",
      "MAP@10 = 0.09636026943859352\n",
      "MRR = 0.11710672800218616\n",
      "Метрики по test за период : 2021-08-20 - 2021-08-21\n",
      "MAP@10 = 0.09267892910084498\n",
      "MRR = 0.11258720129391298\n",
      "Метрики по test за период : 2021-08-21 - 2021-08-22\n",
      "MAP@10 = 0.09643062274566887\n",
      "MRR = 0.11939464184802086\n"
     ]
    }
   ],
   "source": [
    "last_days_num = 7\n",
    "top_N = 10\n",
    "map_list = list()\n",
    "mrr_list = list()\n",
    "predicted_rec_dict = {}\n",
    "for i in range(0, last_days_num-1):\n",
    "    train_all_features, test_all_features = train_test_split_dates(merge_table, \n",
    "                                                                     'last_watch_dt', \n",
    "                                                                     last_days_num = last_days_num,\n",
    "                                                                     pair_num = i)\n",
    "    for value in (list(train_all_features.all_features2.unique())):\n",
    "        baseline_model_all_features = PopularRecommender(days=7, dt_column='last_watch_dt')\n",
    "        baseline_model_all_features.fit(train_all_features[train_all_features.all_features2 == value])\n",
    "        top10_recs_all_features = baseline_model_all_features.recommend().astype(int)\n",
    "        predicted_rec_dict_all_feat[value] = top10_recs_all_features\n",
    "    recomendations_features = pd.DataFrame({'features' : predicted_rec_dict_all_feat.keys(), \n",
    "                                       'item_id': predicted_rec_dict_all_feat.values()})\n",
    "    test_features_unique = test_all_features[['user_id','all_features2']].copy().drop_duplicates()\n",
    "    test_features_unique = test_features_unique.merge(recomendations_features,left_on = 'all_features2',right_on = 'features')\n",
    "    recomendations_features = test_features_unique.drop('all_features2', 1)\n",
    "    test_rec_features = create_rank_table(recomendations_features, test_all_features, 'user_id', 'item_id')\n",
    "    _, map_10, mrr = count_metrics(test_dates, test_rec_features, i)\n",
    "    map_list.append(map_10)\n",
    "    mrr_list.append(mrr)"
   ]
  },
  {
   "cell_type": "code",
   "execution_count": 241,
   "id": "d3fb8997",
   "metadata": {},
   "outputs": [
    {
     "name": "stdout",
     "output_type": "stream",
     "text": [
      "Средняя MAP@10 за 7 дней = 0.0962841395198944\n",
      "Средняя MRR за 7 дней = 0.11703937285168553\n"
     ]
    }
   ],
   "source": [
    "print(f\"Средняя MAP@{top_N} за {last_days_num} дней = {np.mean(map_list)}\")\n",
    "print(f\"Средняя MRR за {last_days_num} дней = {np.mean(mrr_list)}\")"
   ]
  },
  {
   "cell_type": "markdown",
   "id": "1677ff79",
   "metadata": {},
   "source": [
    "[Возврат к содержанию](#content)"
   ]
  },
  {
   "cell_type": "markdown",
   "id": "ac668226",
   "metadata": {},
   "source": [
    "<a id=\"item_models\"></a>\n",
    "## Item-based filtering"
   ]
  },
  {
   "cell_type": "code",
   "execution_count": 46,
   "id": "3c667465",
   "metadata": {},
   "outputs": [],
   "source": [
    "users_df = pd.read_csv('users_processed.csv')\n",
    "items_df = pd.read_csv('items_processed.csv')\n",
    "interactions_df = pd.read_csv('interactions_processed.csv', parse_dates=['last_watch_dt'])"
   ]
  },
  {
   "cell_type": "code",
   "execution_count": 47,
   "id": "2bec8f6f",
   "metadata": {},
   "outputs": [
    {
     "data": {
      "text/plain": [
       "962179"
      ]
     },
     "execution_count": 47,
     "metadata": {},
     "output_type": "execute_result"
    }
   ],
   "source": [
    "users_inv_mapping = dict(enumerate(interactions_df['user_id'].unique()))\n",
    "users_mapping = {v: k for k, v in users_inv_mapping.items()}\n",
    "len(users_mapping)"
   ]
  },
  {
   "cell_type": "code",
   "execution_count": 48,
   "id": "202600c5",
   "metadata": {},
   "outputs": [
    {
     "data": {
      "text/plain": [
       "15706"
      ]
     },
     "execution_count": 48,
     "metadata": {},
     "output_type": "execute_result"
    }
   ],
   "source": [
    "items_inv_mapping = dict(enumerate(interactions_df['item_id'].unique()))\n",
    "items_mapping = {v: k for k, v in items_inv_mapping.items()}\n",
    "len(items_mapping)"
   ]
  },
  {
   "cell_type": "code",
   "execution_count": 49,
   "id": "f17ce51b",
   "metadata": {},
   "outputs": [],
   "source": [
    "item_titles = pd.Series(items_df['title'].values, index=items_df['item_id']).to_dict()"
   ]
  },
  {
   "cell_type": "code",
   "execution_count": 50,
   "id": "9e0c9536",
   "metadata": {},
   "outputs": [],
   "source": [
    "class TimeRangeSplit():\n",
    "    \"\"\"\n",
    "        https://pandas.pydata.org/pandas-docs/stable/reference/api/pandas.date_range.html\n",
    "    \"\"\"\n",
    "    def __init__(self, \n",
    "                 start_date, \n",
    "                 end_date=None, \n",
    "                 freq='D', \n",
    "                 periods=None, \n",
    "                 tz=None, \n",
    "                 normalize=False, \n",
    "                 closed=None, \n",
    "                 train_min_date=None,\n",
    "                 filter_cold_users=True, \n",
    "                 filter_cold_items=True, \n",
    "                 filter_already_seen=True):\n",
    "        \n",
    "        self.start_date = start_date\n",
    "        if end_date is None and periods is None:\n",
    "            raise ValueError(\"Either 'end_date' or 'periods' must be non-zero, not both at the same time.\")\n",
    "\n",
    "        self.end_date = end_date\n",
    "        self.freq = freq\n",
    "        self.periods = periods\n",
    "        self.tz = tz\n",
    "        self.normalize = normalize\n",
    "        self.closed = closed\n",
    "        self.train_min_date = pd.to_datetime(train_min_date, errors='raise')\n",
    "        self.filter_cold_users = filter_cold_users\n",
    "        self.filter_cold_items = filter_cold_items\n",
    "        self.filter_already_seen = filter_already_seen\n",
    "\n",
    "        self.date_range = pd.date_range(\n",
    "            start=start_date, \n",
    "            end=end_date, \n",
    "            freq=freq, \n",
    "            periods=periods, \n",
    "            tz=tz, \n",
    "            normalize=normalize, \n",
    "            closed=closed)\n",
    "\n",
    "        self.max_n_splits = max(0, len(self.date_range) - 1)\n",
    "        if self.max_n_splits == 0:\n",
    "            raise ValueError(\"Provided parametrs set an empty date range.\") \n",
    "\n",
    "    def split(self, \n",
    "              df, \n",
    "              user_column='user_id',\n",
    "              item_column='item_id',\n",
    "              datetime_column='date',\n",
    "              fold_stats=False):\n",
    "        df_datetime = df[datetime_column]\n",
    "        if self.train_min_date is not None:\n",
    "            train_min_mask = df_datetime >= self.train_min_date\n",
    "        else:\n",
    "            train_min_mask = df_datetime.notnull()\n",
    "\n",
    "        date_range = self.date_range[(self.date_range >= df_datetime.min()) & \n",
    "                                     (self.date_range <= df_datetime.max())]\n",
    "\n",
    "        for start, end in pairwise(date_range):\n",
    "            fold_info = {\n",
    "                'Start date': start,\n",
    "                'End date': end\n",
    "            }\n",
    "            train_mask = train_min_mask & (df_datetime < start)\n",
    "            train_idx = df.index[train_mask]\n",
    "            if fold_stats:\n",
    "                fold_info['Train'] = len(train_idx)\n",
    "\n",
    "            test_mask = (df_datetime >= start) & (df_datetime < end)\n",
    "            test_idx = df.index[test_mask]\n",
    "            \n",
    "            if self.filter_cold_users:\n",
    "                new = np.setdiff1d(\n",
    "                    df.loc[test_idx, user_column].unique(), \n",
    "                    df.loc[train_idx, user_column].unique())\n",
    "                new_idx = df.index[test_mask & df[user_column].isin(new)]\n",
    "                test_idx = np.setdiff1d(test_idx, new_idx)\n",
    "                test_mask = df.index.isin(test_idx)\n",
    "                if fold_stats:\n",
    "                    fold_info['New users'] = len(new)\n",
    "                    fold_info['New users interactions'] = len(new_idx)\n",
    "\n",
    "            if self.filter_cold_items:\n",
    "                new = np.setdiff1d(\n",
    "                    df.loc[test_idx, item_column].unique(), \n",
    "                    df.loc[train_idx, item_column].unique())\n",
    "                new_idx = df.index[test_mask & df[item_column].isin(new)]\n",
    "                test_idx = np.setdiff1d(test_idx, new_idx)\n",
    "                test_mask = df.index.isin(test_idx)\n",
    "                if fold_stats:\n",
    "                    fold_info['New items'] = len(new)\n",
    "                    fold_info['New items interactions'] = len(new_idx)\n",
    "\n",
    "            if self.filter_already_seen:\n",
    "                user_item = [user_column, item_column]\n",
    "                train_pairs = df.loc[train_idx, user_item].set_index(user_item).index\n",
    "                test_pairs = df.loc[test_idx, user_item].set_index(user_item).index\n",
    "                intersection = train_pairs.intersection(test_pairs)\n",
    "                test_idx = test_idx[~test_pairs.isin(intersection)]\n",
    "                # test_mask = rd.df.index.isin(test_idx)\n",
    "                if fold_stats:\n",
    "                    fold_info['Known interactions'] = len(intersection)\n",
    "\n",
    "            if fold_stats:\n",
    "                fold_info['Test'] = len(test_idx)\n",
    "\n",
    "            yield (train_idx, test_idx, fold_info)\n",
    "\n",
    "    def get_n_splits(self, df, datetime_column='date'):\n",
    "        df_datetime = df[datetime_column]\n",
    "        if self.train_min_date is not None:\n",
    "            df_datetime = df_datetime[df_datetime >= self.train_min_date]\n",
    "\n",
    "        date_range = self.date_range[(self.date_range >= df_datetime.min()) & \n",
    "                                     (self.date_range <= df_datetime.max())]\n",
    "\n",
    "        return max(0, len(date_range) - 1)"
   ]
  },
  {
   "cell_type": "code",
   "execution_count": 51,
   "id": "bf4aa7ae",
   "metadata": {},
   "outputs": [
    {
     "data": {
      "text/plain": [
       "(Timestamp('2021-08-15 00:00:00'), Timestamp('2021-08-22 00:00:00'))"
      ]
     },
     "execution_count": 51,
     "metadata": {},
     "output_type": "execute_result"
    }
   ],
   "source": [
    "last_date = interactions_df['last_watch_dt'].max().normalize()\n",
    "folds = 7\n",
    "start_date = last_date - pd.Timedelta(days=folds)\n",
    "start_date, last_date"
   ]
  },
  {
   "cell_type": "code",
   "execution_count": 52,
   "id": "ee56bb72",
   "metadata": {},
   "outputs": [
    {
     "data": {
      "text/plain": [
       "(7, 7)"
      ]
     },
     "execution_count": 52,
     "metadata": {},
     "output_type": "execute_result"
    }
   ],
   "source": [
    "cv = TimeRangeSplit(start_date=start_date, periods=folds+1)\n",
    "\n",
    "cv.max_n_splits, cv.get_n_splits(interactions_df, datetime_column='last_watch_dt')"
   ]
  },
  {
   "cell_type": "code",
   "execution_count": 53,
   "id": "c5ec28d2",
   "metadata": {},
   "outputs": [
    {
     "data": {
      "text/plain": [
       "DatetimeIndex(['2021-08-15', '2021-08-16', '2021-08-17', '2021-08-18',\n",
       "               '2021-08-19', '2021-08-20', '2021-08-21', '2021-08-22'],\n",
       "              dtype='datetime64[ns]', freq='D')"
      ]
     },
     "execution_count": 53,
     "metadata": {},
     "output_type": "execute_result"
    }
   ],
   "source": [
    "cv.date_range"
   ]
  },
  {
   "cell_type": "code",
   "execution_count": 54,
   "id": "55b5ad96",
   "metadata": {},
   "outputs": [
    {
     "name": "stdout",
     "output_type": "stream",
     "text": [
      "<class 'pandas.core.frame.DataFrame'>\n",
      "RangeIndex: 5476251 entries, 0 to 5476250\n",
      "Data columns (total 5 columns):\n",
      " #   Column         Dtype         \n",
      "---  ------         -----         \n",
      " 0   user_id        int64         \n",
      " 1   item_id        int64         \n",
      " 2   last_watch_dt  datetime64[ns]\n",
      " 3   total_dur      int64         \n",
      " 4   watched_pct    float64       \n",
      "dtypes: datetime64[ns](1), float64(1), int64(3)\n",
      "memory usage: 208.9 MB\n"
     ]
    }
   ],
   "source": [
    "interactions_df.info()"
   ]
  },
  {
   "cell_type": "code",
   "execution_count": 55,
   "id": "b7e1850c",
   "metadata": {},
   "outputs": [],
   "source": [
    "folds_with_stats = list(cv.split(\n",
    "    interactions_df, \n",
    "    user_column='user_id',\n",
    "    item_column='item_id',\n",
    "    datetime_column='last_watch_dt',\n",
    "    fold_stats=True\n",
    "))\n",
    "\n",
    "folds_info_with_stats = pd.DataFrame([info for _, _, info in folds_with_stats])"
   ]
  },
  {
   "cell_type": "code",
   "execution_count": 56,
   "id": "a63e5bf5",
   "metadata": {},
   "outputs": [
    {
     "data": {
      "text/html": [
       "<div>\n",
       "<style scoped>\n",
       "    .dataframe tbody tr th:only-of-type {\n",
       "        vertical-align: middle;\n",
       "    }\n",
       "\n",
       "    .dataframe tbody tr th {\n",
       "        vertical-align: top;\n",
       "    }\n",
       "\n",
       "    .dataframe thead th {\n",
       "        text-align: right;\n",
       "    }\n",
       "</style>\n",
       "<table border=\"1\" class=\"dataframe\">\n",
       "  <thead>\n",
       "    <tr style=\"text-align: right;\">\n",
       "      <th></th>\n",
       "      <th>Start date</th>\n",
       "      <th>End date</th>\n",
       "      <th>Train</th>\n",
       "      <th>New users</th>\n",
       "      <th>New users interactions</th>\n",
       "      <th>New items</th>\n",
       "      <th>New items interactions</th>\n",
       "      <th>Known interactions</th>\n",
       "      <th>Test</th>\n",
       "    </tr>\n",
       "  </thead>\n",
       "  <tbody>\n",
       "    <tr>\n",
       "      <th>0</th>\n",
       "      <td>2021-08-15</td>\n",
       "      <td>2021-08-16</td>\n",
       "      <td>4985269</td>\n",
       "      <td>9280</td>\n",
       "      <td>13423</td>\n",
       "      <td>12</td>\n",
       "      <td>17</td>\n",
       "      <td>0</td>\n",
       "      <td>53106</td>\n",
       "    </tr>\n",
       "    <tr>\n",
       "      <th>1</th>\n",
       "      <td>2021-08-16</td>\n",
       "      <td>2021-08-17</td>\n",
       "      <td>5051815</td>\n",
       "      <td>7533</td>\n",
       "      <td>10505</td>\n",
       "      <td>12</td>\n",
       "      <td>206</td>\n",
       "      <td>0</td>\n",
       "      <td>43835</td>\n",
       "    </tr>\n",
       "    <tr>\n",
       "      <th>2</th>\n",
       "      <td>2021-08-17</td>\n",
       "      <td>2021-08-18</td>\n",
       "      <td>5106361</td>\n",
       "      <td>7118</td>\n",
       "      <td>10105</td>\n",
       "      <td>22</td>\n",
       "      <td>280</td>\n",
       "      <td>0</td>\n",
       "      <td>43926</td>\n",
       "    </tr>\n",
       "    <tr>\n",
       "      <th>3</th>\n",
       "      <td>2021-08-18</td>\n",
       "      <td>2021-08-19</td>\n",
       "      <td>5160672</td>\n",
       "      <td>7485</td>\n",
       "      <td>10655</td>\n",
       "      <td>13</td>\n",
       "      <td>21</td>\n",
       "      <td>0</td>\n",
       "      <td>46113</td>\n",
       "    </tr>\n",
       "    <tr>\n",
       "      <th>4</th>\n",
       "      <td>2021-08-19</td>\n",
       "      <td>2021-08-20</td>\n",
       "      <td>5217461</td>\n",
       "      <td>7644</td>\n",
       "      <td>10895</td>\n",
       "      <td>19</td>\n",
       "      <td>219</td>\n",
       "      <td>0</td>\n",
       "      <td>47526</td>\n",
       "    </tr>\n",
       "    <tr>\n",
       "      <th>5</th>\n",
       "      <td>2021-08-20</td>\n",
       "      <td>2021-08-21</td>\n",
       "      <td>5276101</td>\n",
       "      <td>7918</td>\n",
       "      <td>11155</td>\n",
       "      <td>23</td>\n",
       "      <td>303</td>\n",
       "      <td>0</td>\n",
       "      <td>48687</td>\n",
       "    </tr>\n",
       "    <tr>\n",
       "      <th>6</th>\n",
       "      <td>2021-08-21</td>\n",
       "      <td>2021-08-22</td>\n",
       "      <td>5336246</td>\n",
       "      <td>9036</td>\n",
       "      <td>13452</td>\n",
       "      <td>17</td>\n",
       "      <td>97</td>\n",
       "      <td>0</td>\n",
       "      <td>55285</td>\n",
       "    </tr>\n",
       "  </tbody>\n",
       "</table>\n",
       "</div>"
      ],
      "text/plain": [
       "  Start date   End date    Train  New users  New users interactions  \\\n",
       "0 2021-08-15 2021-08-16  4985269       9280                   13423   \n",
       "1 2021-08-16 2021-08-17  5051815       7533                   10505   \n",
       "2 2021-08-17 2021-08-18  5106361       7118                   10105   \n",
       "3 2021-08-18 2021-08-19  5160672       7485                   10655   \n",
       "4 2021-08-19 2021-08-20  5217461       7644                   10895   \n",
       "5 2021-08-20 2021-08-21  5276101       7918                   11155   \n",
       "6 2021-08-21 2021-08-22  5336246       9036                   13452   \n",
       "\n",
       "   New items  New items interactions  Known interactions   Test  \n",
       "0         12                      17                   0  53106  \n",
       "1         12                     206                   0  43835  \n",
       "2         22                     280                   0  43926  \n",
       "3         13                      21                   0  46113  \n",
       "4         19                     219                   0  47526  \n",
       "5         23                     303                   0  48687  \n",
       "6         17                      97                   0  55285  "
      ]
     },
     "execution_count": 56,
     "metadata": {},
     "output_type": "execute_result"
    }
   ],
   "source": [
    "folds_info_with_stats"
   ]
  },
  {
   "cell_type": "code",
   "execution_count": 57,
   "id": "2f0071f1",
   "metadata": {},
   "outputs": [],
   "source": [
    "def compute_metrics(df_true, df_pred, top_N):\n",
    "    result = {}\n",
    "    test_recs = df_true.set_index(['user_id', 'item_id']).join(df_pred.set_index(['user_id', 'item_id']))\n",
    "    test_recs = test_recs.sort_values(by=['user_id', 'rank'])\n",
    "\n",
    "    test_recs['users_item_count'] = test_recs.groupby(level='user_id')['rank'].transform(np.size)\n",
    "    test_recs['reciprocal_rank'] = (1 / test_recs['rank']).fillna(0)\n",
    "    test_recs['cumulative_rank'] = test_recs.groupby(level='user_id').cumcount() + 1\n",
    "    test_recs['cumulative_rank'] = test_recs['cumulative_rank'] / test_recs['rank']\n",
    "    \n",
    "    users_count = test_recs.index.get_level_values('user_id').nunique()\n",
    "    for k in range(1, top_N + 1):\n",
    "        hit_k = f'hit@{k}'\n",
    "        test_recs[hit_k] = test_recs['rank'] <= k\n",
    "        result[f'Precision@{k}'] = (test_recs[hit_k] / k).sum() / users_count\n",
    "        result[f'Recall@{k}'] = (test_recs[hit_k] / test_recs['users_item_count']).sum() / users_count\n",
    "\n",
    "    result[f'MAP@{top_N}'] = (test_recs[\"cumulative_rank\"] / test_recs[\"users_item_count\"]).sum() / users_count\n",
    "    result[f'MRR'] = test_recs.groupby(level='user_id')['reciprocal_rank'].max().mean()\n",
    "    return pd.Series(result)"
   ]
  },
  {
   "cell_type": "code",
   "execution_count": 58,
   "id": "15f69803",
   "metadata": {},
   "outputs": [
    {
     "data": {
      "text/plain": [
       "[(Timestamp('2021-08-15 00:00:00', freq='D'),\n",
       "  Timestamp('2021-08-16 00:00:00', freq='D')),\n",
       " (Timestamp('2021-08-16 00:00:00', freq='D'),\n",
       "  Timestamp('2021-08-17 00:00:00', freq='D')),\n",
       " (Timestamp('2021-08-17 00:00:00', freq='D'),\n",
       "  Timestamp('2021-08-18 00:00:00', freq='D')),\n",
       " (Timestamp('2021-08-18 00:00:00', freq='D'),\n",
       "  Timestamp('2021-08-19 00:00:00', freq='D')),\n",
       " (Timestamp('2021-08-19 00:00:00', freq='D'),\n",
       "  Timestamp('2021-08-20 00:00:00', freq='D')),\n",
       " (Timestamp('2021-08-20 00:00:00', freq='D'),\n",
       "  Timestamp('2021-08-21 00:00:00', freq='D')),\n",
       " (Timestamp('2021-08-21 00:00:00', freq='D'),\n",
       "  Timestamp('2021-08-22 00:00:00', freq='D'))]"
      ]
     },
     "execution_count": 58,
     "metadata": {},
     "output_type": "execute_result"
    }
   ],
   "source": [
    "fold_dates = [(info['Start date'], info['End date']) for _, _, info in folds_with_stats]\n",
    "fold_dates"
   ]
  },
  {
   "cell_type": "code",
   "execution_count": 59,
   "id": "fb9e8936",
   "metadata": {},
   "outputs": [
    {
     "data": {
      "text/plain": [
       "((4985269, 5), (53106, 5))"
      ]
     },
     "execution_count": 59,
     "metadata": {},
     "output_type": "execute_result"
    }
   ],
   "source": [
    "train_idx, test_idx, info = folds_with_stats[0]\n",
    "\n",
    "train = interactions_df.loc[train_idx]\n",
    "test = interactions_df.loc[test_idx]\n",
    "train.shape, test.shape"
   ]
  },
  {
   "cell_type": "code",
   "execution_count": 60,
   "id": "cca55b91",
   "metadata": {},
   "outputs": [
    {
     "data": {
      "text/plain": [
       "{'Start date': Timestamp('2021-08-15 00:00:00', freq='D'),\n",
       " 'End date': Timestamp('2021-08-16 00:00:00', freq='D'),\n",
       " 'Train': 4985269,\n",
       " 'New users': 9280,\n",
       " 'New users interactions': 13423,\n",
       " 'New items': 12,\n",
       " 'New items interactions': 17,\n",
       " 'Known interactions': 0,\n",
       " 'Test': 53106}"
      ]
     },
     "execution_count": 60,
     "metadata": {},
     "output_type": "execute_result"
    }
   ],
   "source": [
    "info"
   ]
  },
  {
   "cell_type": "code",
   "execution_count": 61,
   "id": "bb923863",
   "metadata": {},
   "outputs": [],
   "source": [
    "def get_coo_matrix(df, \n",
    "                   user_col='user_id', \n",
    "                   item_col='item_id', \n",
    "                   weight_col=None, \n",
    "                   users_mapping=users_mapping, \n",
    "                   items_mapping=items_mapping):\n",
    "    if weight_col is None:\n",
    "        weights = np.ones(len(df), dtype=np.float32)\n",
    "    else:\n",
    "        weights = df[weight_col].astype(np.float32)\n",
    "\n",
    "    interaction_matrix = sp.coo_matrix((\n",
    "        weights, \n",
    "        (\n",
    "            df[user_col].map(users_mapping.get), \n",
    "            df[item_col].map(items_mapping.get)\n",
    "        )\n",
    "    ))\n",
    "    return interaction_matrix"
   ]
  },
  {
   "cell_type": "code",
   "execution_count": 40,
   "id": "d9c3337b",
   "metadata": {},
   "outputs": [
    {
     "data": {
      "text/plain": [
       "<962178x15706 sparse matrix of type '<class 'numpy.float32'>'\n",
       "\twith 4985269 stored elements in Compressed Sparse Row format>"
      ]
     },
     "execution_count": 40,
     "metadata": {},
     "output_type": "execute_result"
    }
   ],
   "source": [
    "train_mat = get_coo_matrix(train, weight_col = 'watched_pct').tocsr()\n",
    "train_mat"
   ]
  },
  {
   "cell_type": "code",
   "execution_count": 62,
   "id": "70ca0fab",
   "metadata": {},
   "outputs": [],
   "source": [
    "from implicit.nearest_neighbours import CosineRecommender, BM25Recommender, TFIDFRecommender"
   ]
  },
  {
   "cell_type": "code",
   "execution_count": 63,
   "id": "e307a639",
   "metadata": {},
   "outputs": [],
   "source": [
    "def generate_implicit_recs_mapper(model, train_matrix, N, user_mapping, item_inv_mapping):\n",
    "    def _recs_mapper(user):\n",
    "        user_id = user_mapping[user]\n",
    "        recs = model.recommend(user_id, \n",
    "                               train_matrix, \n",
    "                               N=N, \n",
    "                               filter_already_liked_items=True)\n",
    "        return [item_inv_mapping[item] for item, _ in recs]\n",
    "    return _recs_mapper"
   ]
  },
  {
   "cell_type": "markdown",
   "id": "5b596568",
   "metadata": {},
   "source": [
    "<a id=\"cosine_rec\"></a>\n",
    "### CosineRecommender"
   ]
  },
  {
   "cell_type": "code",
   "execution_count": 91,
   "id": "05f2832a",
   "metadata": {},
   "outputs": [
    {
     "name": "stderr",
     "output_type": "stream",
     "text": [
      "C:\\Users\\Filipp\\anaconda3\\lib\\site-packages\\implicit\\nearest_neighbours.py:184: RuntimeWarning: invalid value encountered in true_divide\n",
      "  X.data = X.data / sqrt(bincount(X.row, X.data ** 2))[X.row]\n"
     ]
    },
    {
     "data": {
      "application/vnd.jupyter.widget-view+json": {
       "model_id": "e5f8570aa9ef4ba2a83fcbe526659d24",
       "version_major": 2,
       "version_minor": 0
      },
      "text/plain": [
       "HBox(children=(HTML(value=''), FloatProgress(value=0.0, max=15706.0), HTML(value='')))"
      ]
     },
     "metadata": {},
     "output_type": "display_data"
    },
    {
     "name": "stdout",
     "output_type": "stream",
     "text": [
      "\n"
     ]
    }
   ],
   "source": [
    "cosine_model = CosineRecommender(K=10)\n",
    "cosine_model.fit(train_mat.T) # "
   ]
  },
  {
   "cell_type": "code",
   "execution_count": 96,
   "id": "e8875c18",
   "metadata": {},
   "outputs": [
    {
     "data": {
      "text/plain": [
       "<function __main__.generate_implicit_recs_mapper.<locals>._recs_mapper(user)>"
      ]
     },
     "execution_count": 96,
     "metadata": {},
     "output_type": "execute_result"
    }
   ],
   "source": [
    "mapper = generate_implicit_recs_mapper(cosine_model, train_mat, top_N, users_mapping, items_inv_mapping)\n",
    "mapper"
   ]
  },
  {
   "cell_type": "code",
   "execution_count": 97,
   "id": "a30b2b90",
   "metadata": {},
   "outputs": [
    {
     "name": "stdout",
     "output_type": "stream",
     "text": [
      "Wall time: 0 ns\n"
     ]
    },
    {
     "data": {
      "text/html": [
       "<div>\n",
       "<style scoped>\n",
       "    .dataframe tbody tr th:only-of-type {\n",
       "        vertical-align: middle;\n",
       "    }\n",
       "\n",
       "    .dataframe tbody tr th {\n",
       "        vertical-align: top;\n",
       "    }\n",
       "\n",
       "    .dataframe thead th {\n",
       "        text-align: right;\n",
       "    }\n",
       "</style>\n",
       "<table border=\"1\" class=\"dataframe\">\n",
       "  <thead>\n",
       "    <tr style=\"text-align: right;\">\n",
       "      <th></th>\n",
       "      <th>user_id</th>\n",
       "      <th>item_id</th>\n",
       "    </tr>\n",
       "  </thead>\n",
       "  <tbody>\n",
       "    <tr>\n",
       "      <th>0</th>\n",
       "      <td>10010</td>\n",
       "      <td>[13865, 9728, 15297, 142, 9996, 4151, 2657, 86...</td>\n",
       "    </tr>\n",
       "    <tr>\n",
       "      <th>1</th>\n",
       "      <td>1049777</td>\n",
       "      <td>[1517, 12580, 6295, 2820, 11188, 13262, 3734, ...</td>\n",
       "    </tr>\n",
       "    <tr>\n",
       "      <th>2</th>\n",
       "      <td>852272</td>\n",
       "      <td>[15297, 10440, 4151, 3734, 13865, 142, 9728, 9...</td>\n",
       "    </tr>\n",
       "    <tr>\n",
       "      <th>3</th>\n",
       "      <td>812857</td>\n",
       "      <td>[15297, 13865, 3734, 9728, 142, 9996, 4151, 62...</td>\n",
       "    </tr>\n",
       "    <tr>\n",
       "      <th>4</th>\n",
       "      <td>374989</td>\n",
       "      <td>[16431, 3737, 4681, 5855, 8275, 141, 9811, 106...</td>\n",
       "    </tr>\n",
       "  </tbody>\n",
       "</table>\n",
       "</div>"
      ],
      "text/plain": [
       "   user_id                                            item_id\n",
       "0    10010  [13865, 9728, 15297, 142, 9996, 4151, 2657, 86...\n",
       "1  1049777  [1517, 12580, 6295, 2820, 11188, 13262, 3734, ...\n",
       "2   852272  [15297, 10440, 4151, 3734, 13865, 142, 9728, 9...\n",
       "3   812857  [15297, 13865, 3734, 9728, 142, 9996, 4151, 62...\n",
       "4   374989  [16431, 3737, 4681, 5855, 8275, 141, 9811, 106..."
      ]
     },
     "execution_count": 97,
     "metadata": {},
     "output_type": "execute_result"
    }
   ],
   "source": [
    "%time\n",
    "recs = pd.DataFrame({\n",
    "    'user_id': test['user_id'].unique()\n",
    "})\n",
    "recs['item_id'] = recs['user_id'].map(mapper)\n",
    "recs.head()"
   ]
  },
  {
   "cell_type": "code",
   "execution_count": 43,
   "id": "165c3a11",
   "metadata": {},
   "outputs": [
    {
     "data": {
      "text/html": [
       "<div>\n",
       "<style scoped>\n",
       "    .dataframe tbody tr th:only-of-type {\n",
       "        vertical-align: middle;\n",
       "    }\n",
       "\n",
       "    .dataframe tbody tr th {\n",
       "        vertical-align: top;\n",
       "    }\n",
       "\n",
       "    .dataframe thead th {\n",
       "        text-align: right;\n",
       "    }\n",
       "</style>\n",
       "<table border=\"1\" class=\"dataframe\">\n",
       "  <thead>\n",
       "    <tr style=\"text-align: right;\">\n",
       "      <th></th>\n",
       "      <th>user_id</th>\n",
       "      <th>item_id</th>\n",
       "      <th>rank</th>\n",
       "    </tr>\n",
       "  </thead>\n",
       "  <tbody>\n",
       "    <tr>\n",
       "      <th>0</th>\n",
       "      <td>10010</td>\n",
       "      <td>13865</td>\n",
       "      <td>1</td>\n",
       "    </tr>\n",
       "    <tr>\n",
       "      <th>0</th>\n",
       "      <td>10010</td>\n",
       "      <td>9728</td>\n",
       "      <td>2</td>\n",
       "    </tr>\n",
       "    <tr>\n",
       "      <th>0</th>\n",
       "      <td>10010</td>\n",
       "      <td>15297</td>\n",
       "      <td>3</td>\n",
       "    </tr>\n",
       "    <tr>\n",
       "      <th>0</th>\n",
       "      <td>10010</td>\n",
       "      <td>142</td>\n",
       "      <td>4</td>\n",
       "    </tr>\n",
       "    <tr>\n",
       "      <th>0</th>\n",
       "      <td>10010</td>\n",
       "      <td>9996</td>\n",
       "      <td>5</td>\n",
       "    </tr>\n",
       "    <tr>\n",
       "      <th>0</th>\n",
       "      <td>10010</td>\n",
       "      <td>4151</td>\n",
       "      <td>6</td>\n",
       "    </tr>\n",
       "    <tr>\n",
       "      <th>0</th>\n",
       "      <td>10010</td>\n",
       "      <td>2657</td>\n",
       "      <td>7</td>\n",
       "    </tr>\n",
       "    <tr>\n",
       "      <th>0</th>\n",
       "      <td>10010</td>\n",
       "      <td>8636</td>\n",
       "      <td>8</td>\n",
       "    </tr>\n",
       "    <tr>\n",
       "      <th>0</th>\n",
       "      <td>10010</td>\n",
       "      <td>10772</td>\n",
       "      <td>9</td>\n",
       "    </tr>\n",
       "    <tr>\n",
       "      <th>0</th>\n",
       "      <td>10010</td>\n",
       "      <td>7753</td>\n",
       "      <td>10</td>\n",
       "    </tr>\n",
       "    <tr>\n",
       "      <th>1</th>\n",
       "      <td>1049777</td>\n",
       "      <td>1517</td>\n",
       "      <td>1</td>\n",
       "    </tr>\n",
       "    <tr>\n",
       "      <th>1</th>\n",
       "      <td>1049777</td>\n",
       "      <td>12580</td>\n",
       "      <td>2</td>\n",
       "    </tr>\n",
       "  </tbody>\n",
       "</table>\n",
       "</div>"
      ],
      "text/plain": [
       "   user_id item_id  rank\n",
       "0    10010   13865     1\n",
       "0    10010    9728     2\n",
       "0    10010   15297     3\n",
       "0    10010     142     4\n",
       "0    10010    9996     5\n",
       "0    10010    4151     6\n",
       "0    10010    2657     7\n",
       "0    10010    8636     8\n",
       "0    10010   10772     9\n",
       "0    10010    7753    10\n",
       "1  1049777    1517     1\n",
       "1  1049777   12580     2"
      ]
     },
     "execution_count": 43,
     "metadata": {},
     "output_type": "execute_result"
    }
   ],
   "source": [
    "recs = recs.explode('item_id')\n",
    "recs['rank'] = recs.groupby('user_id').cumcount() + 1\n",
    "recs.head(top_N + 2)"
   ]
  },
  {
   "cell_type": "code",
   "execution_count": 44,
   "id": "32445016",
   "metadata": {},
   "outputs": [
    {
     "data": {
      "text/plain": [
       "Precision@1     0.044844\n",
       "Recall@1        0.031769\n",
       "Precision@2     0.036916\n",
       "Recall@2        0.051049\n",
       "Precision@3     0.032242\n",
       "Recall@3        0.065818\n",
       "Precision@4     0.028599\n",
       "Recall@4        0.077342\n",
       "Precision@5     0.026135\n",
       "Recall@5        0.088283\n",
       "Precision@6     0.023979\n",
       "Recall@6        0.096856\n",
       "Precision@7     0.022230\n",
       "Recall@7        0.104517\n",
       "Precision@8     0.020821\n",
       "Recall@8        0.111381\n",
       "Precision@9     0.019693\n",
       "Recall@9        0.118539\n",
       "Precision@10    0.018589\n",
       "Recall@10       0.123954\n",
       "MAP@10          0.057534\n",
       "MRR             0.077855\n",
       "dtype: float64"
      ]
     },
     "execution_count": 44,
     "metadata": {},
     "output_type": "execute_result"
    }
   ],
   "source": [
    "metrics = compute_metrics2(test, recs, top_N)\n",
    "metrics"
   ]
  },
  {
   "cell_type": "code",
   "execution_count": 45,
   "id": "24cf19e4",
   "metadata": {},
   "outputs": [
    {
     "name": "stdout",
     "output_type": "stream",
     "text": [
      "test range - from 2021-08-15 00:00:00 to 2021-08-16 00:00:00\n",
      "train shape - (4985269, 5), test shape - (53106, 5)\n"
     ]
    },
    {
     "data": {
      "application/vnd.jupyter.widget-view+json": {
       "model_id": "5d3a18f8c9e4440dba3273204e036181",
       "version_major": 2,
       "version_minor": 0
      },
      "text/plain": [
       "HBox(children=(HTML(value=''), FloatProgress(value=0.0, max=15706.0), HTML(value='')))"
      ]
     },
     "metadata": {},
     "output_type": "display_data"
    },
    {
     "name": "stdout",
     "output_type": "stream",
     "text": [
      "\n",
      "test range - from 2021-08-16 00:00:00 to 2021-08-17 00:00:00\n",
      "train shape - (5051815, 5), test shape - (43835, 5)\n"
     ]
    },
    {
     "data": {
      "application/vnd.jupyter.widget-view+json": {
       "model_id": "e200dafea5664c8b9cfd2ad5bddff38a",
       "version_major": 2,
       "version_minor": 0
      },
      "text/plain": [
       "HBox(children=(HTML(value=''), FloatProgress(value=0.0, max=15706.0), HTML(value='')))"
      ]
     },
     "metadata": {},
     "output_type": "display_data"
    },
    {
     "name": "stdout",
     "output_type": "stream",
     "text": [
      "\n",
      "test range - from 2021-08-17 00:00:00 to 2021-08-18 00:00:00\n",
      "train shape - (5106361, 5), test shape - (43926, 5)\n"
     ]
    },
    {
     "data": {
      "application/vnd.jupyter.widget-view+json": {
       "model_id": "50303ccdb5574db9b994faf47a0a4d4f",
       "version_major": 2,
       "version_minor": 0
      },
      "text/plain": [
       "HBox(children=(HTML(value=''), FloatProgress(value=0.0, max=15706.0), HTML(value='')))"
      ]
     },
     "metadata": {},
     "output_type": "display_data"
    },
    {
     "name": "stdout",
     "output_type": "stream",
     "text": [
      "\n",
      "test range - from 2021-08-18 00:00:00 to 2021-08-19 00:00:00\n",
      "train shape - (5160672, 5), test shape - (46113, 5)\n"
     ]
    },
    {
     "data": {
      "application/vnd.jupyter.widget-view+json": {
       "model_id": "1baa28633e2648b0b7db23f487a56015",
       "version_major": 2,
       "version_minor": 0
      },
      "text/plain": [
       "HBox(children=(HTML(value=''), FloatProgress(value=0.0, max=15706.0), HTML(value='')))"
      ]
     },
     "metadata": {},
     "output_type": "display_data"
    },
    {
     "name": "stdout",
     "output_type": "stream",
     "text": [
      "\n",
      "test range - from 2021-08-19 00:00:00 to 2021-08-20 00:00:00\n",
      "train shape - (5217461, 5), test shape - (47526, 5)\n"
     ]
    },
    {
     "data": {
      "application/vnd.jupyter.widget-view+json": {
       "model_id": "e5a4458400d2433db37e30683d8f1e3b",
       "version_major": 2,
       "version_minor": 0
      },
      "text/plain": [
       "HBox(children=(HTML(value=''), FloatProgress(value=0.0, max=15706.0), HTML(value='')))"
      ]
     },
     "metadata": {},
     "output_type": "display_data"
    },
    {
     "name": "stdout",
     "output_type": "stream",
     "text": [
      "\n",
      "test range - from 2021-08-20 00:00:00 to 2021-08-21 00:00:00\n",
      "train shape - (5276101, 5), test shape - (48687, 5)\n"
     ]
    },
    {
     "data": {
      "application/vnd.jupyter.widget-view+json": {
       "model_id": "dc7299e23fe847e5b46fa0d82caaf477",
       "version_major": 2,
       "version_minor": 0
      },
      "text/plain": [
       "HBox(children=(HTML(value=''), FloatProgress(value=0.0, max=15706.0), HTML(value='')))"
      ]
     },
     "metadata": {},
     "output_type": "display_data"
    },
    {
     "name": "stdout",
     "output_type": "stream",
     "text": [
      "\n",
      "test range - from 2021-08-21 00:00:00 to 2021-08-22 00:00:00\n",
      "train shape - (5336246, 5), test shape - (55285, 5)\n"
     ]
    },
    {
     "data": {
      "application/vnd.jupyter.widget-view+json": {
       "model_id": "82bfe67650b74eb6922b0a61ffd76b2e",
       "version_major": 2,
       "version_minor": 0
      },
      "text/plain": [
       "HBox(children=(HTML(value=''), FloatProgress(value=0.0, max=15706.0), HTML(value='')))"
      ]
     },
     "metadata": {},
     "output_type": "display_data"
    },
    {
     "name": "stdout",
     "output_type": "stream",
     "text": [
      "\n",
      "Wall time: 1min 6s\n"
     ]
    }
   ],
   "source": [
    "%%time\n",
    "validation_results = pd.DataFrame()\n",
    "\n",
    "for train_idx, test_idx, info in folds_with_stats:\n",
    "    print(f\"test range - from {info['Start date']} to {info['End date']}\")\n",
    "    train = interactions_df.loc[train_idx]\n",
    "    test = interactions_df.loc[test_idx]\n",
    "    print(f'train shape - {train.shape}, test shape - {test.shape}')\n",
    "    \n",
    "    train_mat = get_coo_matrix(train).tocsr()\n",
    "    \n",
    "    cosine_model = CosineRecommender(K=10)\n",
    "    cosine_model.fit(train_mat.T) # \n",
    "    \n",
    "    mapper = generate_implicit_recs_mapper(cosine_model, train_mat, top_N, users_mapping, items_inv_mapping)\n",
    "    \n",
    "    recs = pd.DataFrame({\n",
    "        'user_id': test['user_id'].unique()\n",
    "    })\n",
    "    recs['item_id'] = recs['user_id'].map(mapper)\n",
    "    recs = recs.explode('item_id')\n",
    "    recs['rank'] = recs.groupby('user_id').cumcount() + 1\n",
    "    fold_result = compute_metrics2(test, recs, top_N)\n",
    "    fold_result.at['Date'] = info['Start date']\n",
    "    fold_result.at['argv'] = 'K=10'\n",
    "    fold_result.at['Model'] = 'cosine model'\n",
    "    \n",
    "    validation_results = validation_results.append(fold_result, ignore_index=True)"
   ]
  },
  {
   "cell_type": "code",
   "execution_count": 46,
   "id": "cad5a007",
   "metadata": {},
   "outputs": [
    {
     "data": {
      "text/html": [
       "<div>\n",
       "<style scoped>\n",
       "    .dataframe tbody tr th:only-of-type {\n",
       "        vertical-align: middle;\n",
       "    }\n",
       "\n",
       "    .dataframe tbody tr th {\n",
       "        vertical-align: top;\n",
       "    }\n",
       "\n",
       "    .dataframe thead th {\n",
       "        text-align: right;\n",
       "    }\n",
       "</style>\n",
       "<table border=\"1\" class=\"dataframe\">\n",
       "  <thead>\n",
       "    <tr style=\"text-align: right;\">\n",
       "      <th></th>\n",
       "      <th>Date</th>\n",
       "      <th>MAP@10</th>\n",
       "      <th>MRR</th>\n",
       "      <th>Model</th>\n",
       "      <th>Precision@1</th>\n",
       "      <th>Precision@10</th>\n",
       "      <th>Precision@2</th>\n",
       "      <th>Precision@3</th>\n",
       "      <th>Precision@4</th>\n",
       "      <th>Precision@5</th>\n",
       "      <th>...</th>\n",
       "      <th>Recall@10</th>\n",
       "      <th>Recall@2</th>\n",
       "      <th>Recall@3</th>\n",
       "      <th>Recall@4</th>\n",
       "      <th>Recall@5</th>\n",
       "      <th>Recall@6</th>\n",
       "      <th>Recall@7</th>\n",
       "      <th>Recall@8</th>\n",
       "      <th>Recall@9</th>\n",
       "      <th>argv</th>\n",
       "    </tr>\n",
       "  </thead>\n",
       "  <tbody>\n",
       "    <tr>\n",
       "      <th>0</th>\n",
       "      <td>2021-08-15</td>\n",
       "      <td>0.074245</td>\n",
       "      <td>0.099394</td>\n",
       "      <td>cosine model</td>\n",
       "      <td>0.054994</td>\n",
       "      <td>0.024497</td>\n",
       "      <td>0.046433</td>\n",
       "      <td>0.040402</td>\n",
       "      <td>0.036916</td>\n",
       "      <td>0.033787</td>\n",
       "      <td>...</td>\n",
       "      <td>0.165906</td>\n",
       "      <td>0.065232</td>\n",
       "      <td>0.083810</td>\n",
       "      <td>0.101796</td>\n",
       "      <td>0.116246</td>\n",
       "      <td>0.127829</td>\n",
       "      <td>0.138213</td>\n",
       "      <td>0.150285</td>\n",
       "      <td>0.159159</td>\n",
       "      <td>K=10</td>\n",
       "    </tr>\n",
       "    <tr>\n",
       "      <th>1</th>\n",
       "      <td>2021-08-16</td>\n",
       "      <td>0.080118</td>\n",
       "      <td>0.103494</td>\n",
       "      <td>cosine model</td>\n",
       "      <td>0.058450</td>\n",
       "      <td>0.025041</td>\n",
       "      <td>0.048714</td>\n",
       "      <td>0.041660</td>\n",
       "      <td>0.037363</td>\n",
       "      <td>0.033987</td>\n",
       "      <td>...</td>\n",
       "      <td>0.177243</td>\n",
       "      <td>0.072083</td>\n",
       "      <td>0.091213</td>\n",
       "      <td>0.107507</td>\n",
       "      <td>0.121290</td>\n",
       "      <td>0.135355</td>\n",
       "      <td>0.149163</td>\n",
       "      <td>0.160741</td>\n",
       "      <td>0.169922</td>\n",
       "      <td>K=10</td>\n",
       "    </tr>\n",
       "    <tr>\n",
       "      <th>2</th>\n",
       "      <td>2021-08-17</td>\n",
       "      <td>0.077311</td>\n",
       "      <td>0.100741</td>\n",
       "      <td>cosine model</td>\n",
       "      <td>0.056424</td>\n",
       "      <td>0.024322</td>\n",
       "      <td>0.048033</td>\n",
       "      <td>0.040798</td>\n",
       "      <td>0.037143</td>\n",
       "      <td>0.033817</td>\n",
       "      <td>...</td>\n",
       "      <td>0.170680</td>\n",
       "      <td>0.068888</td>\n",
       "      <td>0.087273</td>\n",
       "      <td>0.105120</td>\n",
       "      <td>0.119124</td>\n",
       "      <td>0.132930</td>\n",
       "      <td>0.144018</td>\n",
       "      <td>0.154212</td>\n",
       "      <td>0.164328</td>\n",
       "      <td>K=10</td>\n",
       "    </tr>\n",
       "    <tr>\n",
       "      <th>3</th>\n",
       "      <td>2021-08-18</td>\n",
       "      <td>0.076297</td>\n",
       "      <td>0.099500</td>\n",
       "      <td>cosine model</td>\n",
       "      <td>0.054609</td>\n",
       "      <td>0.024607</td>\n",
       "      <td>0.046291</td>\n",
       "      <td>0.039745</td>\n",
       "      <td>0.036563</td>\n",
       "      <td>0.033366</td>\n",
       "      <td>...</td>\n",
       "      <td>0.172431</td>\n",
       "      <td>0.067396</td>\n",
       "      <td>0.085739</td>\n",
       "      <td>0.104353</td>\n",
       "      <td>0.118716</td>\n",
       "      <td>0.132295</td>\n",
       "      <td>0.144946</td>\n",
       "      <td>0.155196</td>\n",
       "      <td>0.165265</td>\n",
       "      <td>K=10</td>\n",
       "    </tr>\n",
       "    <tr>\n",
       "      <th>4</th>\n",
       "      <td>2021-08-19</td>\n",
       "      <td>0.074842</td>\n",
       "      <td>0.097909</td>\n",
       "      <td>cosine model</td>\n",
       "      <td>0.055517</td>\n",
       "      <td>0.024044</td>\n",
       "      <td>0.045083</td>\n",
       "      <td>0.038671</td>\n",
       "      <td>0.035351</td>\n",
       "      <td>0.032391</td>\n",
       "      <td>...</td>\n",
       "      <td>0.167772</td>\n",
       "      <td>0.064888</td>\n",
       "      <td>0.082738</td>\n",
       "      <td>0.100650</td>\n",
       "      <td>0.114593</td>\n",
       "      <td>0.128283</td>\n",
       "      <td>0.140546</td>\n",
       "      <td>0.151515</td>\n",
       "      <td>0.160574</td>\n",
       "      <td>K=10</td>\n",
       "    </tr>\n",
       "    <tr>\n",
       "      <th>5</th>\n",
       "      <td>2021-08-20</td>\n",
       "      <td>0.074153</td>\n",
       "      <td>0.096608</td>\n",
       "      <td>cosine model</td>\n",
       "      <td>0.052755</td>\n",
       "      <td>0.023985</td>\n",
       "      <td>0.044877</td>\n",
       "      <td>0.038863</td>\n",
       "      <td>0.035661</td>\n",
       "      <td>0.032615</td>\n",
       "      <td>...</td>\n",
       "      <td>0.167678</td>\n",
       "      <td>0.065052</td>\n",
       "      <td>0.083959</td>\n",
       "      <td>0.102193</td>\n",
       "      <td>0.116274</td>\n",
       "      <td>0.129035</td>\n",
       "      <td>0.140930</td>\n",
       "      <td>0.152611</td>\n",
       "      <td>0.161186</td>\n",
       "      <td>K=10</td>\n",
       "    </tr>\n",
       "    <tr>\n",
       "      <th>6</th>\n",
       "      <td>2021-08-21</td>\n",
       "      <td>0.073922</td>\n",
       "      <td>0.098405</td>\n",
       "      <td>cosine model</td>\n",
       "      <td>0.054302</td>\n",
       "      <td>0.024272</td>\n",
       "      <td>0.045257</td>\n",
       "      <td>0.039501</td>\n",
       "      <td>0.036080</td>\n",
       "      <td>0.033146</td>\n",
       "      <td>...</td>\n",
       "      <td>0.165945</td>\n",
       "      <td>0.064820</td>\n",
       "      <td>0.083964</td>\n",
       "      <td>0.101654</td>\n",
       "      <td>0.115749</td>\n",
       "      <td>0.127977</td>\n",
       "      <td>0.138412</td>\n",
       "      <td>0.149469</td>\n",
       "      <td>0.158766</td>\n",
       "      <td>K=10</td>\n",
       "    </tr>\n",
       "  </tbody>\n",
       "</table>\n",
       "<p>7 rows × 25 columns</p>\n",
       "</div>"
      ],
      "text/plain": [
       "        Date    MAP@10       MRR         Model  Precision@1  Precision@10  \\\n",
       "0 2021-08-15  0.074245  0.099394  cosine model     0.054994      0.024497   \n",
       "1 2021-08-16  0.080118  0.103494  cosine model     0.058450      0.025041   \n",
       "2 2021-08-17  0.077311  0.100741  cosine model     0.056424      0.024322   \n",
       "3 2021-08-18  0.076297  0.099500  cosine model     0.054609      0.024607   \n",
       "4 2021-08-19  0.074842  0.097909  cosine model     0.055517      0.024044   \n",
       "5 2021-08-20  0.074153  0.096608  cosine model     0.052755      0.023985   \n",
       "6 2021-08-21  0.073922  0.098405  cosine model     0.054302      0.024272   \n",
       "\n",
       "   Precision@2  Precision@3  Precision@4  Precision@5  ...  Recall@10  \\\n",
       "0     0.046433     0.040402     0.036916     0.033787  ...   0.165906   \n",
       "1     0.048714     0.041660     0.037363     0.033987  ...   0.177243   \n",
       "2     0.048033     0.040798     0.037143     0.033817  ...   0.170680   \n",
       "3     0.046291     0.039745     0.036563     0.033366  ...   0.172431   \n",
       "4     0.045083     0.038671     0.035351     0.032391  ...   0.167772   \n",
       "5     0.044877     0.038863     0.035661     0.032615  ...   0.167678   \n",
       "6     0.045257     0.039501     0.036080     0.033146  ...   0.165945   \n",
       "\n",
       "   Recall@2  Recall@3  Recall@4  Recall@5  Recall@6  Recall@7  Recall@8  \\\n",
       "0  0.065232  0.083810  0.101796  0.116246  0.127829  0.138213  0.150285   \n",
       "1  0.072083  0.091213  0.107507  0.121290  0.135355  0.149163  0.160741   \n",
       "2  0.068888  0.087273  0.105120  0.119124  0.132930  0.144018  0.154212   \n",
       "3  0.067396  0.085739  0.104353  0.118716  0.132295  0.144946  0.155196   \n",
       "4  0.064888  0.082738  0.100650  0.114593  0.128283  0.140546  0.151515   \n",
       "5  0.065052  0.083959  0.102193  0.116274  0.129035  0.140930  0.152611   \n",
       "6  0.064820  0.083964  0.101654  0.115749  0.127977  0.138412  0.149469   \n",
       "\n",
       "   Recall@9  argv  \n",
       "0  0.159159  K=10  \n",
       "1  0.169922  K=10  \n",
       "2  0.164328  K=10  \n",
       "3  0.165265  K=10  \n",
       "4  0.160574  K=10  \n",
       "5  0.161186  K=10  \n",
       "6  0.158766  K=10  \n",
       "\n",
       "[7 rows x 25 columns]"
      ]
     },
     "execution_count": 46,
     "metadata": {},
     "output_type": "execute_result"
    }
   ],
   "source": [
    "validation_results"
   ]
  },
  {
   "cell_type": "code",
   "execution_count": 47,
   "id": "e73756ed",
   "metadata": {},
   "outputs": [
    {
     "data": {
      "text/html": [
       "<div>\n",
       "<style scoped>\n",
       "    .dataframe tbody tr th:only-of-type {\n",
       "        vertical-align: middle;\n",
       "    }\n",
       "\n",
       "    .dataframe tbody tr th {\n",
       "        vertical-align: top;\n",
       "    }\n",
       "\n",
       "    .dataframe thead th {\n",
       "        text-align: right;\n",
       "    }\n",
       "</style>\n",
       "<table border=\"1\" class=\"dataframe\">\n",
       "  <thead>\n",
       "    <tr style=\"text-align: right;\">\n",
       "      <th></th>\n",
       "      <th>MRR</th>\n",
       "      <th>MAP@10</th>\n",
       "      <th>Recall@10</th>\n",
       "    </tr>\n",
       "  </thead>\n",
       "  <tbody>\n",
       "    <tr>\n",
       "      <th>mean</th>\n",
       "      <td>0.099436</td>\n",
       "      <td>0.075841</td>\n",
       "      <td>0.169665</td>\n",
       "    </tr>\n",
       "    <tr>\n",
       "      <th>std</th>\n",
       "      <td>0.002220</td>\n",
       "      <td>0.002263</td>\n",
       "      <td>0.004115</td>\n",
       "    </tr>\n",
       "    <tr>\n",
       "      <th>min</th>\n",
       "      <td>0.096608</td>\n",
       "      <td>0.073922</td>\n",
       "      <td>0.165906</td>\n",
       "    </tr>\n",
       "    <tr>\n",
       "      <th>max</th>\n",
       "      <td>0.103494</td>\n",
       "      <td>0.080118</td>\n",
       "      <td>0.177243</td>\n",
       "    </tr>\n",
       "  </tbody>\n",
       "</table>\n",
       "</div>"
      ],
      "text/plain": [
       "           MRR    MAP@10  Recall@10\n",
       "mean  0.099436  0.075841   0.169665\n",
       "std   0.002220  0.002263   0.004115\n",
       "min   0.096608  0.073922   0.165906\n",
       "max   0.103494  0.080118   0.177243"
      ]
     },
     "execution_count": 47,
     "metadata": {},
     "output_type": "execute_result"
    }
   ],
   "source": [
    "validation_results.agg({\n",
    "    'MRR': ['mean', 'std', 'min', 'max'],\n",
    "    'MAP@10': ['mean', 'std', 'min', 'max'],\n",
    "    'Recall@10': ['mean', 'std', 'min', 'max'],\n",
    "})"
   ]
  },
  {
   "cell_type": "markdown",
   "id": "ee93296f",
   "metadata": {},
   "source": [
    "<a id=\"tfidf_rec\"></a>\n",
    "### TFIDFRecommender"
   ]
  },
  {
   "cell_type": "code",
   "execution_count": 48,
   "id": "827114bb",
   "metadata": {},
   "outputs": [
    {
     "name": "stdout",
     "output_type": "stream",
     "text": [
      "test range - from 2021-08-15 00:00:00 to 2021-08-16 00:00:00\n",
      "train shape - (4985269, 5), test shape - (53106, 5)\n",
      "test range - from 2021-08-16 00:00:00 to 2021-08-17 00:00:00\n",
      "train shape - (5051815, 5), test shape - (43835, 5)\n",
      "test range - from 2021-08-17 00:00:00 to 2021-08-18 00:00:00\n",
      "train shape - (5106361, 5), test shape - (43926, 5)\n",
      "test range - from 2021-08-18 00:00:00 to 2021-08-19 00:00:00\n",
      "train shape - (5160672, 5), test shape - (46113, 5)\n",
      "test range - from 2021-08-19 00:00:00 to 2021-08-20 00:00:00\n",
      "train shape - (5217461, 5), test shape - (47526, 5)\n",
      "test range - from 2021-08-20 00:00:00 to 2021-08-21 00:00:00\n",
      "train shape - (5276101, 5), test shape - (48687, 5)\n",
      "test range - from 2021-08-21 00:00:00 to 2021-08-22 00:00:00\n",
      "train shape - (5336246, 5), test shape - (55285, 5)\n",
      "test range - from 2021-08-15 00:00:00 to 2021-08-16 00:00:00\n",
      "train shape - (4985269, 5), test shape - (53106, 5)\n",
      "test range - from 2021-08-16 00:00:00 to 2021-08-17 00:00:00\n",
      "train shape - (5051815, 5), test shape - (43835, 5)\n",
      "test range - from 2021-08-17 00:00:00 to 2021-08-18 00:00:00\n",
      "train shape - (5106361, 5), test shape - (43926, 5)\n",
      "test range - from 2021-08-18 00:00:00 to 2021-08-19 00:00:00\n",
      "train shape - (5160672, 5), test shape - (46113, 5)\n",
      "test range - from 2021-08-19 00:00:00 to 2021-08-20 00:00:00\n",
      "train shape - (5217461, 5), test shape - (47526, 5)\n",
      "test range - from 2021-08-20 00:00:00 to 2021-08-21 00:00:00\n",
      "train shape - (5276101, 5), test shape - (48687, 5)\n",
      "test range - from 2021-08-21 00:00:00 to 2021-08-22 00:00:00\n",
      "train shape - (5336246, 5), test shape - (55285, 5)\n"
     ]
    }
   ],
   "source": [
    "for model_class in [BM25Recommender, TFIDFRecommender]:\n",
    "    for train_idx, test_idx, info in folds_with_stats:\n",
    "        print(f\"test range - from {info['Start date']} to {info['End date']}\")\n",
    "        train = interactions_df.loc[train_idx]\n",
    "        test = interactions_df.loc[test_idx]\n",
    "        print(f'train shape - {train.shape}, test shape - {test.shape}')\n",
    "        \n",
    "        train_mat = get_coo_matrix(train).tocsr()\n",
    "        \n",
    "        model = model_class(K=10)\n",
    "        model.fit(train_mat.T, show_progress=False) \n",
    "\n",
    "        mapper = generate_implicit_recs_mapper(model, train_mat, top_N, users_mapping, items_inv_mapping)\n",
    "\n",
    "        recs = pd.DataFrame({\n",
    "            'user_id': test['user_id'].unique()\n",
    "        })\n",
    "        recs['item_id'] = recs['user_id'].map(mapper)\n",
    "        recs = recs.explode('item_id')\n",
    "        recs['rank'] = recs.groupby('user_id').cumcount() + 1\n",
    "        fold_result = compute_metrics2(test, recs, top_N)\n",
    "        fold_result.at['Date'] = info['Start date']\n",
    "        fold_result.at['argv'] = 'K=10'\n",
    "        fold_result.at['Model'] = model.__class__.__name__\n",
    "\n",
    "        validation_results = validation_results.append(fold_result, ignore_index=True)"
   ]
  },
  {
   "cell_type": "code",
   "execution_count": 49,
   "id": "45f72a77",
   "metadata": {},
   "outputs": [
    {
     "data": {
      "text/html": [
       "<div>\n",
       "<style scoped>\n",
       "    .dataframe tbody tr th:only-of-type {\n",
       "        vertical-align: middle;\n",
       "    }\n",
       "\n",
       "    .dataframe tbody tr th {\n",
       "        vertical-align: top;\n",
       "    }\n",
       "\n",
       "    .dataframe thead th {\n",
       "        text-align: right;\n",
       "    }\n",
       "</style>\n",
       "<table border=\"1\" class=\"dataframe\">\n",
       "  <thead>\n",
       "    <tr style=\"text-align: right;\">\n",
       "      <th></th>\n",
       "      <th>Date</th>\n",
       "      <th>MAP@10</th>\n",
       "      <th>MRR</th>\n",
       "      <th>Model</th>\n",
       "      <th>Precision@1</th>\n",
       "      <th>Precision@10</th>\n",
       "      <th>Precision@2</th>\n",
       "      <th>Precision@3</th>\n",
       "      <th>Precision@4</th>\n",
       "      <th>Precision@5</th>\n",
       "      <th>...</th>\n",
       "      <th>Recall@10</th>\n",
       "      <th>Recall@2</th>\n",
       "      <th>Recall@3</th>\n",
       "      <th>Recall@4</th>\n",
       "      <th>Recall@5</th>\n",
       "      <th>Recall@6</th>\n",
       "      <th>Recall@7</th>\n",
       "      <th>Recall@8</th>\n",
       "      <th>Recall@9</th>\n",
       "      <th>argv</th>\n",
       "    </tr>\n",
       "  </thead>\n",
       "  <tbody>\n",
       "    <tr>\n",
       "      <th>0</th>\n",
       "      <td>2021-08-15</td>\n",
       "      <td>0.074245</td>\n",
       "      <td>0.099394</td>\n",
       "      <td>cosine model</td>\n",
       "      <td>0.054994</td>\n",
       "      <td>0.024497</td>\n",
       "      <td>0.046433</td>\n",
       "      <td>0.040402</td>\n",
       "      <td>0.036916</td>\n",
       "      <td>0.033787</td>\n",
       "      <td>...</td>\n",
       "      <td>0.165906</td>\n",
       "      <td>0.065232</td>\n",
       "      <td>0.083810</td>\n",
       "      <td>0.101796</td>\n",
       "      <td>0.116246</td>\n",
       "      <td>0.127829</td>\n",
       "      <td>0.138213</td>\n",
       "      <td>0.150285</td>\n",
       "      <td>0.159159</td>\n",
       "      <td>K=10</td>\n",
       "    </tr>\n",
       "    <tr>\n",
       "      <th>1</th>\n",
       "      <td>2021-08-16</td>\n",
       "      <td>0.080118</td>\n",
       "      <td>0.103494</td>\n",
       "      <td>cosine model</td>\n",
       "      <td>0.058450</td>\n",
       "      <td>0.025041</td>\n",
       "      <td>0.048714</td>\n",
       "      <td>0.041660</td>\n",
       "      <td>0.037363</td>\n",
       "      <td>0.033987</td>\n",
       "      <td>...</td>\n",
       "      <td>0.177243</td>\n",
       "      <td>0.072083</td>\n",
       "      <td>0.091213</td>\n",
       "      <td>0.107507</td>\n",
       "      <td>0.121290</td>\n",
       "      <td>0.135355</td>\n",
       "      <td>0.149163</td>\n",
       "      <td>0.160741</td>\n",
       "      <td>0.169922</td>\n",
       "      <td>K=10</td>\n",
       "    </tr>\n",
       "    <tr>\n",
       "      <th>2</th>\n",
       "      <td>2021-08-17</td>\n",
       "      <td>0.077311</td>\n",
       "      <td>0.100741</td>\n",
       "      <td>cosine model</td>\n",
       "      <td>0.056424</td>\n",
       "      <td>0.024322</td>\n",
       "      <td>0.048033</td>\n",
       "      <td>0.040798</td>\n",
       "      <td>0.037143</td>\n",
       "      <td>0.033817</td>\n",
       "      <td>...</td>\n",
       "      <td>0.170680</td>\n",
       "      <td>0.068888</td>\n",
       "      <td>0.087273</td>\n",
       "      <td>0.105120</td>\n",
       "      <td>0.119124</td>\n",
       "      <td>0.132930</td>\n",
       "      <td>0.144018</td>\n",
       "      <td>0.154212</td>\n",
       "      <td>0.164328</td>\n",
       "      <td>K=10</td>\n",
       "    </tr>\n",
       "    <tr>\n",
       "      <th>3</th>\n",
       "      <td>2021-08-18</td>\n",
       "      <td>0.076297</td>\n",
       "      <td>0.099500</td>\n",
       "      <td>cosine model</td>\n",
       "      <td>0.054609</td>\n",
       "      <td>0.024607</td>\n",
       "      <td>0.046291</td>\n",
       "      <td>0.039745</td>\n",
       "      <td>0.036563</td>\n",
       "      <td>0.033366</td>\n",
       "      <td>...</td>\n",
       "      <td>0.172431</td>\n",
       "      <td>0.067396</td>\n",
       "      <td>0.085739</td>\n",
       "      <td>0.104353</td>\n",
       "      <td>0.118716</td>\n",
       "      <td>0.132295</td>\n",
       "      <td>0.144946</td>\n",
       "      <td>0.155196</td>\n",
       "      <td>0.165265</td>\n",
       "      <td>K=10</td>\n",
       "    </tr>\n",
       "    <tr>\n",
       "      <th>4</th>\n",
       "      <td>2021-08-19</td>\n",
       "      <td>0.074842</td>\n",
       "      <td>0.097909</td>\n",
       "      <td>cosine model</td>\n",
       "      <td>0.055517</td>\n",
       "      <td>0.024044</td>\n",
       "      <td>0.045083</td>\n",
       "      <td>0.038671</td>\n",
       "      <td>0.035351</td>\n",
       "      <td>0.032391</td>\n",
       "      <td>...</td>\n",
       "      <td>0.167772</td>\n",
       "      <td>0.064888</td>\n",
       "      <td>0.082738</td>\n",
       "      <td>0.100650</td>\n",
       "      <td>0.114593</td>\n",
       "      <td>0.128283</td>\n",
       "      <td>0.140546</td>\n",
       "      <td>0.151515</td>\n",
       "      <td>0.160574</td>\n",
       "      <td>K=10</td>\n",
       "    </tr>\n",
       "    <tr>\n",
       "      <th>5</th>\n",
       "      <td>2021-08-20</td>\n",
       "      <td>0.074153</td>\n",
       "      <td>0.096608</td>\n",
       "      <td>cosine model</td>\n",
       "      <td>0.052755</td>\n",
       "      <td>0.023985</td>\n",
       "      <td>0.044877</td>\n",
       "      <td>0.038863</td>\n",
       "      <td>0.035661</td>\n",
       "      <td>0.032615</td>\n",
       "      <td>...</td>\n",
       "      <td>0.167678</td>\n",
       "      <td>0.065052</td>\n",
       "      <td>0.083959</td>\n",
       "      <td>0.102193</td>\n",
       "      <td>0.116274</td>\n",
       "      <td>0.129035</td>\n",
       "      <td>0.140930</td>\n",
       "      <td>0.152611</td>\n",
       "      <td>0.161186</td>\n",
       "      <td>K=10</td>\n",
       "    </tr>\n",
       "    <tr>\n",
       "      <th>6</th>\n",
       "      <td>2021-08-21</td>\n",
       "      <td>0.073922</td>\n",
       "      <td>0.098405</td>\n",
       "      <td>cosine model</td>\n",
       "      <td>0.054302</td>\n",
       "      <td>0.024272</td>\n",
       "      <td>0.045257</td>\n",
       "      <td>0.039501</td>\n",
       "      <td>0.036080</td>\n",
       "      <td>0.033146</td>\n",
       "      <td>...</td>\n",
       "      <td>0.165945</td>\n",
       "      <td>0.064820</td>\n",
       "      <td>0.083964</td>\n",
       "      <td>0.101654</td>\n",
       "      <td>0.115749</td>\n",
       "      <td>0.127977</td>\n",
       "      <td>0.138412</td>\n",
       "      <td>0.149469</td>\n",
       "      <td>0.158766</td>\n",
       "      <td>K=10</td>\n",
       "    </tr>\n",
       "    <tr>\n",
       "      <th>7</th>\n",
       "      <td>2021-08-15</td>\n",
       "      <td>0.025038</td>\n",
       "      <td>0.035391</td>\n",
       "      <td>BM25Recommender</td>\n",
       "      <td>0.019715</td>\n",
       "      <td>0.009433</td>\n",
       "      <td>0.015856</td>\n",
       "      <td>0.014256</td>\n",
       "      <td>0.013116</td>\n",
       "      <td>0.012017</td>\n",
       "      <td>...</td>\n",
       "      <td>0.057767</td>\n",
       "      <td>0.020408</td>\n",
       "      <td>0.027237</td>\n",
       "      <td>0.032693</td>\n",
       "      <td>0.037262</td>\n",
       "      <td>0.041587</td>\n",
       "      <td>0.046905</td>\n",
       "      <td>0.051171</td>\n",
       "      <td>0.054722</td>\n",
       "      <td>K=10</td>\n",
       "    </tr>\n",
       "    <tr>\n",
       "      <th>8</th>\n",
       "      <td>2021-08-16</td>\n",
       "      <td>0.027117</td>\n",
       "      <td>0.037275</td>\n",
       "      <td>BM25Recommender</td>\n",
       "      <td>0.020335</td>\n",
       "      <td>0.009863</td>\n",
       "      <td>0.016764</td>\n",
       "      <td>0.014810</td>\n",
       "      <td>0.013447</td>\n",
       "      <td>0.012652</td>\n",
       "      <td>...</td>\n",
       "      <td>0.064119</td>\n",
       "      <td>0.022511</td>\n",
       "      <td>0.029414</td>\n",
       "      <td>0.035394</td>\n",
       "      <td>0.041059</td>\n",
       "      <td>0.046314</td>\n",
       "      <td>0.051580</td>\n",
       "      <td>0.056562</td>\n",
       "      <td>0.060446</td>\n",
       "      <td>K=10</td>\n",
       "    </tr>\n",
       "    <tr>\n",
       "      <th>9</th>\n",
       "      <td>2021-08-17</td>\n",
       "      <td>0.025965</td>\n",
       "      <td>0.035772</td>\n",
       "      <td>BM25Recommender</td>\n",
       "      <td>0.019914</td>\n",
       "      <td>0.009424</td>\n",
       "      <td>0.016371</td>\n",
       "      <td>0.014258</td>\n",
       "      <td>0.012810</td>\n",
       "      <td>0.012016</td>\n",
       "      <td>...</td>\n",
       "      <td>0.061183</td>\n",
       "      <td>0.021730</td>\n",
       "      <td>0.028068</td>\n",
       "      <td>0.033272</td>\n",
       "      <td>0.039056</td>\n",
       "      <td>0.043550</td>\n",
       "      <td>0.049272</td>\n",
       "      <td>0.053219</td>\n",
       "      <td>0.057397</td>\n",
       "      <td>K=10</td>\n",
       "    </tr>\n",
       "    <tr>\n",
       "      <th>10</th>\n",
       "      <td>2021-08-18</td>\n",
       "      <td>0.025836</td>\n",
       "      <td>0.036280</td>\n",
       "      <td>BM25Recommender</td>\n",
       "      <td>0.020723</td>\n",
       "      <td>0.009526</td>\n",
       "      <td>0.016455</td>\n",
       "      <td>0.014153</td>\n",
       "      <td>0.012875</td>\n",
       "      <td>0.012014</td>\n",
       "      <td>...</td>\n",
       "      <td>0.059918</td>\n",
       "      <td>0.021467</td>\n",
       "      <td>0.027291</td>\n",
       "      <td>0.032648</td>\n",
       "      <td>0.038068</td>\n",
       "      <td>0.042983</td>\n",
       "      <td>0.047891</td>\n",
       "      <td>0.052418</td>\n",
       "      <td>0.056334</td>\n",
       "      <td>K=10</td>\n",
       "    </tr>\n",
       "    <tr>\n",
       "      <th>11</th>\n",
       "      <td>2021-08-19</td>\n",
       "      <td>0.025444</td>\n",
       "      <td>0.035723</td>\n",
       "      <td>BM25Recommender</td>\n",
       "      <td>0.019569</td>\n",
       "      <td>0.009592</td>\n",
       "      <td>0.015957</td>\n",
       "      <td>0.014087</td>\n",
       "      <td>0.012880</td>\n",
       "      <td>0.011784</td>\n",
       "      <td>...</td>\n",
       "      <td>0.060421</td>\n",
       "      <td>0.021054</td>\n",
       "      <td>0.027229</td>\n",
       "      <td>0.032998</td>\n",
       "      <td>0.037723</td>\n",
       "      <td>0.043427</td>\n",
       "      <td>0.048763</td>\n",
       "      <td>0.053765</td>\n",
       "      <td>0.057310</td>\n",
       "      <td>K=10</td>\n",
       "    </tr>\n",
       "    <tr>\n",
       "      <th>12</th>\n",
       "      <td>2021-08-20</td>\n",
       "      <td>0.024286</td>\n",
       "      <td>0.034518</td>\n",
       "      <td>BM25Recommender</td>\n",
       "      <td>0.018229</td>\n",
       "      <td>0.009368</td>\n",
       "      <td>0.015484</td>\n",
       "      <td>0.013948</td>\n",
       "      <td>0.012782</td>\n",
       "      <td>0.011683</td>\n",
       "      <td>...</td>\n",
       "      <td>0.059347</td>\n",
       "      <td>0.019870</td>\n",
       "      <td>0.026870</td>\n",
       "      <td>0.032786</td>\n",
       "      <td>0.037054</td>\n",
       "      <td>0.042004</td>\n",
       "      <td>0.047726</td>\n",
       "      <td>0.052285</td>\n",
       "      <td>0.055983</td>\n",
       "      <td>K=10</td>\n",
       "    </tr>\n",
       "    <tr>\n",
       "      <th>13</th>\n",
       "      <td>2021-08-21</td>\n",
       "      <td>0.023187</td>\n",
       "      <td>0.033216</td>\n",
       "      <td>BM25Recommender</td>\n",
       "      <td>0.017532</td>\n",
       "      <td>0.008999</td>\n",
       "      <td>0.015065</td>\n",
       "      <td>0.013384</td>\n",
       "      <td>0.012055</td>\n",
       "      <td>0.011220</td>\n",
       "      <td>...</td>\n",
       "      <td>0.055278</td>\n",
       "      <td>0.019604</td>\n",
       "      <td>0.025771</td>\n",
       "      <td>0.030707</td>\n",
       "      <td>0.035562</td>\n",
       "      <td>0.039726</td>\n",
       "      <td>0.044437</td>\n",
       "      <td>0.048178</td>\n",
       "      <td>0.051834</td>\n",
       "      <td>K=10</td>\n",
       "    </tr>\n",
       "    <tr>\n",
       "      <th>14</th>\n",
       "      <td>2021-08-15</td>\n",
       "      <td>0.074749</td>\n",
       "      <td>0.099994</td>\n",
       "      <td>TFIDFRecommender</td>\n",
       "      <td>0.055318</td>\n",
       "      <td>0.024715</td>\n",
       "      <td>0.046757</td>\n",
       "      <td>0.040424</td>\n",
       "      <td>0.037070</td>\n",
       "      <td>0.033923</td>\n",
       "      <td>...</td>\n",
       "      <td>0.167739</td>\n",
       "      <td>0.065713</td>\n",
       "      <td>0.083963</td>\n",
       "      <td>0.102307</td>\n",
       "      <td>0.116839</td>\n",
       "      <td>0.128295</td>\n",
       "      <td>0.139635</td>\n",
       "      <td>0.151098</td>\n",
       "      <td>0.160788</td>\n",
       "      <td>K=10</td>\n",
       "    </tr>\n",
       "    <tr>\n",
       "      <th>15</th>\n",
       "      <td>2021-08-16</td>\n",
       "      <td>0.080986</td>\n",
       "      <td>0.104374</td>\n",
       "      <td>TFIDFRecommender</td>\n",
       "      <td>0.059239</td>\n",
       "      <td>0.025124</td>\n",
       "      <td>0.049184</td>\n",
       "      <td>0.041748</td>\n",
       "      <td>0.037833</td>\n",
       "      <td>0.034529</td>\n",
       "      <td>...</td>\n",
       "      <td>0.177860</td>\n",
       "      <td>0.072631</td>\n",
       "      <td>0.091357</td>\n",
       "      <td>0.109275</td>\n",
       "      <td>0.123545</td>\n",
       "      <td>0.137560</td>\n",
       "      <td>0.150169</td>\n",
       "      <td>0.161379</td>\n",
       "      <td>0.171212</td>\n",
       "      <td>K=10</td>\n",
       "    </tr>\n",
       "    <tr>\n",
       "      <th>16</th>\n",
       "      <td>2021-08-17</td>\n",
       "      <td>0.078174</td>\n",
       "      <td>0.101722</td>\n",
       "      <td>TFIDFRecommender</td>\n",
       "      <td>0.056834</td>\n",
       "      <td>0.024658</td>\n",
       "      <td>0.048574</td>\n",
       "      <td>0.041345</td>\n",
       "      <td>0.037600</td>\n",
       "      <td>0.033981</td>\n",
       "      <td>...</td>\n",
       "      <td>0.172841</td>\n",
       "      <td>0.069818</td>\n",
       "      <td>0.088651</td>\n",
       "      <td>0.106467</td>\n",
       "      <td>0.119952</td>\n",
       "      <td>0.133546</td>\n",
       "      <td>0.145372</td>\n",
       "      <td>0.156469</td>\n",
       "      <td>0.166096</td>\n",
       "      <td>K=10</td>\n",
       "    </tr>\n",
       "    <tr>\n",
       "      <th>17</th>\n",
       "      <td>2021-08-18</td>\n",
       "      <td>0.077389</td>\n",
       "      <td>0.100767</td>\n",
       "      <td>TFIDFRecommender</td>\n",
       "      <td>0.055984</td>\n",
       "      <td>0.024708</td>\n",
       "      <td>0.046780</td>\n",
       "      <td>0.039806</td>\n",
       "      <td>0.037006</td>\n",
       "      <td>0.033793</td>\n",
       "      <td>...</td>\n",
       "      <td>0.173329</td>\n",
       "      <td>0.068354</td>\n",
       "      <td>0.085804</td>\n",
       "      <td>0.105850</td>\n",
       "      <td>0.120150</td>\n",
       "      <td>0.134569</td>\n",
       "      <td>0.146058</td>\n",
       "      <td>0.156284</td>\n",
       "      <td>0.166525</td>\n",
       "      <td>K=10</td>\n",
       "    </tr>\n",
       "    <tr>\n",
       "      <th>18</th>\n",
       "      <td>2021-08-19</td>\n",
       "      <td>0.075720</td>\n",
       "      <td>0.098781</td>\n",
       "      <td>TFIDFRecommender</td>\n",
       "      <td>0.055657</td>\n",
       "      <td>0.024300</td>\n",
       "      <td>0.045749</td>\n",
       "      <td>0.039174</td>\n",
       "      <td>0.035781</td>\n",
       "      <td>0.032924</td>\n",
       "      <td>...</td>\n",
       "      <td>0.169473</td>\n",
       "      <td>0.066183</td>\n",
       "      <td>0.084099</td>\n",
       "      <td>0.102266</td>\n",
       "      <td>0.116853</td>\n",
       "      <td>0.129187</td>\n",
       "      <td>0.141608</td>\n",
       "      <td>0.152801</td>\n",
       "      <td>0.162230</td>\n",
       "      <td>K=10</td>\n",
       "    </tr>\n",
       "    <tr>\n",
       "      <th>19</th>\n",
       "      <td>2021-08-20</td>\n",
       "      <td>0.074774</td>\n",
       "      <td>0.097414</td>\n",
       "      <td>TFIDFRecommender</td>\n",
       "      <td>0.053161</td>\n",
       "      <td>0.024270</td>\n",
       "      <td>0.044928</td>\n",
       "      <td>0.038998</td>\n",
       "      <td>0.035627</td>\n",
       "      <td>0.033001</td>\n",
       "      <td>...</td>\n",
       "      <td>0.170166</td>\n",
       "      <td>0.065410</td>\n",
       "      <td>0.084122</td>\n",
       "      <td>0.101913</td>\n",
       "      <td>0.117765</td>\n",
       "      <td>0.131713</td>\n",
       "      <td>0.144127</td>\n",
       "      <td>0.154060</td>\n",
       "      <td>0.163369</td>\n",
       "      <td>K=10</td>\n",
       "    </tr>\n",
       "    <tr>\n",
       "      <th>20</th>\n",
       "      <td>2021-08-21</td>\n",
       "      <td>0.075488</td>\n",
       "      <td>0.100377</td>\n",
       "      <td>TFIDFRecommender</td>\n",
       "      <td>0.055947</td>\n",
       "      <td>0.024678</td>\n",
       "      <td>0.045986</td>\n",
       "      <td>0.039842</td>\n",
       "      <td>0.036584</td>\n",
       "      <td>0.033829</td>\n",
       "      <td>...</td>\n",
       "      <td>0.169085</td>\n",
       "      <td>0.065719</td>\n",
       "      <td>0.084849</td>\n",
       "      <td>0.103005</td>\n",
       "      <td>0.118115</td>\n",
       "      <td>0.130601</td>\n",
       "      <td>0.140846</td>\n",
       "      <td>0.152368</td>\n",
       "      <td>0.162084</td>\n",
       "      <td>K=10</td>\n",
       "    </tr>\n",
       "  </tbody>\n",
       "</table>\n",
       "<p>21 rows × 25 columns</p>\n",
       "</div>"
      ],
      "text/plain": [
       "         Date    MAP@10       MRR             Model  Precision@1  \\\n",
       "0  2021-08-15  0.074245  0.099394      cosine model     0.054994   \n",
       "1  2021-08-16  0.080118  0.103494      cosine model     0.058450   \n",
       "2  2021-08-17  0.077311  0.100741      cosine model     0.056424   \n",
       "3  2021-08-18  0.076297  0.099500      cosine model     0.054609   \n",
       "4  2021-08-19  0.074842  0.097909      cosine model     0.055517   \n",
       "5  2021-08-20  0.074153  0.096608      cosine model     0.052755   \n",
       "6  2021-08-21  0.073922  0.098405      cosine model     0.054302   \n",
       "7  2021-08-15  0.025038  0.035391   BM25Recommender     0.019715   \n",
       "8  2021-08-16  0.027117  0.037275   BM25Recommender     0.020335   \n",
       "9  2021-08-17  0.025965  0.035772   BM25Recommender     0.019914   \n",
       "10 2021-08-18  0.025836  0.036280   BM25Recommender     0.020723   \n",
       "11 2021-08-19  0.025444  0.035723   BM25Recommender     0.019569   \n",
       "12 2021-08-20  0.024286  0.034518   BM25Recommender     0.018229   \n",
       "13 2021-08-21  0.023187  0.033216   BM25Recommender     0.017532   \n",
       "14 2021-08-15  0.074749  0.099994  TFIDFRecommender     0.055318   \n",
       "15 2021-08-16  0.080986  0.104374  TFIDFRecommender     0.059239   \n",
       "16 2021-08-17  0.078174  0.101722  TFIDFRecommender     0.056834   \n",
       "17 2021-08-18  0.077389  0.100767  TFIDFRecommender     0.055984   \n",
       "18 2021-08-19  0.075720  0.098781  TFIDFRecommender     0.055657   \n",
       "19 2021-08-20  0.074774  0.097414  TFIDFRecommender     0.053161   \n",
       "20 2021-08-21  0.075488  0.100377  TFIDFRecommender     0.055947   \n",
       "\n",
       "    Precision@10  Precision@2  Precision@3  Precision@4  Precision@5  ...  \\\n",
       "0       0.024497     0.046433     0.040402     0.036916     0.033787  ...   \n",
       "1       0.025041     0.048714     0.041660     0.037363     0.033987  ...   \n",
       "2       0.024322     0.048033     0.040798     0.037143     0.033817  ...   \n",
       "3       0.024607     0.046291     0.039745     0.036563     0.033366  ...   \n",
       "4       0.024044     0.045083     0.038671     0.035351     0.032391  ...   \n",
       "5       0.023985     0.044877     0.038863     0.035661     0.032615  ...   \n",
       "6       0.024272     0.045257     0.039501     0.036080     0.033146  ...   \n",
       "7       0.009433     0.015856     0.014256     0.013116     0.012017  ...   \n",
       "8       0.009863     0.016764     0.014810     0.013447     0.012652  ...   \n",
       "9       0.009424     0.016371     0.014258     0.012810     0.012016  ...   \n",
       "10      0.009526     0.016455     0.014153     0.012875     0.012014  ...   \n",
       "11      0.009592     0.015957     0.014087     0.012880     0.011784  ...   \n",
       "12      0.009368     0.015484     0.013948     0.012782     0.011683  ...   \n",
       "13      0.008999     0.015065     0.013384     0.012055     0.011220  ...   \n",
       "14      0.024715     0.046757     0.040424     0.037070     0.033923  ...   \n",
       "15      0.025124     0.049184     0.041748     0.037833     0.034529  ...   \n",
       "16      0.024658     0.048574     0.041345     0.037600     0.033981  ...   \n",
       "17      0.024708     0.046780     0.039806     0.037006     0.033793  ...   \n",
       "18      0.024300     0.045749     0.039174     0.035781     0.032924  ...   \n",
       "19      0.024270     0.044928     0.038998     0.035627     0.033001  ...   \n",
       "20      0.024678     0.045986     0.039842     0.036584     0.033829  ...   \n",
       "\n",
       "    Recall@10  Recall@2  Recall@3  Recall@4  Recall@5  Recall@6  Recall@7  \\\n",
       "0    0.165906  0.065232  0.083810  0.101796  0.116246  0.127829  0.138213   \n",
       "1    0.177243  0.072083  0.091213  0.107507  0.121290  0.135355  0.149163   \n",
       "2    0.170680  0.068888  0.087273  0.105120  0.119124  0.132930  0.144018   \n",
       "3    0.172431  0.067396  0.085739  0.104353  0.118716  0.132295  0.144946   \n",
       "4    0.167772  0.064888  0.082738  0.100650  0.114593  0.128283  0.140546   \n",
       "5    0.167678  0.065052  0.083959  0.102193  0.116274  0.129035  0.140930   \n",
       "6    0.165945  0.064820  0.083964  0.101654  0.115749  0.127977  0.138412   \n",
       "7    0.057767  0.020408  0.027237  0.032693  0.037262  0.041587  0.046905   \n",
       "8    0.064119  0.022511  0.029414  0.035394  0.041059  0.046314  0.051580   \n",
       "9    0.061183  0.021730  0.028068  0.033272  0.039056  0.043550  0.049272   \n",
       "10   0.059918  0.021467  0.027291  0.032648  0.038068  0.042983  0.047891   \n",
       "11   0.060421  0.021054  0.027229  0.032998  0.037723  0.043427  0.048763   \n",
       "12   0.059347  0.019870  0.026870  0.032786  0.037054  0.042004  0.047726   \n",
       "13   0.055278  0.019604  0.025771  0.030707  0.035562  0.039726  0.044437   \n",
       "14   0.167739  0.065713  0.083963  0.102307  0.116839  0.128295  0.139635   \n",
       "15   0.177860  0.072631  0.091357  0.109275  0.123545  0.137560  0.150169   \n",
       "16   0.172841  0.069818  0.088651  0.106467  0.119952  0.133546  0.145372   \n",
       "17   0.173329  0.068354  0.085804  0.105850  0.120150  0.134569  0.146058   \n",
       "18   0.169473  0.066183  0.084099  0.102266  0.116853  0.129187  0.141608   \n",
       "19   0.170166  0.065410  0.084122  0.101913  0.117765  0.131713  0.144127   \n",
       "20   0.169085  0.065719  0.084849  0.103005  0.118115  0.130601  0.140846   \n",
       "\n",
       "    Recall@8  Recall@9  argv  \n",
       "0   0.150285  0.159159  K=10  \n",
       "1   0.160741  0.169922  K=10  \n",
       "2   0.154212  0.164328  K=10  \n",
       "3   0.155196  0.165265  K=10  \n",
       "4   0.151515  0.160574  K=10  \n",
       "5   0.152611  0.161186  K=10  \n",
       "6   0.149469  0.158766  K=10  \n",
       "7   0.051171  0.054722  K=10  \n",
       "8   0.056562  0.060446  K=10  \n",
       "9   0.053219  0.057397  K=10  \n",
       "10  0.052418  0.056334  K=10  \n",
       "11  0.053765  0.057310  K=10  \n",
       "12  0.052285  0.055983  K=10  \n",
       "13  0.048178  0.051834  K=10  \n",
       "14  0.151098  0.160788  K=10  \n",
       "15  0.161379  0.171212  K=10  \n",
       "16  0.156469  0.166096  K=10  \n",
       "17  0.156284  0.166525  K=10  \n",
       "18  0.152801  0.162230  K=10  \n",
       "19  0.154060  0.163369  K=10  \n",
       "20  0.152368  0.162084  K=10  \n",
       "\n",
       "[21 rows x 25 columns]"
      ]
     },
     "execution_count": 49,
     "metadata": {},
     "output_type": "execute_result"
    }
   ],
   "source": [
    "validation_results"
   ]
  },
  {
   "cell_type": "code",
   "execution_count": 50,
   "id": "a8a4a7a6",
   "metadata": {},
   "outputs": [
    {
     "data": {
      "text/html": [
       "<div>\n",
       "<style scoped>\n",
       "    .dataframe tbody tr th:only-of-type {\n",
       "        vertical-align: middle;\n",
       "    }\n",
       "\n",
       "    .dataframe tbody tr th {\n",
       "        vertical-align: top;\n",
       "    }\n",
       "\n",
       "    .dataframe thead tr th {\n",
       "        text-align: left;\n",
       "    }\n",
       "\n",
       "    .dataframe thead tr:last-of-type th {\n",
       "        text-align: right;\n",
       "    }\n",
       "</style>\n",
       "<table border=\"1\" class=\"dataframe\">\n",
       "  <thead>\n",
       "    <tr>\n",
       "      <th></th>\n",
       "      <th></th>\n",
       "      <th colspan=\"4\" halign=\"left\">MRR</th>\n",
       "      <th colspan=\"4\" halign=\"left\">MAP@10</th>\n",
       "      <th colspan=\"4\" halign=\"left\">Recall@10</th>\n",
       "    </tr>\n",
       "    <tr>\n",
       "      <th></th>\n",
       "      <th></th>\n",
       "      <th>mean</th>\n",
       "      <th>std</th>\n",
       "      <th>min</th>\n",
       "      <th>max</th>\n",
       "      <th>mean</th>\n",
       "      <th>std</th>\n",
       "      <th>min</th>\n",
       "      <th>max</th>\n",
       "      <th>mean</th>\n",
       "      <th>std</th>\n",
       "      <th>min</th>\n",
       "      <th>max</th>\n",
       "    </tr>\n",
       "    <tr>\n",
       "      <th>Model</th>\n",
       "      <th>argv</th>\n",
       "      <th></th>\n",
       "      <th></th>\n",
       "      <th></th>\n",
       "      <th></th>\n",
       "      <th></th>\n",
       "      <th></th>\n",
       "      <th></th>\n",
       "      <th></th>\n",
       "      <th></th>\n",
       "      <th></th>\n",
       "      <th></th>\n",
       "      <th></th>\n",
       "    </tr>\n",
       "  </thead>\n",
       "  <tbody>\n",
       "    <tr>\n",
       "      <th>BM25Recommender</th>\n",
       "      <th>K=10</th>\n",
       "      <td>0.035454</td>\n",
       "      <td>0.001295</td>\n",
       "      <td>0.033216</td>\n",
       "      <td>0.037275</td>\n",
       "      <td>0.025268</td>\n",
       "      <td>0.001265</td>\n",
       "      <td>0.023187</td>\n",
       "      <td>0.027117</td>\n",
       "      <td>0.059719</td>\n",
       "      <td>0.002760</td>\n",
       "      <td>0.055278</td>\n",
       "      <td>0.064119</td>\n",
       "    </tr>\n",
       "    <tr>\n",
       "      <th>TFIDFRecommender</th>\n",
       "      <th>K=10</th>\n",
       "      <td>0.100490</td>\n",
       "      <td>0.002211</td>\n",
       "      <td>0.097414</td>\n",
       "      <td>0.104374</td>\n",
       "      <td>0.076754</td>\n",
       "      <td>0.002271</td>\n",
       "      <td>0.074749</td>\n",
       "      <td>0.080986</td>\n",
       "      <td>0.171499</td>\n",
       "      <td>0.003451</td>\n",
       "      <td>0.167739</td>\n",
       "      <td>0.177860</td>\n",
       "    </tr>\n",
       "    <tr>\n",
       "      <th>cosine model</th>\n",
       "      <th>K=10</th>\n",
       "      <td>0.099436</td>\n",
       "      <td>0.002220</td>\n",
       "      <td>0.096608</td>\n",
       "      <td>0.103494</td>\n",
       "      <td>0.075841</td>\n",
       "      <td>0.002263</td>\n",
       "      <td>0.073922</td>\n",
       "      <td>0.080118</td>\n",
       "      <td>0.169665</td>\n",
       "      <td>0.004115</td>\n",
       "      <td>0.165906</td>\n",
       "      <td>0.177243</td>\n",
       "    </tr>\n",
       "  </tbody>\n",
       "</table>\n",
       "</div>"
      ],
      "text/plain": [
       "                            MRR                                  MAP@10  \\\n",
       "                           mean       std       min       max      mean   \n",
       "Model            argv                                                     \n",
       "BM25Recommender  K=10  0.035454  0.001295  0.033216  0.037275  0.025268   \n",
       "TFIDFRecommender K=10  0.100490  0.002211  0.097414  0.104374  0.076754   \n",
       "cosine model     K=10  0.099436  0.002220  0.096608  0.103494  0.075841   \n",
       "\n",
       "                                                    Recall@10            \\\n",
       "                            std       min       max      mean       std   \n",
       "Model            argv                                                     \n",
       "BM25Recommender  K=10  0.001265  0.023187  0.027117  0.059719  0.002760   \n",
       "TFIDFRecommender K=10  0.002271  0.074749  0.080986  0.171499  0.003451   \n",
       "cosine model     K=10  0.002263  0.073922  0.080118  0.169665  0.004115   \n",
       "\n",
       "                                           \n",
       "                            min       max  \n",
       "Model            argv                      \n",
       "BM25Recommender  K=10  0.055278  0.064119  \n",
       "TFIDFRecommender K=10  0.167739  0.177860  \n",
       "cosine model     K=10  0.165906  0.177243  "
      ]
     },
     "execution_count": 50,
     "metadata": {},
     "output_type": "execute_result"
    }
   ],
   "source": [
    "validation_results.groupby(['Model', 'argv']).agg({\n",
    "    'MRR': ['mean', 'std', 'min', 'max'],\n",
    "    'MAP@10': ['mean', 'std', 'min', 'max'],\n",
    "    'Recall@10': ['mean', 'std', 'min', 'max'],\n",
    "})"
   ]
  },
  {
   "cell_type": "markdown",
   "id": "83ab08d1",
   "metadata": {},
   "source": [
    "[Возврат к содержанию](#content)"
   ]
  },
  {
   "cell_type": "markdown",
   "id": "e3b27170",
   "metadata": {},
   "source": [
    "<a id=\"giper_K\"></a>\n",
    "### Подбор гиперпараметра K"
   ]
  },
  {
   "cell_type": "markdown",
   "id": "039a7f97",
   "metadata": {},
   "source": [
    "### CosineRecommender"
   ]
  },
  {
   "cell_type": "code",
   "execution_count": 47,
   "id": "1de99063",
   "metadata": {},
   "outputs": [
    {
     "name": "stdout",
     "output_type": "stream",
     "text": [
      "test range - from 2021-08-15 00:00:00 to 2021-08-16 00:00:00\n",
      "train shape - (4985269, 5), test shape - (53106, 5)\n",
      "K = 5\n"
     ]
    },
    {
     "data": {
      "application/vnd.jupyter.widget-view+json": {
       "model_id": "0ed9067b0a294834bc500a24fdc14e91",
       "version_major": 2,
       "version_minor": 0
      },
      "text/plain": [
       "HBox(children=(HTML(value=''), FloatProgress(value=0.0, max=15706.0), HTML(value='')))"
      ]
     },
     "metadata": {},
     "output_type": "display_data"
    },
    {
     "name": "stdout",
     "output_type": "stream",
     "text": [
      "\n",
      "K = 6\n"
     ]
    },
    {
     "data": {
      "application/vnd.jupyter.widget-view+json": {
       "model_id": "79e57d5a091c43a5a10b707438a99aa4",
       "version_major": 2,
       "version_minor": 0
      },
      "text/plain": [
       "HBox(children=(HTML(value=''), FloatProgress(value=0.0, max=15706.0), HTML(value='')))"
      ]
     },
     "metadata": {},
     "output_type": "display_data"
    },
    {
     "name": "stdout",
     "output_type": "stream",
     "text": [
      "\n",
      "K = 7\n"
     ]
    },
    {
     "data": {
      "application/vnd.jupyter.widget-view+json": {
       "model_id": "b1dc57f76da549cc8911f41ae9f08265",
       "version_major": 2,
       "version_minor": 0
      },
      "text/plain": [
       "HBox(children=(HTML(value=''), FloatProgress(value=0.0, max=15706.0), HTML(value='')))"
      ]
     },
     "metadata": {},
     "output_type": "display_data"
    },
    {
     "name": "stdout",
     "output_type": "stream",
     "text": [
      "\n",
      "K = 8\n"
     ]
    },
    {
     "data": {
      "application/vnd.jupyter.widget-view+json": {
       "model_id": "c4bdc78c04b14df59453f598bc2e7501",
       "version_major": 2,
       "version_minor": 0
      },
      "text/plain": [
       "HBox(children=(HTML(value=''), FloatProgress(value=0.0, max=15706.0), HTML(value='')))"
      ]
     },
     "metadata": {},
     "output_type": "display_data"
    },
    {
     "name": "stdout",
     "output_type": "stream",
     "text": [
      "\n",
      "K = 9\n"
     ]
    },
    {
     "data": {
      "application/vnd.jupyter.widget-view+json": {
       "model_id": "ab01187827bc4994bb411b87e62db174",
       "version_major": 2,
       "version_minor": 0
      },
      "text/plain": [
       "HBox(children=(HTML(value=''), FloatProgress(value=0.0, max=15706.0), HTML(value='')))"
      ]
     },
     "metadata": {},
     "output_type": "display_data"
    },
    {
     "name": "stdout",
     "output_type": "stream",
     "text": [
      "\n",
      "K = 10\n"
     ]
    },
    {
     "data": {
      "application/vnd.jupyter.widget-view+json": {
       "model_id": "a97419d77a68448cadb85fa252f71c62",
       "version_major": 2,
       "version_minor": 0
      },
      "text/plain": [
       "HBox(children=(HTML(value=''), FloatProgress(value=0.0, max=15706.0), HTML(value='')))"
      ]
     },
     "metadata": {},
     "output_type": "display_data"
    },
    {
     "name": "stdout",
     "output_type": "stream",
     "text": [
      "\n",
      "K = 11\n"
     ]
    },
    {
     "data": {
      "application/vnd.jupyter.widget-view+json": {
       "model_id": "e37e314adf0e4700a5861a009b54786c",
       "version_major": 2,
       "version_minor": 0
      },
      "text/plain": [
       "HBox(children=(HTML(value=''), FloatProgress(value=0.0, max=15706.0), HTML(value='')))"
      ]
     },
     "metadata": {},
     "output_type": "display_data"
    },
    {
     "name": "stdout",
     "output_type": "stream",
     "text": [
      "\n",
      "K = 12\n"
     ]
    },
    {
     "data": {
      "application/vnd.jupyter.widget-view+json": {
       "model_id": "d72ee46860624a44b81ba15179f74045",
       "version_major": 2,
       "version_minor": 0
      },
      "text/plain": [
       "HBox(children=(HTML(value=''), FloatProgress(value=0.0, max=15706.0), HTML(value='')))"
      ]
     },
     "metadata": {},
     "output_type": "display_data"
    },
    {
     "name": "stdout",
     "output_type": "stream",
     "text": [
      "\n",
      "K = 13\n"
     ]
    },
    {
     "data": {
      "application/vnd.jupyter.widget-view+json": {
       "model_id": "2c38b293d5234214abc035882d6db91f",
       "version_major": 2,
       "version_minor": 0
      },
      "text/plain": [
       "HBox(children=(HTML(value=''), FloatProgress(value=0.0, max=15706.0), HTML(value='')))"
      ]
     },
     "metadata": {},
     "output_type": "display_data"
    },
    {
     "name": "stdout",
     "output_type": "stream",
     "text": [
      "\n",
      "K = 14\n"
     ]
    },
    {
     "data": {
      "application/vnd.jupyter.widget-view+json": {
       "model_id": "5170ea09ec5d4353a83e52044e3f8b89",
       "version_major": 2,
       "version_minor": 0
      },
      "text/plain": [
       "HBox(children=(HTML(value=''), FloatProgress(value=0.0, max=15706.0), HTML(value='')))"
      ]
     },
     "metadata": {},
     "output_type": "display_data"
    },
    {
     "name": "stdout",
     "output_type": "stream",
     "text": [
      "\n",
      "K = 15\n"
     ]
    },
    {
     "data": {
      "application/vnd.jupyter.widget-view+json": {
       "model_id": "fc61cbc1d7ea4c578a6a281c5982203e",
       "version_major": 2,
       "version_minor": 0
      },
      "text/plain": [
       "HBox(children=(HTML(value=''), FloatProgress(value=0.0, max=15706.0), HTML(value='')))"
      ]
     },
     "metadata": {},
     "output_type": "display_data"
    },
    {
     "name": "stdout",
     "output_type": "stream",
     "text": [
      "\n",
      "K = 16\n"
     ]
    },
    {
     "data": {
      "application/vnd.jupyter.widget-view+json": {
       "model_id": "9d88e0f9770f4ce8bd53fe52ae7bedac",
       "version_major": 2,
       "version_minor": 0
      },
      "text/plain": [
       "HBox(children=(HTML(value=''), FloatProgress(value=0.0, max=15706.0), HTML(value='')))"
      ]
     },
     "metadata": {},
     "output_type": "display_data"
    },
    {
     "name": "stdout",
     "output_type": "stream",
     "text": [
      "\n",
      "K = 17\n"
     ]
    },
    {
     "data": {
      "application/vnd.jupyter.widget-view+json": {
       "model_id": "0bfeda37e27d4c64b016e1784b4cae76",
       "version_major": 2,
       "version_minor": 0
      },
      "text/plain": [
       "HBox(children=(HTML(value=''), FloatProgress(value=0.0, max=15706.0), HTML(value='')))"
      ]
     },
     "metadata": {},
     "output_type": "display_data"
    },
    {
     "name": "stdout",
     "output_type": "stream",
     "text": [
      "\n",
      "K = 18\n"
     ]
    },
    {
     "data": {
      "application/vnd.jupyter.widget-view+json": {
       "model_id": "40e0e91a03a849eb930ec5c07925b84a",
       "version_major": 2,
       "version_minor": 0
      },
      "text/plain": [
       "HBox(children=(HTML(value=''), FloatProgress(value=0.0, max=15706.0), HTML(value='')))"
      ]
     },
     "metadata": {},
     "output_type": "display_data"
    },
    {
     "name": "stdout",
     "output_type": "stream",
     "text": [
      "\n",
      "K = 19\n"
     ]
    },
    {
     "data": {
      "application/vnd.jupyter.widget-view+json": {
       "model_id": "60b6c20e5e534ba0ab804873f3d3deea",
       "version_major": 2,
       "version_minor": 0
      },
      "text/plain": [
       "HBox(children=(HTML(value=''), FloatProgress(value=0.0, max=15706.0), HTML(value='')))"
      ]
     },
     "metadata": {},
     "output_type": "display_data"
    },
    {
     "name": "stdout",
     "output_type": "stream",
     "text": [
      "\n",
      "K = 20\n"
     ]
    },
    {
     "data": {
      "application/vnd.jupyter.widget-view+json": {
       "model_id": "c40e06fc3d1d4c17b6adee6c6d324c9d",
       "version_major": 2,
       "version_minor": 0
      },
      "text/plain": [
       "HBox(children=(HTML(value=''), FloatProgress(value=0.0, max=15706.0), HTML(value='')))"
      ]
     },
     "metadata": {},
     "output_type": "display_data"
    },
    {
     "name": "stdout",
     "output_type": "stream",
     "text": [
      "\n",
      "K = 21\n"
     ]
    },
    {
     "data": {
      "application/vnd.jupyter.widget-view+json": {
       "model_id": "2bae925dc9db4526b87b068f1e877535",
       "version_major": 2,
       "version_minor": 0
      },
      "text/plain": [
       "HBox(children=(HTML(value=''), FloatProgress(value=0.0, max=15706.0), HTML(value='')))"
      ]
     },
     "metadata": {},
     "output_type": "display_data"
    },
    {
     "name": "stdout",
     "output_type": "stream",
     "text": [
      "\n",
      "K = 22\n"
     ]
    },
    {
     "data": {
      "application/vnd.jupyter.widget-view+json": {
       "model_id": "3a493f5e63924f049cb5587946d385f4",
       "version_major": 2,
       "version_minor": 0
      },
      "text/plain": [
       "HBox(children=(HTML(value=''), FloatProgress(value=0.0, max=15706.0), HTML(value='')))"
      ]
     },
     "metadata": {},
     "output_type": "display_data"
    },
    {
     "name": "stdout",
     "output_type": "stream",
     "text": [
      "\n",
      "K = 23\n"
     ]
    },
    {
     "data": {
      "application/vnd.jupyter.widget-view+json": {
       "model_id": "64fc90e5b0664bdaaf0965530a99afc1",
       "version_major": 2,
       "version_minor": 0
      },
      "text/plain": [
       "HBox(children=(HTML(value=''), FloatProgress(value=0.0, max=15706.0), HTML(value='')))"
      ]
     },
     "metadata": {},
     "output_type": "display_data"
    },
    {
     "name": "stdout",
     "output_type": "stream",
     "text": [
      "\n",
      "K = 24\n"
     ]
    },
    {
     "data": {
      "application/vnd.jupyter.widget-view+json": {
       "model_id": "f3a5c9f8a2084509814de20ef4e773c1",
       "version_major": 2,
       "version_minor": 0
      },
      "text/plain": [
       "HBox(children=(HTML(value=''), FloatProgress(value=0.0, max=15706.0), HTML(value='')))"
      ]
     },
     "metadata": {},
     "output_type": "display_data"
    },
    {
     "name": "stdout",
     "output_type": "stream",
     "text": [
      "\n",
      "test range - from 2021-08-16 00:00:00 to 2021-08-17 00:00:00\n",
      "train shape - (5051815, 5), test shape - (43835, 5)\n",
      "K = 5\n"
     ]
    },
    {
     "data": {
      "application/vnd.jupyter.widget-view+json": {
       "model_id": "2a055f8cd14a4f27aff08a5e64ca4462",
       "version_major": 2,
       "version_minor": 0
      },
      "text/plain": [
       "HBox(children=(HTML(value=''), FloatProgress(value=0.0, max=15706.0), HTML(value='')))"
      ]
     },
     "metadata": {},
     "output_type": "display_data"
    },
    {
     "name": "stdout",
     "output_type": "stream",
     "text": [
      "\n",
      "K = 6\n"
     ]
    },
    {
     "data": {
      "application/vnd.jupyter.widget-view+json": {
       "model_id": "36073df48090426590f3321397bb162f",
       "version_major": 2,
       "version_minor": 0
      },
      "text/plain": [
       "HBox(children=(HTML(value=''), FloatProgress(value=0.0, max=15706.0), HTML(value='')))"
      ]
     },
     "metadata": {},
     "output_type": "display_data"
    },
    {
     "name": "stdout",
     "output_type": "stream",
     "text": [
      "\n",
      "K = 7\n"
     ]
    },
    {
     "data": {
      "application/vnd.jupyter.widget-view+json": {
       "model_id": "a69ec516a9e247369dffb50079de93ab",
       "version_major": 2,
       "version_minor": 0
      },
      "text/plain": [
       "HBox(children=(HTML(value=''), FloatProgress(value=0.0, max=15706.0), HTML(value='')))"
      ]
     },
     "metadata": {},
     "output_type": "display_data"
    },
    {
     "name": "stdout",
     "output_type": "stream",
     "text": [
      "\n",
      "K = 8\n"
     ]
    },
    {
     "data": {
      "application/vnd.jupyter.widget-view+json": {
       "model_id": "ed47d9dee2ac4c9d9c7a413b28414ae3",
       "version_major": 2,
       "version_minor": 0
      },
      "text/plain": [
       "HBox(children=(HTML(value=''), FloatProgress(value=0.0, max=15706.0), HTML(value='')))"
      ]
     },
     "metadata": {},
     "output_type": "display_data"
    },
    {
     "name": "stdout",
     "output_type": "stream",
     "text": [
      "\n",
      "K = 9\n"
     ]
    },
    {
     "data": {
      "application/vnd.jupyter.widget-view+json": {
       "model_id": "6e5cc2238512456d9369f30bf8de5058",
       "version_major": 2,
       "version_minor": 0
      },
      "text/plain": [
       "HBox(children=(HTML(value=''), FloatProgress(value=0.0, max=15706.0), HTML(value='')))"
      ]
     },
     "metadata": {},
     "output_type": "display_data"
    },
    {
     "name": "stdout",
     "output_type": "stream",
     "text": [
      "\n",
      "K = 10\n"
     ]
    },
    {
     "data": {
      "application/vnd.jupyter.widget-view+json": {
       "model_id": "d6e380e89da04ed8b1cb1cc6b3688e91",
       "version_major": 2,
       "version_minor": 0
      },
      "text/plain": [
       "HBox(children=(HTML(value=''), FloatProgress(value=0.0, max=15706.0), HTML(value='')))"
      ]
     },
     "metadata": {},
     "output_type": "display_data"
    },
    {
     "name": "stdout",
     "output_type": "stream",
     "text": [
      "\n",
      "K = 11\n"
     ]
    },
    {
     "data": {
      "application/vnd.jupyter.widget-view+json": {
       "model_id": "a798427f4f0f4379865294a03b80de82",
       "version_major": 2,
       "version_minor": 0
      },
      "text/plain": [
       "HBox(children=(HTML(value=''), FloatProgress(value=0.0, max=15706.0), HTML(value='')))"
      ]
     },
     "metadata": {},
     "output_type": "display_data"
    },
    {
     "name": "stdout",
     "output_type": "stream",
     "text": [
      "\n",
      "K = 12\n"
     ]
    },
    {
     "data": {
      "application/vnd.jupyter.widget-view+json": {
       "model_id": "4f20b9303b04422ca36694e60302c790",
       "version_major": 2,
       "version_minor": 0
      },
      "text/plain": [
       "HBox(children=(HTML(value=''), FloatProgress(value=0.0, max=15706.0), HTML(value='')))"
      ]
     },
     "metadata": {},
     "output_type": "display_data"
    },
    {
     "name": "stdout",
     "output_type": "stream",
     "text": [
      "\n",
      "K = 13\n"
     ]
    },
    {
     "data": {
      "application/vnd.jupyter.widget-view+json": {
       "model_id": "851b17bcb21e443a91014f787b9c8263",
       "version_major": 2,
       "version_minor": 0
      },
      "text/plain": [
       "HBox(children=(HTML(value=''), FloatProgress(value=0.0, max=15706.0), HTML(value='')))"
      ]
     },
     "metadata": {},
     "output_type": "display_data"
    },
    {
     "name": "stdout",
     "output_type": "stream",
     "text": [
      "\n",
      "K = 14\n"
     ]
    },
    {
     "data": {
      "application/vnd.jupyter.widget-view+json": {
       "model_id": "18fc437257624d739956baf994441f84",
       "version_major": 2,
       "version_minor": 0
      },
      "text/plain": [
       "HBox(children=(HTML(value=''), FloatProgress(value=0.0, max=15706.0), HTML(value='')))"
      ]
     },
     "metadata": {},
     "output_type": "display_data"
    },
    {
     "name": "stdout",
     "output_type": "stream",
     "text": [
      "\n",
      "K = 15\n"
     ]
    },
    {
     "data": {
      "application/vnd.jupyter.widget-view+json": {
       "model_id": "a7f2024161ea4fee8f446cbd3cb37eb9",
       "version_major": 2,
       "version_minor": 0
      },
      "text/plain": [
       "HBox(children=(HTML(value=''), FloatProgress(value=0.0, max=15706.0), HTML(value='')))"
      ]
     },
     "metadata": {},
     "output_type": "display_data"
    },
    {
     "name": "stdout",
     "output_type": "stream",
     "text": [
      "\n",
      "K = 16\n"
     ]
    },
    {
     "data": {
      "application/vnd.jupyter.widget-view+json": {
       "model_id": "744cadd1ff224df7ac2b6b56d3122ba5",
       "version_major": 2,
       "version_minor": 0
      },
      "text/plain": [
       "HBox(children=(HTML(value=''), FloatProgress(value=0.0, max=15706.0), HTML(value='')))"
      ]
     },
     "metadata": {},
     "output_type": "display_data"
    },
    {
     "name": "stdout",
     "output_type": "stream",
     "text": [
      "\n",
      "K = 17\n"
     ]
    },
    {
     "data": {
      "application/vnd.jupyter.widget-view+json": {
       "model_id": "ba55350e8d9d4d5fb86329731046121a",
       "version_major": 2,
       "version_minor": 0
      },
      "text/plain": [
       "HBox(children=(HTML(value=''), FloatProgress(value=0.0, max=15706.0), HTML(value='')))"
      ]
     },
     "metadata": {},
     "output_type": "display_data"
    },
    {
     "name": "stdout",
     "output_type": "stream",
     "text": [
      "\n",
      "K = 18\n"
     ]
    },
    {
     "data": {
      "application/vnd.jupyter.widget-view+json": {
       "model_id": "59edad64b61647a9989f123c92c6401d",
       "version_major": 2,
       "version_minor": 0
      },
      "text/plain": [
       "HBox(children=(HTML(value=''), FloatProgress(value=0.0, max=15706.0), HTML(value='')))"
      ]
     },
     "metadata": {},
     "output_type": "display_data"
    },
    {
     "name": "stdout",
     "output_type": "stream",
     "text": [
      "\n",
      "K = 19\n"
     ]
    },
    {
     "data": {
      "application/vnd.jupyter.widget-view+json": {
       "model_id": "b8bddb05838d4338883c20faa457be1c",
       "version_major": 2,
       "version_minor": 0
      },
      "text/plain": [
       "HBox(children=(HTML(value=''), FloatProgress(value=0.0, max=15706.0), HTML(value='')))"
      ]
     },
     "metadata": {},
     "output_type": "display_data"
    },
    {
     "name": "stdout",
     "output_type": "stream",
     "text": [
      "\n",
      "K = 20\n"
     ]
    },
    {
     "data": {
      "application/vnd.jupyter.widget-view+json": {
       "model_id": "239f7f7618f542d89a758a343db7bafc",
       "version_major": 2,
       "version_minor": 0
      },
      "text/plain": [
       "HBox(children=(HTML(value=''), FloatProgress(value=0.0, max=15706.0), HTML(value='')))"
      ]
     },
     "metadata": {},
     "output_type": "display_data"
    },
    {
     "name": "stdout",
     "output_type": "stream",
     "text": [
      "\n",
      "K = 21\n"
     ]
    },
    {
     "data": {
      "application/vnd.jupyter.widget-view+json": {
       "model_id": "37686054b26b4e2a8c76e2b1da68ca1d",
       "version_major": 2,
       "version_minor": 0
      },
      "text/plain": [
       "HBox(children=(HTML(value=''), FloatProgress(value=0.0, max=15706.0), HTML(value='')))"
      ]
     },
     "metadata": {},
     "output_type": "display_data"
    },
    {
     "name": "stdout",
     "output_type": "stream",
     "text": [
      "\n",
      "K = 22\n"
     ]
    },
    {
     "data": {
      "application/vnd.jupyter.widget-view+json": {
       "model_id": "e1647117eb1d48cea891bd250b50ca3a",
       "version_major": 2,
       "version_minor": 0
      },
      "text/plain": [
       "HBox(children=(HTML(value=''), FloatProgress(value=0.0, max=15706.0), HTML(value='')))"
      ]
     },
     "metadata": {},
     "output_type": "display_data"
    },
    {
     "name": "stdout",
     "output_type": "stream",
     "text": [
      "\n",
      "K = 23\n"
     ]
    },
    {
     "data": {
      "application/vnd.jupyter.widget-view+json": {
       "model_id": "4d75835f84e64a68ae01e7302f4cb135",
       "version_major": 2,
       "version_minor": 0
      },
      "text/plain": [
       "HBox(children=(HTML(value=''), FloatProgress(value=0.0, max=15706.0), HTML(value='')))"
      ]
     },
     "metadata": {},
     "output_type": "display_data"
    },
    {
     "name": "stdout",
     "output_type": "stream",
     "text": [
      "\n",
      "K = 24\n"
     ]
    },
    {
     "data": {
      "application/vnd.jupyter.widget-view+json": {
       "model_id": "6914a1b92c8c42848490938b2707746a",
       "version_major": 2,
       "version_minor": 0
      },
      "text/plain": [
       "HBox(children=(HTML(value=''), FloatProgress(value=0.0, max=15706.0), HTML(value='')))"
      ]
     },
     "metadata": {},
     "output_type": "display_data"
    },
    {
     "name": "stdout",
     "output_type": "stream",
     "text": [
      "\n",
      "test range - from 2021-08-17 00:00:00 to 2021-08-18 00:00:00\n",
      "train shape - (5106361, 5), test shape - (43926, 5)\n",
      "K = 5\n"
     ]
    },
    {
     "data": {
      "application/vnd.jupyter.widget-view+json": {
       "model_id": "f3d0b4261c904265aa972e8b0f8dd6c0",
       "version_major": 2,
       "version_minor": 0
      },
      "text/plain": [
       "HBox(children=(HTML(value=''), FloatProgress(value=0.0, max=15706.0), HTML(value='')))"
      ]
     },
     "metadata": {},
     "output_type": "display_data"
    },
    {
     "name": "stdout",
     "output_type": "stream",
     "text": [
      "\n",
      "K = 6\n"
     ]
    },
    {
     "data": {
      "application/vnd.jupyter.widget-view+json": {
       "model_id": "b97e151569294cfc9c2d41ea2c0518f7",
       "version_major": 2,
       "version_minor": 0
      },
      "text/plain": [
       "HBox(children=(HTML(value=''), FloatProgress(value=0.0, max=15706.0), HTML(value='')))"
      ]
     },
     "metadata": {},
     "output_type": "display_data"
    },
    {
     "name": "stdout",
     "output_type": "stream",
     "text": [
      "\n",
      "K = 7\n"
     ]
    },
    {
     "data": {
      "application/vnd.jupyter.widget-view+json": {
       "model_id": "3426eea8f5214cb89e6c18c7744ac9e9",
       "version_major": 2,
       "version_minor": 0
      },
      "text/plain": [
       "HBox(children=(HTML(value=''), FloatProgress(value=0.0, max=15706.0), HTML(value='')))"
      ]
     },
     "metadata": {},
     "output_type": "display_data"
    },
    {
     "name": "stdout",
     "output_type": "stream",
     "text": [
      "\n",
      "K = 8\n"
     ]
    },
    {
     "data": {
      "application/vnd.jupyter.widget-view+json": {
       "model_id": "eb299b044d824f56a1b7252a9d592676",
       "version_major": 2,
       "version_minor": 0
      },
      "text/plain": [
       "HBox(children=(HTML(value=''), FloatProgress(value=0.0, max=15706.0), HTML(value='')))"
      ]
     },
     "metadata": {},
     "output_type": "display_data"
    },
    {
     "name": "stdout",
     "output_type": "stream",
     "text": [
      "\n",
      "K = 9\n"
     ]
    },
    {
     "data": {
      "application/vnd.jupyter.widget-view+json": {
       "model_id": "65f770ddd58d4117bad566ffc22aa2da",
       "version_major": 2,
       "version_minor": 0
      },
      "text/plain": [
       "HBox(children=(HTML(value=''), FloatProgress(value=0.0, max=15706.0), HTML(value='')))"
      ]
     },
     "metadata": {},
     "output_type": "display_data"
    },
    {
     "name": "stdout",
     "output_type": "stream",
     "text": [
      "\n",
      "K = 10\n"
     ]
    },
    {
     "data": {
      "application/vnd.jupyter.widget-view+json": {
       "model_id": "57d9a483d3a74b73a3b5fcd1331a479d",
       "version_major": 2,
       "version_minor": 0
      },
      "text/plain": [
       "HBox(children=(HTML(value=''), FloatProgress(value=0.0, max=15706.0), HTML(value='')))"
      ]
     },
     "metadata": {},
     "output_type": "display_data"
    },
    {
     "name": "stdout",
     "output_type": "stream",
     "text": [
      "\n",
      "K = 11\n"
     ]
    },
    {
     "data": {
      "application/vnd.jupyter.widget-view+json": {
       "model_id": "fb0bceb3ead74fb1bddc6916891215ca",
       "version_major": 2,
       "version_minor": 0
      },
      "text/plain": [
       "HBox(children=(HTML(value=''), FloatProgress(value=0.0, max=15706.0), HTML(value='')))"
      ]
     },
     "metadata": {},
     "output_type": "display_data"
    },
    {
     "name": "stdout",
     "output_type": "stream",
     "text": [
      "\n",
      "K = 12\n"
     ]
    },
    {
     "data": {
      "application/vnd.jupyter.widget-view+json": {
       "model_id": "4ede28629c4341d1b197f1fb47f8387a",
       "version_major": 2,
       "version_minor": 0
      },
      "text/plain": [
       "HBox(children=(HTML(value=''), FloatProgress(value=0.0, max=15706.0), HTML(value='')))"
      ]
     },
     "metadata": {},
     "output_type": "display_data"
    },
    {
     "name": "stdout",
     "output_type": "stream",
     "text": [
      "\n",
      "K = 13\n"
     ]
    },
    {
     "data": {
      "application/vnd.jupyter.widget-view+json": {
       "model_id": "43e48fb7f8c0449599e26a2d554ecae1",
       "version_major": 2,
       "version_minor": 0
      },
      "text/plain": [
       "HBox(children=(HTML(value=''), FloatProgress(value=0.0, max=15706.0), HTML(value='')))"
      ]
     },
     "metadata": {},
     "output_type": "display_data"
    },
    {
     "name": "stdout",
     "output_type": "stream",
     "text": [
      "\n",
      "K = 14\n"
     ]
    },
    {
     "data": {
      "application/vnd.jupyter.widget-view+json": {
       "model_id": "f13bd87180814ce8b6b3fff82869fcde",
       "version_major": 2,
       "version_minor": 0
      },
      "text/plain": [
       "HBox(children=(HTML(value=''), FloatProgress(value=0.0, max=15706.0), HTML(value='')))"
      ]
     },
     "metadata": {},
     "output_type": "display_data"
    },
    {
     "name": "stdout",
     "output_type": "stream",
     "text": [
      "\n",
      "K = 15\n"
     ]
    },
    {
     "data": {
      "application/vnd.jupyter.widget-view+json": {
       "model_id": "a1708749fd0a4880b7a296f424f5e49a",
       "version_major": 2,
       "version_minor": 0
      },
      "text/plain": [
       "HBox(children=(HTML(value=''), FloatProgress(value=0.0, max=15706.0), HTML(value='')))"
      ]
     },
     "metadata": {},
     "output_type": "display_data"
    },
    {
     "name": "stdout",
     "output_type": "stream",
     "text": [
      "\n",
      "K = 16\n"
     ]
    },
    {
     "data": {
      "application/vnd.jupyter.widget-view+json": {
       "model_id": "82bdc00aae714cd5abf347704886d666",
       "version_major": 2,
       "version_minor": 0
      },
      "text/plain": [
       "HBox(children=(HTML(value=''), FloatProgress(value=0.0, max=15706.0), HTML(value='')))"
      ]
     },
     "metadata": {},
     "output_type": "display_data"
    },
    {
     "name": "stdout",
     "output_type": "stream",
     "text": [
      "\n",
      "K = 17\n"
     ]
    },
    {
     "data": {
      "application/vnd.jupyter.widget-view+json": {
       "model_id": "5b55abb2575e4279a19deeb8905903e7",
       "version_major": 2,
       "version_minor": 0
      },
      "text/plain": [
       "HBox(children=(HTML(value=''), FloatProgress(value=0.0, max=15706.0), HTML(value='')))"
      ]
     },
     "metadata": {},
     "output_type": "display_data"
    },
    {
     "name": "stdout",
     "output_type": "stream",
     "text": [
      "\n",
      "K = 18\n"
     ]
    },
    {
     "data": {
      "application/vnd.jupyter.widget-view+json": {
       "model_id": "48e9812e0fd94792a0a747e27bdeb8c9",
       "version_major": 2,
       "version_minor": 0
      },
      "text/plain": [
       "HBox(children=(HTML(value=''), FloatProgress(value=0.0, max=15706.0), HTML(value='')))"
      ]
     },
     "metadata": {},
     "output_type": "display_data"
    },
    {
     "name": "stdout",
     "output_type": "stream",
     "text": [
      "\n",
      "K = 19\n"
     ]
    },
    {
     "data": {
      "application/vnd.jupyter.widget-view+json": {
       "model_id": "7d13608ffd0c4206b849f491527d825e",
       "version_major": 2,
       "version_minor": 0
      },
      "text/plain": [
       "HBox(children=(HTML(value=''), FloatProgress(value=0.0, max=15706.0), HTML(value='')))"
      ]
     },
     "metadata": {},
     "output_type": "display_data"
    },
    {
     "name": "stdout",
     "output_type": "stream",
     "text": [
      "\n",
      "K = 20\n"
     ]
    },
    {
     "data": {
      "application/vnd.jupyter.widget-view+json": {
       "model_id": "31dc5115ea334dad88ea7447378df8fa",
       "version_major": 2,
       "version_minor": 0
      },
      "text/plain": [
       "HBox(children=(HTML(value=''), FloatProgress(value=0.0, max=15706.0), HTML(value='')))"
      ]
     },
     "metadata": {},
     "output_type": "display_data"
    },
    {
     "name": "stdout",
     "output_type": "stream",
     "text": [
      "\n",
      "K = 21\n"
     ]
    },
    {
     "data": {
      "application/vnd.jupyter.widget-view+json": {
       "model_id": "dc02e5469ea9493f8ac5098a3d95786c",
       "version_major": 2,
       "version_minor": 0
      },
      "text/plain": [
       "HBox(children=(HTML(value=''), FloatProgress(value=0.0, max=15706.0), HTML(value='')))"
      ]
     },
     "metadata": {},
     "output_type": "display_data"
    },
    {
     "name": "stdout",
     "output_type": "stream",
     "text": [
      "\n",
      "K = 22\n"
     ]
    },
    {
     "data": {
      "application/vnd.jupyter.widget-view+json": {
       "model_id": "bf3fb31c7d994bba848345f0abb9ae02",
       "version_major": 2,
       "version_minor": 0
      },
      "text/plain": [
       "HBox(children=(HTML(value=''), FloatProgress(value=0.0, max=15706.0), HTML(value='')))"
      ]
     },
     "metadata": {},
     "output_type": "display_data"
    },
    {
     "name": "stdout",
     "output_type": "stream",
     "text": [
      "\n",
      "K = 23\n"
     ]
    },
    {
     "data": {
      "application/vnd.jupyter.widget-view+json": {
       "model_id": "fa852bb381314444b668f0646b32590c",
       "version_major": 2,
       "version_minor": 0
      },
      "text/plain": [
       "HBox(children=(HTML(value=''), FloatProgress(value=0.0, max=15706.0), HTML(value='')))"
      ]
     },
     "metadata": {},
     "output_type": "display_data"
    },
    {
     "name": "stdout",
     "output_type": "stream",
     "text": [
      "\n",
      "K = 24\n"
     ]
    },
    {
     "data": {
      "application/vnd.jupyter.widget-view+json": {
       "model_id": "de862dd1a9bd4fb1810cf31d191fe5af",
       "version_major": 2,
       "version_minor": 0
      },
      "text/plain": [
       "HBox(children=(HTML(value=''), FloatProgress(value=0.0, max=15706.0), HTML(value='')))"
      ]
     },
     "metadata": {},
     "output_type": "display_data"
    },
    {
     "name": "stdout",
     "output_type": "stream",
     "text": [
      "\n",
      "test range - from 2021-08-18 00:00:00 to 2021-08-19 00:00:00\n",
      "train shape - (5160672, 5), test shape - (46113, 5)\n",
      "K = 5\n"
     ]
    },
    {
     "data": {
      "application/vnd.jupyter.widget-view+json": {
       "model_id": "0a26c1cec1f94713ab1f2f852f1844ce",
       "version_major": 2,
       "version_minor": 0
      },
      "text/plain": [
       "HBox(children=(HTML(value=''), FloatProgress(value=0.0, max=15706.0), HTML(value='')))"
      ]
     },
     "metadata": {},
     "output_type": "display_data"
    },
    {
     "name": "stdout",
     "output_type": "stream",
     "text": [
      "\n",
      "K = 6\n"
     ]
    },
    {
     "data": {
      "application/vnd.jupyter.widget-view+json": {
       "model_id": "0c81e27b9a884a45b16c1d65a38361c1",
       "version_major": 2,
       "version_minor": 0
      },
      "text/plain": [
       "HBox(children=(HTML(value=''), FloatProgress(value=0.0, max=15706.0), HTML(value='')))"
      ]
     },
     "metadata": {},
     "output_type": "display_data"
    },
    {
     "name": "stdout",
     "output_type": "stream",
     "text": [
      "\n",
      "K = 7\n"
     ]
    },
    {
     "data": {
      "application/vnd.jupyter.widget-view+json": {
       "model_id": "123a009fd9874e199eca108a0a017536",
       "version_major": 2,
       "version_minor": 0
      },
      "text/plain": [
       "HBox(children=(HTML(value=''), FloatProgress(value=0.0, max=15706.0), HTML(value='')))"
      ]
     },
     "metadata": {},
     "output_type": "display_data"
    },
    {
     "name": "stdout",
     "output_type": "stream",
     "text": [
      "\n",
      "K = 8\n"
     ]
    },
    {
     "data": {
      "application/vnd.jupyter.widget-view+json": {
       "model_id": "ee0eb5d7dde64ec1a75839edb6f32eaa",
       "version_major": 2,
       "version_minor": 0
      },
      "text/plain": [
       "HBox(children=(HTML(value=''), FloatProgress(value=0.0, max=15706.0), HTML(value='')))"
      ]
     },
     "metadata": {},
     "output_type": "display_data"
    },
    {
     "name": "stdout",
     "output_type": "stream",
     "text": [
      "\n",
      "K = 9\n"
     ]
    },
    {
     "data": {
      "application/vnd.jupyter.widget-view+json": {
       "model_id": "b5a317e9aad2461cb8c70b1c62469aac",
       "version_major": 2,
       "version_minor": 0
      },
      "text/plain": [
       "HBox(children=(HTML(value=''), FloatProgress(value=0.0, max=15706.0), HTML(value='')))"
      ]
     },
     "metadata": {},
     "output_type": "display_data"
    },
    {
     "name": "stdout",
     "output_type": "stream",
     "text": [
      "\n",
      "K = 10\n"
     ]
    },
    {
     "data": {
      "application/vnd.jupyter.widget-view+json": {
       "model_id": "5fdc56392a1449f49c6c1acc561b206e",
       "version_major": 2,
       "version_minor": 0
      },
      "text/plain": [
       "HBox(children=(HTML(value=''), FloatProgress(value=0.0, max=15706.0), HTML(value='')))"
      ]
     },
     "metadata": {},
     "output_type": "display_data"
    },
    {
     "name": "stdout",
     "output_type": "stream",
     "text": [
      "\n",
      "K = 11\n"
     ]
    },
    {
     "data": {
      "application/vnd.jupyter.widget-view+json": {
       "model_id": "7b9cc9dc5b5c48bfbd49fc10252c5a31",
       "version_major": 2,
       "version_minor": 0
      },
      "text/plain": [
       "HBox(children=(HTML(value=''), FloatProgress(value=0.0, max=15706.0), HTML(value='')))"
      ]
     },
     "metadata": {},
     "output_type": "display_data"
    },
    {
     "name": "stdout",
     "output_type": "stream",
     "text": [
      "\n",
      "K = 12\n"
     ]
    },
    {
     "data": {
      "application/vnd.jupyter.widget-view+json": {
       "model_id": "c58862a42900441a962decdea2bf4319",
       "version_major": 2,
       "version_minor": 0
      },
      "text/plain": [
       "HBox(children=(HTML(value=''), FloatProgress(value=0.0, max=15706.0), HTML(value='')))"
      ]
     },
     "metadata": {},
     "output_type": "display_data"
    },
    {
     "name": "stdout",
     "output_type": "stream",
     "text": [
      "\n",
      "K = 13\n"
     ]
    },
    {
     "data": {
      "application/vnd.jupyter.widget-view+json": {
       "model_id": "966bb032023845c2a51028d89cfeb018",
       "version_major": 2,
       "version_minor": 0
      },
      "text/plain": [
       "HBox(children=(HTML(value=''), FloatProgress(value=0.0, max=15706.0), HTML(value='')))"
      ]
     },
     "metadata": {},
     "output_type": "display_data"
    },
    {
     "name": "stdout",
     "output_type": "stream",
     "text": [
      "\n",
      "K = 14\n"
     ]
    },
    {
     "data": {
      "application/vnd.jupyter.widget-view+json": {
       "model_id": "6b8b970ce1e54e1181fd982a8867201f",
       "version_major": 2,
       "version_minor": 0
      },
      "text/plain": [
       "HBox(children=(HTML(value=''), FloatProgress(value=0.0, max=15706.0), HTML(value='')))"
      ]
     },
     "metadata": {},
     "output_type": "display_data"
    },
    {
     "name": "stdout",
     "output_type": "stream",
     "text": [
      "\n",
      "K = 15\n"
     ]
    },
    {
     "data": {
      "application/vnd.jupyter.widget-view+json": {
       "model_id": "01719488037844a7bdd35af0df2db4da",
       "version_major": 2,
       "version_minor": 0
      },
      "text/plain": [
       "HBox(children=(HTML(value=''), FloatProgress(value=0.0, max=15706.0), HTML(value='')))"
      ]
     },
     "metadata": {},
     "output_type": "display_data"
    },
    {
     "name": "stdout",
     "output_type": "stream",
     "text": [
      "\n",
      "K = 16\n"
     ]
    },
    {
     "data": {
      "application/vnd.jupyter.widget-view+json": {
       "model_id": "86d09eb3da094eaca11b3ee90d41a9df",
       "version_major": 2,
       "version_minor": 0
      },
      "text/plain": [
       "HBox(children=(HTML(value=''), FloatProgress(value=0.0, max=15706.0), HTML(value='')))"
      ]
     },
     "metadata": {},
     "output_type": "display_data"
    },
    {
     "name": "stdout",
     "output_type": "stream",
     "text": [
      "\n",
      "K = 17\n"
     ]
    },
    {
     "data": {
      "application/vnd.jupyter.widget-view+json": {
       "model_id": "951362cf34654eb5b8306218c75f6afb",
       "version_major": 2,
       "version_minor": 0
      },
      "text/plain": [
       "HBox(children=(HTML(value=''), FloatProgress(value=0.0, max=15706.0), HTML(value='')))"
      ]
     },
     "metadata": {},
     "output_type": "display_data"
    },
    {
     "name": "stdout",
     "output_type": "stream",
     "text": [
      "\n",
      "K = 18\n"
     ]
    },
    {
     "data": {
      "application/vnd.jupyter.widget-view+json": {
       "model_id": "2a89b4f7ab2648098d894991d7db0349",
       "version_major": 2,
       "version_minor": 0
      },
      "text/plain": [
       "HBox(children=(HTML(value=''), FloatProgress(value=0.0, max=15706.0), HTML(value='')))"
      ]
     },
     "metadata": {},
     "output_type": "display_data"
    },
    {
     "name": "stdout",
     "output_type": "stream",
     "text": [
      "\n",
      "K = 19\n"
     ]
    },
    {
     "data": {
      "application/vnd.jupyter.widget-view+json": {
       "model_id": "4887fdd72383453c87dbf0bebedc608d",
       "version_major": 2,
       "version_minor": 0
      },
      "text/plain": [
       "HBox(children=(HTML(value=''), FloatProgress(value=0.0, max=15706.0), HTML(value='')))"
      ]
     },
     "metadata": {},
     "output_type": "display_data"
    },
    {
     "name": "stdout",
     "output_type": "stream",
     "text": [
      "\n",
      "K = 20\n"
     ]
    },
    {
     "data": {
      "application/vnd.jupyter.widget-view+json": {
       "model_id": "944cfd364e3249289250f3709dd4aac1",
       "version_major": 2,
       "version_minor": 0
      },
      "text/plain": [
       "HBox(children=(HTML(value=''), FloatProgress(value=0.0, max=15706.0), HTML(value='')))"
      ]
     },
     "metadata": {},
     "output_type": "display_data"
    },
    {
     "name": "stdout",
     "output_type": "stream",
     "text": [
      "\n",
      "K = 21\n"
     ]
    },
    {
     "data": {
      "application/vnd.jupyter.widget-view+json": {
       "model_id": "4677cf6dc5f14b5c8b654a84cac321d5",
       "version_major": 2,
       "version_minor": 0
      },
      "text/plain": [
       "HBox(children=(HTML(value=''), FloatProgress(value=0.0, max=15706.0), HTML(value='')))"
      ]
     },
     "metadata": {},
     "output_type": "display_data"
    },
    {
     "name": "stdout",
     "output_type": "stream",
     "text": [
      "\n",
      "K = 22\n"
     ]
    },
    {
     "data": {
      "application/vnd.jupyter.widget-view+json": {
       "model_id": "00efa14e1a9e49ac98303b664b8502f8",
       "version_major": 2,
       "version_minor": 0
      },
      "text/plain": [
       "HBox(children=(HTML(value=''), FloatProgress(value=0.0, max=15706.0), HTML(value='')))"
      ]
     },
     "metadata": {},
     "output_type": "display_data"
    },
    {
     "name": "stdout",
     "output_type": "stream",
     "text": [
      "\n",
      "K = 23\n"
     ]
    },
    {
     "data": {
      "application/vnd.jupyter.widget-view+json": {
       "model_id": "dfde0921ac864725951af9e5ab73bc93",
       "version_major": 2,
       "version_minor": 0
      },
      "text/plain": [
       "HBox(children=(HTML(value=''), FloatProgress(value=0.0, max=15706.0), HTML(value='')))"
      ]
     },
     "metadata": {},
     "output_type": "display_data"
    },
    {
     "name": "stdout",
     "output_type": "stream",
     "text": [
      "\n",
      "K = 24\n"
     ]
    },
    {
     "data": {
      "application/vnd.jupyter.widget-view+json": {
       "model_id": "f54a055c4dbd429084eac876ec748f04",
       "version_major": 2,
       "version_minor": 0
      },
      "text/plain": [
       "HBox(children=(HTML(value=''), FloatProgress(value=0.0, max=15706.0), HTML(value='')))"
      ]
     },
     "metadata": {},
     "output_type": "display_data"
    },
    {
     "name": "stdout",
     "output_type": "stream",
     "text": [
      "\n",
      "test range - from 2021-08-19 00:00:00 to 2021-08-20 00:00:00\n",
      "train shape - (5217461, 5), test shape - (47526, 5)\n",
      "K = 5\n"
     ]
    },
    {
     "data": {
      "application/vnd.jupyter.widget-view+json": {
       "model_id": "2871b2428ac449539ada682c54a84475",
       "version_major": 2,
       "version_minor": 0
      },
      "text/plain": [
       "HBox(children=(HTML(value=''), FloatProgress(value=0.0, max=15706.0), HTML(value='')))"
      ]
     },
     "metadata": {},
     "output_type": "display_data"
    },
    {
     "name": "stdout",
     "output_type": "stream",
     "text": [
      "\n",
      "K = 6\n"
     ]
    },
    {
     "data": {
      "application/vnd.jupyter.widget-view+json": {
       "model_id": "dc72fc2c60ea41169149aacd8e40c853",
       "version_major": 2,
       "version_minor": 0
      },
      "text/plain": [
       "HBox(children=(HTML(value=''), FloatProgress(value=0.0, max=15706.0), HTML(value='')))"
      ]
     },
     "metadata": {},
     "output_type": "display_data"
    },
    {
     "name": "stdout",
     "output_type": "stream",
     "text": [
      "\n",
      "K = 7\n"
     ]
    },
    {
     "data": {
      "application/vnd.jupyter.widget-view+json": {
       "model_id": "0fa27a3eb0f74b2b8d1e3b8f29a57811",
       "version_major": 2,
       "version_minor": 0
      },
      "text/plain": [
       "HBox(children=(HTML(value=''), FloatProgress(value=0.0, max=15706.0), HTML(value='')))"
      ]
     },
     "metadata": {},
     "output_type": "display_data"
    },
    {
     "name": "stdout",
     "output_type": "stream",
     "text": [
      "\n",
      "K = 8\n"
     ]
    },
    {
     "data": {
      "application/vnd.jupyter.widget-view+json": {
       "model_id": "b3b7496a9c8e48f09a03eca1ab0da0e3",
       "version_major": 2,
       "version_minor": 0
      },
      "text/plain": [
       "HBox(children=(HTML(value=''), FloatProgress(value=0.0, max=15706.0), HTML(value='')))"
      ]
     },
     "metadata": {},
     "output_type": "display_data"
    },
    {
     "name": "stdout",
     "output_type": "stream",
     "text": [
      "\n",
      "K = 9\n"
     ]
    },
    {
     "data": {
      "application/vnd.jupyter.widget-view+json": {
       "model_id": "3d0a94d3cae642509bc047a196053c03",
       "version_major": 2,
       "version_minor": 0
      },
      "text/plain": [
       "HBox(children=(HTML(value=''), FloatProgress(value=0.0, max=15706.0), HTML(value='')))"
      ]
     },
     "metadata": {},
     "output_type": "display_data"
    },
    {
     "name": "stdout",
     "output_type": "stream",
     "text": [
      "\n",
      "K = 10\n"
     ]
    },
    {
     "data": {
      "application/vnd.jupyter.widget-view+json": {
       "model_id": "a1e300b7ac964d58842d58034aa657f9",
       "version_major": 2,
       "version_minor": 0
      },
      "text/plain": [
       "HBox(children=(HTML(value=''), FloatProgress(value=0.0, max=15706.0), HTML(value='')))"
      ]
     },
     "metadata": {},
     "output_type": "display_data"
    },
    {
     "name": "stdout",
     "output_type": "stream",
     "text": [
      "\n",
      "K = 11\n"
     ]
    },
    {
     "data": {
      "application/vnd.jupyter.widget-view+json": {
       "model_id": "30c96cc4914543fd984aab19f95ab6c3",
       "version_major": 2,
       "version_minor": 0
      },
      "text/plain": [
       "HBox(children=(HTML(value=''), FloatProgress(value=0.0, max=15706.0), HTML(value='')))"
      ]
     },
     "metadata": {},
     "output_type": "display_data"
    },
    {
     "name": "stdout",
     "output_type": "stream",
     "text": [
      "\n",
      "K = 12\n"
     ]
    },
    {
     "data": {
      "application/vnd.jupyter.widget-view+json": {
       "model_id": "aaa1e81692e14389ade365f5ae27309a",
       "version_major": 2,
       "version_minor": 0
      },
      "text/plain": [
       "HBox(children=(HTML(value=''), FloatProgress(value=0.0, max=15706.0), HTML(value='')))"
      ]
     },
     "metadata": {},
     "output_type": "display_data"
    },
    {
     "name": "stdout",
     "output_type": "stream",
     "text": [
      "\n",
      "K = 13\n"
     ]
    },
    {
     "data": {
      "application/vnd.jupyter.widget-view+json": {
       "model_id": "d71587329a344acda2885fb0037e85e1",
       "version_major": 2,
       "version_minor": 0
      },
      "text/plain": [
       "HBox(children=(HTML(value=''), FloatProgress(value=0.0, max=15706.0), HTML(value='')))"
      ]
     },
     "metadata": {},
     "output_type": "display_data"
    },
    {
     "name": "stdout",
     "output_type": "stream",
     "text": [
      "\n",
      "K = 14\n"
     ]
    },
    {
     "data": {
      "application/vnd.jupyter.widget-view+json": {
       "model_id": "7705394267a44fce900f87ba747b0180",
       "version_major": 2,
       "version_minor": 0
      },
      "text/plain": [
       "HBox(children=(HTML(value=''), FloatProgress(value=0.0, max=15706.0), HTML(value='')))"
      ]
     },
     "metadata": {},
     "output_type": "display_data"
    },
    {
     "name": "stdout",
     "output_type": "stream",
     "text": [
      "\n",
      "K = 15\n"
     ]
    },
    {
     "data": {
      "application/vnd.jupyter.widget-view+json": {
       "model_id": "682f158a114b4ee8afbba38325a5b146",
       "version_major": 2,
       "version_minor": 0
      },
      "text/plain": [
       "HBox(children=(HTML(value=''), FloatProgress(value=0.0, max=15706.0), HTML(value='')))"
      ]
     },
     "metadata": {},
     "output_type": "display_data"
    },
    {
     "name": "stdout",
     "output_type": "stream",
     "text": [
      "\n",
      "K = 16\n"
     ]
    },
    {
     "data": {
      "application/vnd.jupyter.widget-view+json": {
       "model_id": "c3b31467e29846e18cccdf4cd13a3475",
       "version_major": 2,
       "version_minor": 0
      },
      "text/plain": [
       "HBox(children=(HTML(value=''), FloatProgress(value=0.0, max=15706.0), HTML(value='')))"
      ]
     },
     "metadata": {},
     "output_type": "display_data"
    },
    {
     "name": "stdout",
     "output_type": "stream",
     "text": [
      "\n",
      "K = 17\n"
     ]
    },
    {
     "data": {
      "application/vnd.jupyter.widget-view+json": {
       "model_id": "b842bcacb2684b79bbea0e3ad37a30c6",
       "version_major": 2,
       "version_minor": 0
      },
      "text/plain": [
       "HBox(children=(HTML(value=''), FloatProgress(value=0.0, max=15706.0), HTML(value='')))"
      ]
     },
     "metadata": {},
     "output_type": "display_data"
    },
    {
     "name": "stdout",
     "output_type": "stream",
     "text": [
      "\n",
      "K = 18\n"
     ]
    },
    {
     "data": {
      "application/vnd.jupyter.widget-view+json": {
       "model_id": "5a432a29cca14cf8be93f6a1cc8c8c96",
       "version_major": 2,
       "version_minor": 0
      },
      "text/plain": [
       "HBox(children=(HTML(value=''), FloatProgress(value=0.0, max=15706.0), HTML(value='')))"
      ]
     },
     "metadata": {},
     "output_type": "display_data"
    },
    {
     "name": "stdout",
     "output_type": "stream",
     "text": [
      "\n",
      "K = 19\n"
     ]
    },
    {
     "data": {
      "application/vnd.jupyter.widget-view+json": {
       "model_id": "8232662e596d4a16ba5cd0c1587245af",
       "version_major": 2,
       "version_minor": 0
      },
      "text/plain": [
       "HBox(children=(HTML(value=''), FloatProgress(value=0.0, max=15706.0), HTML(value='')))"
      ]
     },
     "metadata": {},
     "output_type": "display_data"
    },
    {
     "name": "stdout",
     "output_type": "stream",
     "text": [
      "\n",
      "K = 20\n"
     ]
    },
    {
     "data": {
      "application/vnd.jupyter.widget-view+json": {
       "model_id": "a889865dbdb44c62a6b7cfca2a259f2e",
       "version_major": 2,
       "version_minor": 0
      },
      "text/plain": [
       "HBox(children=(HTML(value=''), FloatProgress(value=0.0, max=15706.0), HTML(value='')))"
      ]
     },
     "metadata": {},
     "output_type": "display_data"
    },
    {
     "name": "stdout",
     "output_type": "stream",
     "text": [
      "\n",
      "K = 21\n"
     ]
    },
    {
     "data": {
      "application/vnd.jupyter.widget-view+json": {
       "model_id": "4e6fcc5458f7471e9ee1ab8f27db7720",
       "version_major": 2,
       "version_minor": 0
      },
      "text/plain": [
       "HBox(children=(HTML(value=''), FloatProgress(value=0.0, max=15706.0), HTML(value='')))"
      ]
     },
     "metadata": {},
     "output_type": "display_data"
    },
    {
     "name": "stdout",
     "output_type": "stream",
     "text": [
      "\n",
      "K = 22\n"
     ]
    },
    {
     "data": {
      "application/vnd.jupyter.widget-view+json": {
       "model_id": "0f052ac97a024d33b5a9d48025568e8c",
       "version_major": 2,
       "version_minor": 0
      },
      "text/plain": [
       "HBox(children=(HTML(value=''), FloatProgress(value=0.0, max=15706.0), HTML(value='')))"
      ]
     },
     "metadata": {},
     "output_type": "display_data"
    },
    {
     "name": "stdout",
     "output_type": "stream",
     "text": [
      "\n",
      "K = 23\n"
     ]
    },
    {
     "data": {
      "application/vnd.jupyter.widget-view+json": {
       "model_id": "fa7f5645647943e1a9abffef9c5fc107",
       "version_major": 2,
       "version_minor": 0
      },
      "text/plain": [
       "HBox(children=(HTML(value=''), FloatProgress(value=0.0, max=15706.0), HTML(value='')))"
      ]
     },
     "metadata": {},
     "output_type": "display_data"
    },
    {
     "name": "stdout",
     "output_type": "stream",
     "text": [
      "\n",
      "K = 24\n"
     ]
    },
    {
     "data": {
      "application/vnd.jupyter.widget-view+json": {
       "model_id": "e0eaa958a3804393952003b390ee46b8",
       "version_major": 2,
       "version_minor": 0
      },
      "text/plain": [
       "HBox(children=(HTML(value=''), FloatProgress(value=0.0, max=15706.0), HTML(value='')))"
      ]
     },
     "metadata": {},
     "output_type": "display_data"
    },
    {
     "name": "stdout",
     "output_type": "stream",
     "text": [
      "\n",
      "test range - from 2021-08-20 00:00:00 to 2021-08-21 00:00:00\n",
      "train shape - (5276101, 5), test shape - (48687, 5)\n",
      "K = 5\n"
     ]
    },
    {
     "data": {
      "application/vnd.jupyter.widget-view+json": {
       "model_id": "d73d53f600c44621834227a3940d8df4",
       "version_major": 2,
       "version_minor": 0
      },
      "text/plain": [
       "HBox(children=(HTML(value=''), FloatProgress(value=0.0, max=15706.0), HTML(value='')))"
      ]
     },
     "metadata": {},
     "output_type": "display_data"
    },
    {
     "name": "stdout",
     "output_type": "stream",
     "text": [
      "\n",
      "K = 6\n"
     ]
    },
    {
     "data": {
      "application/vnd.jupyter.widget-view+json": {
       "model_id": "7dc670f848fe457795afbf7bf46db127",
       "version_major": 2,
       "version_minor": 0
      },
      "text/plain": [
       "HBox(children=(HTML(value=''), FloatProgress(value=0.0, max=15706.0), HTML(value='')))"
      ]
     },
     "metadata": {},
     "output_type": "display_data"
    },
    {
     "name": "stdout",
     "output_type": "stream",
     "text": [
      "\n",
      "K = 7\n"
     ]
    },
    {
     "data": {
      "application/vnd.jupyter.widget-view+json": {
       "model_id": "9d7ef1b764ac492f8b765197bbb84031",
       "version_major": 2,
       "version_minor": 0
      },
      "text/plain": [
       "HBox(children=(HTML(value=''), FloatProgress(value=0.0, max=15706.0), HTML(value='')))"
      ]
     },
     "metadata": {},
     "output_type": "display_data"
    },
    {
     "name": "stdout",
     "output_type": "stream",
     "text": [
      "\n",
      "K = 8\n"
     ]
    },
    {
     "data": {
      "application/vnd.jupyter.widget-view+json": {
       "model_id": "c624f7604f3e4e2aad658848ca0bf1c0",
       "version_major": 2,
       "version_minor": 0
      },
      "text/plain": [
       "HBox(children=(HTML(value=''), FloatProgress(value=0.0, max=15706.0), HTML(value='')))"
      ]
     },
     "metadata": {},
     "output_type": "display_data"
    },
    {
     "name": "stdout",
     "output_type": "stream",
     "text": [
      "\n",
      "K = 9\n"
     ]
    },
    {
     "data": {
      "application/vnd.jupyter.widget-view+json": {
       "model_id": "417d80641d894f779d7573d8a0a662bc",
       "version_major": 2,
       "version_minor": 0
      },
      "text/plain": [
       "HBox(children=(HTML(value=''), FloatProgress(value=0.0, max=15706.0), HTML(value='')))"
      ]
     },
     "metadata": {},
     "output_type": "display_data"
    },
    {
     "name": "stdout",
     "output_type": "stream",
     "text": [
      "\n",
      "K = 10\n"
     ]
    },
    {
     "data": {
      "application/vnd.jupyter.widget-view+json": {
       "model_id": "2056f2e1a6374cf8a12cd738496c26d7",
       "version_major": 2,
       "version_minor": 0
      },
      "text/plain": [
       "HBox(children=(HTML(value=''), FloatProgress(value=0.0, max=15706.0), HTML(value='')))"
      ]
     },
     "metadata": {},
     "output_type": "display_data"
    },
    {
     "name": "stdout",
     "output_type": "stream",
     "text": [
      "\n",
      "K = 11\n"
     ]
    },
    {
     "data": {
      "application/vnd.jupyter.widget-view+json": {
       "model_id": "24ca260df4354745824a8ce22710887f",
       "version_major": 2,
       "version_minor": 0
      },
      "text/plain": [
       "HBox(children=(HTML(value=''), FloatProgress(value=0.0, max=15706.0), HTML(value='')))"
      ]
     },
     "metadata": {},
     "output_type": "display_data"
    },
    {
     "name": "stdout",
     "output_type": "stream",
     "text": [
      "\n",
      "K = 12\n"
     ]
    },
    {
     "data": {
      "application/vnd.jupyter.widget-view+json": {
       "model_id": "1f7f31a08a484d1f87ab7155de2c2cee",
       "version_major": 2,
       "version_minor": 0
      },
      "text/plain": [
       "HBox(children=(HTML(value=''), FloatProgress(value=0.0, max=15706.0), HTML(value='')))"
      ]
     },
     "metadata": {},
     "output_type": "display_data"
    },
    {
     "name": "stdout",
     "output_type": "stream",
     "text": [
      "\n",
      "K = 13\n"
     ]
    },
    {
     "data": {
      "application/vnd.jupyter.widget-view+json": {
       "model_id": "195b161027004811867c3ef718a8e049",
       "version_major": 2,
       "version_minor": 0
      },
      "text/plain": [
       "HBox(children=(HTML(value=''), FloatProgress(value=0.0, max=15706.0), HTML(value='')))"
      ]
     },
     "metadata": {},
     "output_type": "display_data"
    },
    {
     "name": "stdout",
     "output_type": "stream",
     "text": [
      "\n",
      "K = 14\n"
     ]
    },
    {
     "data": {
      "application/vnd.jupyter.widget-view+json": {
       "model_id": "7707153dfd314c42a393844b7fedf433",
       "version_major": 2,
       "version_minor": 0
      },
      "text/plain": [
       "HBox(children=(HTML(value=''), FloatProgress(value=0.0, max=15706.0), HTML(value='')))"
      ]
     },
     "metadata": {},
     "output_type": "display_data"
    },
    {
     "name": "stdout",
     "output_type": "stream",
     "text": [
      "\n",
      "K = 15\n"
     ]
    },
    {
     "data": {
      "application/vnd.jupyter.widget-view+json": {
       "model_id": "d129928650a84b74b5638bc7bcc3840d",
       "version_major": 2,
       "version_minor": 0
      },
      "text/plain": [
       "HBox(children=(HTML(value=''), FloatProgress(value=0.0, max=15706.0), HTML(value='')))"
      ]
     },
     "metadata": {},
     "output_type": "display_data"
    },
    {
     "name": "stdout",
     "output_type": "stream",
     "text": [
      "\n",
      "K = 16\n"
     ]
    },
    {
     "data": {
      "application/vnd.jupyter.widget-view+json": {
       "model_id": "00ca4af3d23141f1a170724a0d26320e",
       "version_major": 2,
       "version_minor": 0
      },
      "text/plain": [
       "HBox(children=(HTML(value=''), FloatProgress(value=0.0, max=15706.0), HTML(value='')))"
      ]
     },
     "metadata": {},
     "output_type": "display_data"
    },
    {
     "name": "stdout",
     "output_type": "stream",
     "text": [
      "\n",
      "K = 17\n"
     ]
    },
    {
     "data": {
      "application/vnd.jupyter.widget-view+json": {
       "model_id": "afc542507d9746b38de0a4ecf31275bd",
       "version_major": 2,
       "version_minor": 0
      },
      "text/plain": [
       "HBox(children=(HTML(value=''), FloatProgress(value=0.0, max=15706.0), HTML(value='')))"
      ]
     },
     "metadata": {},
     "output_type": "display_data"
    },
    {
     "name": "stdout",
     "output_type": "stream",
     "text": [
      "\n",
      "K = 18\n"
     ]
    },
    {
     "data": {
      "application/vnd.jupyter.widget-view+json": {
       "model_id": "599d172125a04d2d95c295fa43e16be2",
       "version_major": 2,
       "version_minor": 0
      },
      "text/plain": [
       "HBox(children=(HTML(value=''), FloatProgress(value=0.0, max=15706.0), HTML(value='')))"
      ]
     },
     "metadata": {},
     "output_type": "display_data"
    },
    {
     "name": "stdout",
     "output_type": "stream",
     "text": [
      "\n",
      "K = 19\n"
     ]
    },
    {
     "data": {
      "application/vnd.jupyter.widget-view+json": {
       "model_id": "f7c4b29237ee480b9241b197b6b7ad70",
       "version_major": 2,
       "version_minor": 0
      },
      "text/plain": [
       "HBox(children=(HTML(value=''), FloatProgress(value=0.0, max=15706.0), HTML(value='')))"
      ]
     },
     "metadata": {},
     "output_type": "display_data"
    },
    {
     "name": "stdout",
     "output_type": "stream",
     "text": [
      "\n",
      "K = 20\n"
     ]
    },
    {
     "data": {
      "application/vnd.jupyter.widget-view+json": {
       "model_id": "3f64cc90c0474542afdc8504b842e62d",
       "version_major": 2,
       "version_minor": 0
      },
      "text/plain": [
       "HBox(children=(HTML(value=''), FloatProgress(value=0.0, max=15706.0), HTML(value='')))"
      ]
     },
     "metadata": {},
     "output_type": "display_data"
    },
    {
     "name": "stdout",
     "output_type": "stream",
     "text": [
      "\n",
      "K = 21\n"
     ]
    },
    {
     "data": {
      "application/vnd.jupyter.widget-view+json": {
       "model_id": "06c56ff68437442995e80aca8e06ed8e",
       "version_major": 2,
       "version_minor": 0
      },
      "text/plain": [
       "HBox(children=(HTML(value=''), FloatProgress(value=0.0, max=15706.0), HTML(value='')))"
      ]
     },
     "metadata": {},
     "output_type": "display_data"
    },
    {
     "name": "stdout",
     "output_type": "stream",
     "text": [
      "\n",
      "K = 22\n"
     ]
    },
    {
     "data": {
      "application/vnd.jupyter.widget-view+json": {
       "model_id": "3ac9ff476aaf46f78e7c9648661c7cfe",
       "version_major": 2,
       "version_minor": 0
      },
      "text/plain": [
       "HBox(children=(HTML(value=''), FloatProgress(value=0.0, max=15706.0), HTML(value='')))"
      ]
     },
     "metadata": {},
     "output_type": "display_data"
    },
    {
     "name": "stdout",
     "output_type": "stream",
     "text": [
      "\n",
      "K = 23\n"
     ]
    },
    {
     "data": {
      "application/vnd.jupyter.widget-view+json": {
       "model_id": "a5e2779876de437f84a405add521c273",
       "version_major": 2,
       "version_minor": 0
      },
      "text/plain": [
       "HBox(children=(HTML(value=''), FloatProgress(value=0.0, max=15706.0), HTML(value='')))"
      ]
     },
     "metadata": {},
     "output_type": "display_data"
    },
    {
     "name": "stdout",
     "output_type": "stream",
     "text": [
      "\n",
      "K = 24\n"
     ]
    },
    {
     "data": {
      "application/vnd.jupyter.widget-view+json": {
       "model_id": "eb4b9763fa594bb18272c977583aa01a",
       "version_major": 2,
       "version_minor": 0
      },
      "text/plain": [
       "HBox(children=(HTML(value=''), FloatProgress(value=0.0, max=15706.0), HTML(value='')))"
      ]
     },
     "metadata": {},
     "output_type": "display_data"
    },
    {
     "name": "stdout",
     "output_type": "stream",
     "text": [
      "\n",
      "test range - from 2021-08-21 00:00:00 to 2021-08-22 00:00:00\n",
      "train shape - (5336246, 5), test shape - (55285, 5)\n",
      "K = 5\n"
     ]
    },
    {
     "data": {
      "application/vnd.jupyter.widget-view+json": {
       "model_id": "3f59d7c515f54becace02f79d5acaa5e",
       "version_major": 2,
       "version_minor": 0
      },
      "text/plain": [
       "HBox(children=(HTML(value=''), FloatProgress(value=0.0, max=15706.0), HTML(value='')))"
      ]
     },
     "metadata": {},
     "output_type": "display_data"
    },
    {
     "name": "stdout",
     "output_type": "stream",
     "text": [
      "\n",
      "K = 6\n"
     ]
    },
    {
     "data": {
      "application/vnd.jupyter.widget-view+json": {
       "model_id": "48e9695489194e6fbd455e4d7f352c5c",
       "version_major": 2,
       "version_minor": 0
      },
      "text/plain": [
       "HBox(children=(HTML(value=''), FloatProgress(value=0.0, max=15706.0), HTML(value='')))"
      ]
     },
     "metadata": {},
     "output_type": "display_data"
    },
    {
     "name": "stdout",
     "output_type": "stream",
     "text": [
      "\n",
      "K = 7\n"
     ]
    },
    {
     "data": {
      "application/vnd.jupyter.widget-view+json": {
       "model_id": "4ab2b57696e748bbae28849ad832b476",
       "version_major": 2,
       "version_minor": 0
      },
      "text/plain": [
       "HBox(children=(HTML(value=''), FloatProgress(value=0.0, max=15706.0), HTML(value='')))"
      ]
     },
     "metadata": {},
     "output_type": "display_data"
    },
    {
     "name": "stdout",
     "output_type": "stream",
     "text": [
      "\n",
      "K = 8\n"
     ]
    },
    {
     "data": {
      "application/vnd.jupyter.widget-view+json": {
       "model_id": "1c7960090e1e42e891744f92013b8bbb",
       "version_major": 2,
       "version_minor": 0
      },
      "text/plain": [
       "HBox(children=(HTML(value=''), FloatProgress(value=0.0, max=15706.0), HTML(value='')))"
      ]
     },
     "metadata": {},
     "output_type": "display_data"
    },
    {
     "name": "stdout",
     "output_type": "stream",
     "text": [
      "\n",
      "K = 9\n"
     ]
    },
    {
     "data": {
      "application/vnd.jupyter.widget-view+json": {
       "model_id": "30c2c0e1be2947cbb6a55088262d9062",
       "version_major": 2,
       "version_minor": 0
      },
      "text/plain": [
       "HBox(children=(HTML(value=''), FloatProgress(value=0.0, max=15706.0), HTML(value='')))"
      ]
     },
     "metadata": {},
     "output_type": "display_data"
    },
    {
     "name": "stdout",
     "output_type": "stream",
     "text": [
      "\n",
      "K = 10\n"
     ]
    },
    {
     "data": {
      "application/vnd.jupyter.widget-view+json": {
       "model_id": "1e8c6824a1d64b27ba5d545e62fdeb47",
       "version_major": 2,
       "version_minor": 0
      },
      "text/plain": [
       "HBox(children=(HTML(value=''), FloatProgress(value=0.0, max=15706.0), HTML(value='')))"
      ]
     },
     "metadata": {},
     "output_type": "display_data"
    },
    {
     "name": "stdout",
     "output_type": "stream",
     "text": [
      "\n",
      "K = 11\n"
     ]
    },
    {
     "data": {
      "application/vnd.jupyter.widget-view+json": {
       "model_id": "0627fa514297470ba144f1ba2564be2a",
       "version_major": 2,
       "version_minor": 0
      },
      "text/plain": [
       "HBox(children=(HTML(value=''), FloatProgress(value=0.0, max=15706.0), HTML(value='')))"
      ]
     },
     "metadata": {},
     "output_type": "display_data"
    },
    {
     "name": "stdout",
     "output_type": "stream",
     "text": [
      "\n",
      "K = 12\n"
     ]
    },
    {
     "data": {
      "application/vnd.jupyter.widget-view+json": {
       "model_id": "0efa182cfeb8401e904e87aec5f6007c",
       "version_major": 2,
       "version_minor": 0
      },
      "text/plain": [
       "HBox(children=(HTML(value=''), FloatProgress(value=0.0, max=15706.0), HTML(value='')))"
      ]
     },
     "metadata": {},
     "output_type": "display_data"
    },
    {
     "name": "stdout",
     "output_type": "stream",
     "text": [
      "\n",
      "K = 13\n"
     ]
    },
    {
     "data": {
      "application/vnd.jupyter.widget-view+json": {
       "model_id": "819a07d418c34610973e20f73daf83e2",
       "version_major": 2,
       "version_minor": 0
      },
      "text/plain": [
       "HBox(children=(HTML(value=''), FloatProgress(value=0.0, max=15706.0), HTML(value='')))"
      ]
     },
     "metadata": {},
     "output_type": "display_data"
    },
    {
     "name": "stdout",
     "output_type": "stream",
     "text": [
      "\n",
      "K = 14\n"
     ]
    },
    {
     "data": {
      "application/vnd.jupyter.widget-view+json": {
       "model_id": "1216a2d4aa434c92a7bf91dd53af672d",
       "version_major": 2,
       "version_minor": 0
      },
      "text/plain": [
       "HBox(children=(HTML(value=''), FloatProgress(value=0.0, max=15706.0), HTML(value='')))"
      ]
     },
     "metadata": {},
     "output_type": "display_data"
    },
    {
     "name": "stdout",
     "output_type": "stream",
     "text": [
      "\n",
      "K = 15\n"
     ]
    },
    {
     "data": {
      "application/vnd.jupyter.widget-view+json": {
       "model_id": "e0772257507e4266aa1432dd4369a60b",
       "version_major": 2,
       "version_minor": 0
      },
      "text/plain": [
       "HBox(children=(HTML(value=''), FloatProgress(value=0.0, max=15706.0), HTML(value='')))"
      ]
     },
     "metadata": {},
     "output_type": "display_data"
    },
    {
     "name": "stdout",
     "output_type": "stream",
     "text": [
      "\n",
      "K = 16\n"
     ]
    },
    {
     "data": {
      "application/vnd.jupyter.widget-view+json": {
       "model_id": "69b4b2614300417ab8bd49f7a27f8383",
       "version_major": 2,
       "version_minor": 0
      },
      "text/plain": [
       "HBox(children=(HTML(value=''), FloatProgress(value=0.0, max=15706.0), HTML(value='')))"
      ]
     },
     "metadata": {},
     "output_type": "display_data"
    },
    {
     "name": "stdout",
     "output_type": "stream",
     "text": [
      "\n",
      "K = 17\n"
     ]
    },
    {
     "data": {
      "application/vnd.jupyter.widget-view+json": {
       "model_id": "fbf91b19b596470eb252d24cf796fb52",
       "version_major": 2,
       "version_minor": 0
      },
      "text/plain": [
       "HBox(children=(HTML(value=''), FloatProgress(value=0.0, max=15706.0), HTML(value='')))"
      ]
     },
     "metadata": {},
     "output_type": "display_data"
    },
    {
     "name": "stdout",
     "output_type": "stream",
     "text": [
      "\n",
      "K = 18\n"
     ]
    },
    {
     "data": {
      "application/vnd.jupyter.widget-view+json": {
       "model_id": "219a1b1b7ad7458bae151da2ec905e25",
       "version_major": 2,
       "version_minor": 0
      },
      "text/plain": [
       "HBox(children=(HTML(value=''), FloatProgress(value=0.0, max=15706.0), HTML(value='')))"
      ]
     },
     "metadata": {},
     "output_type": "display_data"
    },
    {
     "name": "stdout",
     "output_type": "stream",
     "text": [
      "\n",
      "K = 19\n"
     ]
    },
    {
     "data": {
      "application/vnd.jupyter.widget-view+json": {
       "model_id": "4f1afdd82e6847dda25562abcee388fb",
       "version_major": 2,
       "version_minor": 0
      },
      "text/plain": [
       "HBox(children=(HTML(value=''), FloatProgress(value=0.0, max=15706.0), HTML(value='')))"
      ]
     },
     "metadata": {},
     "output_type": "display_data"
    },
    {
     "name": "stdout",
     "output_type": "stream",
     "text": [
      "\n",
      "K = 20\n"
     ]
    },
    {
     "data": {
      "application/vnd.jupyter.widget-view+json": {
       "model_id": "414c9c332d534ab29f602959adc6c6a1",
       "version_major": 2,
       "version_minor": 0
      },
      "text/plain": [
       "HBox(children=(HTML(value=''), FloatProgress(value=0.0, max=15706.0), HTML(value='')))"
      ]
     },
     "metadata": {},
     "output_type": "display_data"
    },
    {
     "name": "stdout",
     "output_type": "stream",
     "text": [
      "\n",
      "K = 21\n"
     ]
    },
    {
     "data": {
      "application/vnd.jupyter.widget-view+json": {
       "model_id": "f05de5bcabed43beb474729e4cf9171b",
       "version_major": 2,
       "version_minor": 0
      },
      "text/plain": [
       "HBox(children=(HTML(value=''), FloatProgress(value=0.0, max=15706.0), HTML(value='')))"
      ]
     },
     "metadata": {},
     "output_type": "display_data"
    },
    {
     "name": "stdout",
     "output_type": "stream",
     "text": [
      "\n",
      "K = 22\n"
     ]
    },
    {
     "data": {
      "application/vnd.jupyter.widget-view+json": {
       "model_id": "b1709a498c5f44af8224733e56b1d344",
       "version_major": 2,
       "version_minor": 0
      },
      "text/plain": [
       "HBox(children=(HTML(value=''), FloatProgress(value=0.0, max=15706.0), HTML(value='')))"
      ]
     },
     "metadata": {},
     "output_type": "display_data"
    },
    {
     "name": "stdout",
     "output_type": "stream",
     "text": [
      "\n",
      "K = 23\n"
     ]
    },
    {
     "data": {
      "application/vnd.jupyter.widget-view+json": {
       "model_id": "3fd11f4b1b244c32830e40286871b192",
       "version_major": 2,
       "version_minor": 0
      },
      "text/plain": [
       "HBox(children=(HTML(value=''), FloatProgress(value=0.0, max=15706.0), HTML(value='')))"
      ]
     },
     "metadata": {},
     "output_type": "display_data"
    },
    {
     "name": "stdout",
     "output_type": "stream",
     "text": [
      "\n",
      "K = 24\n"
     ]
    },
    {
     "data": {
      "application/vnd.jupyter.widget-view+json": {
       "model_id": "e658ca8fb0dd4c5c974a0995f0c34ff8",
       "version_major": 2,
       "version_minor": 0
      },
      "text/plain": [
       "HBox(children=(HTML(value=''), FloatProgress(value=0.0, max=15706.0), HTML(value='')))"
      ]
     },
     "metadata": {},
     "output_type": "display_data"
    },
    {
     "name": "stdout",
     "output_type": "stream",
     "text": [
      "\n",
      "Wall time: 12min 26s\n"
     ]
    }
   ],
   "source": [
    "%%time\n",
    "val_results_cosine = pd.DataFrame()\n",
    "\n",
    "for train_idx, test_idx, info in folds_with_stats:\n",
    "    print(f\"test range - from {info['Start date']} to {info['End date']}\")\n",
    "    train = interactions_df.loc[train_idx]\n",
    "    test = interactions_df.loc[test_idx]\n",
    "    print(f'train shape - {train.shape}, test shape - {test.shape}')\n",
    "    \n",
    "    train_mat = get_coo_matrix(train).tocsr()\n",
    "    for k in range(5, 25, 1):\n",
    "        print(f'K = {k}')\n",
    "        cosine_model = CosineRecommender(K=k)\n",
    "        cosine_model.fit(train_mat.T) # \n",
    "\n",
    "        mapper = generate_implicit_recs_mapper(cosine_model, train_mat, top_N, users_mapping, items_inv_mapping)\n",
    "\n",
    "        recs = pd.DataFrame({\n",
    "            'user_id': test['user_id'].unique()\n",
    "        })\n",
    "        recs['item_id'] = recs['user_id'].map(mapper)\n",
    "        recs = recs.explode('item_id')\n",
    "        recs['rank'] = recs.groupby('user_id').cumcount() + 1\n",
    "        fold_result = compute_metrics(test, recs, top_N)\n",
    "        fold_result.at['Date'] = info['Start date']\n",
    "        fold_result.at['K'] = k\n",
    "        fold_result.at['Model'] = 'cosine model'\n",
    "\n",
    "        val_results_cosine = val_results_cosine.append(fold_result, ignore_index=True)"
   ]
  },
  {
   "cell_type": "code",
   "execution_count": 48,
   "id": "c4fe68fd",
   "metadata": {},
   "outputs": [
    {
     "data": {
      "text/html": [
       "<div>\n",
       "<style scoped>\n",
       "    .dataframe tbody tr th:only-of-type {\n",
       "        vertical-align: middle;\n",
       "    }\n",
       "\n",
       "    .dataframe tbody tr th {\n",
       "        vertical-align: top;\n",
       "    }\n",
       "\n",
       "    .dataframe thead tr th {\n",
       "        text-align: left;\n",
       "    }\n",
       "\n",
       "    .dataframe thead tr:last-of-type th {\n",
       "        text-align: right;\n",
       "    }\n",
       "</style>\n",
       "<table border=\"1\" class=\"dataframe\">\n",
       "  <thead>\n",
       "    <tr>\n",
       "      <th></th>\n",
       "      <th colspan=\"4\" halign=\"left\">MRR</th>\n",
       "      <th colspan=\"4\" halign=\"left\">MAP@10</th>\n",
       "      <th colspan=\"4\" halign=\"left\">Recall@10</th>\n",
       "    </tr>\n",
       "    <tr>\n",
       "      <th></th>\n",
       "      <th>mean</th>\n",
       "      <th>std</th>\n",
       "      <th>min</th>\n",
       "      <th>max</th>\n",
       "      <th>mean</th>\n",
       "      <th>std</th>\n",
       "      <th>min</th>\n",
       "      <th>max</th>\n",
       "      <th>mean</th>\n",
       "      <th>std</th>\n",
       "      <th>min</th>\n",
       "      <th>max</th>\n",
       "    </tr>\n",
       "    <tr>\n",
       "      <th>K</th>\n",
       "      <th></th>\n",
       "      <th></th>\n",
       "      <th></th>\n",
       "      <th></th>\n",
       "      <th></th>\n",
       "      <th></th>\n",
       "      <th></th>\n",
       "      <th></th>\n",
       "      <th></th>\n",
       "      <th></th>\n",
       "      <th></th>\n",
       "      <th></th>\n",
       "    </tr>\n",
       "  </thead>\n",
       "  <tbody>\n",
       "    <tr>\n",
       "      <th>5.0</th>\n",
       "      <td>0.093405</td>\n",
       "      <td>0.001676</td>\n",
       "      <td>0.091348</td>\n",
       "      <td>0.096131</td>\n",
       "      <td>0.070475</td>\n",
       "      <td>0.001792</td>\n",
       "      <td>0.068497</td>\n",
       "      <td>0.073890</td>\n",
       "      <td>0.142879</td>\n",
       "      <td>0.003431</td>\n",
       "      <td>0.138847</td>\n",
       "      <td>0.147979</td>\n",
       "    </tr>\n",
       "    <tr>\n",
       "      <th>6.0</th>\n",
       "      <td>0.095878</td>\n",
       "      <td>0.001663</td>\n",
       "      <td>0.093550</td>\n",
       "      <td>0.098970</td>\n",
       "      <td>0.072581</td>\n",
       "      <td>0.001880</td>\n",
       "      <td>0.070362</td>\n",
       "      <td>0.076241</td>\n",
       "      <td>0.151586</td>\n",
       "      <td>0.003173</td>\n",
       "      <td>0.146844</td>\n",
       "      <td>0.156155</td>\n",
       "    </tr>\n",
       "    <tr>\n",
       "      <th>7.0</th>\n",
       "      <td>0.097400</td>\n",
       "      <td>0.001808</td>\n",
       "      <td>0.094940</td>\n",
       "      <td>0.100375</td>\n",
       "      <td>0.074059</td>\n",
       "      <td>0.002025</td>\n",
       "      <td>0.072166</td>\n",
       "      <td>0.077545</td>\n",
       "      <td>0.160178</td>\n",
       "      <td>0.003343</td>\n",
       "      <td>0.156060</td>\n",
       "      <td>0.165951</td>\n",
       "    </tr>\n",
       "    <tr>\n",
       "      <th>8.0</th>\n",
       "      <td>0.098162</td>\n",
       "      <td>0.001989</td>\n",
       "      <td>0.095318</td>\n",
       "      <td>0.101231</td>\n",
       "      <td>0.074671</td>\n",
       "      <td>0.002170</td>\n",
       "      <td>0.072789</td>\n",
       "      <td>0.078288</td>\n",
       "      <td>0.163669</td>\n",
       "      <td>0.004124</td>\n",
       "      <td>0.159412</td>\n",
       "      <td>0.171211</td>\n",
       "    </tr>\n",
       "    <tr>\n",
       "      <th>9.0</th>\n",
       "      <td>0.098551</td>\n",
       "      <td>0.002063</td>\n",
       "      <td>0.095957</td>\n",
       "      <td>0.101995</td>\n",
       "      <td>0.075032</td>\n",
       "      <td>0.002089</td>\n",
       "      <td>0.073448</td>\n",
       "      <td>0.078873</td>\n",
       "      <td>0.166740</td>\n",
       "      <td>0.003952</td>\n",
       "      <td>0.162345</td>\n",
       "      <td>0.174035</td>\n",
       "    </tr>\n",
       "    <tr>\n",
       "      <th>10.0</th>\n",
       "      <td>0.099436</td>\n",
       "      <td>0.002220</td>\n",
       "      <td>0.096608</td>\n",
       "      <td>0.103494</td>\n",
       "      <td>0.075841</td>\n",
       "      <td>0.002263</td>\n",
       "      <td>0.073922</td>\n",
       "      <td>0.080118</td>\n",
       "      <td>0.169665</td>\n",
       "      <td>0.004115</td>\n",
       "      <td>0.165906</td>\n",
       "      <td>0.177243</td>\n",
       "    </tr>\n",
       "    <tr>\n",
       "      <th>11.0</th>\n",
       "      <td>0.099954</td>\n",
       "      <td>0.002128</td>\n",
       "      <td>0.097292</td>\n",
       "      <td>0.103773</td>\n",
       "      <td>0.076394</td>\n",
       "      <td>0.002239</td>\n",
       "      <td>0.074248</td>\n",
       "      <td>0.080499</td>\n",
       "      <td>0.172472</td>\n",
       "      <td>0.004219</td>\n",
       "      <td>0.167406</td>\n",
       "      <td>0.179724</td>\n",
       "    </tr>\n",
       "    <tr>\n",
       "      <th>12.0</th>\n",
       "      <td>0.100066</td>\n",
       "      <td>0.001974</td>\n",
       "      <td>0.098093</td>\n",
       "      <td>0.104033</td>\n",
       "      <td>0.076462</td>\n",
       "      <td>0.002198</td>\n",
       "      <td>0.074602</td>\n",
       "      <td>0.080715</td>\n",
       "      <td>0.172305</td>\n",
       "      <td>0.003795</td>\n",
       "      <td>0.168798</td>\n",
       "      <td>0.179409</td>\n",
       "    </tr>\n",
       "    <tr>\n",
       "      <th>13.0</th>\n",
       "      <td>0.100394</td>\n",
       "      <td>0.002093</td>\n",
       "      <td>0.098340</td>\n",
       "      <td>0.104407</td>\n",
       "      <td>0.076800</td>\n",
       "      <td>0.002261</td>\n",
       "      <td>0.074528</td>\n",
       "      <td>0.080926</td>\n",
       "      <td>0.172566</td>\n",
       "      <td>0.004043</td>\n",
       "      <td>0.168268</td>\n",
       "      <td>0.179544</td>\n",
       "    </tr>\n",
       "    <tr>\n",
       "      <th>14.0</th>\n",
       "      <td>0.100514</td>\n",
       "      <td>0.002061</td>\n",
       "      <td>0.098541</td>\n",
       "      <td>0.104457</td>\n",
       "      <td>0.076877</td>\n",
       "      <td>0.002255</td>\n",
       "      <td>0.074462</td>\n",
       "      <td>0.081041</td>\n",
       "      <td>0.172396</td>\n",
       "      <td>0.003918</td>\n",
       "      <td>0.168381</td>\n",
       "      <td>0.179546</td>\n",
       "    </tr>\n",
       "    <tr>\n",
       "      <th>15.0</th>\n",
       "      <td>0.100735</td>\n",
       "      <td>0.002093</td>\n",
       "      <td>0.098706</td>\n",
       "      <td>0.104779</td>\n",
       "      <td>0.077008</td>\n",
       "      <td>0.002280</td>\n",
       "      <td>0.074539</td>\n",
       "      <td>0.081220</td>\n",
       "      <td>0.171873</td>\n",
       "      <td>0.004068</td>\n",
       "      <td>0.167002</td>\n",
       "      <td>0.178843</td>\n",
       "    </tr>\n",
       "    <tr>\n",
       "      <th>16.0</th>\n",
       "      <td>0.100668</td>\n",
       "      <td>0.002080</td>\n",
       "      <td>0.098644</td>\n",
       "      <td>0.104616</td>\n",
       "      <td>0.076947</td>\n",
       "      <td>0.002260</td>\n",
       "      <td>0.074395</td>\n",
       "      <td>0.081052</td>\n",
       "      <td>0.171966</td>\n",
       "      <td>0.004035</td>\n",
       "      <td>0.167455</td>\n",
       "      <td>0.178846</td>\n",
       "    </tr>\n",
       "    <tr>\n",
       "      <th>17.0</th>\n",
       "      <td>0.100676</td>\n",
       "      <td>0.002109</td>\n",
       "      <td>0.098533</td>\n",
       "      <td>0.104609</td>\n",
       "      <td>0.076977</td>\n",
       "      <td>0.002253</td>\n",
       "      <td>0.074443</td>\n",
       "      <td>0.080967</td>\n",
       "      <td>0.171761</td>\n",
       "      <td>0.004240</td>\n",
       "      <td>0.166804</td>\n",
       "      <td>0.178406</td>\n",
       "    </tr>\n",
       "    <tr>\n",
       "      <th>18.0</th>\n",
       "      <td>0.100697</td>\n",
       "      <td>0.001935</td>\n",
       "      <td>0.098658</td>\n",
       "      <td>0.104197</td>\n",
       "      <td>0.076987</td>\n",
       "      <td>0.002117</td>\n",
       "      <td>0.074567</td>\n",
       "      <td>0.080761</td>\n",
       "      <td>0.171477</td>\n",
       "      <td>0.004072</td>\n",
       "      <td>0.166711</td>\n",
       "      <td>0.178123</td>\n",
       "    </tr>\n",
       "    <tr>\n",
       "      <th>19.0</th>\n",
       "      <td>0.100589</td>\n",
       "      <td>0.001898</td>\n",
       "      <td>0.098448</td>\n",
       "      <td>0.104006</td>\n",
       "      <td>0.076871</td>\n",
       "      <td>0.002121</td>\n",
       "      <td>0.074537</td>\n",
       "      <td>0.080683</td>\n",
       "      <td>0.171297</td>\n",
       "      <td>0.003951</td>\n",
       "      <td>0.166802</td>\n",
       "      <td>0.177838</td>\n",
       "    </tr>\n",
       "    <tr>\n",
       "      <th>20.0</th>\n",
       "      <td>0.100618</td>\n",
       "      <td>0.001951</td>\n",
       "      <td>0.098313</td>\n",
       "      <td>0.104147</td>\n",
       "      <td>0.076901</td>\n",
       "      <td>0.002163</td>\n",
       "      <td>0.074536</td>\n",
       "      <td>0.080837</td>\n",
       "      <td>0.171182</td>\n",
       "      <td>0.004001</td>\n",
       "      <td>0.166432</td>\n",
       "      <td>0.177822</td>\n",
       "    </tr>\n",
       "    <tr>\n",
       "      <th>21.0</th>\n",
       "      <td>0.100816</td>\n",
       "      <td>0.001823</td>\n",
       "      <td>0.098714</td>\n",
       "      <td>0.104156</td>\n",
       "      <td>0.077047</td>\n",
       "      <td>0.002128</td>\n",
       "      <td>0.074813</td>\n",
       "      <td>0.080878</td>\n",
       "      <td>0.171523</td>\n",
       "      <td>0.003968</td>\n",
       "      <td>0.167096</td>\n",
       "      <td>0.178073</td>\n",
       "    </tr>\n",
       "    <tr>\n",
       "      <th>22.0</th>\n",
       "      <td>0.100848</td>\n",
       "      <td>0.001816</td>\n",
       "      <td>0.098893</td>\n",
       "      <td>0.104072</td>\n",
       "      <td>0.077086</td>\n",
       "      <td>0.002128</td>\n",
       "      <td>0.074864</td>\n",
       "      <td>0.080778</td>\n",
       "      <td>0.171557</td>\n",
       "      <td>0.003924</td>\n",
       "      <td>0.167164</td>\n",
       "      <td>0.177818</td>\n",
       "    </tr>\n",
       "    <tr>\n",
       "      <th>23.0</th>\n",
       "      <td>0.100818</td>\n",
       "      <td>0.001802</td>\n",
       "      <td>0.098803</td>\n",
       "      <td>0.104046</td>\n",
       "      <td>0.077051</td>\n",
       "      <td>0.002154</td>\n",
       "      <td>0.074678</td>\n",
       "      <td>0.080838</td>\n",
       "      <td>0.171415</td>\n",
       "      <td>0.004006</td>\n",
       "      <td>0.167026</td>\n",
       "      <td>0.178030</td>\n",
       "    </tr>\n",
       "    <tr>\n",
       "      <th>24.0</th>\n",
       "      <td>0.100879</td>\n",
       "      <td>0.001678</td>\n",
       "      <td>0.099122</td>\n",
       "      <td>0.104095</td>\n",
       "      <td>0.077102</td>\n",
       "      <td>0.002053</td>\n",
       "      <td>0.074892</td>\n",
       "      <td>0.080770</td>\n",
       "      <td>0.171235</td>\n",
       "      <td>0.003792</td>\n",
       "      <td>0.166815</td>\n",
       "      <td>0.177972</td>\n",
       "    </tr>\n",
       "  </tbody>\n",
       "</table>\n",
       "</div>"
      ],
      "text/plain": [
       "           MRR                                  MAP@10                      \\\n",
       "          mean       std       min       max      mean       std       min   \n",
       "K                                                                            \n",
       "5.0   0.093405  0.001676  0.091348  0.096131  0.070475  0.001792  0.068497   \n",
       "6.0   0.095878  0.001663  0.093550  0.098970  0.072581  0.001880  0.070362   \n",
       "7.0   0.097400  0.001808  0.094940  0.100375  0.074059  0.002025  0.072166   \n",
       "8.0   0.098162  0.001989  0.095318  0.101231  0.074671  0.002170  0.072789   \n",
       "9.0   0.098551  0.002063  0.095957  0.101995  0.075032  0.002089  0.073448   \n",
       "10.0  0.099436  0.002220  0.096608  0.103494  0.075841  0.002263  0.073922   \n",
       "11.0  0.099954  0.002128  0.097292  0.103773  0.076394  0.002239  0.074248   \n",
       "12.0  0.100066  0.001974  0.098093  0.104033  0.076462  0.002198  0.074602   \n",
       "13.0  0.100394  0.002093  0.098340  0.104407  0.076800  0.002261  0.074528   \n",
       "14.0  0.100514  0.002061  0.098541  0.104457  0.076877  0.002255  0.074462   \n",
       "15.0  0.100735  0.002093  0.098706  0.104779  0.077008  0.002280  0.074539   \n",
       "16.0  0.100668  0.002080  0.098644  0.104616  0.076947  0.002260  0.074395   \n",
       "17.0  0.100676  0.002109  0.098533  0.104609  0.076977  0.002253  0.074443   \n",
       "18.0  0.100697  0.001935  0.098658  0.104197  0.076987  0.002117  0.074567   \n",
       "19.0  0.100589  0.001898  0.098448  0.104006  0.076871  0.002121  0.074537   \n",
       "20.0  0.100618  0.001951  0.098313  0.104147  0.076901  0.002163  0.074536   \n",
       "21.0  0.100816  0.001823  0.098714  0.104156  0.077047  0.002128  0.074813   \n",
       "22.0  0.100848  0.001816  0.098893  0.104072  0.077086  0.002128  0.074864   \n",
       "23.0  0.100818  0.001802  0.098803  0.104046  0.077051  0.002154  0.074678   \n",
       "24.0  0.100879  0.001678  0.099122  0.104095  0.077102  0.002053  0.074892   \n",
       "\n",
       "               Recall@10                                \n",
       "           max      mean       std       min       max  \n",
       "K                                                       \n",
       "5.0   0.073890  0.142879  0.003431  0.138847  0.147979  \n",
       "6.0   0.076241  0.151586  0.003173  0.146844  0.156155  \n",
       "7.0   0.077545  0.160178  0.003343  0.156060  0.165951  \n",
       "8.0   0.078288  0.163669  0.004124  0.159412  0.171211  \n",
       "9.0   0.078873  0.166740  0.003952  0.162345  0.174035  \n",
       "10.0  0.080118  0.169665  0.004115  0.165906  0.177243  \n",
       "11.0  0.080499  0.172472  0.004219  0.167406  0.179724  \n",
       "12.0  0.080715  0.172305  0.003795  0.168798  0.179409  \n",
       "13.0  0.080926  0.172566  0.004043  0.168268  0.179544  \n",
       "14.0  0.081041  0.172396  0.003918  0.168381  0.179546  \n",
       "15.0  0.081220  0.171873  0.004068  0.167002  0.178843  \n",
       "16.0  0.081052  0.171966  0.004035  0.167455  0.178846  \n",
       "17.0  0.080967  0.171761  0.004240  0.166804  0.178406  \n",
       "18.0  0.080761  0.171477  0.004072  0.166711  0.178123  \n",
       "19.0  0.080683  0.171297  0.003951  0.166802  0.177838  \n",
       "20.0  0.080837  0.171182  0.004001  0.166432  0.177822  \n",
       "21.0  0.080878  0.171523  0.003968  0.167096  0.178073  \n",
       "22.0  0.080778  0.171557  0.003924  0.167164  0.177818  \n",
       "23.0  0.080838  0.171415  0.004006  0.167026  0.178030  \n",
       "24.0  0.080770  0.171235  0.003792  0.166815  0.177972  "
      ]
     },
     "execution_count": 48,
     "metadata": {},
     "output_type": "execute_result"
    }
   ],
   "source": [
    "val_results_cosine.groupby(['K']).agg({\n",
    "    'MRR': ['mean', 'std', 'min', 'max'],\n",
    "    'MAP@10': ['mean', 'std', 'min', 'max'],\n",
    "    'Recall@10': ['mean', 'std', 'min', 'max'],\n",
    "})"
   ]
  },
  {
   "cell_type": "markdown",
   "id": "9a318cf2",
   "metadata": {},
   "source": [
    "### TFIDFRecommender"
   ]
  },
  {
   "cell_type": "code",
   "execution_count": 49,
   "id": "d58dc350",
   "metadata": {},
   "outputs": [
    {
     "name": "stdout",
     "output_type": "stream",
     "text": [
      "test range - from 2021-08-15 00:00:00 to 2021-08-16 00:00:00\n",
      "train shape - (4985269, 5), test shape - (53106, 5)\n",
      "K = 5\n"
     ]
    },
    {
     "data": {
      "application/vnd.jupyter.widget-view+json": {
       "model_id": "7db22d00cb3445cdbe3e9b472bc27025",
       "version_major": 2,
       "version_minor": 0
      },
      "text/plain": [
       "HBox(children=(HTML(value=''), FloatProgress(value=0.0, max=15706.0), HTML(value='')))"
      ]
     },
     "metadata": {},
     "output_type": "display_data"
    },
    {
     "name": "stdout",
     "output_type": "stream",
     "text": [
      "\n",
      "K = 6\n"
     ]
    },
    {
     "data": {
      "application/vnd.jupyter.widget-view+json": {
       "model_id": "5927a75a813b462b87e18a150c675ac0",
       "version_major": 2,
       "version_minor": 0
      },
      "text/plain": [
       "HBox(children=(HTML(value=''), FloatProgress(value=0.0, max=15706.0), HTML(value='')))"
      ]
     },
     "metadata": {},
     "output_type": "display_data"
    },
    {
     "name": "stdout",
     "output_type": "stream",
     "text": [
      "\n",
      "K = 7\n"
     ]
    },
    {
     "data": {
      "application/vnd.jupyter.widget-view+json": {
       "model_id": "795b94a8f05b4097a81cec23d7305f19",
       "version_major": 2,
       "version_minor": 0
      },
      "text/plain": [
       "HBox(children=(HTML(value=''), FloatProgress(value=0.0, max=15706.0), HTML(value='')))"
      ]
     },
     "metadata": {},
     "output_type": "display_data"
    },
    {
     "name": "stdout",
     "output_type": "stream",
     "text": [
      "\n",
      "K = 8\n"
     ]
    },
    {
     "data": {
      "application/vnd.jupyter.widget-view+json": {
       "model_id": "bb3e6fd3327c414c9ddfbd7d13c71033",
       "version_major": 2,
       "version_minor": 0
      },
      "text/plain": [
       "HBox(children=(HTML(value=''), FloatProgress(value=0.0, max=15706.0), HTML(value='')))"
      ]
     },
     "metadata": {},
     "output_type": "display_data"
    },
    {
     "name": "stdout",
     "output_type": "stream",
     "text": [
      "\n",
      "K = 9\n"
     ]
    },
    {
     "data": {
      "application/vnd.jupyter.widget-view+json": {
       "model_id": "d32c2e417580463fa0f0ec16a560fe62",
       "version_major": 2,
       "version_minor": 0
      },
      "text/plain": [
       "HBox(children=(HTML(value=''), FloatProgress(value=0.0, max=15706.0), HTML(value='')))"
      ]
     },
     "metadata": {},
     "output_type": "display_data"
    },
    {
     "name": "stdout",
     "output_type": "stream",
     "text": [
      "\n",
      "K = 10\n"
     ]
    },
    {
     "data": {
      "application/vnd.jupyter.widget-view+json": {
       "model_id": "08fec8d11c64403297df9e596c0525ab",
       "version_major": 2,
       "version_minor": 0
      },
      "text/plain": [
       "HBox(children=(HTML(value=''), FloatProgress(value=0.0, max=15706.0), HTML(value='')))"
      ]
     },
     "metadata": {},
     "output_type": "display_data"
    },
    {
     "name": "stdout",
     "output_type": "stream",
     "text": [
      "\n",
      "K = 11\n"
     ]
    },
    {
     "data": {
      "application/vnd.jupyter.widget-view+json": {
       "model_id": "1df7a649f6564fdfbe26099e0d7efb79",
       "version_major": 2,
       "version_minor": 0
      },
      "text/plain": [
       "HBox(children=(HTML(value=''), FloatProgress(value=0.0, max=15706.0), HTML(value='')))"
      ]
     },
     "metadata": {},
     "output_type": "display_data"
    },
    {
     "name": "stdout",
     "output_type": "stream",
     "text": [
      "\n",
      "K = 12\n"
     ]
    },
    {
     "data": {
      "application/vnd.jupyter.widget-view+json": {
       "model_id": "daf23bd379834cfabe3055cfef47e0f8",
       "version_major": 2,
       "version_minor": 0
      },
      "text/plain": [
       "HBox(children=(HTML(value=''), FloatProgress(value=0.0, max=15706.0), HTML(value='')))"
      ]
     },
     "metadata": {},
     "output_type": "display_data"
    },
    {
     "name": "stdout",
     "output_type": "stream",
     "text": [
      "\n",
      "K = 13\n"
     ]
    },
    {
     "data": {
      "application/vnd.jupyter.widget-view+json": {
       "model_id": "d940d584deae491693e9236d525450af",
       "version_major": 2,
       "version_minor": 0
      },
      "text/plain": [
       "HBox(children=(HTML(value=''), FloatProgress(value=0.0, max=15706.0), HTML(value='')))"
      ]
     },
     "metadata": {},
     "output_type": "display_data"
    },
    {
     "name": "stdout",
     "output_type": "stream",
     "text": [
      "\n",
      "K = 14\n"
     ]
    },
    {
     "data": {
      "application/vnd.jupyter.widget-view+json": {
       "model_id": "c21c48aab7514ffdbded9adbc317b165",
       "version_major": 2,
       "version_minor": 0
      },
      "text/plain": [
       "HBox(children=(HTML(value=''), FloatProgress(value=0.0, max=15706.0), HTML(value='')))"
      ]
     },
     "metadata": {},
     "output_type": "display_data"
    },
    {
     "name": "stdout",
     "output_type": "stream",
     "text": [
      "\n",
      "K = 15\n"
     ]
    },
    {
     "data": {
      "application/vnd.jupyter.widget-view+json": {
       "model_id": "8bffa150a5c94cb2b547e63bcdabff51",
       "version_major": 2,
       "version_minor": 0
      },
      "text/plain": [
       "HBox(children=(HTML(value=''), FloatProgress(value=0.0, max=15706.0), HTML(value='')))"
      ]
     },
     "metadata": {},
     "output_type": "display_data"
    },
    {
     "name": "stdout",
     "output_type": "stream",
     "text": [
      "\n",
      "K = 16\n"
     ]
    },
    {
     "data": {
      "application/vnd.jupyter.widget-view+json": {
       "model_id": "dd55c42a64d14f48b67c24ad3403bd43",
       "version_major": 2,
       "version_minor": 0
      },
      "text/plain": [
       "HBox(children=(HTML(value=''), FloatProgress(value=0.0, max=15706.0), HTML(value='')))"
      ]
     },
     "metadata": {},
     "output_type": "display_data"
    },
    {
     "name": "stdout",
     "output_type": "stream",
     "text": [
      "\n",
      "K = 17\n"
     ]
    },
    {
     "data": {
      "application/vnd.jupyter.widget-view+json": {
       "model_id": "9211e6919a6941429708aedfd4e64fd2",
       "version_major": 2,
       "version_minor": 0
      },
      "text/plain": [
       "HBox(children=(HTML(value=''), FloatProgress(value=0.0, max=15706.0), HTML(value='')))"
      ]
     },
     "metadata": {},
     "output_type": "display_data"
    },
    {
     "name": "stdout",
     "output_type": "stream",
     "text": [
      "\n",
      "K = 18\n"
     ]
    },
    {
     "data": {
      "application/vnd.jupyter.widget-view+json": {
       "model_id": "863274aa9e8440eba0a94d55d04c36e0",
       "version_major": 2,
       "version_minor": 0
      },
      "text/plain": [
       "HBox(children=(HTML(value=''), FloatProgress(value=0.0, max=15706.0), HTML(value='')))"
      ]
     },
     "metadata": {},
     "output_type": "display_data"
    },
    {
     "name": "stdout",
     "output_type": "stream",
     "text": [
      "\n",
      "K = 19\n"
     ]
    },
    {
     "data": {
      "application/vnd.jupyter.widget-view+json": {
       "model_id": "55a51e15fb3d43dabf2f078cde8a6004",
       "version_major": 2,
       "version_minor": 0
      },
      "text/plain": [
       "HBox(children=(HTML(value=''), FloatProgress(value=0.0, max=15706.0), HTML(value='')))"
      ]
     },
     "metadata": {},
     "output_type": "display_data"
    },
    {
     "name": "stdout",
     "output_type": "stream",
     "text": [
      "\n",
      "K = 20\n"
     ]
    },
    {
     "data": {
      "application/vnd.jupyter.widget-view+json": {
       "model_id": "aeb3f2dc79a047f0b85d982fb4b37c7d",
       "version_major": 2,
       "version_minor": 0
      },
      "text/plain": [
       "HBox(children=(HTML(value=''), FloatProgress(value=0.0, max=15706.0), HTML(value='')))"
      ]
     },
     "metadata": {},
     "output_type": "display_data"
    },
    {
     "name": "stdout",
     "output_type": "stream",
     "text": [
      "\n",
      "K = 21\n"
     ]
    },
    {
     "data": {
      "application/vnd.jupyter.widget-view+json": {
       "model_id": "5c29b474afd346b89aba3983a1c95e61",
       "version_major": 2,
       "version_minor": 0
      },
      "text/plain": [
       "HBox(children=(HTML(value=''), FloatProgress(value=0.0, max=15706.0), HTML(value='')))"
      ]
     },
     "metadata": {},
     "output_type": "display_data"
    },
    {
     "name": "stdout",
     "output_type": "stream",
     "text": [
      "\n",
      "K = 22\n"
     ]
    },
    {
     "data": {
      "application/vnd.jupyter.widget-view+json": {
       "model_id": "1f1822c4e5a04591afeb85f30d9c2b88",
       "version_major": 2,
       "version_minor": 0
      },
      "text/plain": [
       "HBox(children=(HTML(value=''), FloatProgress(value=0.0, max=15706.0), HTML(value='')))"
      ]
     },
     "metadata": {},
     "output_type": "display_data"
    },
    {
     "name": "stdout",
     "output_type": "stream",
     "text": [
      "\n",
      "K = 23\n"
     ]
    },
    {
     "data": {
      "application/vnd.jupyter.widget-view+json": {
       "model_id": "77b08d1feaf74f4cb99fa9f3308b9823",
       "version_major": 2,
       "version_minor": 0
      },
      "text/plain": [
       "HBox(children=(HTML(value=''), FloatProgress(value=0.0, max=15706.0), HTML(value='')))"
      ]
     },
     "metadata": {},
     "output_type": "display_data"
    },
    {
     "name": "stdout",
     "output_type": "stream",
     "text": [
      "\n",
      "K = 24\n"
     ]
    },
    {
     "data": {
      "application/vnd.jupyter.widget-view+json": {
       "model_id": "f025903e2fc945aaa57b67e72fb77c2a",
       "version_major": 2,
       "version_minor": 0
      },
      "text/plain": [
       "HBox(children=(HTML(value=''), FloatProgress(value=0.0, max=15706.0), HTML(value='')))"
      ]
     },
     "metadata": {},
     "output_type": "display_data"
    },
    {
     "name": "stdout",
     "output_type": "stream",
     "text": [
      "\n",
      "test range - from 2021-08-16 00:00:00 to 2021-08-17 00:00:00\n",
      "train shape - (5051815, 5), test shape - (43835, 5)\n",
      "K = 5\n"
     ]
    },
    {
     "data": {
      "application/vnd.jupyter.widget-view+json": {
       "model_id": "bf2562280b1f49fdabab66542d875e80",
       "version_major": 2,
       "version_minor": 0
      },
      "text/plain": [
       "HBox(children=(HTML(value=''), FloatProgress(value=0.0, max=15706.0), HTML(value='')))"
      ]
     },
     "metadata": {},
     "output_type": "display_data"
    },
    {
     "name": "stdout",
     "output_type": "stream",
     "text": [
      "\n",
      "K = 6\n"
     ]
    },
    {
     "data": {
      "application/vnd.jupyter.widget-view+json": {
       "model_id": "649a1cf72fe44d52969b1dbd920b8d1b",
       "version_major": 2,
       "version_minor": 0
      },
      "text/plain": [
       "HBox(children=(HTML(value=''), FloatProgress(value=0.0, max=15706.0), HTML(value='')))"
      ]
     },
     "metadata": {},
     "output_type": "display_data"
    },
    {
     "name": "stdout",
     "output_type": "stream",
     "text": [
      "\n",
      "K = 7\n"
     ]
    },
    {
     "data": {
      "application/vnd.jupyter.widget-view+json": {
       "model_id": "6817324965414ba4918bbc3fca57db96",
       "version_major": 2,
       "version_minor": 0
      },
      "text/plain": [
       "HBox(children=(HTML(value=''), FloatProgress(value=0.0, max=15706.0), HTML(value='')))"
      ]
     },
     "metadata": {},
     "output_type": "display_data"
    },
    {
     "name": "stdout",
     "output_type": "stream",
     "text": [
      "\n",
      "K = 8\n"
     ]
    },
    {
     "data": {
      "application/vnd.jupyter.widget-view+json": {
       "model_id": "89d64e694bee4ed4a4e57fa12dc95fdc",
       "version_major": 2,
       "version_minor": 0
      },
      "text/plain": [
       "HBox(children=(HTML(value=''), FloatProgress(value=0.0, max=15706.0), HTML(value='')))"
      ]
     },
     "metadata": {},
     "output_type": "display_data"
    },
    {
     "name": "stdout",
     "output_type": "stream",
     "text": [
      "\n",
      "K = 9\n"
     ]
    },
    {
     "data": {
      "application/vnd.jupyter.widget-view+json": {
       "model_id": "98a22367ebb8410b948ac409d6f830f6",
       "version_major": 2,
       "version_minor": 0
      },
      "text/plain": [
       "HBox(children=(HTML(value=''), FloatProgress(value=0.0, max=15706.0), HTML(value='')))"
      ]
     },
     "metadata": {},
     "output_type": "display_data"
    },
    {
     "name": "stdout",
     "output_type": "stream",
     "text": [
      "\n",
      "K = 10\n"
     ]
    },
    {
     "data": {
      "application/vnd.jupyter.widget-view+json": {
       "model_id": "f6161c63989d455793c79589facafe9d",
       "version_major": 2,
       "version_minor": 0
      },
      "text/plain": [
       "HBox(children=(HTML(value=''), FloatProgress(value=0.0, max=15706.0), HTML(value='')))"
      ]
     },
     "metadata": {},
     "output_type": "display_data"
    },
    {
     "name": "stdout",
     "output_type": "stream",
     "text": [
      "\n",
      "K = 11\n"
     ]
    },
    {
     "data": {
      "application/vnd.jupyter.widget-view+json": {
       "model_id": "5c75da9ff8ee49928f9250e25cfd2c21",
       "version_major": 2,
       "version_minor": 0
      },
      "text/plain": [
       "HBox(children=(HTML(value=''), FloatProgress(value=0.0, max=15706.0), HTML(value='')))"
      ]
     },
     "metadata": {},
     "output_type": "display_data"
    },
    {
     "name": "stdout",
     "output_type": "stream",
     "text": [
      "\n",
      "K = 12\n"
     ]
    },
    {
     "data": {
      "application/vnd.jupyter.widget-view+json": {
       "model_id": "5774b19b2fed46f491efe832678a1151",
       "version_major": 2,
       "version_minor": 0
      },
      "text/plain": [
       "HBox(children=(HTML(value=''), FloatProgress(value=0.0, max=15706.0), HTML(value='')))"
      ]
     },
     "metadata": {},
     "output_type": "display_data"
    },
    {
     "name": "stdout",
     "output_type": "stream",
     "text": [
      "\n",
      "K = 13\n"
     ]
    },
    {
     "data": {
      "application/vnd.jupyter.widget-view+json": {
       "model_id": "41950e2bb2e74e60bd65c367fd57b8cb",
       "version_major": 2,
       "version_minor": 0
      },
      "text/plain": [
       "HBox(children=(HTML(value=''), FloatProgress(value=0.0, max=15706.0), HTML(value='')))"
      ]
     },
     "metadata": {},
     "output_type": "display_data"
    },
    {
     "name": "stdout",
     "output_type": "stream",
     "text": [
      "\n",
      "K = 14\n"
     ]
    },
    {
     "data": {
      "application/vnd.jupyter.widget-view+json": {
       "model_id": "6bcabed8dd5144768941da5b0a024a5a",
       "version_major": 2,
       "version_minor": 0
      },
      "text/plain": [
       "HBox(children=(HTML(value=''), FloatProgress(value=0.0, max=15706.0), HTML(value='')))"
      ]
     },
     "metadata": {},
     "output_type": "display_data"
    },
    {
     "name": "stdout",
     "output_type": "stream",
     "text": [
      "\n",
      "K = 15\n"
     ]
    },
    {
     "data": {
      "application/vnd.jupyter.widget-view+json": {
       "model_id": "809f97d554bd4bae8df1b3501520f46c",
       "version_major": 2,
       "version_minor": 0
      },
      "text/plain": [
       "HBox(children=(HTML(value=''), FloatProgress(value=0.0, max=15706.0), HTML(value='')))"
      ]
     },
     "metadata": {},
     "output_type": "display_data"
    },
    {
     "name": "stdout",
     "output_type": "stream",
     "text": [
      "\n",
      "K = 16\n"
     ]
    },
    {
     "data": {
      "application/vnd.jupyter.widget-view+json": {
       "model_id": "2896e33e5ac74303ac259060cd1af5fe",
       "version_major": 2,
       "version_minor": 0
      },
      "text/plain": [
       "HBox(children=(HTML(value=''), FloatProgress(value=0.0, max=15706.0), HTML(value='')))"
      ]
     },
     "metadata": {},
     "output_type": "display_data"
    },
    {
     "name": "stdout",
     "output_type": "stream",
     "text": [
      "\n",
      "K = 17\n"
     ]
    },
    {
     "data": {
      "application/vnd.jupyter.widget-view+json": {
       "model_id": "88572aa1e0774294995d4fc3ff4dbfe3",
       "version_major": 2,
       "version_minor": 0
      },
      "text/plain": [
       "HBox(children=(HTML(value=''), FloatProgress(value=0.0, max=15706.0), HTML(value='')))"
      ]
     },
     "metadata": {},
     "output_type": "display_data"
    },
    {
     "name": "stdout",
     "output_type": "stream",
     "text": [
      "\n",
      "K = 18\n"
     ]
    },
    {
     "data": {
      "application/vnd.jupyter.widget-view+json": {
       "model_id": "12cfa4aa7a9e4ac8bb3b24b2cc503c26",
       "version_major": 2,
       "version_minor": 0
      },
      "text/plain": [
       "HBox(children=(HTML(value=''), FloatProgress(value=0.0, max=15706.0), HTML(value='')))"
      ]
     },
     "metadata": {},
     "output_type": "display_data"
    },
    {
     "name": "stdout",
     "output_type": "stream",
     "text": [
      "\n",
      "K = 19\n"
     ]
    },
    {
     "data": {
      "application/vnd.jupyter.widget-view+json": {
       "model_id": "25b0b5f72792412997c1344079018889",
       "version_major": 2,
       "version_minor": 0
      },
      "text/plain": [
       "HBox(children=(HTML(value=''), FloatProgress(value=0.0, max=15706.0), HTML(value='')))"
      ]
     },
     "metadata": {},
     "output_type": "display_data"
    },
    {
     "name": "stdout",
     "output_type": "stream",
     "text": [
      "\n",
      "K = 20\n"
     ]
    },
    {
     "data": {
      "application/vnd.jupyter.widget-view+json": {
       "model_id": "260825030f4c4efe8cdeada16493506a",
       "version_major": 2,
       "version_minor": 0
      },
      "text/plain": [
       "HBox(children=(HTML(value=''), FloatProgress(value=0.0, max=15706.0), HTML(value='')))"
      ]
     },
     "metadata": {},
     "output_type": "display_data"
    },
    {
     "name": "stdout",
     "output_type": "stream",
     "text": [
      "\n",
      "K = 21\n"
     ]
    },
    {
     "data": {
      "application/vnd.jupyter.widget-view+json": {
       "model_id": "2cffcb31063947f2b437933dd6bcd559",
       "version_major": 2,
       "version_minor": 0
      },
      "text/plain": [
       "HBox(children=(HTML(value=''), FloatProgress(value=0.0, max=15706.0), HTML(value='')))"
      ]
     },
     "metadata": {},
     "output_type": "display_data"
    },
    {
     "name": "stdout",
     "output_type": "stream",
     "text": [
      "\n",
      "K = 22\n"
     ]
    },
    {
     "data": {
      "application/vnd.jupyter.widget-view+json": {
       "model_id": "ea76a838929c4e829b587ec008b2015e",
       "version_major": 2,
       "version_minor": 0
      },
      "text/plain": [
       "HBox(children=(HTML(value=''), FloatProgress(value=0.0, max=15706.0), HTML(value='')))"
      ]
     },
     "metadata": {},
     "output_type": "display_data"
    },
    {
     "name": "stdout",
     "output_type": "stream",
     "text": [
      "\n",
      "K = 23\n"
     ]
    },
    {
     "data": {
      "application/vnd.jupyter.widget-view+json": {
       "model_id": "9629d599b2344fb380cce0bb5bf54022",
       "version_major": 2,
       "version_minor": 0
      },
      "text/plain": [
       "HBox(children=(HTML(value=''), FloatProgress(value=0.0, max=15706.0), HTML(value='')))"
      ]
     },
     "metadata": {},
     "output_type": "display_data"
    },
    {
     "name": "stdout",
     "output_type": "stream",
     "text": [
      "\n",
      "K = 24\n"
     ]
    },
    {
     "data": {
      "application/vnd.jupyter.widget-view+json": {
       "model_id": "d51525165bea474dbb6500898c3bdc09",
       "version_major": 2,
       "version_minor": 0
      },
      "text/plain": [
       "HBox(children=(HTML(value=''), FloatProgress(value=0.0, max=15706.0), HTML(value='')))"
      ]
     },
     "metadata": {},
     "output_type": "display_data"
    },
    {
     "name": "stdout",
     "output_type": "stream",
     "text": [
      "\n",
      "test range - from 2021-08-17 00:00:00 to 2021-08-18 00:00:00\n",
      "train shape - (5106361, 5), test shape - (43926, 5)\n",
      "K = 5\n"
     ]
    },
    {
     "data": {
      "application/vnd.jupyter.widget-view+json": {
       "model_id": "b4ceb5b6e66940fda35511aa4db7273c",
       "version_major": 2,
       "version_minor": 0
      },
      "text/plain": [
       "HBox(children=(HTML(value=''), FloatProgress(value=0.0, max=15706.0), HTML(value='')))"
      ]
     },
     "metadata": {},
     "output_type": "display_data"
    },
    {
     "name": "stdout",
     "output_type": "stream",
     "text": [
      "\n",
      "K = 6\n"
     ]
    },
    {
     "data": {
      "application/vnd.jupyter.widget-view+json": {
       "model_id": "6d4539a8f33f4b809cdf4b02498602f0",
       "version_major": 2,
       "version_minor": 0
      },
      "text/plain": [
       "HBox(children=(HTML(value=''), FloatProgress(value=0.0, max=15706.0), HTML(value='')))"
      ]
     },
     "metadata": {},
     "output_type": "display_data"
    },
    {
     "name": "stdout",
     "output_type": "stream",
     "text": [
      "\n",
      "K = 7\n"
     ]
    },
    {
     "data": {
      "application/vnd.jupyter.widget-view+json": {
       "model_id": "4185b03d10d1420fbbba3329912e06de",
       "version_major": 2,
       "version_minor": 0
      },
      "text/plain": [
       "HBox(children=(HTML(value=''), FloatProgress(value=0.0, max=15706.0), HTML(value='')))"
      ]
     },
     "metadata": {},
     "output_type": "display_data"
    },
    {
     "name": "stdout",
     "output_type": "stream",
     "text": [
      "\n",
      "K = 8\n"
     ]
    },
    {
     "data": {
      "application/vnd.jupyter.widget-view+json": {
       "model_id": "bee47769fc9c4f82a18bbf7bd58f7860",
       "version_major": 2,
       "version_minor": 0
      },
      "text/plain": [
       "HBox(children=(HTML(value=''), FloatProgress(value=0.0, max=15706.0), HTML(value='')))"
      ]
     },
     "metadata": {},
     "output_type": "display_data"
    },
    {
     "name": "stdout",
     "output_type": "stream",
     "text": [
      "\n",
      "K = 9\n"
     ]
    },
    {
     "data": {
      "application/vnd.jupyter.widget-view+json": {
       "model_id": "6bbd27e83a1343febdcaa623c8507170",
       "version_major": 2,
       "version_minor": 0
      },
      "text/plain": [
       "HBox(children=(HTML(value=''), FloatProgress(value=0.0, max=15706.0), HTML(value='')))"
      ]
     },
     "metadata": {},
     "output_type": "display_data"
    },
    {
     "name": "stdout",
     "output_type": "stream",
     "text": [
      "\n",
      "K = 10\n"
     ]
    },
    {
     "data": {
      "application/vnd.jupyter.widget-view+json": {
       "model_id": "e40fa3653404484991200c3c5c75cee9",
       "version_major": 2,
       "version_minor": 0
      },
      "text/plain": [
       "HBox(children=(HTML(value=''), FloatProgress(value=0.0, max=15706.0), HTML(value='')))"
      ]
     },
     "metadata": {},
     "output_type": "display_data"
    },
    {
     "name": "stdout",
     "output_type": "stream",
     "text": [
      "\n",
      "K = 11\n"
     ]
    },
    {
     "data": {
      "application/vnd.jupyter.widget-view+json": {
       "model_id": "28b7e875b22c45d2bf0ff2fa132cff03",
       "version_major": 2,
       "version_minor": 0
      },
      "text/plain": [
       "HBox(children=(HTML(value=''), FloatProgress(value=0.0, max=15706.0), HTML(value='')))"
      ]
     },
     "metadata": {},
     "output_type": "display_data"
    },
    {
     "name": "stdout",
     "output_type": "stream",
     "text": [
      "\n",
      "K = 12\n"
     ]
    },
    {
     "data": {
      "application/vnd.jupyter.widget-view+json": {
       "model_id": "79d221df94a44ea6a5132039ae1ee89d",
       "version_major": 2,
       "version_minor": 0
      },
      "text/plain": [
       "HBox(children=(HTML(value=''), FloatProgress(value=0.0, max=15706.0), HTML(value='')))"
      ]
     },
     "metadata": {},
     "output_type": "display_data"
    },
    {
     "name": "stdout",
     "output_type": "stream",
     "text": [
      "\n",
      "K = 13\n"
     ]
    },
    {
     "data": {
      "application/vnd.jupyter.widget-view+json": {
       "model_id": "951ed0d249ba460ab55c4cf6e6f50666",
       "version_major": 2,
       "version_minor": 0
      },
      "text/plain": [
       "HBox(children=(HTML(value=''), FloatProgress(value=0.0, max=15706.0), HTML(value='')))"
      ]
     },
     "metadata": {},
     "output_type": "display_data"
    },
    {
     "name": "stdout",
     "output_type": "stream",
     "text": [
      "\n",
      "K = 14\n"
     ]
    },
    {
     "data": {
      "application/vnd.jupyter.widget-view+json": {
       "model_id": "8129772ab26e46baa7249b45bff1d0e6",
       "version_major": 2,
       "version_minor": 0
      },
      "text/plain": [
       "HBox(children=(HTML(value=''), FloatProgress(value=0.0, max=15706.0), HTML(value='')))"
      ]
     },
     "metadata": {},
     "output_type": "display_data"
    },
    {
     "name": "stdout",
     "output_type": "stream",
     "text": [
      "\n",
      "K = 15\n"
     ]
    },
    {
     "data": {
      "application/vnd.jupyter.widget-view+json": {
       "model_id": "def6994c656b42dcb2fc6df17d36a1ab",
       "version_major": 2,
       "version_minor": 0
      },
      "text/plain": [
       "HBox(children=(HTML(value=''), FloatProgress(value=0.0, max=15706.0), HTML(value='')))"
      ]
     },
     "metadata": {},
     "output_type": "display_data"
    },
    {
     "name": "stdout",
     "output_type": "stream",
     "text": [
      "\n",
      "K = 16\n"
     ]
    },
    {
     "data": {
      "application/vnd.jupyter.widget-view+json": {
       "model_id": "2b1f90891c944d6295c61a5420719d8f",
       "version_major": 2,
       "version_minor": 0
      },
      "text/plain": [
       "HBox(children=(HTML(value=''), FloatProgress(value=0.0, max=15706.0), HTML(value='')))"
      ]
     },
     "metadata": {},
     "output_type": "display_data"
    },
    {
     "name": "stdout",
     "output_type": "stream",
     "text": [
      "\n",
      "K = 17\n"
     ]
    },
    {
     "data": {
      "application/vnd.jupyter.widget-view+json": {
       "model_id": "80eeaae9e79c472394f8cf78c86a9936",
       "version_major": 2,
       "version_minor": 0
      },
      "text/plain": [
       "HBox(children=(HTML(value=''), FloatProgress(value=0.0, max=15706.0), HTML(value='')))"
      ]
     },
     "metadata": {},
     "output_type": "display_data"
    },
    {
     "name": "stdout",
     "output_type": "stream",
     "text": [
      "\n",
      "K = 18\n"
     ]
    },
    {
     "data": {
      "application/vnd.jupyter.widget-view+json": {
       "model_id": "bb23adcdb9da402eb76e6c9e92122b68",
       "version_major": 2,
       "version_minor": 0
      },
      "text/plain": [
       "HBox(children=(HTML(value=''), FloatProgress(value=0.0, max=15706.0), HTML(value='')))"
      ]
     },
     "metadata": {},
     "output_type": "display_data"
    },
    {
     "name": "stdout",
     "output_type": "stream",
     "text": [
      "\n",
      "K = 19\n"
     ]
    },
    {
     "data": {
      "application/vnd.jupyter.widget-view+json": {
       "model_id": "2bfe9671a44d4c67843593d1c95099ce",
       "version_major": 2,
       "version_minor": 0
      },
      "text/plain": [
       "HBox(children=(HTML(value=''), FloatProgress(value=0.0, max=15706.0), HTML(value='')))"
      ]
     },
     "metadata": {},
     "output_type": "display_data"
    },
    {
     "name": "stdout",
     "output_type": "stream",
     "text": [
      "\n",
      "K = 20\n"
     ]
    },
    {
     "data": {
      "application/vnd.jupyter.widget-view+json": {
       "model_id": "e11e9c22ef8d4a28aa64efa4636a7e9f",
       "version_major": 2,
       "version_minor": 0
      },
      "text/plain": [
       "HBox(children=(HTML(value=''), FloatProgress(value=0.0, max=15706.0), HTML(value='')))"
      ]
     },
     "metadata": {},
     "output_type": "display_data"
    },
    {
     "name": "stdout",
     "output_type": "stream",
     "text": [
      "\n",
      "K = 21\n"
     ]
    },
    {
     "data": {
      "application/vnd.jupyter.widget-view+json": {
       "model_id": "095b91488d71428596164bb547f227db",
       "version_major": 2,
       "version_minor": 0
      },
      "text/plain": [
       "HBox(children=(HTML(value=''), FloatProgress(value=0.0, max=15706.0), HTML(value='')))"
      ]
     },
     "metadata": {},
     "output_type": "display_data"
    },
    {
     "name": "stdout",
     "output_type": "stream",
     "text": [
      "\n",
      "K = 22\n"
     ]
    },
    {
     "data": {
      "application/vnd.jupyter.widget-view+json": {
       "model_id": "f14c805aa63042b6bd7867e13de39783",
       "version_major": 2,
       "version_minor": 0
      },
      "text/plain": [
       "HBox(children=(HTML(value=''), FloatProgress(value=0.0, max=15706.0), HTML(value='')))"
      ]
     },
     "metadata": {},
     "output_type": "display_data"
    },
    {
     "name": "stdout",
     "output_type": "stream",
     "text": [
      "\n",
      "K = 23\n"
     ]
    },
    {
     "data": {
      "application/vnd.jupyter.widget-view+json": {
       "model_id": "30cff1ddd71143c688a4d0f712fb04d6",
       "version_major": 2,
       "version_minor": 0
      },
      "text/plain": [
       "HBox(children=(HTML(value=''), FloatProgress(value=0.0, max=15706.0), HTML(value='')))"
      ]
     },
     "metadata": {},
     "output_type": "display_data"
    },
    {
     "name": "stdout",
     "output_type": "stream",
     "text": [
      "\n",
      "K = 24\n"
     ]
    },
    {
     "data": {
      "application/vnd.jupyter.widget-view+json": {
       "model_id": "ab65019658e44cae91dc215c0d43e5c0",
       "version_major": 2,
       "version_minor": 0
      },
      "text/plain": [
       "HBox(children=(HTML(value=''), FloatProgress(value=0.0, max=15706.0), HTML(value='')))"
      ]
     },
     "metadata": {},
     "output_type": "display_data"
    },
    {
     "name": "stdout",
     "output_type": "stream",
     "text": [
      "\n",
      "test range - from 2021-08-18 00:00:00 to 2021-08-19 00:00:00\n",
      "train shape - (5160672, 5), test shape - (46113, 5)\n",
      "K = 5\n"
     ]
    },
    {
     "data": {
      "application/vnd.jupyter.widget-view+json": {
       "model_id": "65b276a15a2844958b60a4ce8b485f16",
       "version_major": 2,
       "version_minor": 0
      },
      "text/plain": [
       "HBox(children=(HTML(value=''), FloatProgress(value=0.0, max=15706.0), HTML(value='')))"
      ]
     },
     "metadata": {},
     "output_type": "display_data"
    },
    {
     "name": "stdout",
     "output_type": "stream",
     "text": [
      "\n",
      "K = 6\n"
     ]
    },
    {
     "data": {
      "application/vnd.jupyter.widget-view+json": {
       "model_id": "bf10e0a62b1143a4a19f2b64197543e6",
       "version_major": 2,
       "version_minor": 0
      },
      "text/plain": [
       "HBox(children=(HTML(value=''), FloatProgress(value=0.0, max=15706.0), HTML(value='')))"
      ]
     },
     "metadata": {},
     "output_type": "display_data"
    },
    {
     "name": "stdout",
     "output_type": "stream",
     "text": [
      "\n",
      "K = 7\n"
     ]
    },
    {
     "data": {
      "application/vnd.jupyter.widget-view+json": {
       "model_id": "b492704cdd6740f68d0a5bdb1ca4b871",
       "version_major": 2,
       "version_minor": 0
      },
      "text/plain": [
       "HBox(children=(HTML(value=''), FloatProgress(value=0.0, max=15706.0), HTML(value='')))"
      ]
     },
     "metadata": {},
     "output_type": "display_data"
    },
    {
     "name": "stdout",
     "output_type": "stream",
     "text": [
      "\n",
      "K = 8\n"
     ]
    },
    {
     "data": {
      "application/vnd.jupyter.widget-view+json": {
       "model_id": "a791fc3763804843abb0b4f5caa9b0b4",
       "version_major": 2,
       "version_minor": 0
      },
      "text/plain": [
       "HBox(children=(HTML(value=''), FloatProgress(value=0.0, max=15706.0), HTML(value='')))"
      ]
     },
     "metadata": {},
     "output_type": "display_data"
    },
    {
     "name": "stdout",
     "output_type": "stream",
     "text": [
      "\n",
      "K = 9\n"
     ]
    },
    {
     "data": {
      "application/vnd.jupyter.widget-view+json": {
       "model_id": "a935e9621498483bad27e08b4ebff432",
       "version_major": 2,
       "version_minor": 0
      },
      "text/plain": [
       "HBox(children=(HTML(value=''), FloatProgress(value=0.0, max=15706.0), HTML(value='')))"
      ]
     },
     "metadata": {},
     "output_type": "display_data"
    },
    {
     "name": "stdout",
     "output_type": "stream",
     "text": [
      "\n",
      "K = 10\n"
     ]
    },
    {
     "data": {
      "application/vnd.jupyter.widget-view+json": {
       "model_id": "caea024b4489422ea633246900fef96c",
       "version_major": 2,
       "version_minor": 0
      },
      "text/plain": [
       "HBox(children=(HTML(value=''), FloatProgress(value=0.0, max=15706.0), HTML(value='')))"
      ]
     },
     "metadata": {},
     "output_type": "display_data"
    },
    {
     "name": "stdout",
     "output_type": "stream",
     "text": [
      "\n",
      "K = 11\n"
     ]
    },
    {
     "data": {
      "application/vnd.jupyter.widget-view+json": {
       "model_id": "d9108dcb496141dc8210e21c9d9426b6",
       "version_major": 2,
       "version_minor": 0
      },
      "text/plain": [
       "HBox(children=(HTML(value=''), FloatProgress(value=0.0, max=15706.0), HTML(value='')))"
      ]
     },
     "metadata": {},
     "output_type": "display_data"
    },
    {
     "name": "stdout",
     "output_type": "stream",
     "text": [
      "\n",
      "K = 12\n"
     ]
    },
    {
     "data": {
      "application/vnd.jupyter.widget-view+json": {
       "model_id": "b55e9c55cb3c429cb752bad447b6e0f9",
       "version_major": 2,
       "version_minor": 0
      },
      "text/plain": [
       "HBox(children=(HTML(value=''), FloatProgress(value=0.0, max=15706.0), HTML(value='')))"
      ]
     },
     "metadata": {},
     "output_type": "display_data"
    },
    {
     "name": "stdout",
     "output_type": "stream",
     "text": [
      "\n",
      "K = 13\n"
     ]
    },
    {
     "data": {
      "application/vnd.jupyter.widget-view+json": {
       "model_id": "9c1da8d09f21481498203da440de49d0",
       "version_major": 2,
       "version_minor": 0
      },
      "text/plain": [
       "HBox(children=(HTML(value=''), FloatProgress(value=0.0, max=15706.0), HTML(value='')))"
      ]
     },
     "metadata": {},
     "output_type": "display_data"
    },
    {
     "name": "stdout",
     "output_type": "stream",
     "text": [
      "\n",
      "K = 14\n"
     ]
    },
    {
     "data": {
      "application/vnd.jupyter.widget-view+json": {
       "model_id": "f98d6ba3461c4d1da2dac74f7f33e88a",
       "version_major": 2,
       "version_minor": 0
      },
      "text/plain": [
       "HBox(children=(HTML(value=''), FloatProgress(value=0.0, max=15706.0), HTML(value='')))"
      ]
     },
     "metadata": {},
     "output_type": "display_data"
    },
    {
     "name": "stdout",
     "output_type": "stream",
     "text": [
      "\n",
      "K = 15\n"
     ]
    },
    {
     "data": {
      "application/vnd.jupyter.widget-view+json": {
       "model_id": "d369dc8e98a24593ac9039f164266219",
       "version_major": 2,
       "version_minor": 0
      },
      "text/plain": [
       "HBox(children=(HTML(value=''), FloatProgress(value=0.0, max=15706.0), HTML(value='')))"
      ]
     },
     "metadata": {},
     "output_type": "display_data"
    },
    {
     "name": "stdout",
     "output_type": "stream",
     "text": [
      "\n",
      "K = 16\n"
     ]
    },
    {
     "data": {
      "application/vnd.jupyter.widget-view+json": {
       "model_id": "f19d083cbc8a4bfaae902d841b54f387",
       "version_major": 2,
       "version_minor": 0
      },
      "text/plain": [
       "HBox(children=(HTML(value=''), FloatProgress(value=0.0, max=15706.0), HTML(value='')))"
      ]
     },
     "metadata": {},
     "output_type": "display_data"
    },
    {
     "name": "stdout",
     "output_type": "stream",
     "text": [
      "\n",
      "K = 17\n"
     ]
    },
    {
     "data": {
      "application/vnd.jupyter.widget-view+json": {
       "model_id": "9898229eabef477c9ef7dfe2a0d250dd",
       "version_major": 2,
       "version_minor": 0
      },
      "text/plain": [
       "HBox(children=(HTML(value=''), FloatProgress(value=0.0, max=15706.0), HTML(value='')))"
      ]
     },
     "metadata": {},
     "output_type": "display_data"
    },
    {
     "name": "stdout",
     "output_type": "stream",
     "text": [
      "\n",
      "K = 18\n"
     ]
    },
    {
     "data": {
      "application/vnd.jupyter.widget-view+json": {
       "model_id": "3c82b3c4f77840d292e37c2d664e2404",
       "version_major": 2,
       "version_minor": 0
      },
      "text/plain": [
       "HBox(children=(HTML(value=''), FloatProgress(value=0.0, max=15706.0), HTML(value='')))"
      ]
     },
     "metadata": {},
     "output_type": "display_data"
    },
    {
     "name": "stdout",
     "output_type": "stream",
     "text": [
      "\n",
      "K = 19\n"
     ]
    },
    {
     "data": {
      "application/vnd.jupyter.widget-view+json": {
       "model_id": "09b64fbe22c246f9b8a01e57b737915f",
       "version_major": 2,
       "version_minor": 0
      },
      "text/plain": [
       "HBox(children=(HTML(value=''), FloatProgress(value=0.0, max=15706.0), HTML(value='')))"
      ]
     },
     "metadata": {},
     "output_type": "display_data"
    },
    {
     "name": "stdout",
     "output_type": "stream",
     "text": [
      "\n",
      "K = 20\n"
     ]
    },
    {
     "data": {
      "application/vnd.jupyter.widget-view+json": {
       "model_id": "6c48a4f2df034217a0996fad256973b3",
       "version_major": 2,
       "version_minor": 0
      },
      "text/plain": [
       "HBox(children=(HTML(value=''), FloatProgress(value=0.0, max=15706.0), HTML(value='')))"
      ]
     },
     "metadata": {},
     "output_type": "display_data"
    },
    {
     "name": "stdout",
     "output_type": "stream",
     "text": [
      "\n",
      "K = 21\n"
     ]
    },
    {
     "data": {
      "application/vnd.jupyter.widget-view+json": {
       "model_id": "e106ec61138b40e5bb1f9256b7aa9615",
       "version_major": 2,
       "version_minor": 0
      },
      "text/plain": [
       "HBox(children=(HTML(value=''), FloatProgress(value=0.0, max=15706.0), HTML(value='')))"
      ]
     },
     "metadata": {},
     "output_type": "display_data"
    },
    {
     "name": "stdout",
     "output_type": "stream",
     "text": [
      "\n",
      "K = 22\n"
     ]
    },
    {
     "data": {
      "application/vnd.jupyter.widget-view+json": {
       "model_id": "2d56b715a76c4e55b4a46e0f493ce793",
       "version_major": 2,
       "version_minor": 0
      },
      "text/plain": [
       "HBox(children=(HTML(value=''), FloatProgress(value=0.0, max=15706.0), HTML(value='')))"
      ]
     },
     "metadata": {},
     "output_type": "display_data"
    },
    {
     "name": "stdout",
     "output_type": "stream",
     "text": [
      "\n",
      "K = 23\n"
     ]
    },
    {
     "data": {
      "application/vnd.jupyter.widget-view+json": {
       "model_id": "4b56874cd4a44aa980343417ec2d6d5a",
       "version_major": 2,
       "version_minor": 0
      },
      "text/plain": [
       "HBox(children=(HTML(value=''), FloatProgress(value=0.0, max=15706.0), HTML(value='')))"
      ]
     },
     "metadata": {},
     "output_type": "display_data"
    },
    {
     "name": "stdout",
     "output_type": "stream",
     "text": [
      "\n",
      "K = 24\n"
     ]
    },
    {
     "data": {
      "application/vnd.jupyter.widget-view+json": {
       "model_id": "170c00a25b434694b712bf9a9489224c",
       "version_major": 2,
       "version_minor": 0
      },
      "text/plain": [
       "HBox(children=(HTML(value=''), FloatProgress(value=0.0, max=15706.0), HTML(value='')))"
      ]
     },
     "metadata": {},
     "output_type": "display_data"
    },
    {
     "name": "stdout",
     "output_type": "stream",
     "text": [
      "\n",
      "test range - from 2021-08-19 00:00:00 to 2021-08-20 00:00:00\n",
      "train shape - (5217461, 5), test shape - (47526, 5)\n",
      "K = 5\n"
     ]
    },
    {
     "data": {
      "application/vnd.jupyter.widget-view+json": {
       "model_id": "e70cb02836294131aed89a5b3fc32d14",
       "version_major": 2,
       "version_minor": 0
      },
      "text/plain": [
       "HBox(children=(HTML(value=''), FloatProgress(value=0.0, max=15706.0), HTML(value='')))"
      ]
     },
     "metadata": {},
     "output_type": "display_data"
    },
    {
     "name": "stdout",
     "output_type": "stream",
     "text": [
      "\n",
      "K = 6\n"
     ]
    },
    {
     "data": {
      "application/vnd.jupyter.widget-view+json": {
       "model_id": "34252bf9b57140249807d85f47a28339",
       "version_major": 2,
       "version_minor": 0
      },
      "text/plain": [
       "HBox(children=(HTML(value=''), FloatProgress(value=0.0, max=15706.0), HTML(value='')))"
      ]
     },
     "metadata": {},
     "output_type": "display_data"
    },
    {
     "name": "stdout",
     "output_type": "stream",
     "text": [
      "\n",
      "K = 7\n"
     ]
    },
    {
     "data": {
      "application/vnd.jupyter.widget-view+json": {
       "model_id": "5aac6ce9d3cb453da85076c672c39f2c",
       "version_major": 2,
       "version_minor": 0
      },
      "text/plain": [
       "HBox(children=(HTML(value=''), FloatProgress(value=0.0, max=15706.0), HTML(value='')))"
      ]
     },
     "metadata": {},
     "output_type": "display_data"
    },
    {
     "name": "stdout",
     "output_type": "stream",
     "text": [
      "\n",
      "K = 8\n"
     ]
    },
    {
     "data": {
      "application/vnd.jupyter.widget-view+json": {
       "model_id": "e63f392fc3c846138d3124b64e67af5d",
       "version_major": 2,
       "version_minor": 0
      },
      "text/plain": [
       "HBox(children=(HTML(value=''), FloatProgress(value=0.0, max=15706.0), HTML(value='')))"
      ]
     },
     "metadata": {},
     "output_type": "display_data"
    },
    {
     "name": "stdout",
     "output_type": "stream",
     "text": [
      "\n",
      "K = 9\n"
     ]
    },
    {
     "data": {
      "application/vnd.jupyter.widget-view+json": {
       "model_id": "5d29c383e4db4d3c8e75b2439041c14b",
       "version_major": 2,
       "version_minor": 0
      },
      "text/plain": [
       "HBox(children=(HTML(value=''), FloatProgress(value=0.0, max=15706.0), HTML(value='')))"
      ]
     },
     "metadata": {},
     "output_type": "display_data"
    },
    {
     "name": "stdout",
     "output_type": "stream",
     "text": [
      "\n",
      "K = 10\n"
     ]
    },
    {
     "data": {
      "application/vnd.jupyter.widget-view+json": {
       "model_id": "107b53d6e1db4ad8ad644b176bf7b8cd",
       "version_major": 2,
       "version_minor": 0
      },
      "text/plain": [
       "HBox(children=(HTML(value=''), FloatProgress(value=0.0, max=15706.0), HTML(value='')))"
      ]
     },
     "metadata": {},
     "output_type": "display_data"
    },
    {
     "name": "stdout",
     "output_type": "stream",
     "text": [
      "\n",
      "K = 11\n"
     ]
    },
    {
     "data": {
      "application/vnd.jupyter.widget-view+json": {
       "model_id": "e58a4b834b754e8fb9c2dbd41f71e784",
       "version_major": 2,
       "version_minor": 0
      },
      "text/plain": [
       "HBox(children=(HTML(value=''), FloatProgress(value=0.0, max=15706.0), HTML(value='')))"
      ]
     },
     "metadata": {},
     "output_type": "display_data"
    },
    {
     "name": "stdout",
     "output_type": "stream",
     "text": [
      "\n",
      "K = 12\n"
     ]
    },
    {
     "data": {
      "application/vnd.jupyter.widget-view+json": {
       "model_id": "e64a5e6be6d44837ba7b26bbb1e012f9",
       "version_major": 2,
       "version_minor": 0
      },
      "text/plain": [
       "HBox(children=(HTML(value=''), FloatProgress(value=0.0, max=15706.0), HTML(value='')))"
      ]
     },
     "metadata": {},
     "output_type": "display_data"
    },
    {
     "name": "stdout",
     "output_type": "stream",
     "text": [
      "\n",
      "K = 13\n"
     ]
    },
    {
     "data": {
      "application/vnd.jupyter.widget-view+json": {
       "model_id": "886e1eae043b43aeb518bf5ac5d1758e",
       "version_major": 2,
       "version_minor": 0
      },
      "text/plain": [
       "HBox(children=(HTML(value=''), FloatProgress(value=0.0, max=15706.0), HTML(value='')))"
      ]
     },
     "metadata": {},
     "output_type": "display_data"
    },
    {
     "name": "stdout",
     "output_type": "stream",
     "text": [
      "\n",
      "K = 14\n"
     ]
    },
    {
     "data": {
      "application/vnd.jupyter.widget-view+json": {
       "model_id": "c2649587be0f45b6bb98c0795fc381f5",
       "version_major": 2,
       "version_minor": 0
      },
      "text/plain": [
       "HBox(children=(HTML(value=''), FloatProgress(value=0.0, max=15706.0), HTML(value='')))"
      ]
     },
     "metadata": {},
     "output_type": "display_data"
    },
    {
     "name": "stdout",
     "output_type": "stream",
     "text": [
      "\n",
      "K = 15\n"
     ]
    },
    {
     "data": {
      "application/vnd.jupyter.widget-view+json": {
       "model_id": "c956613c6ce04f2e8a85c5beb0d0eafb",
       "version_major": 2,
       "version_minor": 0
      },
      "text/plain": [
       "HBox(children=(HTML(value=''), FloatProgress(value=0.0, max=15706.0), HTML(value='')))"
      ]
     },
     "metadata": {},
     "output_type": "display_data"
    },
    {
     "name": "stdout",
     "output_type": "stream",
     "text": [
      "\n",
      "K = 16\n"
     ]
    },
    {
     "data": {
      "application/vnd.jupyter.widget-view+json": {
       "model_id": "5011f26421914b9fb44fa4175406e3ab",
       "version_major": 2,
       "version_minor": 0
      },
      "text/plain": [
       "HBox(children=(HTML(value=''), FloatProgress(value=0.0, max=15706.0), HTML(value='')))"
      ]
     },
     "metadata": {},
     "output_type": "display_data"
    },
    {
     "name": "stdout",
     "output_type": "stream",
     "text": [
      "\n",
      "K = 17\n"
     ]
    },
    {
     "data": {
      "application/vnd.jupyter.widget-view+json": {
       "model_id": "355adf3045ac44b2a8c1cbf435de5aaa",
       "version_major": 2,
       "version_minor": 0
      },
      "text/plain": [
       "HBox(children=(HTML(value=''), FloatProgress(value=0.0, max=15706.0), HTML(value='')))"
      ]
     },
     "metadata": {},
     "output_type": "display_data"
    },
    {
     "name": "stdout",
     "output_type": "stream",
     "text": [
      "\n",
      "K = 18\n"
     ]
    },
    {
     "data": {
      "application/vnd.jupyter.widget-view+json": {
       "model_id": "2302f005270248b998f1968d74efce07",
       "version_major": 2,
       "version_minor": 0
      },
      "text/plain": [
       "HBox(children=(HTML(value=''), FloatProgress(value=0.0, max=15706.0), HTML(value='')))"
      ]
     },
     "metadata": {},
     "output_type": "display_data"
    },
    {
     "name": "stdout",
     "output_type": "stream",
     "text": [
      "\n",
      "K = 19\n"
     ]
    },
    {
     "data": {
      "application/vnd.jupyter.widget-view+json": {
       "model_id": "64c8c0f00ca7488ebc905c94da46c86a",
       "version_major": 2,
       "version_minor": 0
      },
      "text/plain": [
       "HBox(children=(HTML(value=''), FloatProgress(value=0.0, max=15706.0), HTML(value='')))"
      ]
     },
     "metadata": {},
     "output_type": "display_data"
    },
    {
     "name": "stdout",
     "output_type": "stream",
     "text": [
      "\n",
      "K = 20\n"
     ]
    },
    {
     "data": {
      "application/vnd.jupyter.widget-view+json": {
       "model_id": "7869e51fa5414731bdda0ac2d156d18c",
       "version_major": 2,
       "version_minor": 0
      },
      "text/plain": [
       "HBox(children=(HTML(value=''), FloatProgress(value=0.0, max=15706.0), HTML(value='')))"
      ]
     },
     "metadata": {},
     "output_type": "display_data"
    },
    {
     "name": "stdout",
     "output_type": "stream",
     "text": [
      "\n",
      "K = 21\n"
     ]
    },
    {
     "data": {
      "application/vnd.jupyter.widget-view+json": {
       "model_id": "2c398f42534d4260bda561bd229aa2f2",
       "version_major": 2,
       "version_minor": 0
      },
      "text/plain": [
       "HBox(children=(HTML(value=''), FloatProgress(value=0.0, max=15706.0), HTML(value='')))"
      ]
     },
     "metadata": {},
     "output_type": "display_data"
    },
    {
     "name": "stdout",
     "output_type": "stream",
     "text": [
      "\n",
      "K = 22\n"
     ]
    },
    {
     "data": {
      "application/vnd.jupyter.widget-view+json": {
       "model_id": "96eb120f8487418f882f073a096a55f7",
       "version_major": 2,
       "version_minor": 0
      },
      "text/plain": [
       "HBox(children=(HTML(value=''), FloatProgress(value=0.0, max=15706.0), HTML(value='')))"
      ]
     },
     "metadata": {},
     "output_type": "display_data"
    },
    {
     "name": "stdout",
     "output_type": "stream",
     "text": [
      "\n",
      "K = 23\n"
     ]
    },
    {
     "data": {
      "application/vnd.jupyter.widget-view+json": {
       "model_id": "da11fced9338451594568b52267321b1",
       "version_major": 2,
       "version_minor": 0
      },
      "text/plain": [
       "HBox(children=(HTML(value=''), FloatProgress(value=0.0, max=15706.0), HTML(value='')))"
      ]
     },
     "metadata": {},
     "output_type": "display_data"
    },
    {
     "name": "stdout",
     "output_type": "stream",
     "text": [
      "\n",
      "K = 24\n"
     ]
    },
    {
     "data": {
      "application/vnd.jupyter.widget-view+json": {
       "model_id": "6c87d060890248b1b1ff31d332a1cded",
       "version_major": 2,
       "version_minor": 0
      },
      "text/plain": [
       "HBox(children=(HTML(value=''), FloatProgress(value=0.0, max=15706.0), HTML(value='')))"
      ]
     },
     "metadata": {},
     "output_type": "display_data"
    },
    {
     "name": "stdout",
     "output_type": "stream",
     "text": [
      "\n",
      "test range - from 2021-08-20 00:00:00 to 2021-08-21 00:00:00\n",
      "train shape - (5276101, 5), test shape - (48687, 5)\n",
      "K = 5\n"
     ]
    },
    {
     "data": {
      "application/vnd.jupyter.widget-view+json": {
       "model_id": "91504aa972b74b3f93178662e21f6d36",
       "version_major": 2,
       "version_minor": 0
      },
      "text/plain": [
       "HBox(children=(HTML(value=''), FloatProgress(value=0.0, max=15706.0), HTML(value='')))"
      ]
     },
     "metadata": {},
     "output_type": "display_data"
    },
    {
     "name": "stdout",
     "output_type": "stream",
     "text": [
      "\n",
      "K = 6\n"
     ]
    },
    {
     "data": {
      "application/vnd.jupyter.widget-view+json": {
       "model_id": "81d4b65fbc4e4ed69b12013a10968381",
       "version_major": 2,
       "version_minor": 0
      },
      "text/plain": [
       "HBox(children=(HTML(value=''), FloatProgress(value=0.0, max=15706.0), HTML(value='')))"
      ]
     },
     "metadata": {},
     "output_type": "display_data"
    },
    {
     "name": "stdout",
     "output_type": "stream",
     "text": [
      "\n",
      "K = 7\n"
     ]
    },
    {
     "data": {
      "application/vnd.jupyter.widget-view+json": {
       "model_id": "57c75a6e973f49ea843ed728d50e7590",
       "version_major": 2,
       "version_minor": 0
      },
      "text/plain": [
       "HBox(children=(HTML(value=''), FloatProgress(value=0.0, max=15706.0), HTML(value='')))"
      ]
     },
     "metadata": {},
     "output_type": "display_data"
    },
    {
     "name": "stdout",
     "output_type": "stream",
     "text": [
      "\n",
      "K = 8\n"
     ]
    },
    {
     "data": {
      "application/vnd.jupyter.widget-view+json": {
       "model_id": "631f56648c5a4a5f9136fd69de4ddff1",
       "version_major": 2,
       "version_minor": 0
      },
      "text/plain": [
       "HBox(children=(HTML(value=''), FloatProgress(value=0.0, max=15706.0), HTML(value='')))"
      ]
     },
     "metadata": {},
     "output_type": "display_data"
    },
    {
     "name": "stdout",
     "output_type": "stream",
     "text": [
      "\n",
      "K = 9\n"
     ]
    },
    {
     "data": {
      "application/vnd.jupyter.widget-view+json": {
       "model_id": "55a59a82b5ed4a6c82d51e5d15135641",
       "version_major": 2,
       "version_minor": 0
      },
      "text/plain": [
       "HBox(children=(HTML(value=''), FloatProgress(value=0.0, max=15706.0), HTML(value='')))"
      ]
     },
     "metadata": {},
     "output_type": "display_data"
    },
    {
     "name": "stdout",
     "output_type": "stream",
     "text": [
      "\n",
      "K = 10\n"
     ]
    },
    {
     "data": {
      "application/vnd.jupyter.widget-view+json": {
       "model_id": "c73abb9b57274b7d8fe105556e5fff8d",
       "version_major": 2,
       "version_minor": 0
      },
      "text/plain": [
       "HBox(children=(HTML(value=''), FloatProgress(value=0.0, max=15706.0), HTML(value='')))"
      ]
     },
     "metadata": {},
     "output_type": "display_data"
    },
    {
     "name": "stdout",
     "output_type": "stream",
     "text": [
      "\n",
      "K = 11\n"
     ]
    },
    {
     "data": {
      "application/vnd.jupyter.widget-view+json": {
       "model_id": "659c6be18e8248d8a0ab892a8f49d895",
       "version_major": 2,
       "version_minor": 0
      },
      "text/plain": [
       "HBox(children=(HTML(value=''), FloatProgress(value=0.0, max=15706.0), HTML(value='')))"
      ]
     },
     "metadata": {},
     "output_type": "display_data"
    },
    {
     "name": "stdout",
     "output_type": "stream",
     "text": [
      "\n",
      "K = 12\n"
     ]
    },
    {
     "data": {
      "application/vnd.jupyter.widget-view+json": {
       "model_id": "09ab02318810479885506e8ae01acbd3",
       "version_major": 2,
       "version_minor": 0
      },
      "text/plain": [
       "HBox(children=(HTML(value=''), FloatProgress(value=0.0, max=15706.0), HTML(value='')))"
      ]
     },
     "metadata": {},
     "output_type": "display_data"
    },
    {
     "name": "stdout",
     "output_type": "stream",
     "text": [
      "\n",
      "K = 13\n"
     ]
    },
    {
     "data": {
      "application/vnd.jupyter.widget-view+json": {
       "model_id": "305ed11839b145789545cf766d2bd40a",
       "version_major": 2,
       "version_minor": 0
      },
      "text/plain": [
       "HBox(children=(HTML(value=''), FloatProgress(value=0.0, max=15706.0), HTML(value='')))"
      ]
     },
     "metadata": {},
     "output_type": "display_data"
    },
    {
     "name": "stdout",
     "output_type": "stream",
     "text": [
      "\n",
      "K = 14\n"
     ]
    },
    {
     "data": {
      "application/vnd.jupyter.widget-view+json": {
       "model_id": "203a6d27c6854bc1b3fec2fcc7a4ea7c",
       "version_major": 2,
       "version_minor": 0
      },
      "text/plain": [
       "HBox(children=(HTML(value=''), FloatProgress(value=0.0, max=15706.0), HTML(value='')))"
      ]
     },
     "metadata": {},
     "output_type": "display_data"
    },
    {
     "name": "stdout",
     "output_type": "stream",
     "text": [
      "\n",
      "K = 15\n"
     ]
    },
    {
     "data": {
      "application/vnd.jupyter.widget-view+json": {
       "model_id": "0d23f94bdb5644c2b0e21e984e0abff0",
       "version_major": 2,
       "version_minor": 0
      },
      "text/plain": [
       "HBox(children=(HTML(value=''), FloatProgress(value=0.0, max=15706.0), HTML(value='')))"
      ]
     },
     "metadata": {},
     "output_type": "display_data"
    },
    {
     "name": "stdout",
     "output_type": "stream",
     "text": [
      "\n",
      "K = 16\n"
     ]
    },
    {
     "data": {
      "application/vnd.jupyter.widget-view+json": {
       "model_id": "d217ecb2929d46588100f8c0dffdc6c6",
       "version_major": 2,
       "version_minor": 0
      },
      "text/plain": [
       "HBox(children=(HTML(value=''), FloatProgress(value=0.0, max=15706.0), HTML(value='')))"
      ]
     },
     "metadata": {},
     "output_type": "display_data"
    },
    {
     "name": "stdout",
     "output_type": "stream",
     "text": [
      "\n",
      "K = 17\n"
     ]
    },
    {
     "data": {
      "application/vnd.jupyter.widget-view+json": {
       "model_id": "499cb15f48ec4f2c83ffa24728687c7f",
       "version_major": 2,
       "version_minor": 0
      },
      "text/plain": [
       "HBox(children=(HTML(value=''), FloatProgress(value=0.0, max=15706.0), HTML(value='')))"
      ]
     },
     "metadata": {},
     "output_type": "display_data"
    },
    {
     "name": "stdout",
     "output_type": "stream",
     "text": [
      "\n",
      "K = 18\n"
     ]
    },
    {
     "data": {
      "application/vnd.jupyter.widget-view+json": {
       "model_id": "9e742c63d48f48358cad2cebe1cd6ede",
       "version_major": 2,
       "version_minor": 0
      },
      "text/plain": [
       "HBox(children=(HTML(value=''), FloatProgress(value=0.0, max=15706.0), HTML(value='')))"
      ]
     },
     "metadata": {},
     "output_type": "display_data"
    },
    {
     "name": "stdout",
     "output_type": "stream",
     "text": [
      "\n",
      "K = 19\n"
     ]
    },
    {
     "data": {
      "application/vnd.jupyter.widget-view+json": {
       "model_id": "2d386eede2194d0f867df3db09e4b4b2",
       "version_major": 2,
       "version_minor": 0
      },
      "text/plain": [
       "HBox(children=(HTML(value=''), FloatProgress(value=0.0, max=15706.0), HTML(value='')))"
      ]
     },
     "metadata": {},
     "output_type": "display_data"
    },
    {
     "name": "stdout",
     "output_type": "stream",
     "text": [
      "\n",
      "K = 20\n"
     ]
    },
    {
     "data": {
      "application/vnd.jupyter.widget-view+json": {
       "model_id": "884b193918c44371a1a8fa05b4bef767",
       "version_major": 2,
       "version_minor": 0
      },
      "text/plain": [
       "HBox(children=(HTML(value=''), FloatProgress(value=0.0, max=15706.0), HTML(value='')))"
      ]
     },
     "metadata": {},
     "output_type": "display_data"
    },
    {
     "name": "stdout",
     "output_type": "stream",
     "text": [
      "\n",
      "K = 21\n"
     ]
    },
    {
     "data": {
      "application/vnd.jupyter.widget-view+json": {
       "model_id": "fc776c18dcec4d1c99f64db1c20c973c",
       "version_major": 2,
       "version_minor": 0
      },
      "text/plain": [
       "HBox(children=(HTML(value=''), FloatProgress(value=0.0, max=15706.0), HTML(value='')))"
      ]
     },
     "metadata": {},
     "output_type": "display_data"
    },
    {
     "name": "stdout",
     "output_type": "stream",
     "text": [
      "\n",
      "K = 22\n"
     ]
    },
    {
     "data": {
      "application/vnd.jupyter.widget-view+json": {
       "model_id": "4022a696a6524fa4847b2efdcfa7da40",
       "version_major": 2,
       "version_minor": 0
      },
      "text/plain": [
       "HBox(children=(HTML(value=''), FloatProgress(value=0.0, max=15706.0), HTML(value='')))"
      ]
     },
     "metadata": {},
     "output_type": "display_data"
    },
    {
     "name": "stdout",
     "output_type": "stream",
     "text": [
      "\n",
      "K = 23\n"
     ]
    },
    {
     "data": {
      "application/vnd.jupyter.widget-view+json": {
       "model_id": "ff52ef70c07942f1b143ff098233916c",
       "version_major": 2,
       "version_minor": 0
      },
      "text/plain": [
       "HBox(children=(HTML(value=''), FloatProgress(value=0.0, max=15706.0), HTML(value='')))"
      ]
     },
     "metadata": {},
     "output_type": "display_data"
    },
    {
     "name": "stdout",
     "output_type": "stream",
     "text": [
      "\n",
      "K = 24\n"
     ]
    },
    {
     "data": {
      "application/vnd.jupyter.widget-view+json": {
       "model_id": "fbf3666368074fbc92bdb28626841982",
       "version_major": 2,
       "version_minor": 0
      },
      "text/plain": [
       "HBox(children=(HTML(value=''), FloatProgress(value=0.0, max=15706.0), HTML(value='')))"
      ]
     },
     "metadata": {},
     "output_type": "display_data"
    },
    {
     "name": "stdout",
     "output_type": "stream",
     "text": [
      "\n",
      "test range - from 2021-08-21 00:00:00 to 2021-08-22 00:00:00\n",
      "train shape - (5336246, 5), test shape - (55285, 5)\n",
      "K = 5\n"
     ]
    },
    {
     "data": {
      "application/vnd.jupyter.widget-view+json": {
       "model_id": "d18094717b2740b29f0fdfb20b05eb1e",
       "version_major": 2,
       "version_minor": 0
      },
      "text/plain": [
       "HBox(children=(HTML(value=''), FloatProgress(value=0.0, max=15706.0), HTML(value='')))"
      ]
     },
     "metadata": {},
     "output_type": "display_data"
    },
    {
     "name": "stdout",
     "output_type": "stream",
     "text": [
      "\n",
      "K = 6\n"
     ]
    },
    {
     "data": {
      "application/vnd.jupyter.widget-view+json": {
       "model_id": "196ef5f9398f4d9da9c0d5ccc143e843",
       "version_major": 2,
       "version_minor": 0
      },
      "text/plain": [
       "HBox(children=(HTML(value=''), FloatProgress(value=0.0, max=15706.0), HTML(value='')))"
      ]
     },
     "metadata": {},
     "output_type": "display_data"
    },
    {
     "name": "stdout",
     "output_type": "stream",
     "text": [
      "\n",
      "K = 7\n"
     ]
    },
    {
     "data": {
      "application/vnd.jupyter.widget-view+json": {
       "model_id": "8e92d26d1bbd4ceda7007cbc821664ff",
       "version_major": 2,
       "version_minor": 0
      },
      "text/plain": [
       "HBox(children=(HTML(value=''), FloatProgress(value=0.0, max=15706.0), HTML(value='')))"
      ]
     },
     "metadata": {},
     "output_type": "display_data"
    },
    {
     "name": "stdout",
     "output_type": "stream",
     "text": [
      "\n",
      "K = 8\n"
     ]
    },
    {
     "data": {
      "application/vnd.jupyter.widget-view+json": {
       "model_id": "4c9d03b32d9d4ed5911ca43d9c5e27ca",
       "version_major": 2,
       "version_minor": 0
      },
      "text/plain": [
       "HBox(children=(HTML(value=''), FloatProgress(value=0.0, max=15706.0), HTML(value='')))"
      ]
     },
     "metadata": {},
     "output_type": "display_data"
    },
    {
     "name": "stdout",
     "output_type": "stream",
     "text": [
      "\n",
      "K = 9\n"
     ]
    },
    {
     "data": {
      "application/vnd.jupyter.widget-view+json": {
       "model_id": "7d4d33ce250548878b0d7a40a04a0eb2",
       "version_major": 2,
       "version_minor": 0
      },
      "text/plain": [
       "HBox(children=(HTML(value=''), FloatProgress(value=0.0, max=15706.0), HTML(value='')))"
      ]
     },
     "metadata": {},
     "output_type": "display_data"
    },
    {
     "name": "stdout",
     "output_type": "stream",
     "text": [
      "\n",
      "K = 10\n"
     ]
    },
    {
     "data": {
      "application/vnd.jupyter.widget-view+json": {
       "model_id": "34daf60e7f3e4410a647cd61d469f792",
       "version_major": 2,
       "version_minor": 0
      },
      "text/plain": [
       "HBox(children=(HTML(value=''), FloatProgress(value=0.0, max=15706.0), HTML(value='')))"
      ]
     },
     "metadata": {},
     "output_type": "display_data"
    },
    {
     "name": "stdout",
     "output_type": "stream",
     "text": [
      "\n",
      "K = 11\n"
     ]
    },
    {
     "data": {
      "application/vnd.jupyter.widget-view+json": {
       "model_id": "3f1caad810914923937d93efaafa2033",
       "version_major": 2,
       "version_minor": 0
      },
      "text/plain": [
       "HBox(children=(HTML(value=''), FloatProgress(value=0.0, max=15706.0), HTML(value='')))"
      ]
     },
     "metadata": {},
     "output_type": "display_data"
    },
    {
     "name": "stdout",
     "output_type": "stream",
     "text": [
      "\n",
      "K = 12\n"
     ]
    },
    {
     "data": {
      "application/vnd.jupyter.widget-view+json": {
       "model_id": "5e650832efa444a9abfea9986a4803be",
       "version_major": 2,
       "version_minor": 0
      },
      "text/plain": [
       "HBox(children=(HTML(value=''), FloatProgress(value=0.0, max=15706.0), HTML(value='')))"
      ]
     },
     "metadata": {},
     "output_type": "display_data"
    },
    {
     "name": "stdout",
     "output_type": "stream",
     "text": [
      "\n",
      "K = 13\n"
     ]
    },
    {
     "data": {
      "application/vnd.jupyter.widget-view+json": {
       "model_id": "b217035e6c5e44daa6aabe1d0b33bcd6",
       "version_major": 2,
       "version_minor": 0
      },
      "text/plain": [
       "HBox(children=(HTML(value=''), FloatProgress(value=0.0, max=15706.0), HTML(value='')))"
      ]
     },
     "metadata": {},
     "output_type": "display_data"
    },
    {
     "name": "stdout",
     "output_type": "stream",
     "text": [
      "\n",
      "K = 14\n"
     ]
    },
    {
     "data": {
      "application/vnd.jupyter.widget-view+json": {
       "model_id": "a07da9efe3f2423ba3a76e83eab87bd4",
       "version_major": 2,
       "version_minor": 0
      },
      "text/plain": [
       "HBox(children=(HTML(value=''), FloatProgress(value=0.0, max=15706.0), HTML(value='')))"
      ]
     },
     "metadata": {},
     "output_type": "display_data"
    },
    {
     "name": "stdout",
     "output_type": "stream",
     "text": [
      "\n",
      "K = 15\n"
     ]
    },
    {
     "data": {
      "application/vnd.jupyter.widget-view+json": {
       "model_id": "adfc8b6ed9f34885a6294abe911a31d9",
       "version_major": 2,
       "version_minor": 0
      },
      "text/plain": [
       "HBox(children=(HTML(value=''), FloatProgress(value=0.0, max=15706.0), HTML(value='')))"
      ]
     },
     "metadata": {},
     "output_type": "display_data"
    },
    {
     "name": "stdout",
     "output_type": "stream",
     "text": [
      "\n",
      "K = 16\n"
     ]
    },
    {
     "data": {
      "application/vnd.jupyter.widget-view+json": {
       "model_id": "f8f4abb2f69d47c9902f89e67ff3491d",
       "version_major": 2,
       "version_minor": 0
      },
      "text/plain": [
       "HBox(children=(HTML(value=''), FloatProgress(value=0.0, max=15706.0), HTML(value='')))"
      ]
     },
     "metadata": {},
     "output_type": "display_data"
    },
    {
     "name": "stdout",
     "output_type": "stream",
     "text": [
      "\n",
      "K = 17\n"
     ]
    },
    {
     "data": {
      "application/vnd.jupyter.widget-view+json": {
       "model_id": "28ee32b4053b446b8939d13da70e73ef",
       "version_major": 2,
       "version_minor": 0
      },
      "text/plain": [
       "HBox(children=(HTML(value=''), FloatProgress(value=0.0, max=15706.0), HTML(value='')))"
      ]
     },
     "metadata": {},
     "output_type": "display_data"
    },
    {
     "name": "stdout",
     "output_type": "stream",
     "text": [
      "\n",
      "K = 18\n"
     ]
    },
    {
     "data": {
      "application/vnd.jupyter.widget-view+json": {
       "model_id": "ff4f147ac4e640efb19b09e8fa181fed",
       "version_major": 2,
       "version_minor": 0
      },
      "text/plain": [
       "HBox(children=(HTML(value=''), FloatProgress(value=0.0, max=15706.0), HTML(value='')))"
      ]
     },
     "metadata": {},
     "output_type": "display_data"
    },
    {
     "name": "stdout",
     "output_type": "stream",
     "text": [
      "\n",
      "K = 19\n"
     ]
    },
    {
     "data": {
      "application/vnd.jupyter.widget-view+json": {
       "model_id": "49b9a5932364488490618fd67ae8b5ab",
       "version_major": 2,
       "version_minor": 0
      },
      "text/plain": [
       "HBox(children=(HTML(value=''), FloatProgress(value=0.0, max=15706.0), HTML(value='')))"
      ]
     },
     "metadata": {},
     "output_type": "display_data"
    },
    {
     "name": "stdout",
     "output_type": "stream",
     "text": [
      "\n",
      "K = 20\n"
     ]
    },
    {
     "data": {
      "application/vnd.jupyter.widget-view+json": {
       "model_id": "4e60ef73bd5f4b45b66017dda7f2c387",
       "version_major": 2,
       "version_minor": 0
      },
      "text/plain": [
       "HBox(children=(HTML(value=''), FloatProgress(value=0.0, max=15706.0), HTML(value='')))"
      ]
     },
     "metadata": {},
     "output_type": "display_data"
    },
    {
     "name": "stdout",
     "output_type": "stream",
     "text": [
      "\n",
      "K = 21\n"
     ]
    },
    {
     "data": {
      "application/vnd.jupyter.widget-view+json": {
       "model_id": "8a9b90dff55f43b99b348bf25ce5e59d",
       "version_major": 2,
       "version_minor": 0
      },
      "text/plain": [
       "HBox(children=(HTML(value=''), FloatProgress(value=0.0, max=15706.0), HTML(value='')))"
      ]
     },
     "metadata": {},
     "output_type": "display_data"
    },
    {
     "name": "stdout",
     "output_type": "stream",
     "text": [
      "\n",
      "K = 22\n"
     ]
    },
    {
     "data": {
      "application/vnd.jupyter.widget-view+json": {
       "model_id": "d4e1be290c6f41fb98446e68b4c5be4a",
       "version_major": 2,
       "version_minor": 0
      },
      "text/plain": [
       "HBox(children=(HTML(value=''), FloatProgress(value=0.0, max=15706.0), HTML(value='')))"
      ]
     },
     "metadata": {},
     "output_type": "display_data"
    },
    {
     "name": "stdout",
     "output_type": "stream",
     "text": [
      "\n",
      "K = 23\n"
     ]
    },
    {
     "data": {
      "application/vnd.jupyter.widget-view+json": {
       "model_id": "dd93a33bf59c4f968207a67f66917d24",
       "version_major": 2,
       "version_minor": 0
      },
      "text/plain": [
       "HBox(children=(HTML(value=''), FloatProgress(value=0.0, max=15706.0), HTML(value='')))"
      ]
     },
     "metadata": {},
     "output_type": "display_data"
    },
    {
     "name": "stdout",
     "output_type": "stream",
     "text": [
      "\n",
      "K = 24\n"
     ]
    },
    {
     "data": {
      "application/vnd.jupyter.widget-view+json": {
       "model_id": "3192170f6c1c430c9f2f7e636f9cf6e9",
       "version_major": 2,
       "version_minor": 0
      },
      "text/plain": [
       "HBox(children=(HTML(value=''), FloatProgress(value=0.0, max=15706.0), HTML(value='')))"
      ]
     },
     "metadata": {},
     "output_type": "display_data"
    },
    {
     "name": "stdout",
     "output_type": "stream",
     "text": [
      "\n",
      "Wall time: 12min 52s\n"
     ]
    }
   ],
   "source": [
    "%%time\n",
    "val_results_tfidf = pd.DataFrame()\n",
    "\n",
    "for train_idx, test_idx, info in folds_with_stats:\n",
    "    print(f\"test range - from {info['Start date']} to {info['End date']}\")\n",
    "    train = interactions_df.loc[train_idx]\n",
    "    test = interactions_df.loc[test_idx]\n",
    "    print(f'train shape - {train.shape}, test shape - {test.shape}')\n",
    "    \n",
    "    train_mat = get_coo_matrix(train).tocsr()\n",
    "    for k in range(5, 25, 1):\n",
    "        print(f'K = {k}')\n",
    "        tfidf_model = TFIDFRecommender(K=k)\n",
    "        tfidf_model.fit(train_mat.T) # \n",
    "\n",
    "        mapper = generate_implicit_recs_mapper(tfidf_model, train_mat, top_N, users_mapping, items_inv_mapping)\n",
    "\n",
    "        recs = pd.DataFrame({\n",
    "            'user_id': test['user_id'].unique()\n",
    "        })\n",
    "        recs['item_id'] = recs['user_id'].map(mapper)\n",
    "        recs = recs.explode('item_id')\n",
    "        recs['rank'] = recs.groupby('user_id').cumcount() + 1\n",
    "        fold_result = compute_metrics(test, recs, top_N)\n",
    "        fold_result.at['Date'] = info['Start date']\n",
    "        fold_result.at['K'] = k\n",
    "        fold_result.at['Model'] = 'cosine model'\n",
    "\n",
    "        val_results_tfidf = val_results_tfidf.append(fold_result, ignore_index=True)"
   ]
  },
  {
   "cell_type": "code",
   "execution_count": 50,
   "id": "a3684d05",
   "metadata": {},
   "outputs": [
    {
     "data": {
      "text/html": [
       "<div>\n",
       "<style scoped>\n",
       "    .dataframe tbody tr th:only-of-type {\n",
       "        vertical-align: middle;\n",
       "    }\n",
       "\n",
       "    .dataframe tbody tr th {\n",
       "        vertical-align: top;\n",
       "    }\n",
       "\n",
       "    .dataframe thead tr th {\n",
       "        text-align: left;\n",
       "    }\n",
       "\n",
       "    .dataframe thead tr:last-of-type th {\n",
       "        text-align: right;\n",
       "    }\n",
       "</style>\n",
       "<table border=\"1\" class=\"dataframe\">\n",
       "  <thead>\n",
       "    <tr>\n",
       "      <th></th>\n",
       "      <th colspan=\"4\" halign=\"left\">MRR</th>\n",
       "      <th colspan=\"4\" halign=\"left\">MAP@10</th>\n",
       "      <th colspan=\"4\" halign=\"left\">Recall@10</th>\n",
       "    </tr>\n",
       "    <tr>\n",
       "      <th></th>\n",
       "      <th>mean</th>\n",
       "      <th>std</th>\n",
       "      <th>min</th>\n",
       "      <th>max</th>\n",
       "      <th>mean</th>\n",
       "      <th>std</th>\n",
       "      <th>min</th>\n",
       "      <th>max</th>\n",
       "      <th>mean</th>\n",
       "      <th>std</th>\n",
       "      <th>min</th>\n",
       "      <th>max</th>\n",
       "    </tr>\n",
       "    <tr>\n",
       "      <th>K</th>\n",
       "      <th></th>\n",
       "      <th></th>\n",
       "      <th></th>\n",
       "      <th></th>\n",
       "      <th></th>\n",
       "      <th></th>\n",
       "      <th></th>\n",
       "      <th></th>\n",
       "      <th></th>\n",
       "      <th></th>\n",
       "      <th></th>\n",
       "      <th></th>\n",
       "    </tr>\n",
       "  </thead>\n",
       "  <tbody>\n",
       "    <tr>\n",
       "      <th>5.0</th>\n",
       "      <td>0.094516</td>\n",
       "      <td>0.001855</td>\n",
       "      <td>0.091790</td>\n",
       "      <td>0.097707</td>\n",
       "      <td>0.071559</td>\n",
       "      <td>0.002061</td>\n",
       "      <td>0.069280</td>\n",
       "      <td>0.075275</td>\n",
       "      <td>0.146184</td>\n",
       "      <td>0.004119</td>\n",
       "      <td>0.139112</td>\n",
       "      <td>0.151107</td>\n",
       "    </tr>\n",
       "    <tr>\n",
       "      <th>6.0</th>\n",
       "      <td>0.097250</td>\n",
       "      <td>0.002061</td>\n",
       "      <td>0.094652</td>\n",
       "      <td>0.101053</td>\n",
       "      <td>0.073877</td>\n",
       "      <td>0.002223</td>\n",
       "      <td>0.072082</td>\n",
       "      <td>0.078103</td>\n",
       "      <td>0.156057</td>\n",
       "      <td>0.003556</td>\n",
       "      <td>0.152710</td>\n",
       "      <td>0.162824</td>\n",
       "    </tr>\n",
       "    <tr>\n",
       "      <th>7.0</th>\n",
       "      <td>0.097961</td>\n",
       "      <td>0.001940</td>\n",
       "      <td>0.095301</td>\n",
       "      <td>0.101380</td>\n",
       "      <td>0.074606</td>\n",
       "      <td>0.002114</td>\n",
       "      <td>0.072916</td>\n",
       "      <td>0.078502</td>\n",
       "      <td>0.161214</td>\n",
       "      <td>0.003591</td>\n",
       "      <td>0.157844</td>\n",
       "      <td>0.168146</td>\n",
       "    </tr>\n",
       "    <tr>\n",
       "      <th>8.0</th>\n",
       "      <td>0.098972</td>\n",
       "      <td>0.001991</td>\n",
       "      <td>0.096289</td>\n",
       "      <td>0.102344</td>\n",
       "      <td>0.075422</td>\n",
       "      <td>0.002201</td>\n",
       "      <td>0.073382</td>\n",
       "      <td>0.079441</td>\n",
       "      <td>0.165210</td>\n",
       "      <td>0.004115</td>\n",
       "      <td>0.161358</td>\n",
       "      <td>0.172965</td>\n",
       "    </tr>\n",
       "    <tr>\n",
       "      <th>9.0</th>\n",
       "      <td>0.099847</td>\n",
       "      <td>0.002141</td>\n",
       "      <td>0.096877</td>\n",
       "      <td>0.103571</td>\n",
       "      <td>0.076168</td>\n",
       "      <td>0.002230</td>\n",
       "      <td>0.074105</td>\n",
       "      <td>0.080319</td>\n",
       "      <td>0.168605</td>\n",
       "      <td>0.003761</td>\n",
       "      <td>0.165211</td>\n",
       "      <td>0.175761</td>\n",
       "    </tr>\n",
       "    <tr>\n",
       "      <th>10.0</th>\n",
       "      <td>0.100490</td>\n",
       "      <td>0.002211</td>\n",
       "      <td>0.097414</td>\n",
       "      <td>0.104374</td>\n",
       "      <td>0.076754</td>\n",
       "      <td>0.002271</td>\n",
       "      <td>0.074749</td>\n",
       "      <td>0.080986</td>\n",
       "      <td>0.171499</td>\n",
       "      <td>0.003451</td>\n",
       "      <td>0.167739</td>\n",
       "      <td>0.177860</td>\n",
       "    </tr>\n",
       "    <tr>\n",
       "      <th>11.0</th>\n",
       "      <td>0.101090</td>\n",
       "      <td>0.002098</td>\n",
       "      <td>0.098463</td>\n",
       "      <td>0.104842</td>\n",
       "      <td>0.077293</td>\n",
       "      <td>0.002249</td>\n",
       "      <td>0.075571</td>\n",
       "      <td>0.081508</td>\n",
       "      <td>0.173866</td>\n",
       "      <td>0.003786</td>\n",
       "      <td>0.170561</td>\n",
       "      <td>0.180873</td>\n",
       "    </tr>\n",
       "    <tr>\n",
       "      <th>12.0</th>\n",
       "      <td>0.101280</td>\n",
       "      <td>0.001952</td>\n",
       "      <td>0.099208</td>\n",
       "      <td>0.105205</td>\n",
       "      <td>0.077462</td>\n",
       "      <td>0.002221</td>\n",
       "      <td>0.075494</td>\n",
       "      <td>0.081784</td>\n",
       "      <td>0.174031</td>\n",
       "      <td>0.003778</td>\n",
       "      <td>0.170533</td>\n",
       "      <td>0.181214</td>\n",
       "    </tr>\n",
       "    <tr>\n",
       "      <th>13.0</th>\n",
       "      <td>0.101420</td>\n",
       "      <td>0.001863</td>\n",
       "      <td>0.099353</td>\n",
       "      <td>0.104833</td>\n",
       "      <td>0.077600</td>\n",
       "      <td>0.002180</td>\n",
       "      <td>0.075423</td>\n",
       "      <td>0.081520</td>\n",
       "      <td>0.174429</td>\n",
       "      <td>0.004148</td>\n",
       "      <td>0.170062</td>\n",
       "      <td>0.181843</td>\n",
       "    </tr>\n",
       "    <tr>\n",
       "      <th>14.0</th>\n",
       "      <td>0.101594</td>\n",
       "      <td>0.001874</td>\n",
       "      <td>0.099506</td>\n",
       "      <td>0.105072</td>\n",
       "      <td>0.077741</td>\n",
       "      <td>0.002195</td>\n",
       "      <td>0.075582</td>\n",
       "      <td>0.081715</td>\n",
       "      <td>0.174122</td>\n",
       "      <td>0.003935</td>\n",
       "      <td>0.170107</td>\n",
       "      <td>0.181206</td>\n",
       "    </tr>\n",
       "    <tr>\n",
       "      <th>15.0</th>\n",
       "      <td>0.101693</td>\n",
       "      <td>0.001892</td>\n",
       "      <td>0.099768</td>\n",
       "      <td>0.105265</td>\n",
       "      <td>0.077820</td>\n",
       "      <td>0.002189</td>\n",
       "      <td>0.075630</td>\n",
       "      <td>0.081774</td>\n",
       "      <td>0.174186</td>\n",
       "      <td>0.004016</td>\n",
       "      <td>0.170022</td>\n",
       "      <td>0.181442</td>\n",
       "    </tr>\n",
       "    <tr>\n",
       "      <th>16.0</th>\n",
       "      <td>0.101763</td>\n",
       "      <td>0.001996</td>\n",
       "      <td>0.099721</td>\n",
       "      <td>0.105511</td>\n",
       "      <td>0.077863</td>\n",
       "      <td>0.002283</td>\n",
       "      <td>0.075424</td>\n",
       "      <td>0.081995</td>\n",
       "      <td>0.174097</td>\n",
       "      <td>0.004203</td>\n",
       "      <td>0.169318</td>\n",
       "      <td>0.181384</td>\n",
       "    </tr>\n",
       "    <tr>\n",
       "      <th>17.0</th>\n",
       "      <td>0.101672</td>\n",
       "      <td>0.001958</td>\n",
       "      <td>0.099718</td>\n",
       "      <td>0.105379</td>\n",
       "      <td>0.077808</td>\n",
       "      <td>0.002257</td>\n",
       "      <td>0.075458</td>\n",
       "      <td>0.081905</td>\n",
       "      <td>0.173836</td>\n",
       "      <td>0.004106</td>\n",
       "      <td>0.169454</td>\n",
       "      <td>0.180976</td>\n",
       "    </tr>\n",
       "    <tr>\n",
       "      <th>18.0</th>\n",
       "      <td>0.101645</td>\n",
       "      <td>0.001925</td>\n",
       "      <td>0.099611</td>\n",
       "      <td>0.105273</td>\n",
       "      <td>0.077772</td>\n",
       "      <td>0.002252</td>\n",
       "      <td>0.075380</td>\n",
       "      <td>0.081807</td>\n",
       "      <td>0.173529</td>\n",
       "      <td>0.003952</td>\n",
       "      <td>0.169108</td>\n",
       "      <td>0.180458</td>\n",
       "    </tr>\n",
       "    <tr>\n",
       "      <th>19.0</th>\n",
       "      <td>0.101703</td>\n",
       "      <td>0.001876</td>\n",
       "      <td>0.099461</td>\n",
       "      <td>0.105111</td>\n",
       "      <td>0.077819</td>\n",
       "      <td>0.002188</td>\n",
       "      <td>0.075574</td>\n",
       "      <td>0.081745</td>\n",
       "      <td>0.173470</td>\n",
       "      <td>0.003710</td>\n",
       "      <td>0.169530</td>\n",
       "      <td>0.179924</td>\n",
       "    </tr>\n",
       "    <tr>\n",
       "      <th>20.0</th>\n",
       "      <td>0.101720</td>\n",
       "      <td>0.001828</td>\n",
       "      <td>0.099638</td>\n",
       "      <td>0.105090</td>\n",
       "      <td>0.077825</td>\n",
       "      <td>0.002164</td>\n",
       "      <td>0.075633</td>\n",
       "      <td>0.081734</td>\n",
       "      <td>0.173466</td>\n",
       "      <td>0.003826</td>\n",
       "      <td>0.169423</td>\n",
       "      <td>0.179871</td>\n",
       "    </tr>\n",
       "    <tr>\n",
       "      <th>21.0</th>\n",
       "      <td>0.101858</td>\n",
       "      <td>0.001914</td>\n",
       "      <td>0.099614</td>\n",
       "      <td>0.105439</td>\n",
       "      <td>0.077922</td>\n",
       "      <td>0.002196</td>\n",
       "      <td>0.075889</td>\n",
       "      <td>0.081980</td>\n",
       "      <td>0.173465</td>\n",
       "      <td>0.003732</td>\n",
       "      <td>0.169436</td>\n",
       "      <td>0.179836</td>\n",
       "    </tr>\n",
       "    <tr>\n",
       "      <th>22.0</th>\n",
       "      <td>0.101823</td>\n",
       "      <td>0.001866</td>\n",
       "      <td>0.099835</td>\n",
       "      <td>0.105310</td>\n",
       "      <td>0.077900</td>\n",
       "      <td>0.002173</td>\n",
       "      <td>0.075735</td>\n",
       "      <td>0.081823</td>\n",
       "      <td>0.173339</td>\n",
       "      <td>0.003679</td>\n",
       "      <td>0.169604</td>\n",
       "      <td>0.179669</td>\n",
       "    </tr>\n",
       "    <tr>\n",
       "      <th>23.0</th>\n",
       "      <td>0.101942</td>\n",
       "      <td>0.001883</td>\n",
       "      <td>0.099932</td>\n",
       "      <td>0.105501</td>\n",
       "      <td>0.077999</td>\n",
       "      <td>0.002195</td>\n",
       "      <td>0.075709</td>\n",
       "      <td>0.081956</td>\n",
       "      <td>0.173545</td>\n",
       "      <td>0.003804</td>\n",
       "      <td>0.169790</td>\n",
       "      <td>0.180113</td>\n",
       "    </tr>\n",
       "    <tr>\n",
       "      <th>24.0</th>\n",
       "      <td>0.102074</td>\n",
       "      <td>0.001859</td>\n",
       "      <td>0.100142</td>\n",
       "      <td>0.105681</td>\n",
       "      <td>0.078115</td>\n",
       "      <td>0.002197</td>\n",
       "      <td>0.075991</td>\n",
       "      <td>0.082159</td>\n",
       "      <td>0.174010</td>\n",
       "      <td>0.003809</td>\n",
       "      <td>0.170342</td>\n",
       "      <td>0.180926</td>\n",
       "    </tr>\n",
       "  </tbody>\n",
       "</table>\n",
       "</div>"
      ],
      "text/plain": [
       "           MRR                                  MAP@10                      \\\n",
       "          mean       std       min       max      mean       std       min   \n",
       "K                                                                            \n",
       "5.0   0.094516  0.001855  0.091790  0.097707  0.071559  0.002061  0.069280   \n",
       "6.0   0.097250  0.002061  0.094652  0.101053  0.073877  0.002223  0.072082   \n",
       "7.0   0.097961  0.001940  0.095301  0.101380  0.074606  0.002114  0.072916   \n",
       "8.0   0.098972  0.001991  0.096289  0.102344  0.075422  0.002201  0.073382   \n",
       "9.0   0.099847  0.002141  0.096877  0.103571  0.076168  0.002230  0.074105   \n",
       "10.0  0.100490  0.002211  0.097414  0.104374  0.076754  0.002271  0.074749   \n",
       "11.0  0.101090  0.002098  0.098463  0.104842  0.077293  0.002249  0.075571   \n",
       "12.0  0.101280  0.001952  0.099208  0.105205  0.077462  0.002221  0.075494   \n",
       "13.0  0.101420  0.001863  0.099353  0.104833  0.077600  0.002180  0.075423   \n",
       "14.0  0.101594  0.001874  0.099506  0.105072  0.077741  0.002195  0.075582   \n",
       "15.0  0.101693  0.001892  0.099768  0.105265  0.077820  0.002189  0.075630   \n",
       "16.0  0.101763  0.001996  0.099721  0.105511  0.077863  0.002283  0.075424   \n",
       "17.0  0.101672  0.001958  0.099718  0.105379  0.077808  0.002257  0.075458   \n",
       "18.0  0.101645  0.001925  0.099611  0.105273  0.077772  0.002252  0.075380   \n",
       "19.0  0.101703  0.001876  0.099461  0.105111  0.077819  0.002188  0.075574   \n",
       "20.0  0.101720  0.001828  0.099638  0.105090  0.077825  0.002164  0.075633   \n",
       "21.0  0.101858  0.001914  0.099614  0.105439  0.077922  0.002196  0.075889   \n",
       "22.0  0.101823  0.001866  0.099835  0.105310  0.077900  0.002173  0.075735   \n",
       "23.0  0.101942  0.001883  0.099932  0.105501  0.077999  0.002195  0.075709   \n",
       "24.0  0.102074  0.001859  0.100142  0.105681  0.078115  0.002197  0.075991   \n",
       "\n",
       "               Recall@10                                \n",
       "           max      mean       std       min       max  \n",
       "K                                                       \n",
       "5.0   0.075275  0.146184  0.004119  0.139112  0.151107  \n",
       "6.0   0.078103  0.156057  0.003556  0.152710  0.162824  \n",
       "7.0   0.078502  0.161214  0.003591  0.157844  0.168146  \n",
       "8.0   0.079441  0.165210  0.004115  0.161358  0.172965  \n",
       "9.0   0.080319  0.168605  0.003761  0.165211  0.175761  \n",
       "10.0  0.080986  0.171499  0.003451  0.167739  0.177860  \n",
       "11.0  0.081508  0.173866  0.003786  0.170561  0.180873  \n",
       "12.0  0.081784  0.174031  0.003778  0.170533  0.181214  \n",
       "13.0  0.081520  0.174429  0.004148  0.170062  0.181843  \n",
       "14.0  0.081715  0.174122  0.003935  0.170107  0.181206  \n",
       "15.0  0.081774  0.174186  0.004016  0.170022  0.181442  \n",
       "16.0  0.081995  0.174097  0.004203  0.169318  0.181384  \n",
       "17.0  0.081905  0.173836  0.004106  0.169454  0.180976  \n",
       "18.0  0.081807  0.173529  0.003952  0.169108  0.180458  \n",
       "19.0  0.081745  0.173470  0.003710  0.169530  0.179924  \n",
       "20.0  0.081734  0.173466  0.003826  0.169423  0.179871  \n",
       "21.0  0.081980  0.173465  0.003732  0.169436  0.179836  \n",
       "22.0  0.081823  0.173339  0.003679  0.169604  0.179669  \n",
       "23.0  0.081956  0.173545  0.003804  0.169790  0.180113  \n",
       "24.0  0.082159  0.174010  0.003809  0.170342  0.180926  "
      ]
     },
     "execution_count": 50,
     "metadata": {},
     "output_type": "execute_result"
    }
   ],
   "source": [
    "val_results_tfidf.groupby(['K']).agg({\n",
    "    'MRR': ['mean', 'std', 'min', 'max'],\n",
    "    'MAP@10': ['mean', 'std', 'min', 'max'],\n",
    "    'Recall@10': ['mean', 'std', 'min', 'max'],\n",
    "})"
   ]
  },
  {
   "cell_type": "markdown",
   "id": "6be150a7",
   "metadata": {},
   "source": [
    "[Возврат к содержанию](#content)"
   ]
  },
  {
   "cell_type": "markdown",
   "id": "8183e4fa",
   "metadata": {},
   "source": [
    "<a id=\"cold_start\"></a>\n",
    "## CosineRecommender, BM25Recommender и TFIDFRecommender с учетом холодного старта"
   ]
  },
  {
   "cell_type": "markdown",
   "id": "872dd1d3",
   "metadata": {},
   "source": [
    "Новым пользователям будем рекомендовать популярные фильмы"
   ]
  },
  {
   "cell_type": "code",
   "execution_count": 64,
   "id": "38ddedb6",
   "metadata": {},
   "outputs": [],
   "source": [
    "from implicit.nearest_neighbours import CosineRecommender, BM25Recommender, TFIDFRecommender"
   ]
  },
  {
   "cell_type": "code",
   "execution_count": 65,
   "id": "d3e8e01d",
   "metadata": {},
   "outputs": [],
   "source": [
    "#Рекомендация популярного по возрасту и полу\n",
    "def popular_recommend_agesex(train, predict_column: str = 'all_features'):\n",
    "    rec_dict = {}\n",
    "    for value in (list(train.all_features.unique())):\n",
    "            baseline_model_all_features = PopularRecommender(days=7, dt_column='last_watch_dt')\n",
    "            baseline_model_all_features.fit(train[train[predict_column] == value])\n",
    "            top10_recs_all_features = baseline_model_all_features.recommend().astype(int)\n",
    "            rec_dict[value] = top10_recs_all_features\n",
    "    recomendations_age_sex = pd.DataFrame({'age_sex' : rec_dict.keys(), \n",
    "                                           'item_id': rec_dict.values()})\n",
    "    return recomendations_age_sex"
   ]
  },
  {
   "cell_type": "code",
   "execution_count": 66,
   "id": "33ea15c6",
   "metadata": {},
   "outputs": [],
   "source": [
    "#Рекомендация популярного по возрасту и полу\n",
    "def rec_cold_users(test_cold, rec_table_merge):\n",
    "    test_cold = pd.DataFrame({'user_id': test_cold['user_id'].unique()})\n",
    "    test_cold = test_cold.merge(users_df,left_on = 'user_id',right_on = 'user_id', how = 'left')\n",
    "    test_cold['all_features'] = test_cold['age'] + test_cold['sex']\n",
    "    test_cold = test_cold.drop(['age','sex', 'income', 'kids_flg'], 1)\n",
    "    test_cold.all_features = test_cold.all_features.fillna('age_unknownsex_unknown')\n",
    "    test_cold = test_cold.merge(rec_table_merge,left_on = 'all_features',right_on = 'age_sex')\n",
    "    test_cold = test_cold.drop('all_features',1)\n",
    "    test_cold = test_cold.explode('item_id')\n",
    "    test_cold['rank'] = test_cold.groupby('user_id').cumcount() + 1\n",
    "    test_cold = test_cold.groupby('user_id').agg({'item_id': list}).reset_index()\n",
    "    return test_cold"
   ]
  },
  {
   "cell_type": "code",
   "execution_count": 67,
   "id": "b2892a41",
   "metadata": {},
   "outputs": [],
   "source": [
    "#функция, которая делит список юзеров на новых и старых\n",
    "def new_user_split(predict_data, \n",
    "                   event_data,\n",
    "                   data_column_name: str = 'user_id',\n",
    "                   event_data_column_name: str = 'user_id'\n",
    "                  ):\n",
    "    '''\n",
    "    predict_data - список юзеров для предсказания\n",
    "    event_data - данные о взаимодействиях юзеров с фильмами\n",
    "    Функция возвращает два DataFrame:\n",
    "    1 - список юзеров, которые встречались нам ранее\n",
    "    2 - список новых юзеров, про которых ничего неизвестно\n",
    "    '''\n",
    "    current_users = predict_data[data_column_name].copy()\n",
    "    current_users = pd.DataFrame(list(set(current_users) & set(event_data[event_data_column_name])), columns = [data_column_name])\n",
    "    new_users = predict_data[data_column_name].copy()\n",
    "    new_users = pd.DataFrame(list(set(new_users) - set(event_data[event_data_column_name])), columns = [data_column_name])\n",
    "    return current_users, new_users"
   ]
  },
  {
   "cell_type": "markdown",
   "id": "453a2f1d",
   "metadata": {},
   "source": [
    "### CosineRecommender"
   ]
  },
  {
   "cell_type": "code",
   "execution_count": 115,
   "id": "03a84413",
   "metadata": {},
   "outputs": [
    {
     "name": "stderr",
     "output_type": "stream",
     "text": [
      "C:\\Users\\pogorelskiy\\AppData\\Roaming\\Python\\Python36\\site-packages\\implicit\\nearest_neighbours.py:184: RuntimeWarning: invalid value encountered in true_divide\n",
      "  X.data = X.data / sqrt(bincount(X.row, X.data ** 2))[X.row]\n"
     ]
    },
    {
     "data": {
      "application/vnd.jupyter.widget-view+json": {
       "model_id": "a28f0bce50e14aef9b81c1ea54dcd8fc",
       "version_major": 2,
       "version_minor": 0
      },
      "text/plain": [
       "HBox(children=(FloatProgress(value=0.0, max=15706.0), HTML(value='')))"
      ]
     },
     "metadata": {},
     "output_type": "display_data"
    },
    {
     "name": "stdout",
     "output_type": "stream",
     "text": [
      "\n",
      "Метрики по test за период : 2021-08-16 - 2021-08-17\n",
      "MAP@10 = 0.0956383766707315\n",
      "MRR = 0.11524195720679177\n",
      "MAP@10 = 0.0956383766707315\n",
      "MRR = 0.11524195720679177\n"
     ]
    },
    {
     "name": "stderr",
     "output_type": "stream",
     "text": [
      "C:\\Users\\pogorelskiy\\AppData\\Roaming\\Python\\Python36\\site-packages\\implicit\\nearest_neighbours.py:184: RuntimeWarning: invalid value encountered in true_divide\n",
      "  X.data = X.data / sqrt(bincount(X.row, X.data ** 2))[X.row]\n"
     ]
    },
    {
     "data": {
      "application/vnd.jupyter.widget-view+json": {
       "model_id": "b2337d569b8a47549e1450b46de2db28",
       "version_major": 2,
       "version_minor": 0
      },
      "text/plain": [
       "HBox(children=(FloatProgress(value=0.0, max=15706.0), HTML(value='')))"
      ]
     },
     "metadata": {},
     "output_type": "display_data"
    },
    {
     "name": "stdout",
     "output_type": "stream",
     "text": [
      "\n",
      "Метрики по test за период : 2021-08-17 - 2021-08-18\n",
      "MAP@10 = 0.09073518162006836\n",
      "MRR = 0.11136113081422655\n",
      "MAP@10 = 0.09073518162006836\n",
      "MRR = 0.11136113081422655\n"
     ]
    },
    {
     "name": "stderr",
     "output_type": "stream",
     "text": [
      "C:\\Users\\pogorelskiy\\AppData\\Roaming\\Python\\Python36\\site-packages\\implicit\\nearest_neighbours.py:184: RuntimeWarning: invalid value encountered in true_divide\n",
      "  X.data = X.data / sqrt(bincount(X.row, X.data ** 2))[X.row]\n"
     ]
    },
    {
     "data": {
      "application/vnd.jupyter.widget-view+json": {
       "model_id": "b4c2ac4c34ac43649bb77fc9b59b5aec",
       "version_major": 2,
       "version_minor": 0
      },
      "text/plain": [
       "HBox(children=(FloatProgress(value=0.0, max=15706.0), HTML(value='')))"
      ]
     },
     "metadata": {},
     "output_type": "display_data"
    },
    {
     "name": "stdout",
     "output_type": "stream",
     "text": [
      "\n",
      "Метрики по test за период : 2021-08-18 - 2021-08-19\n",
      "MAP@10 = 0.08904031559397516\n",
      "MRR = 0.11020394935053109\n",
      "MAP@10 = 0.08904031559397516\n",
      "MRR = 0.11020394935053109\n"
     ]
    },
    {
     "name": "stderr",
     "output_type": "stream",
     "text": [
      "C:\\Users\\pogorelskiy\\AppData\\Roaming\\Python\\Python36\\site-packages\\implicit\\nearest_neighbours.py:184: RuntimeWarning: invalid value encountered in true_divide\n",
      "  X.data = X.data / sqrt(bincount(X.row, X.data ** 2))[X.row]\n"
     ]
    },
    {
     "data": {
      "application/vnd.jupyter.widget-view+json": {
       "model_id": "535257602f5c44cfaae70f8683bebf97",
       "version_major": 2,
       "version_minor": 0
      },
      "text/plain": [
       "HBox(children=(FloatProgress(value=0.0, max=15706.0), HTML(value='')))"
      ]
     },
     "metadata": {},
     "output_type": "display_data"
    },
    {
     "name": "stdout",
     "output_type": "stream",
     "text": [
      "\n",
      "Метрики по test за период : 2021-08-19 - 2021-08-20\n",
      "MAP@10 = 0.08828992730194746\n",
      "MRR = 0.10915832799448393\n",
      "MAP@10 = 0.08828992730194746\n",
      "MRR = 0.10915832799448393\n"
     ]
    },
    {
     "name": "stderr",
     "output_type": "stream",
     "text": [
      "C:\\Users\\pogorelskiy\\AppData\\Roaming\\Python\\Python36\\site-packages\\implicit\\nearest_neighbours.py:184: RuntimeWarning: invalid value encountered in true_divide\n",
      "  X.data = X.data / sqrt(bincount(X.row, X.data ** 2))[X.row]\n"
     ]
    },
    {
     "data": {
      "application/vnd.jupyter.widget-view+json": {
       "model_id": "13cbf6b115d746f6bd9ae8cd275fe613",
       "version_major": 2,
       "version_minor": 0
      },
      "text/plain": [
       "HBox(children=(FloatProgress(value=0.0, max=15706.0), HTML(value='')))"
      ]
     },
     "metadata": {},
     "output_type": "display_data"
    },
    {
     "name": "stdout",
     "output_type": "stream",
     "text": [
      "\n",
      "Метрики по test за период : 2021-08-20 - 2021-08-21\n",
      "MAP@10 = 0.086571928766487\n",
      "MRR = 0.10657433750291612\n",
      "MAP@10 = 0.086571928766487\n",
      "MRR = 0.10657433750291612\n"
     ]
    },
    {
     "name": "stderr",
     "output_type": "stream",
     "text": [
      "C:\\Users\\pogorelskiy\\AppData\\Roaming\\Python\\Python36\\site-packages\\implicit\\nearest_neighbours.py:184: RuntimeWarning: invalid value encountered in true_divide\n",
      "  X.data = X.data / sqrt(bincount(X.row, X.data ** 2))[X.row]\n"
     ]
    },
    {
     "data": {
      "application/vnd.jupyter.widget-view+json": {
       "model_id": "3adfd000c1374442aeccd345ff096686",
       "version_major": 2,
       "version_minor": 0
      },
      "text/plain": [
       "HBox(children=(FloatProgress(value=0.0, max=15706.0), HTML(value='')))"
      ]
     },
     "metadata": {},
     "output_type": "display_data"
    },
    {
     "name": "stdout",
     "output_type": "stream",
     "text": [
      "\n",
      "Метрики по test за период : 2021-08-21 - 2021-08-22\n",
      "MAP@10 = 0.08563138230159964\n",
      "MRR = 0.107816701072938\n",
      "MAP@10 = 0.08563138230159964\n",
      "MRR = 0.107816701072938\n"
     ]
    }
   ],
   "source": [
    "last_days_num = 7\n",
    "top_N = 10\n",
    "map_list = list()\n",
    "mrr_list = list()\n",
    "predicted_rec_dict = {}\n",
    "for i in range(0, last_days_num-1):\n",
    "    train_cosine, test_cosine = train_test_split_dates(merge_table, \n",
    "                                                       'last_watch_dt',\n",
    "                                                       last_days_num = last_days_num,\n",
    "                                                       pair_num = i)\n",
    "    test_cosine_old, test_cosine_cold = new_user_split(predict_data = test_cosine, event_data= train_cosine)\n",
    "    cold_recomendations = popular_recommend_agesex(train_cosine, predict_column = 'all_features')\n",
    "    test_cosine_cold = rec_cold_users(test_cosine_cold, cold_recomendations)\n",
    "    train_mat = get_coo_matrix(train_cosine, weight_col = 'watched_pct').tocsr()\n",
    "    cosine_model = CosineRecommender(K=10)\n",
    "    cosine_model.fit(train_mat.T)\n",
    "    mapper_cosine = generate_implicit_recs_mapper(cosine_model, train_mat, top_N, users_mapping, items_inv_mapping)\n",
    "    cosine_rec_not_cold = pd.DataFrame({'user_id': test_cosine_old['user_id'].unique()})\n",
    "    cosine_rec_not_cold['item_id'] = cosine_rec_not_cold['user_id'].map(mapper_cosine)\n",
    "    cosine_recommend = pd.concat([cosine_rec_not_cold, test_cosine_cold], ignore_index=True)\n",
    "    cosine_rank_table = create_rank_table(cosine_recommend, test_cosine, 'user_id', 'item_id')\n",
    "    _, map_10, mrr = count_metrics(test_dates, cosine_rank_table, i)\n",
    "    map_list.append(map_10)\n",
    "    mrr_list.append(mrr)\n",
    "    print(f\"MAP@{top_N} = {map_10}\")\n",
    "    print(f\"MRR = {mrr}\")\n",
    "    \n",
    "    "
   ]
  },
  {
   "cell_type": "code",
   "execution_count": 116,
   "id": "746ece0d",
   "metadata": {},
   "outputs": [
    {
     "name": "stdout",
     "output_type": "stream",
     "text": [
      "Средняя MAP@10 за 7 дней = 0.08931785204246818\n",
      "Средняя MRR за 7 дней = 0.11005940065698123\n"
     ]
    }
   ],
   "source": [
    "print(f\"Средняя MAP@{top_N} за {last_days_num} дней = {np.mean(map_list)}\")\n",
    "print(f\"Средняя MRR за {last_days_num} дней = {np.mean(mrr_list)}\")"
   ]
  },
  {
   "cell_type": "code",
   "execution_count": 71,
   "id": "2c87a8b9",
   "metadata": {},
   "outputs": [
    {
     "data": {
      "application/vnd.jupyter.widget-view+json": {
       "model_id": "3a2851a16e974029b83464eba19ed136",
       "version_major": 2,
       "version_minor": 0
      },
      "text/plain": [
       "HBox(children=(HTML(value=''), FloatProgress(value=0.0, max=15706.0), HTML(value='')))"
      ]
     },
     "metadata": {},
     "output_type": "display_data"
    },
    {
     "name": "stdout",
     "output_type": "stream",
     "text": [
      "\n",
      "Метрики по test за период : 2021-08-16 - 2021-08-17\n",
      "MAP@10 = 0.11143112452775086\n",
      "MRR = 0.13548757470684072\n"
     ]
    },
    {
     "data": {
      "application/vnd.jupyter.widget-view+json": {
       "model_id": "8329139213894771b2e851814926968a",
       "version_major": 2,
       "version_minor": 0
      },
      "text/plain": [
       "HBox(children=(HTML(value=''), FloatProgress(value=0.0, max=15706.0), HTML(value='')))"
      ]
     },
     "metadata": {},
     "output_type": "display_data"
    },
    {
     "name": "stdout",
     "output_type": "stream",
     "text": [
      "\n",
      "Метрики по test за период : 2021-08-17 - 2021-08-18\n",
      "MAP@10 = 0.10548299025570174\n",
      "MRR = 0.12997756642981023\n"
     ]
    },
    {
     "data": {
      "application/vnd.jupyter.widget-view+json": {
       "model_id": "73eb0c2e372c4f699615765a0f8059f8",
       "version_major": 2,
       "version_minor": 0
      },
      "text/plain": [
       "HBox(children=(HTML(value=''), FloatProgress(value=0.0, max=15706.0), HTML(value='')))"
      ]
     },
     "metadata": {},
     "output_type": "display_data"
    },
    {
     "name": "stdout",
     "output_type": "stream",
     "text": [
      "\n",
      "Метрики по test за период : 2021-08-18 - 2021-08-19\n",
      "MAP@10 = 0.10477584463707648\n",
      "MRR = 0.12968613291669037\n"
     ]
    },
    {
     "data": {
      "application/vnd.jupyter.widget-view+json": {
       "model_id": "76d6d9f695f9481e96e55dd24433cbbd",
       "version_major": 2,
       "version_minor": 0
      },
      "text/plain": [
       "HBox(children=(HTML(value=''), FloatProgress(value=0.0, max=15706.0), HTML(value='')))"
      ]
     },
     "metadata": {},
     "output_type": "display_data"
    },
    {
     "name": "stdout",
     "output_type": "stream",
     "text": [
      "\n",
      "Метрики по test за период : 2021-08-19 - 2021-08-20\n",
      "MAP@10 = 0.10271673309229337\n",
      "MRR = 0.12731758634934714\n"
     ]
    },
    {
     "data": {
      "application/vnd.jupyter.widget-view+json": {
       "model_id": "0eb6f11e43a942fa9a1e11edf3e47e5f",
       "version_major": 2,
       "version_minor": 0
      },
      "text/plain": [
       "HBox(children=(HTML(value=''), FloatProgress(value=0.0, max=15706.0), HTML(value='')))"
      ]
     },
     "metadata": {},
     "output_type": "display_data"
    },
    {
     "name": "stdout",
     "output_type": "stream",
     "text": [
      "\n",
      "Метрики по test за период : 2021-08-20 - 2021-08-21\n",
      "MAP@10 = 0.10243195498985797\n",
      "MRR = 0.12654613686366095\n"
     ]
    },
    {
     "data": {
      "application/vnd.jupyter.widget-view+json": {
       "model_id": "0cc10c24e7234e3589b628ac2c338a4d",
       "version_major": 2,
       "version_minor": 0
      },
      "text/plain": [
       "HBox(children=(HTML(value=''), FloatProgress(value=0.0, max=15706.0), HTML(value='')))"
      ]
     },
     "metadata": {},
     "output_type": "display_data"
    },
    {
     "name": "stdout",
     "output_type": "stream",
     "text": [
      "\n",
      "Метрики по test за период : 2021-08-21 - 2021-08-22\n",
      "MAP@10 = 0.10150699277439333\n",
      "MRR = 0.12809434430105282\n"
     ]
    }
   ],
   "source": [
    "last_days_num = 7\n",
    "top_N = 10\n",
    "map_list = list()\n",
    "mrr_list = list()\n",
    "predicted_rec_dict = {}\n",
    "for i in range(0, last_days_num-1):\n",
    "    train_cosine, test_cosine = train_test_split_dates(merge_table, \n",
    "                                                       'last_watch_dt',\n",
    "                                                       last_days_num = last_days_num,\n",
    "                                                       pair_num = i)\n",
    "    test_cosine_old, test_cosine_cold = new_user_split(predict_data = test_cosine, event_data= train_cosine)\n",
    "    cold_recomendations = popular_recommend_agesex(train_cosine, predict_column = 'all_features')\n",
    "    test_cosine_cold = rec_cold_users(test_cosine_cold, cold_recomendations)\n",
    "    train_mat_cos = get_coo_matrix(train_cosine).tocsr()\n",
    "    cosine_model = CosineRecommender(K=15)\n",
    "    cosine_model.fit(train_mat_cos.T)\n",
    "    mapper_cosine = generate_implicit_recs_mapper(cosine_model, train_mat_cos, top_N, users_mapping, items_inv_mapping)\n",
    "    cosine_rec_not_cold = pd.DataFrame({'user_id': test_cosine_old['user_id'].unique()})\n",
    "    cosine_rec_not_cold['item_id'] = cosine_rec_not_cold['user_id'].map(mapper_cosine)\n",
    "    cosine_recommend = pd.concat([cosine_rec_not_cold, test_cosine_cold], ignore_index=True)\n",
    "    cosine_rank_table = create_rank_table(cosine_recommend, test_cosine, 'user_id', 'item_id')\n",
    "    _, map_10, mrr = count_metrics(test_dates, cosine_rank_table, i)\n",
    "    map_list.append(map_10)\n",
    "    mrr_list.append(mrr)"
   ]
  },
  {
   "cell_type": "code",
   "execution_count": 72,
   "id": "f90bdbb5",
   "metadata": {},
   "outputs": [
    {
     "name": "stdout",
     "output_type": "stream",
     "text": [
      "Средняя MAP@10 за 7 дней = 0.1047242733795123\n",
      "Средняя MRR за 7 дней = 0.12951822359456705\n"
     ]
    }
   ],
   "source": [
    "print(f\"Средняя MAP@{top_N} за {last_days_num} дней = {np.mean(map_list)}\")\n",
    "print(f\"Средняя MRR за {last_days_num} дней = {np.mean(mrr_list)}\")"
   ]
  },
  {
   "cell_type": "markdown",
   "id": "11b53e86",
   "metadata": {},
   "source": [
    "### TFIDFRecommender"
   ]
  },
  {
   "cell_type": "code",
   "execution_count": 117,
   "id": "114621b4",
   "metadata": {},
   "outputs": [
    {
     "name": "stderr",
     "output_type": "stream",
     "text": [
      "C:\\Users\\pogorelskiy\\AppData\\Roaming\\Python\\Python36\\site-packages\\implicit\\nearest_neighbours.py:184: RuntimeWarning: invalid value encountered in true_divide\n",
      "  X.data = X.data / sqrt(bincount(X.row, X.data ** 2))[X.row]\n"
     ]
    },
    {
     "data": {
      "application/vnd.jupyter.widget-view+json": {
       "model_id": "e330f3d3249d4e84a29e2fd81a8dff00",
       "version_major": 2,
       "version_minor": 0
      },
      "text/plain": [
       "HBox(children=(FloatProgress(value=0.0, max=15706.0), HTML(value='')))"
      ]
     },
     "metadata": {},
     "output_type": "display_data"
    },
    {
     "name": "stdout",
     "output_type": "stream",
     "text": [
      "\n",
      "Метрики по test за период : 2021-08-16 - 2021-08-17\n",
      "MAP@10 = 0.09994331451332683\n",
      "MRR = 0.12124932369185802\n"
     ]
    },
    {
     "name": "stderr",
     "output_type": "stream",
     "text": [
      "C:\\Users\\pogorelskiy\\AppData\\Roaming\\Python\\Python36\\site-packages\\implicit\\nearest_neighbours.py:184: RuntimeWarning: invalid value encountered in true_divide\n",
      "  X.data = X.data / sqrt(bincount(X.row, X.data ** 2))[X.row]\n"
     ]
    },
    {
     "data": {
      "application/vnd.jupyter.widget-view+json": {
       "model_id": "75ce903db8264a30b1f054812a1455b9",
       "version_major": 2,
       "version_minor": 0
      },
      "text/plain": [
       "HBox(children=(FloatProgress(value=0.0, max=15706.0), HTML(value='')))"
      ]
     },
     "metadata": {},
     "output_type": "display_data"
    },
    {
     "name": "stdout",
     "output_type": "stream",
     "text": [
      "\n",
      "Метрики по test за период : 2021-08-17 - 2021-08-18\n",
      "MAP@10 = 0.09561485425946657\n",
      "MRR = 0.11754111188990947\n"
     ]
    },
    {
     "name": "stderr",
     "output_type": "stream",
     "text": [
      "C:\\Users\\pogorelskiy\\AppData\\Roaming\\Python\\Python36\\site-packages\\implicit\\nearest_neighbours.py:184: RuntimeWarning: invalid value encountered in true_divide\n",
      "  X.data = X.data / sqrt(bincount(X.row, X.data ** 2))[X.row]\n"
     ]
    },
    {
     "data": {
      "application/vnd.jupyter.widget-view+json": {
       "model_id": "2af7ceffad8d43d59214a69850f75874",
       "version_major": 2,
       "version_minor": 0
      },
      "text/plain": [
       "HBox(children=(FloatProgress(value=0.0, max=15706.0), HTML(value='')))"
      ]
     },
     "metadata": {},
     "output_type": "display_data"
    },
    {
     "name": "stdout",
     "output_type": "stream",
     "text": [
      "\n",
      "Метрики по test за период : 2021-08-18 - 2021-08-19\n",
      "MAP@10 = 0.09365576775242976\n",
      "MRR = 0.1165428457601428\n"
     ]
    },
    {
     "name": "stderr",
     "output_type": "stream",
     "text": [
      "C:\\Users\\pogorelskiy\\AppData\\Roaming\\Python\\Python36\\site-packages\\implicit\\nearest_neighbours.py:184: RuntimeWarning: invalid value encountered in true_divide\n",
      "  X.data = X.data / sqrt(bincount(X.row, X.data ** 2))[X.row]\n"
     ]
    },
    {
     "data": {
      "application/vnd.jupyter.widget-view+json": {
       "model_id": "918fb0aaac6c4c749618252cd430004e",
       "version_major": 2,
       "version_minor": 0
      },
      "text/plain": [
       "HBox(children=(FloatProgress(value=0.0, max=15706.0), HTML(value='')))"
      ]
     },
     "metadata": {},
     "output_type": "display_data"
    },
    {
     "name": "stdout",
     "output_type": "stream",
     "text": [
      "\n",
      "Метрики по test за период : 2021-08-19 - 2021-08-20\n",
      "MAP@10 = 0.09228091070223057\n",
      "MRR = 0.11440718408007346\n"
     ]
    },
    {
     "name": "stderr",
     "output_type": "stream",
     "text": [
      "C:\\Users\\pogorelskiy\\AppData\\Roaming\\Python\\Python36\\site-packages\\implicit\\nearest_neighbours.py:184: RuntimeWarning: invalid value encountered in true_divide\n",
      "  X.data = X.data / sqrt(bincount(X.row, X.data ** 2))[X.row]\n"
     ]
    },
    {
     "data": {
      "application/vnd.jupyter.widget-view+json": {
       "model_id": "37d7a222e2b04ecbae25e5bfadc4205b",
       "version_major": 2,
       "version_minor": 0
      },
      "text/plain": [
       "HBox(children=(FloatProgress(value=0.0, max=15706.0), HTML(value='')))"
      ]
     },
     "metadata": {},
     "output_type": "display_data"
    },
    {
     "name": "stdout",
     "output_type": "stream",
     "text": [
      "\n",
      "Метрики по test за период : 2021-08-20 - 2021-08-21\n",
      "MAP@10 = 0.09045038565348254\n",
      "MRR = 0.11164507819710687\n"
     ]
    },
    {
     "name": "stderr",
     "output_type": "stream",
     "text": [
      "C:\\Users\\pogorelskiy\\AppData\\Roaming\\Python\\Python36\\site-packages\\implicit\\nearest_neighbours.py:184: RuntimeWarning: invalid value encountered in true_divide\n",
      "  X.data = X.data / sqrt(bincount(X.row, X.data ** 2))[X.row]\n"
     ]
    },
    {
     "data": {
      "application/vnd.jupyter.widget-view+json": {
       "model_id": "2c1ed02c63c242a3a014ad96c8bef595",
       "version_major": 2,
       "version_minor": 0
      },
      "text/plain": [
       "HBox(children=(FloatProgress(value=0.0, max=15706.0), HTML(value='')))"
      ]
     },
     "metadata": {},
     "output_type": "display_data"
    },
    {
     "name": "stdout",
     "output_type": "stream",
     "text": [
      "\n",
      "Метрики по test за период : 2021-08-21 - 2021-08-22\n",
      "MAP@10 = 0.08956021697069765\n",
      "MRR = 0.1127067932202354\n"
     ]
    }
   ],
   "source": [
    "last_days_num = 7\n",
    "top_N = 10\n",
    "map_list = list()\n",
    "mrr_list = list()\n",
    "predicted_rec_dict = {}\n",
    "for i in range(0, last_days_num-1):\n",
    "    train_tfidf, test_tfidf = train_test_split_dates(merge_table, \n",
    "                                                       'last_watch_dt',\n",
    "                                                       last_days_num = last_days_num,\n",
    "                                                       pair_num = i)\n",
    "    test_tfidf_old, test_tfidf_cold = new_user_split(predict_data = test_tfidf, event_data= train_tfidf)\n",
    "    cold_recomendations = popular_recommend_agesex(train_tfidf, predict_column = 'all_features')\n",
    "    test_tfidf_cold = rec_cold_users(test_tfidf_cold, cold_recomendations)\n",
    "    train_mat_tfidf = get_coo_matrix(train_tfidf, weight_col = 'watched_pct').tocsr()\n",
    "    tfidf_model = TFIDFRecommender(K=10)\n",
    "    tfidf_model.fit(train_mat_tfidf.T)\n",
    "    mapper_tfidf = generate_implicit_recs_mapper(tfidf_model, train_mat_tfidf, top_N, users_mapping, items_inv_mapping)\n",
    "    tfidf_rec_not_cold = pd.DataFrame({'user_id': test_tfidf_old['user_id'].unique()})\n",
    "    tfidf_rec_not_cold['item_id'] = tfidf_rec_not_cold['user_id'].map(mapper_tfidf)\n",
    "    tfidf_recommend = pd.concat([tfidf_rec_not_cold, test_tfidf_cold], ignore_index=True)\n",
    "    tfidf_rank_table = create_rank_table(tfidf_recommend, test_tfidf, 'user_id', 'item_id')\n",
    "    _, map_10, mrr = count_metrics(test_dates, tfidf_rank_table, i)\n",
    "    map_list.append(map_10)\n",
    "    mrr_list.append(mrr)"
   ]
  },
  {
   "cell_type": "code",
   "execution_count": 118,
   "id": "a817504b",
   "metadata": {},
   "outputs": [
    {
     "name": "stdout",
     "output_type": "stream",
     "text": [
      "Средняя MAP@10 за 7 дней = 0.09358424164193897\n",
      "Средняя MRR за 7 дней = 0.11568205613988765\n"
     ]
    }
   ],
   "source": [
    "print(f\"Средняя MAP@{top_N} за {last_days_num} дней = {np.mean(map_list)}\")\n",
    "print(f\"Средняя MRR за {last_days_num} дней = {np.mean(mrr_list)}\")"
   ]
  },
  {
   "cell_type": "code",
   "execution_count": 73,
   "id": "16e0b615",
   "metadata": {},
   "outputs": [
    {
     "data": {
      "application/vnd.jupyter.widget-view+json": {
       "model_id": "d667b2f57de54d0389d22ef278a57aab",
       "version_major": 2,
       "version_minor": 0
      },
      "text/plain": [
       "HBox(children=(HTML(value=''), FloatProgress(value=0.0, max=15706.0), HTML(value='')))"
      ]
     },
     "metadata": {},
     "output_type": "display_data"
    },
    {
     "name": "stdout",
     "output_type": "stream",
     "text": [
      "\n",
      "Метрики по test за период : 2021-08-16 - 2021-08-17\n",
      "MAP@10 = 0.11195682144463626\n",
      "MRR = 0.1359540708534493\n"
     ]
    },
    {
     "data": {
      "application/vnd.jupyter.widget-view+json": {
       "model_id": "f95fd6336232455ab346eef8b2895170",
       "version_major": 2,
       "version_minor": 0
      },
      "text/plain": [
       "HBox(children=(HTML(value=''), FloatProgress(value=0.0, max=15706.0), HTML(value='')))"
      ]
     },
     "metadata": {},
     "output_type": "display_data"
    },
    {
     "name": "stdout",
     "output_type": "stream",
     "text": [
      "\n",
      "Метрики по test за период : 2021-08-17 - 2021-08-18\n",
      "MAP@10 = 0.10592861544170094\n",
      "MRR = 0.13047656821638107\n"
     ]
    },
    {
     "data": {
      "application/vnd.jupyter.widget-view+json": {
       "model_id": "9b434de2e8ca41d3bcc714cd3a5e0261",
       "version_major": 2,
       "version_minor": 0
      },
      "text/plain": [
       "HBox(children=(HTML(value=''), FloatProgress(value=0.0, max=15706.0), HTML(value='')))"
      ]
     },
     "metadata": {},
     "output_type": "display_data"
    },
    {
     "name": "stdout",
     "output_type": "stream",
     "text": [
      "\n",
      "Метрики по test за период : 2021-08-18 - 2021-08-19\n",
      "MAP@10 = 0.10574015940539055\n",
      "MRR = 0.1306829900225082\n"
     ]
    },
    {
     "data": {
      "application/vnd.jupyter.widget-view+json": {
       "model_id": "c73cb9cdf0814565bcc608cf2b796de6",
       "version_major": 2,
       "version_minor": 0
      },
      "text/plain": [
       "HBox(children=(HTML(value=''), FloatProgress(value=0.0, max=15706.0), HTML(value='')))"
      ]
     },
     "metadata": {},
     "output_type": "display_data"
    },
    {
     "name": "stdout",
     "output_type": "stream",
     "text": [
      "\n",
      "Метрики по test за период : 2021-08-19 - 2021-08-20\n",
      "MAP@10 = 0.10332892520199531\n",
      "MRR = 0.12809052721588612\n"
     ]
    },
    {
     "data": {
      "application/vnd.jupyter.widget-view+json": {
       "model_id": "58dc291641d6499ab7d0bd9f202374e9",
       "version_major": 2,
       "version_minor": 0
      },
      "text/plain": [
       "HBox(children=(HTML(value=''), FloatProgress(value=0.0, max=15706.0), HTML(value='')))"
      ]
     },
     "metadata": {},
     "output_type": "display_data"
    },
    {
     "name": "stdout",
     "output_type": "stream",
     "text": [
      "\n",
      "Метрики по test за период : 2021-08-20 - 2021-08-21\n",
      "MAP@10 = 0.10300580941276828\n",
      "MRR = 0.12734230557153092\n"
     ]
    },
    {
     "data": {
      "application/vnd.jupyter.widget-view+json": {
       "model_id": "6dde01fe3d31499cb6b5bef8a8e31846",
       "version_major": 2,
       "version_minor": 0
      },
      "text/plain": [
       "HBox(children=(HTML(value=''), FloatProgress(value=0.0, max=15706.0), HTML(value='')))"
      ]
     },
     "metadata": {},
     "output_type": "display_data"
    },
    {
     "name": "stdout",
     "output_type": "stream",
     "text": [
      "\n",
      "Метрики по test за период : 2021-08-21 - 2021-08-22\n",
      "MAP@10 = 0.10222688880115191\n",
      "MRR = 0.1288307346027133\n"
     ]
    }
   ],
   "source": [
    "last_days_num = 7\n",
    "top_N = 10\n",
    "map_list = list()\n",
    "mrr_list = list()\n",
    "predicted_rec_dict = {}\n",
    "for i in range(0, last_days_num-1):\n",
    "    train_tfidf, test_tfidf = train_test_split_dates(merge_table, \n",
    "                                                       'last_watch_dt',\n",
    "                                                       last_days_num = last_days_num,\n",
    "                                                       pair_num = i)\n",
    "    test_tfidf_old, test_tfidf_cold = new_user_split(predict_data = test_tfidf, event_data= train_tfidf)\n",
    "    cold_recomendations = popular_recommend_agesex(train_tfidf, predict_column = 'all_features')\n",
    "    test_tfidf_cold = rec_cold_users(test_tfidf_cold, cold_recomendations)\n",
    "    train_mat_tfidf = get_coo_matrix(train_tfidf).tocsr()\n",
    "    tfidf_model = TFIDFRecommender(K=17)\n",
    "    tfidf_model.fit(train_mat_tfidf.T)\n",
    "    mapper_tfidf = generate_implicit_recs_mapper(tfidf_model, train_mat_tfidf, top_N, users_mapping, items_inv_mapping)\n",
    "    tfidf_rec_not_cold = pd.DataFrame({'user_id': test_tfidf_old['user_id'].unique()})\n",
    "    tfidf_rec_not_cold['item_id'] = tfidf_rec_not_cold['user_id'].map(mapper_tfidf)\n",
    "    tfidf_recommend = pd.concat([tfidf_rec_not_cold, test_tfidf_cold], ignore_index=True)\n",
    "    tfidf_rank_table = create_rank_table(tfidf_recommend, test_tfidf, 'user_id', 'item_id')\n",
    "    _, map_10, mrr = count_metrics(test_dates, tfidf_rank_table, i)\n",
    "    map_list.append(map_10)\n",
    "    mrr_list.append(mrr)"
   ]
  },
  {
   "cell_type": "code",
   "execution_count": 74,
   "id": "f6f4fa8e",
   "metadata": {},
   "outputs": [
    {
     "name": "stdout",
     "output_type": "stream",
     "text": [
      "Средняя MAP@10 за 7 дней = 0.10536453661794055\n",
      "Средняя MRR за 7 дней = 0.13022953274707813\n"
     ]
    }
   ],
   "source": [
    "print(f\"Средняя MAP@{top_N} за {last_days_num} дней = {np.mean(map_list)}\")\n",
    "print(f\"Средняя MRR за {last_days_num} дней = {np.mean(mrr_list)}\")"
   ]
  },
  {
   "cell_type": "markdown",
   "id": "46131699",
   "metadata": {},
   "source": [
    "[Возврат к содержанию](#content)"
   ]
  },
  {
   "cell_type": "markdown",
   "id": "2bc36d48",
   "metadata": {},
   "source": [
    "<a id=\"lightfm\"></a>\n",
    "### LightFM"
   ]
  },
  {
   "cell_type": "code",
   "execution_count": 90,
   "id": "db52513a",
   "metadata": {},
   "outputs": [],
   "source": [
    "from lightfm import LightFM\n",
    "from lightfm.data import Dataset as LFMDataset\n",
    "import typing as tp"
   ]
  },
  {
   "cell_type": "code",
   "execution_count": 91,
   "id": "3391a50b",
   "metadata": {},
   "outputs": [],
   "source": [
    "def get_n_recommendations_for_user(user_id: str,\n",
    "                                    model: LightFM,\n",
    "                                    train_matrix: sp.coo_matrix,\n",
    "                                    user_to_id: tp.Dict[str, int],\n",
    "                                    id_to_item: tp.Dict[int, str],\n",
    "                                    n_recommendations: int\n",
    "                                ) -> pd.DataFrame:\n",
    "    user_inner_id = user_to_id[user_id]\n",
    "    scores = model.predict(user_ids=user_inner_id,\n",
    "                            item_ids=np.arange(train_matrix.shape[1]),\n",
    "                            num_threads=20)\n",
    "    user_watched_items = train_matrix.col[train_matrix.row == user_inner_id]\n",
    "    scores[user_watched_items] = -np.inf\n",
    "\n",
    "    recommended_item_inner_ids = np.argpartition(scores, -np.arange(n_recommendations))[-n_recommendations:][::-1]\n",
    "    recommended_item_ids = [id_to_item[x] for x in recommended_item_inner_ids]\n",
    "    return recommended_item_ids"
   ]
  },
  {
   "cell_type": "code",
   "execution_count": 96,
   "id": "ef0b458c",
   "metadata": {},
   "outputs": [
    {
     "name": "stdout",
     "output_type": "stream",
     "text": [
      "Метрики по test за период : 2021-08-16 - 2021-08-17\n",
      "MAP@10 = 0.07901718467945391\n",
      "MRR = 0.10201278062971805\n",
      "Метрики по test за период : 2021-08-17 - 2021-08-18\n",
      "MAP@10 = 0.076469352609904\n",
      "MRR = 0.09902725612589494\n",
      "Метрики по test за период : 2021-08-18 - 2021-08-19\n",
      "MAP@10 = 0.07498285927403567\n",
      "MRR = 0.0980312431652353\n",
      "Метрики по test за период : 2021-08-19 - 2021-08-20\n",
      "MAP@10 = 0.07379488612099493\n",
      "MRR = 0.09671879366415373\n",
      "Метрики по test за период : 2021-08-20 - 2021-08-21\n",
      "MAP@10 = 0.07323546607832444\n",
      "MRR = 0.09579333348392105\n",
      "Метрики по test за период : 2021-08-21 - 2021-08-22\n",
      "MAP@10 = 0.07537214605763148\n",
      "MRR = 0.10051067551067577\n",
      "Wall time: 1h 3min 31s\n"
     ]
    }
   ],
   "source": [
    "%%time\n",
    "last_days_num = 7\n",
    "n_recommendations = 10\n",
    "map_list = list()\n",
    "mrr_list = list()\n",
    "predicted_rec_dict = {}\n",
    "for days in range(0, last_days_num-1):\n",
    "    train, test = train_test_split_dates(interactions_df,\n",
    "                                         'last_watch_dt',\n",
    "                                         last_days_num = last_days_num,\n",
    "                                         pair_num = days)\n",
    "    test = test.loc[test[\"user_id\"].isin(train[\"user_id\"]) & test[\"item_id\"].isin(train[\"item_id\"])]\n",
    "    train = pd.merge(train, items_df[[\"item_id\", \"title\", \"genres\"]], on=\"item_id\")\n",
    "    test = pd.merge(test, items_df[[\"item_id\", \"title\", \"genres\"]], on=\"item_id\")\n",
    "    lfm_dataset = LFMDataset()\n",
    "    lfm_dataset.fit(users=train[\"user_id\"].values,\n",
    "                    items=train[\"item_id\"].values)\n",
    "    train_matrix, _ = lfm_dataset.build_interactions(zip(*train[[\"user_id\", \"item_id\"]].values.T))\n",
    "    lfm_model = LightFM(learning_rate=0.05, \n",
    "                        loss='warp', \n",
    "                        no_components=64,\n",
    "                        max_sampled=5,\n",
    "                        random_state=137)\n",
    "    lfm_model.fit(interactions=train_matrix, \n",
    "                  epochs=15,\n",
    "                  num_threads=4);\n",
    "    id_item_mapping = {v: k for k, v in lfm_dataset._item_id_mapping.items()}\n",
    "    user_id = test['user_id'].unique()\n",
    "    user_id = test['user_id'].unique()\n",
    "    rec_df = pd.DataFrame()\n",
    "    for i in user_id:\n",
    "        recommended_items = get_n_recommendations_for_user(user_id=i,\n",
    "                                                           model=lfm_model,\n",
    "                                                           train_matrix=train_matrix,\n",
    "                                                           user_to_id=lfm_dataset._user_id_mapping,\n",
    "                                                           id_to_item=id_item_mapping,\n",
    "                                                           n_recommendations=n_recommendations)\n",
    "        rec_df = rec_df.append(pd.DataFrame({\"user_id\": i, \n",
    "                                             \"item_id\": recommended_items}).merge(items_df[[\"item_id\", \n",
    "                                                                                            \"title\", \"genres\"]]))\n",
    "    test_rec_df = rec_df.drop(['title','genres'], 1)\n",
    "    test_rec_df = create_rank_table(test_rec_df, test, 'user_id', 'item_id')\n",
    "    _, map_10, mrr = count_metrics(test_dates, test_rec_df, days)\n",
    "    map_list.append(map_10)\n",
    "    mrr_list.append(mrr)"
   ]
  },
  {
   "cell_type": "code",
   "execution_count": 97,
   "id": "403f8f0f",
   "metadata": {},
   "outputs": [
    {
     "name": "stdout",
     "output_type": "stream",
     "text": [
      "Средняя MAP@10 за 7 дней = 0.07547864913672407\n",
      "Средняя MRR за 7 дней = 0.0986823470965998\n"
     ]
    }
   ],
   "source": [
    "print(f\"Средняя MAP@{top_N} за {last_days_num} дней = {np.mean(map_list)}\")\n",
    "print(f\"Средняя MRR за {last_days_num} дней = {np.mean(mrr_list)}\")"
   ]
  },
  {
   "cell_type": "markdown",
   "id": "db47dda1",
   "metadata": {},
   "source": [
    "[Возврат к содержанию](#content)"
   ]
  }
 ],
 "metadata": {
  "kernelspec": {
   "display_name": "Python 3 (ipykernel)",
   "language": "python",
   "name": "python3"
  },
  "language_info": {
   "codemirror_mode": {
    "name": "ipython",
    "version": 3
   },
   "file_extension": ".py",
   "mimetype": "text/x-python",
   "name": "python",
   "nbconvert_exporter": "python",
   "pygments_lexer": "ipython3",
   "version": "3.9.5"
  }
 },
 "nbformat": 4,
 "nbformat_minor": 5
}
